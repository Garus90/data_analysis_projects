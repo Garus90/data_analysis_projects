{
 "cells": [
  {
   "cell_type": "markdown",
   "id": "1fdd8564",
   "metadata": {},
   "source": [
    "# Research of reliability of borrowers."
   ]
  },
  {
   "cell_type": "markdown",
   "id": "0006de15",
   "metadata": {},
   "source": [
    "### Step 1. Data Review"
   ]
  },
  {
   "cell_type": "code",
   "execution_count": 1,
   "id": "389899fd",
   "metadata": {},
   "outputs": [],
   "source": [
    "import pandas as pd\n",
    "import numpy as np "
   ]
  },
  {
   "cell_type": "code",
   "execution_count": 2,
   "id": "d00b2c1b",
   "metadata": {},
   "outputs": [
    {
     "data": {
      "text/html": [
       "<div>\n",
       "<style scoped>\n",
       "    .dataframe tbody tr th:only-of-type {\n",
       "        vertical-align: middle;\n",
       "    }\n",
       "\n",
       "    .dataframe tbody tr th {\n",
       "        vertical-align: top;\n",
       "    }\n",
       "\n",
       "    .dataframe thead th {\n",
       "        text-align: right;\n",
       "    }\n",
       "</style>\n",
       "<table border=\"1\" class=\"dataframe\">\n",
       "  <thead>\n",
       "    <tr style=\"text-align: right;\">\n",
       "      <th></th>\n",
       "      <th>children</th>\n",
       "      <th>days_employed</th>\n",
       "      <th>dob_years</th>\n",
       "      <th>education</th>\n",
       "      <th>education_id</th>\n",
       "      <th>family_status</th>\n",
       "      <th>family_status_id</th>\n",
       "      <th>gender</th>\n",
       "      <th>income_type</th>\n",
       "      <th>debt</th>\n",
       "      <th>total_income</th>\n",
       "      <th>purpose</th>\n",
       "    </tr>\n",
       "  </thead>\n",
       "  <tbody>\n",
       "    <tr>\n",
       "      <th>0</th>\n",
       "      <td>1</td>\n",
       "      <td>-8437.673028</td>\n",
       "      <td>42</td>\n",
       "      <td>высшее</td>\n",
       "      <td>0</td>\n",
       "      <td>женат / замужем</td>\n",
       "      <td>0</td>\n",
       "      <td>F</td>\n",
       "      <td>сотрудник</td>\n",
       "      <td>0</td>\n",
       "      <td>253875.639453</td>\n",
       "      <td>покупка жилья</td>\n",
       "    </tr>\n",
       "    <tr>\n",
       "      <th>1</th>\n",
       "      <td>1</td>\n",
       "      <td>-4024.803754</td>\n",
       "      <td>36</td>\n",
       "      <td>среднее</td>\n",
       "      <td>1</td>\n",
       "      <td>женат / замужем</td>\n",
       "      <td>0</td>\n",
       "      <td>F</td>\n",
       "      <td>сотрудник</td>\n",
       "      <td>0</td>\n",
       "      <td>112080.014102</td>\n",
       "      <td>приобретение автомобиля</td>\n",
       "    </tr>\n",
       "    <tr>\n",
       "      <th>2</th>\n",
       "      <td>0</td>\n",
       "      <td>-5623.422610</td>\n",
       "      <td>33</td>\n",
       "      <td>Среднее</td>\n",
       "      <td>1</td>\n",
       "      <td>женат / замужем</td>\n",
       "      <td>0</td>\n",
       "      <td>M</td>\n",
       "      <td>сотрудник</td>\n",
       "      <td>0</td>\n",
       "      <td>145885.952297</td>\n",
       "      <td>покупка жилья</td>\n",
       "    </tr>\n",
       "  </tbody>\n",
       "</table>\n",
       "</div>"
      ],
      "text/plain": [
       "   children  days_employed  dob_years education  education_id  \\\n",
       "0         1   -8437.673028         42    высшее             0   \n",
       "1         1   -4024.803754         36   среднее             1   \n",
       "2         0   -5623.422610         33   Среднее             1   \n",
       "\n",
       "     family_status  family_status_id gender income_type  debt   total_income  \\\n",
       "0  женат / замужем                 0      F   сотрудник     0  253875.639453   \n",
       "1  женат / замужем                 0      F   сотрудник     0  112080.014102   \n",
       "2  женат / замужем                 0      M   сотрудник     0  145885.952297   \n",
       "\n",
       "                   purpose  \n",
       "0            покупка жилья  \n",
       "1  приобретение автомобиля  \n",
       "2            покупка жилья  "
      ]
     },
     "execution_count": 2,
     "metadata": {},
     "output_type": "execute_result"
    }
   ],
   "source": [
    "df = pd.read_csv('C:/Users/r.gayfullin/Documents/YP/project_2_banks_loans/banks_data.csv')\n",
    "df.head(3)"
   ]
  },
  {
   "cell_type": "code",
   "execution_count": 3,
   "id": "c258ace6",
   "metadata": {},
   "outputs": [
    {
     "name": "stdout",
     "output_type": "stream",
     "text": [
      "<class 'pandas.core.frame.DataFrame'>\n",
      "RangeIndex: 21525 entries, 0 to 21524\n",
      "Data columns (total 12 columns):\n",
      " #   Column            Non-Null Count  Dtype  \n",
      "---  ------            --------------  -----  \n",
      " 0   children          21525 non-null  int64  \n",
      " 1   days_employed     19351 non-null  float64\n",
      " 2   dob_years         21525 non-null  int64  \n",
      " 3   education         21525 non-null  object \n",
      " 4   education_id      21525 non-null  int64  \n",
      " 5   family_status     21525 non-null  object \n",
      " 6   family_status_id  21525 non-null  int64  \n",
      " 7   gender            21525 non-null  object \n",
      " 8   income_type       21525 non-null  object \n",
      " 9   debt              21525 non-null  int64  \n",
      " 10  total_income      19351 non-null  float64\n",
      " 11  purpose           21525 non-null  object \n",
      "dtypes: float64(2), int64(5), object(5)\n",
      "memory usage: 2.0+ MB\n"
     ]
    }
   ],
   "source": [
    "df.info()"
   ]
  },
  {
   "cell_type": "markdown",
   "id": "f5c71f4e",
   "metadata": {},
   "source": [
    "The table has 11 columns and 21525 rows. Each row represents one observation - information about the borrower and his unique characteristics. \n",
    "***\n",
    "- children — number of children in the family\n",
    "- days_employed — total work experience in days\n",
    "- dob_years — client's age in years\n",
    "- education — the level of education of the client\n",
    "- education_id — education level id\n",
    "- family_status — marital status\n",
    "- family_status_id — marital status id\n",
    "- gender — gender of the client\n",
    "- income_type — type of employment\n",
    "- debt — repayment debts\n",
    "- total_income — monthly income\n",
    "- purpose — the purpose of obtaining a loan\n",
    "\n",
    "At first sight both gaps in values, anomalies and incorrect recording of row values are detected."
   ]
  },
  {
   "cell_type": "markdown",
   "id": "87a57977",
   "metadata": {},
   "source": [
    "### Step 2.1 Filling the gaps"
   ]
  },
  {
   "cell_type": "markdown",
   "id": "06951418",
   "metadata": {},
   "source": [
    "The `.info()` method showed gaps in the `days_employed`, `total_income` columns.The number of gaps in these columns is the same. Probably the gaps are not random and are related.  \n",
    "*Hypothesis to test: gaps in the values indicate that a person is unemployed, therefore, his monthly income is zero*"
   ]
  },
  {
   "cell_type": "code",
   "execution_count": 4,
   "id": "fd5ccffd",
   "metadata": {},
   "outputs": [
    {
     "name": "stdout",
     "output_type": "stream",
     "text": [
      "Number of gaps in the column \"total_income\": 2174\n",
      "Number of gaps in the column \"days_employed\": 2174\n",
      "Number of gaps in two columns at the same time: 2174\n"
     ]
    }
   ],
   "source": [
    "print('Number of gaps in the column \"total_income\":', len(df[df['total_income'].isna()==True]))\n",
    "print('Number of gaps in the column \"days_employed\":', len(df[df['days_employed'].isna()==True]))\n",
    "print('Number of gaps in two columns at the same time:',len(df[(df['total_income'].isna()==True) & (df['days_employed'].isna()==True)]))\n"
   ]
  },
  {
   "cell_type": "markdown",
   "id": "803fb8ff",
   "metadata": {},
   "source": [
    "checking the dependence of gaps in the work experience data with information about the type of employment"
   ]
  },
  {
   "cell_type": "code",
   "execution_count": 5,
   "id": "fcb20d96",
   "metadata": {},
   "outputs": [
    {
     "data": {
      "text/html": [
       "<div>\n",
       "<style scoped>\n",
       "    .dataframe tbody tr th:only-of-type {\n",
       "        vertical-align: middle;\n",
       "    }\n",
       "\n",
       "    .dataframe tbody tr th {\n",
       "        vertical-align: top;\n",
       "    }\n",
       "\n",
       "    .dataframe thead th {\n",
       "        text-align: right;\n",
       "    }\n",
       "</style>\n",
       "<table border=\"1\" class=\"dataframe\">\n",
       "  <thead>\n",
       "    <tr style=\"text-align: right;\">\n",
       "      <th></th>\n",
       "      <th>index</th>\n",
       "      <th>loses_count</th>\n",
       "      <th>total_count</th>\n",
       "      <th>loses_ratio</th>\n",
       "    </tr>\n",
       "  </thead>\n",
       "  <tbody>\n",
       "    <tr>\n",
       "      <th>0</th>\n",
       "      <td>сотрудник</td>\n",
       "      <td>1105.0</td>\n",
       "      <td>11119</td>\n",
       "      <td>0.099379</td>\n",
       "    </tr>\n",
       "    <tr>\n",
       "      <th>1</th>\n",
       "      <td>компаньон</td>\n",
       "      <td>508.0</td>\n",
       "      <td>5085</td>\n",
       "      <td>0.099902</td>\n",
       "    </tr>\n",
       "    <tr>\n",
       "      <th>2</th>\n",
       "      <td>пенсионер</td>\n",
       "      <td>413.0</td>\n",
       "      <td>3856</td>\n",
       "      <td>0.107106</td>\n",
       "    </tr>\n",
       "    <tr>\n",
       "      <th>3</th>\n",
       "      <td>госслужащий</td>\n",
       "      <td>147.0</td>\n",
       "      <td>1459</td>\n",
       "      <td>0.100754</td>\n",
       "    </tr>\n",
       "    <tr>\n",
       "      <th>4</th>\n",
       "      <td>безработный</td>\n",
       "      <td>NaN</td>\n",
       "      <td>2</td>\n",
       "      <td>NaN</td>\n",
       "    </tr>\n",
       "    <tr>\n",
       "      <th>5</th>\n",
       "      <td>предприниматель</td>\n",
       "      <td>1.0</td>\n",
       "      <td>2</td>\n",
       "      <td>0.500000</td>\n",
       "    </tr>\n",
       "    <tr>\n",
       "      <th>6</th>\n",
       "      <td>студент</td>\n",
       "      <td>NaN</td>\n",
       "      <td>1</td>\n",
       "      <td>NaN</td>\n",
       "    </tr>\n",
       "    <tr>\n",
       "      <th>7</th>\n",
       "      <td>в декрете</td>\n",
       "      <td>NaN</td>\n",
       "      <td>1</td>\n",
       "      <td>NaN</td>\n",
       "    </tr>\n",
       "  </tbody>\n",
       "</table>\n",
       "</div>"
      ],
      "text/plain": [
       "             index  loses_count  total_count  loses_ratio\n",
       "0        сотрудник       1105.0        11119     0.099379\n",
       "1        компаньон        508.0         5085     0.099902\n",
       "2        пенсионер        413.0         3856     0.107106\n",
       "3      госслужащий        147.0         1459     0.100754\n",
       "4      безработный          NaN            2          NaN\n",
       "5  предприниматель          1.0            2     0.500000\n",
       "6          студент          NaN            1          NaN\n",
       "7        в декрете          NaN            1          NaN"
      ]
     },
     "execution_count": 5,
     "metadata": {},
     "output_type": "execute_result"
    }
   ],
   "source": [
    "df_empoyed_loses = df[df['days_employed'].isna()==True]['income_type'].value_counts().reset_index().merge(\n",
    "    df['income_type'].value_counts().reset_index(), on='index',how='right')\n",
    "df_empoyed_loses = df_empoyed_loses.rename(columns={'income_type_x':'loses_count','income_type_y':'total_count'})\n",
    "df_empoyed_loses['loses_ratio'] = df_empoyed_loses['loses_count'] / df_empoyed_loses['total_count']\n",
    "df_empoyed_loses"
   ]
  },
  {
   "cell_type": "markdown",
   "id": "ef3eec29",
   "metadata": {},
   "source": [
    "The hypothesis was not confirmed  \n",
    "\n",
    "For five out of eight types of employees, there are gaps in the values of income and length of work experience.  \n",
    "It is correct to replace the gaps with the median values for the sample.  \n",
    "Anomalies and errors in the data must be corrected before filling in the gaps"
   ]
  },
  {
   "cell_type": "markdown",
   "id": "33b727c4",
   "metadata": {},
   "source": [
    "### Step 2.2 Checking the data for anomalies and fixing them"
   ]
  },
  {
   "cell_type": "markdown",
   "id": "a7821c19",
   "metadata": {},
   "source": [
    "Checking columns for anomalies.\n",
    "- For a column with the number of children, count the number of unique values,\n",
    "- Column with employment by days, convert to months and correct negative values\n",
    "- For column with age check min and max values\n",
    "- For column with education level, check unique categories"
   ]
  },
  {
   "cell_type": "code",
   "execution_count": 6,
   "id": "0aad3aa9",
   "metadata": {},
   "outputs": [
    {
     "name": "stdout",
     "output_type": "stream",
     "text": [
      "number of unique values of the \"children\" column\n"
     ]
    },
    {
     "data": {
      "text/plain": [
       " 0     14149\n",
       " 1      4818\n",
       " 2      2055\n",
       " 3       330\n",
       " 20       76\n",
       "-1        47\n",
       " 4        41\n",
       " 5         9\n",
       "Name: children, dtype: int64"
      ]
     },
     "metadata": {},
     "output_type": "display_data"
    }
   ],
   "source": [
    "print('number of unique values of the \"children\" column')\n",
    "display(df['children'].value_counts())"
   ]
  },
  {
   "cell_type": "markdown",
   "id": "f7dfe911",
   "metadata": {},
   "source": [
    "Two anomalies were found in the column - a negative number of children (-1) and uniformly high values (20). Probably in the first case, when translating a number from a string, the dash \"-\" was captured, and in the second case, the fractional value 2.0 was probably incorrectly translated."
   ]
  },
  {
   "cell_type": "code",
   "execution_count": 7,
   "id": "92999d49",
   "metadata": {},
   "outputs": [
    {
     "data": {
      "text/plain": [
       "0    14149\n",
       "1     4865\n",
       "2     2131\n",
       "3      330\n",
       "4       41\n",
       "5        9\n",
       "Name: children, dtype: int64"
      ]
     },
     "execution_count": 7,
     "metadata": {},
     "output_type": "execute_result"
    }
   ],
   "source": [
    "#fixing anomalies\n",
    "df.loc[df['children'] == 20, 'children'] = 2\n",
    "df.loc[df['children'] == -1, 'children'] = 1\n",
    "df['children'].value_counts()"
   ]
  },
  {
   "cell_type": "code",
   "execution_count": 8,
   "id": "5798264a",
   "metadata": {},
   "outputs": [
    {
     "name": "stdout",
     "output_type": "stream",
     "text": [
      "max value of work experience  = 401755.40047533\n",
      "min value of work experience  = -18388.949900568383\n"
     ]
    }
   ],
   "source": [
    "print('max value of work experience  =',df['days_employed'].max())\n",
    "print('min value of work experience  =',df['days_employed'].min() )"
   ]
  },
  {
   "cell_type": "code",
   "execution_count": 9,
   "id": "120ffd4c",
   "metadata": {},
   "outputs": [
    {
     "data": {
      "text/plain": [
       "6954     1100.699727\n",
       "10006    1100.591265\n",
       "7664     1100.479708\n",
       "2156     1100.477991\n",
       "7794     1100.448904\n",
       "Name: years_employed, dtype: float64"
      ]
     },
     "execution_count": 9,
     "metadata": {},
     "output_type": "execute_result"
    }
   ],
   "source": [
    "# remove negative values\n",
    "df['days_employed'] = df['days_employed'].abs()\n",
    "##translation in years\n",
    "df['years_employed'] =  df['days_employed']/365\n",
    "df['years_employed'].sort_values(ascending=False).head()\n",
    "\n"
   ]
  },
  {
   "cell_type": "markdown",
   "id": "9b9be9e6",
   "metadata": {},
   "source": [
    "There are obviously anomalies in the values. Knowing the age of cilents, we can compare it with the length of work experience and identify incorrect values. In the first step, check the values in the column with age"
   ]
  },
  {
   "cell_type": "code",
   "execution_count": 10,
   "id": "8d2c7fdd",
   "metadata": {},
   "outputs": [
    {
     "data": {
      "text/plain": [
       "(6859     0\n",
       " 16042    0\n",
       " 7034     0\n",
       " 21179    0\n",
       " 4147     0\n",
       " Name: dob_years, dtype: int64,\n",
       " 3460     74\n",
       " 4895     74\n",
       " 19642    74\n",
       " 11532    74\n",
       " 8880     75\n",
       " Name: dob_years, dtype: int64)"
      ]
     },
     "execution_count": 10,
     "metadata": {},
     "output_type": "execute_result"
    }
   ],
   "source": [
    "df['dob_years'].sort_values().head(),df['dob_years'].sort_values().tail()"
   ]
  },
  {
   "cell_type": "markdown",
   "id": "0fde50d6",
   "metadata": {},
   "source": [
    "There are anomalies in the age data - the zero age of the clients. replace them with median values"
   ]
  },
  {
   "cell_type": "code",
   "execution_count": 11,
   "id": "39e59450",
   "metadata": {},
   "outputs": [
    {
     "data": {
      "text/html": [
       "<div>\n",
       "<style scoped>\n",
       "    .dataframe tbody tr th:only-of-type {\n",
       "        vertical-align: middle;\n",
       "    }\n",
       "\n",
       "    .dataframe tbody tr th {\n",
       "        vertical-align: top;\n",
       "    }\n",
       "\n",
       "    .dataframe thead th {\n",
       "        text-align: right;\n",
       "    }\n",
       "</style>\n",
       "<table border=\"1\" class=\"dataframe\">\n",
       "  <thead>\n",
       "    <tr style=\"text-align: right;\">\n",
       "      <th></th>\n",
       "      <th>income_type</th>\n",
       "      <th>dob_years</th>\n",
       "    </tr>\n",
       "  </thead>\n",
       "  <tbody>\n",
       "    <tr>\n",
       "      <th>0</th>\n",
       "      <td>безработный</td>\n",
       "      <td>38.0</td>\n",
       "    </tr>\n",
       "    <tr>\n",
       "      <th>1</th>\n",
       "      <td>в декрете</td>\n",
       "      <td>39.0</td>\n",
       "    </tr>\n",
       "    <tr>\n",
       "      <th>2</th>\n",
       "      <td>госслужащий</td>\n",
       "      <td>40.0</td>\n",
       "    </tr>\n",
       "    <tr>\n",
       "      <th>3</th>\n",
       "      <td>компаньон</td>\n",
       "      <td>39.0</td>\n",
       "    </tr>\n",
       "    <tr>\n",
       "      <th>4</th>\n",
       "      <td>пенсионер</td>\n",
       "      <td>60.0</td>\n",
       "    </tr>\n",
       "    <tr>\n",
       "      <th>5</th>\n",
       "      <td>предприниматель</td>\n",
       "      <td>42.5</td>\n",
       "    </tr>\n",
       "    <tr>\n",
       "      <th>6</th>\n",
       "      <td>сотрудник</td>\n",
       "      <td>39.0</td>\n",
       "    </tr>\n",
       "    <tr>\n",
       "      <th>7</th>\n",
       "      <td>студент</td>\n",
       "      <td>22.0</td>\n",
       "    </tr>\n",
       "  </tbody>\n",
       "</table>\n",
       "</div>"
      ],
      "text/plain": [
       "       income_type  dob_years\n",
       "0      безработный       38.0\n",
       "1        в декрете       39.0\n",
       "2      госслужащий       40.0\n",
       "3        компаньон       39.0\n",
       "4        пенсионер       60.0\n",
       "5  предприниматель       42.5\n",
       "6        сотрудник       39.0\n",
       "7          студент       22.0"
      ]
     },
     "execution_count": 11,
     "metadata": {},
     "output_type": "execute_result"
    }
   ],
   "source": [
    "# median age values\n",
    "income_type_age_grouped = df.groupby('income_type')['dob_years'].median().reset_index()\n",
    "income_type_age_grouped"
   ]
  },
  {
   "cell_type": "code",
   "execution_count": 12,
   "id": "a8e2edd1",
   "metadata": {},
   "outputs": [
    {
     "data": {
      "text/plain": [
       "income_type\n",
       "госслужащий     6\n",
       "компаньон      20\n",
       "пенсионер      20\n",
       "сотрудник      55\n",
       "Name: income_type, dtype: int64"
      ]
     },
     "execution_count": 12,
     "metadata": {},
     "output_type": "execute_result"
    }
   ],
   "source": [
    "#identifying categories with zero age values\n",
    "df_age_median = df[df['dob_years'] == 0].groupby('income_type')['income_type'].count()\n",
    "df_age_median"
   ]
  },
  {
   "cell_type": "code",
   "execution_count": 13,
   "id": "cc7d4485",
   "metadata": {},
   "outputs": [],
   "source": [
    "#the function determines zero age values row by row and replaces them with median values from a preformed table\n",
    "def age_median (row):\n",
    "    if row['dob_years'] == 0:\n",
    "        return int(income_type_age_grouped.loc\n",
    "                   [income_type_age_grouped['income_type'] == row['income_type'],\n",
    "                    'dob_years'])\n",
    "    else: return row ['dob_years']\n",
    "df['dob_years'] = df.apply(age_median, axis =1)"
   ]
  },
  {
   "cell_type": "code",
   "execution_count": 14,
   "id": "4cee5b0a",
   "metadata": {},
   "outputs": [
    {
     "name": "stdout",
     "output_type": "stream",
     "text": [
      "number of clients with zero age = 0\n"
     ]
    }
   ],
   "source": [
    "#checking the operation of the function\n",
    "print('number of clients with zero age =', df[df['dob_years'] == 0]['dob_years'].count())"
   ]
  },
  {
   "cell_type": "markdown",
   "id": "3bbd79ec",
   "metadata": {},
   "source": [
    "Creating a variable in which we will write all the erroneous data on the work experience. To do this, it is necessary to check that the length of service is less than the age of the person"
   ]
  },
  {
   "cell_type": "code",
   "execution_count": 15,
   "id": "abeeaeb6",
   "metadata": {},
   "outputs": [
    {
     "name": "stdout",
     "output_type": "stream",
     "text": [
      "the number of rows where the clients age is greater than or equal to the length of work exp 3445\n"
     ]
    }
   ],
   "source": [
    "error_counter = 0\n",
    "for i in range(len(df)):\n",
    "    if df.loc[i,'years_employed'] >= df.loc[i, 'dob_years']:\n",
    "        error_counter += 1 \n",
    "print('the number of rows where the clients age is greater than or equal to the length of work exp', error_counter)"
   ]
  },
  {
   "cell_type": "markdown",
   "id": "76c1aa13",
   "metadata": {},
   "source": [
    "Taking into account the nature of the anomalies in the length of work exp, it can be assumed that in 3445 cases the length of service was recorded not in days, but in minutes (1440 minutes per day). Therefore - divide all such values ​​by 1440"
   ]
  },
  {
   "cell_type": "code",
   "execution_count": 16,
   "id": "15bd0329",
   "metadata": {},
   "outputs": [],
   "source": [
    "for i in range(len(df)):\n",
    "    if df.loc[i,'years_employed'] >= df.loc[i, 'dob_years']:\n",
    "        df.loc[i,'days_employed'] = df.loc[i,'days_employed'] / 1440"
   ]
  },
  {
   "cell_type": "code",
   "execution_count": 17,
   "id": "8e8c294d",
   "metadata": {},
   "outputs": [
    {
     "name": "stdout",
     "output_type": "stream",
     "text": [
      "the number of rows where the clients age is greater than or equal to the length of work exp 0\n"
     ]
    }
   ],
   "source": [
    "error_counter = 0\n",
    "df['years_employed'] =  df['days_employed']/365\n",
    "for i in range(len(df)):\n",
    "    if df.loc[i,'years_employed'] >= df.loc[i, 'dob_years']:\n",
    "        error_counter += 1 \n",
    "print('the number of rows where the clients age is greater than or equal to the length of work exp', error_counter)"
   ]
  },
  {
   "cell_type": "markdown",
   "id": "fe658712",
   "metadata": {},
   "source": [
    "Anomalies fixed"
   ]
  },
  {
   "cell_type": "code",
   "execution_count": 18,
   "id": "2b7c84ee",
   "metadata": {},
   "outputs": [],
   "source": [
    "#convert all strings in a column with education to lowercase\n",
    "df['education'] = df['education'].str.lower()\n"
   ]
  },
  {
   "cell_type": "code",
   "execution_count": 19,
   "id": "1603f608",
   "metadata": {},
   "outputs": [
    {
     "data": {
      "text/plain": [
       "среднее                15233\n",
       "высшее                  5260\n",
       "неоконченное высшее      744\n",
       "начальное                282\n",
       "ученая степень             6\n",
       "Name: education, dtype: int64"
      ]
     },
     "execution_count": 19,
     "metadata": {},
     "output_type": "execute_result"
    }
   ],
   "source": [
    "df['education'].value_counts()"
   ]
  },
  {
   "cell_type": "markdown",
   "id": "d647718f",
   "metadata": {},
   "source": [
    "Anomalies fixed, the data is brought to a working form. Now its possible to fill the gaps with the median values."
   ]
  },
  {
   "cell_type": "code",
   "execution_count": 20,
   "id": "832e0101",
   "metadata": {},
   "outputs": [],
   "source": [
    "# group clients by type of employment and find the median values of employment\n",
    "days_median_grouped = df.groupby('income_type')['days_employed'].median().reset_index()\n"
   ]
  },
  {
   "cell_type": "code",
   "execution_count": 21,
   "id": "974a86c6",
   "metadata": {},
   "outputs": [
    {
     "data": {
      "text/plain": [
       "сотрудник          1105\n",
       "компаньон           508\n",
       "пенсионер           413\n",
       "госслужащий         147\n",
       "предприниматель       1\n",
       "Name: income_type, dtype: int64"
      ]
     },
     "execution_count": 21,
     "metadata": {},
     "output_type": "execute_result"
    }
   ],
   "source": [
    "df[df['days_employed'].isna()==True]['income_type'].value_counts()"
   ]
  },
  {
   "cell_type": "code",
   "execution_count": 22,
   "id": "6bec6863",
   "metadata": {},
   "outputs": [],
   "source": [
    "def days_employed_median (row):\n",
    "    if np.isnan(row['days_employed']):\n",
    "        return days_median_grouped.loc[days_median_grouped['income_type'] == row['income_type']]['days_employed']\n",
    "    return  row['days_employed'] "
   ]
  },
  {
   "cell_type": "code",
   "execution_count": 23,
   "id": "9907766f",
   "metadata": {},
   "outputs": [],
   "source": [
    "df['days_employed'] = df.apply(days_employed_median, axis=1)"
   ]
  },
  {
   "cell_type": "code",
   "execution_count": 24,
   "id": "15546e8f",
   "metadata": {},
   "outputs": [
    {
     "data": {
      "text/plain": [
       "Series([], Name: income_type, dtype: int64)"
      ]
     },
     "execution_count": 24,
     "metadata": {},
     "output_type": "execute_result"
    }
   ],
   "source": [
    "#checking the function for correct operation\n",
    "df[df['days_employed'].isna()==True]['income_type'].value_counts()"
   ]
  },
  {
   "cell_type": "code",
   "execution_count": 25,
   "id": "4bb4971f",
   "metadata": {},
   "outputs": [],
   "source": [
    "#fill in gaps in total_income with median values\n",
    "income_median_grouped = df.groupby('income_type')['total_income'].median().reset_index()"
   ]
  },
  {
   "cell_type": "code",
   "execution_count": 26,
   "id": "9baccf2d",
   "metadata": {},
   "outputs": [],
   "source": [
    "def income_median (row):\n",
    "    if np.isnan(row['total_income']):\n",
    "        return income_median_grouped.loc[income_median_grouped['income_type'] == row['income_type']]['total_income']\n",
    "    return  row['total_income'] "
   ]
  },
  {
   "cell_type": "code",
   "execution_count": 27,
   "id": "58435421",
   "metadata": {},
   "outputs": [],
   "source": [
    "df['total_income'] = df.apply(income_median, axis=1)"
   ]
  },
  {
   "cell_type": "markdown",
   "id": "d6107e74",
   "metadata": {},
   "source": [
    "As a result of data preprocessing, all existing anomalies were corrected, gaps in the ages of clients and in the length of work exp and income of clients were filled with median values."
   ]
  },
  {
   "cell_type": "markdown",
   "id": "f3cd82d1",
   "metadata": {},
   "source": [
    "### Step 2.3. Changing data types."
   ]
  },
  {
   "cell_type": "markdown",
   "id": "8633b1a0",
   "metadata": {},
   "source": [
    "The values in the columns `days_employed , total_income ` should be converted to an integer type, since fractional values in the length of work exp and in income indicators do not significantly affect further analysis"
   ]
  },
  {
   "cell_type": "code",
   "execution_count": 28,
   "id": "5b82ef38",
   "metadata": {},
   "outputs": [],
   "source": [
    "df['days_employed'] = df['days_employed'].astype('int')\n",
    "df['total_income'] = df['total_income'].astype('int')"
   ]
  },
  {
   "cell_type": "markdown",
   "id": "899ef569",
   "metadata": {},
   "source": [
    "### Step 2.4. Removing duplicates."
   ]
  },
  {
   "cell_type": "code",
   "execution_count": 29,
   "id": "fec6f875",
   "metadata": {},
   "outputs": [
    {
     "data": {
      "text/plain": [
       "71"
      ]
     },
     "execution_count": 29,
     "metadata": {},
     "output_type": "execute_result"
    }
   ],
   "source": [
    "df.duplicated().sum()"
   ]
  },
  {
   "cell_type": "code",
   "execution_count": 30,
   "id": "87de5bd3",
   "metadata": {},
   "outputs": [
    {
     "data": {
      "text/plain": [
       "0"
      ]
     },
     "execution_count": 30,
     "metadata": {},
     "output_type": "execute_result"
    }
   ],
   "source": [
    "#there are 71 complete duplicates in the dataset, they can be deleted\n",
    "df = df.drop_duplicates().reset_index(drop=True)\n",
    "df.duplicated().sum()"
   ]
  },
  {
   "cell_type": "markdown",
   "id": "6b8c1f64",
   "metadata": {},
   "source": [
    "### Step 2.5. Creation of additional dictionary dataframes, decomposition of the original dataframe."
   ]
  },
  {
   "cell_type": "markdown",
   "id": "a35e6ca8",
   "metadata": {},
   "source": [
    "1. Create two dictionaries in which:\n",
    "- each unique value from education corresponds to a unique value education_id - in the first one;\n",
    "- each unique value from family_status corresponds to a unique value family_status_id - in the second.\n",
    "2. Remove the education and family_status columns from the original dataframe, leaving only their id: education_id and family_status_id."
   ]
  },
  {
   "cell_type": "code",
   "execution_count": 31,
   "id": "4b52671f",
   "metadata": {},
   "outputs": [],
   "source": [
    "education_dict = df[['education', 'education_id']].drop_duplicates().reset_index(drop=True)\n"
   ]
  },
  {
   "cell_type": "code",
   "execution_count": 32,
   "id": "b80d3143",
   "metadata": {},
   "outputs": [],
   "source": [
    "family_status_dict = df[['family_status', 'family_status_id']].drop_duplicates().reset_index(drop=True)\n"
   ]
  },
  {
   "cell_type": "code",
   "execution_count": 33,
   "id": "e399cb52",
   "metadata": {},
   "outputs": [],
   "source": [
    "#Remove the education and family_status columns from the original dataframe\n",
    "df = df.drop(['family_status','education'], axis=1)"
   ]
  },
  {
   "cell_type": "markdown",
   "id": "bc752c33",
   "metadata": {},
   "source": [
    "### Step 2.6. income categorization."
   ]
  },
  {
   "cell_type": "markdown",
   "id": "efd5096b",
   "metadata": {},
   "source": [
    "Create a total_income_category column with categories by customer income level:\n",
    "* 0–30000 — 'E';\n",
    "* 30001–50000 — 'D';\n",
    "* 50001–200000 — 'C';\n",
    "* 200001–1000000 — 'B';\n",
    "* 1000001 и выше — 'A'."
   ]
  },
  {
   "cell_type": "code",
   "execution_count": 34,
   "id": "7a8abacc",
   "metadata": {},
   "outputs": [],
   "source": [
    "def income_categizer (total_income):\n",
    "    if total_income <=30000:\n",
    "        return 'E'\n",
    "    if 30001 <= total_income <= 50000:\n",
    "        return 'D'\n",
    "    if 50001 <= total_income <= 200000:\n",
    "        return 'C'\n",
    "    if 200001 <= total_income <= 1000000:\n",
    "        return 'B'\n",
    "    if total_income >= 1000001:\n",
    "        return 'A'\n",
    "    \n",
    "df['total_income_category'] = df['total_income'].apply(income_categizer)"
   ]
  },
  {
   "cell_type": "markdown",
   "id": "4dfcc850",
   "metadata": {},
   "source": [
    "### Step 2.7. Categorization of loan purposes."
   ]
  },
  {
   "cell_type": "markdown",
   "id": "e2f1ef4e",
   "metadata": {},
   "source": [
    "Based on the data from the purpose column, create a new purpose_category column that will include the following categories:\n",
    "* 'vehicle operations',\n",
    "* 'real estate',\n",
    "* 'wedding',\n",
    "* 'getting an education'"
   ]
  },
  {
   "cell_type": "code",
   "execution_count": 35,
   "id": "3ab6af00",
   "metadata": {},
   "outputs": [
    {
     "data": {
      "text/plain": [
       "real estate             10811\n",
       "vehicle operations       4306\n",
       "getting an education     4013\n",
       "wedding                  2324\n",
       "Name: purpose_category, dtype: int64"
      ]
     },
     "execution_count": 35,
     "metadata": {},
     "output_type": "execute_result"
    }
   ],
   "source": [
    "# создадим функцию группировки\n",
    "def purpose_grouped (purpose):\n",
    "    if 'образов' in purpose:\n",
    "        return 'getting an education'\n",
    "    if 'автомоб' in purpose:\n",
    "        return 'vehicle operations'\n",
    "    if 'недвиж' in purpose or 'жиль' in purpose:\n",
    "        return 'real estate'\n",
    "    if 'свадьб' in purpose:\n",
    "        return 'wedding'\n",
    "    return 'иное'\n",
    "df['purpose_category'] = df['purpose'].apply(purpose_grouped)\n",
    "df['purpose_category'].value_counts()"
   ]
  },
  {
   "cell_type": "markdown",
   "id": "459a6e6c",
   "metadata": {},
   "source": [
    "### Answers on questions."
   ]
  },
  {
   "cell_type": "markdown",
   "id": "4b4ab71b",
   "metadata": {},
   "source": [
    "##### Question 1:  \n",
    "Is there a correlation between the number of children and repayment of the loan on time?"
   ]
  },
  {
   "cell_type": "code",
   "execution_count": 36,
   "id": "76f75426",
   "metadata": {},
   "outputs": [
    {
     "data": {
      "text/html": [
       "<div>\n",
       "<style scoped>\n",
       "    .dataframe tbody tr th:only-of-type {\n",
       "        vertical-align: middle;\n",
       "    }\n",
       "\n",
       "    .dataframe tbody tr th {\n",
       "        vertical-align: top;\n",
       "    }\n",
       "\n",
       "    .dataframe thead tr th {\n",
       "        text-align: left;\n",
       "    }\n",
       "\n",
       "    .dataframe thead tr:last-of-type th {\n",
       "        text-align: right;\n",
       "    }\n",
       "</style>\n",
       "<table border=\"1\" class=\"dataframe\">\n",
       "  <thead>\n",
       "    <tr>\n",
       "      <th></th>\n",
       "      <th colspan=\"2\" halign=\"left\">debt</th>\n",
       "      <th>ratio</th>\n",
       "    </tr>\n",
       "    <tr>\n",
       "      <th></th>\n",
       "      <th>sum</th>\n",
       "      <th>count</th>\n",
       "      <th></th>\n",
       "    </tr>\n",
       "    <tr>\n",
       "      <th>children</th>\n",
       "      <th></th>\n",
       "      <th></th>\n",
       "      <th></th>\n",
       "    </tr>\n",
       "  </thead>\n",
       "  <tbody>\n",
       "    <tr>\n",
       "      <th>0</th>\n",
       "      <td>1063</td>\n",
       "      <td>14091</td>\n",
       "      <td>0.075438</td>\n",
       "    </tr>\n",
       "    <tr>\n",
       "      <th>1</th>\n",
       "      <td>445</td>\n",
       "      <td>4855</td>\n",
       "      <td>0.091658</td>\n",
       "    </tr>\n",
       "    <tr>\n",
       "      <th>2</th>\n",
       "      <td>202</td>\n",
       "      <td>2128</td>\n",
       "      <td>0.094925</td>\n",
       "    </tr>\n",
       "    <tr>\n",
       "      <th>3</th>\n",
       "      <td>27</td>\n",
       "      <td>330</td>\n",
       "      <td>0.081818</td>\n",
       "    </tr>\n",
       "    <tr>\n",
       "      <th>4</th>\n",
       "      <td>4</td>\n",
       "      <td>41</td>\n",
       "      <td>0.097561</td>\n",
       "    </tr>\n",
       "    <tr>\n",
       "      <th>5</th>\n",
       "      <td>0</td>\n",
       "      <td>9</td>\n",
       "      <td>0.000000</td>\n",
       "    </tr>\n",
       "  </tbody>\n",
       "</table>\n",
       "</div>"
      ],
      "text/plain": [
       "          debt            ratio\n",
       "           sum  count          \n",
       "children                       \n",
       "0         1063  14091  0.075438\n",
       "1          445   4855  0.091658\n",
       "2          202   2128  0.094925\n",
       "3           27    330  0.081818\n",
       "4            4     41  0.097561\n",
       "5            0      9  0.000000"
      ]
     },
     "execution_count": 36,
     "metadata": {},
     "output_type": "execute_result"
    }
   ],
   "source": [
    "children_debt = df.groupby('children').agg({'debt':['sum','count']})\n",
    "children_debt['ratio'] = children_debt['debt']['sum'] / children_debt['debt']['count']\n",
    "children_debt"
   ]
  },
  {
   "cell_type": "markdown",
   "id": "3f1dab26",
   "metadata": {},
   "source": [
    "##### Conclusion 1:  \n",
    "\n",
    "According to the pivot table, we can conclude that families with the number of children from 0 to 4 have approximately equal relative indicators in terms of the number of loan debts. The smallest share of loan debtors is among clients without children (7.5%). The largest share of debtors among clients with two and four children (9.4% and 9.7%, respectively) In families with 5 children, no loan debts were found.At the same time, given the small sample of families with five children, it is not recommended to consider data for this category as representative."
   ]
  },
  {
   "cell_type": "markdown",
   "id": "f2f3fa8c",
   "metadata": {},
   "source": [
    "##### Question 2:   \n",
    "Is there a correlation between marital status and loan repayment on time?"
   ]
  },
  {
   "cell_type": "code",
   "execution_count": 37,
   "id": "86227bd5",
   "metadata": {},
   "outputs": [
    {
     "data": {
      "text/html": [
       "<div>\n",
       "<style scoped>\n",
       "    .dataframe tbody tr th:only-of-type {\n",
       "        vertical-align: middle;\n",
       "    }\n",
       "\n",
       "    .dataframe tbody tr th {\n",
       "        vertical-align: top;\n",
       "    }\n",
       "\n",
       "    .dataframe thead th {\n",
       "        text-align: right;\n",
       "    }\n",
       "</style>\n",
       "<table border=\"1\" class=\"dataframe\">\n",
       "  <thead>\n",
       "    <tr style=\"text-align: right;\">\n",
       "      <th></th>\n",
       "      <th>family_status_id</th>\n",
       "      <th>sum</th>\n",
       "      <th>count</th>\n",
       "      <th>ratio</th>\n",
       "      <th>family_status</th>\n",
       "    </tr>\n",
       "  </thead>\n",
       "  <tbody>\n",
       "    <tr>\n",
       "      <th>0</th>\n",
       "      <td>0</td>\n",
       "      <td>931</td>\n",
       "      <td>12339</td>\n",
       "      <td>0.075452</td>\n",
       "      <td>женат / замужем</td>\n",
       "    </tr>\n",
       "    <tr>\n",
       "      <th>1</th>\n",
       "      <td>1</td>\n",
       "      <td>388</td>\n",
       "      <td>4151</td>\n",
       "      <td>0.093471</td>\n",
       "      <td>гражданский брак</td>\n",
       "    </tr>\n",
       "    <tr>\n",
       "      <th>2</th>\n",
       "      <td>2</td>\n",
       "      <td>63</td>\n",
       "      <td>959</td>\n",
       "      <td>0.065693</td>\n",
       "      <td>вдовец / вдова</td>\n",
       "    </tr>\n",
       "    <tr>\n",
       "      <th>3</th>\n",
       "      <td>3</td>\n",
       "      <td>85</td>\n",
       "      <td>1195</td>\n",
       "      <td>0.071130</td>\n",
       "      <td>в разводе</td>\n",
       "    </tr>\n",
       "    <tr>\n",
       "      <th>4</th>\n",
       "      <td>4</td>\n",
       "      <td>274</td>\n",
       "      <td>2810</td>\n",
       "      <td>0.097509</td>\n",
       "      <td>Не женат / не замужем</td>\n",
       "    </tr>\n",
       "  </tbody>\n",
       "</table>\n",
       "</div>"
      ],
      "text/plain": [
       "   family_status_id  sum  count     ratio          family_status\n",
       "0                 0  931  12339  0.075452        женат / замужем\n",
       "1                 1  388   4151  0.093471       гражданский брак\n",
       "2                 2   63    959  0.065693         вдовец / вдова\n",
       "3                 3   85   1195  0.071130              в разводе\n",
       "4                 4  274   2810  0.097509  Не женат / не замужем"
      ]
     },
     "execution_count": 37,
     "metadata": {},
     "output_type": "execute_result"
    }
   ],
   "source": [
    "family_pivot = df.pivot_table(index ='family_status_id', values = 'debt', aggfunc = ['sum','count']).droplevel(1, axis=1) \n",
    "family_pivot['ratio'] = family_pivot['sum'] / family_pivot['count'] \n",
    "family_pivot.merge(family_status_dict, on='family_status_id', how='left')"
   ]
  },
  {
   "cell_type": "markdown",
   "id": "37b287cf",
   "metadata": {},
   "source": [
    "##### Conclusion 2:  \n",
    "Grouping by marital status shows that for all categories of clients, the debt ratio does not exceed 10% of the total number of loans. The lowest indebtedness category is \"widower/widow\"  (\"вдовец/вдова\"): 6.5%, the highest indebtedness category is \"single\" (\"не женат/не замужем\"): 9.7%"
   ]
  },
  {
   "cell_type": "markdown",
   "id": "6210ba27",
   "metadata": {},
   "source": [
    "##### Question 3:  \n",
    "\n",
    "Is there a correlation between the level of income and repayment of the loan on time?\n"
   ]
  },
  {
   "cell_type": "code",
   "execution_count": 38,
   "id": "b466b19f",
   "metadata": {},
   "outputs": [
    {
     "data": {
      "text/html": [
       "<div>\n",
       "<style scoped>\n",
       "    .dataframe tbody tr th:only-of-type {\n",
       "        vertical-align: middle;\n",
       "    }\n",
       "\n",
       "    .dataframe tbody tr th {\n",
       "        vertical-align: top;\n",
       "    }\n",
       "\n",
       "    .dataframe thead tr th {\n",
       "        text-align: left;\n",
       "    }\n",
       "\n",
       "    .dataframe thead tr:last-of-type th {\n",
       "        text-align: right;\n",
       "    }\n",
       "</style>\n",
       "<table border=\"1\" class=\"dataframe\">\n",
       "  <thead>\n",
       "    <tr>\n",
       "      <th></th>\n",
       "      <th>sum</th>\n",
       "      <th>count</th>\n",
       "      <th>ratio</th>\n",
       "    </tr>\n",
       "    <tr>\n",
       "      <th></th>\n",
       "      <th>debt</th>\n",
       "      <th>debt</th>\n",
       "      <th></th>\n",
       "    </tr>\n",
       "    <tr>\n",
       "      <th>total_income_category</th>\n",
       "      <th></th>\n",
       "      <th></th>\n",
       "      <th></th>\n",
       "    </tr>\n",
       "  </thead>\n",
       "  <tbody>\n",
       "    <tr>\n",
       "      <th>A</th>\n",
       "      <td>2</td>\n",
       "      <td>25</td>\n",
       "      <td>0.080000</td>\n",
       "    </tr>\n",
       "    <tr>\n",
       "      <th>B</th>\n",
       "      <td>356</td>\n",
       "      <td>5042</td>\n",
       "      <td>0.070607</td>\n",
       "    </tr>\n",
       "    <tr>\n",
       "      <th>C</th>\n",
       "      <td>1360</td>\n",
       "      <td>16015</td>\n",
       "      <td>0.084920</td>\n",
       "    </tr>\n",
       "    <tr>\n",
       "      <th>D</th>\n",
       "      <td>21</td>\n",
       "      <td>350</td>\n",
       "      <td>0.060000</td>\n",
       "    </tr>\n",
       "    <tr>\n",
       "      <th>E</th>\n",
       "      <td>2</td>\n",
       "      <td>22</td>\n",
       "      <td>0.090909</td>\n",
       "    </tr>\n",
       "  </tbody>\n",
       "</table>\n",
       "</div>"
      ],
      "text/plain": [
       "                        sum  count     ratio\n",
       "                       debt   debt          \n",
       "total_income_category                       \n",
       "A                         2     25  0.080000\n",
       "B                       356   5042  0.070607\n",
       "C                      1360  16015  0.084920\n",
       "D                        21    350  0.060000\n",
       "E                         2     22  0.090909"
      ]
     },
     "execution_count": 38,
     "metadata": {},
     "output_type": "execute_result"
    }
   ],
   "source": [
    "income_pivot = df.pivot_table(index='total_income_category', values='debt', aggfunc = ['sum','count'])\n",
    "income_pivot['ratio'] = income_pivot['sum'] / income_pivot['count']\n",
    "income_pivot"
   ]
  },
  {
   "cell_type": "markdown",
   "id": "8e2b1808",
   "metadata": {},
   "source": [
    "##### Conclusion 3:"
   ]
  },
  {
   "cell_type": "markdown",
   "id": "1179a9bc",
   "metadata": {},
   "source": [
    "According to the assessment of the relationship between the level of income of clients and the presence of credit debt, it can be noted that the smallest percentage of debtors is in category D (clients with an income of 30 to 50 thousand rubles) - 6%. In categories E (income less than 30 thousand rubles) and C (income from 50 to 200 thousand rubles) - the highest debt rates among clients (9% and 8.4%)"
   ]
  },
  {
   "cell_type": "markdown",
   "id": "0f8e2529",
   "metadata": {},
   "source": [
    "##### Question 4:   \n",
    "How do the different purposes of the loan affect its repayment on time?"
   ]
  },
  {
   "cell_type": "code",
   "execution_count": 39,
   "id": "526bb504",
   "metadata": {},
   "outputs": [
    {
     "data": {
      "text/html": [
       "<div>\n",
       "<style scoped>\n",
       "    .dataframe tbody tr th:only-of-type {\n",
       "        vertical-align: middle;\n",
       "    }\n",
       "\n",
       "    .dataframe tbody tr th {\n",
       "        vertical-align: top;\n",
       "    }\n",
       "\n",
       "    .dataframe thead tr th {\n",
       "        text-align: left;\n",
       "    }\n",
       "\n",
       "    .dataframe thead tr:last-of-type th {\n",
       "        text-align: right;\n",
       "    }\n",
       "</style>\n",
       "<table border=\"1\" class=\"dataframe\">\n",
       "  <thead>\n",
       "    <tr>\n",
       "      <th></th>\n",
       "      <th>sum</th>\n",
       "      <th>count</th>\n",
       "      <th>ratio</th>\n",
       "    </tr>\n",
       "    <tr>\n",
       "      <th></th>\n",
       "      <th>debt</th>\n",
       "      <th>debt</th>\n",
       "      <th></th>\n",
       "    </tr>\n",
       "    <tr>\n",
       "      <th>purpose_category</th>\n",
       "      <th></th>\n",
       "      <th></th>\n",
       "      <th></th>\n",
       "    </tr>\n",
       "  </thead>\n",
       "  <tbody>\n",
       "    <tr>\n",
       "      <th>getting an education</th>\n",
       "      <td>370</td>\n",
       "      <td>4013</td>\n",
       "      <td>0.092200</td>\n",
       "    </tr>\n",
       "    <tr>\n",
       "      <th>real estate</th>\n",
       "      <td>782</td>\n",
       "      <td>10811</td>\n",
       "      <td>0.072334</td>\n",
       "    </tr>\n",
       "    <tr>\n",
       "      <th>vehicle operations</th>\n",
       "      <td>403</td>\n",
       "      <td>4306</td>\n",
       "      <td>0.093590</td>\n",
       "    </tr>\n",
       "    <tr>\n",
       "      <th>wedding</th>\n",
       "      <td>186</td>\n",
       "      <td>2324</td>\n",
       "      <td>0.080034</td>\n",
       "    </tr>\n",
       "  </tbody>\n",
       "</table>\n",
       "</div>"
      ],
      "text/plain": [
       "                      sum  count     ratio\n",
       "                     debt   debt          \n",
       "purpose_category                          \n",
       "getting an education  370   4013  0.092200\n",
       "real estate           782  10811  0.072334\n",
       "vehicle operations    403   4306  0.093590\n",
       "wedding               186   2324  0.080034"
      ]
     },
     "execution_count": 39,
     "metadata": {},
     "output_type": "execute_result"
    }
   ],
   "source": [
    "purpose_pivot = df.pivot_table(index='purpose_category', values='debt', aggfunc=['sum','count'])\n",
    "purpose_pivot['ratio'] = purpose_pivot['sum'] / purpose_pivot['count']\n",
    "purpose_pivot"
   ]
  },
  {
   "cell_type": "markdown",
   "id": "d16d4f39",
   "metadata": {},
   "source": [
    "##### Conclusion 4:"
   ]
  },
  {
   "cell_type": "markdown",
   "id": "d4f5ab61",
   "metadata": {},
   "source": [
    "Clients who take out a loan for vehicle operations are more likely than others to have debts on loans: 9.3% of all borrowers in this category. Almost the same indicators of debts have clients who take out a loan for education: 9.2% of all borrowers in the category. The most conscientious borrowers are clients who take out a loan for real estate transactions. Among them, only 7.2 percent have debts."
   ]
  },
  {
   "cell_type": "markdown",
   "id": "336323de",
   "metadata": {},
   "source": [
    "## General conclusion:"
   ]
  },
  {
   "cell_type": "markdown",
   "id": "2e87c270",
   "metadata": {},
   "source": [
    "Answering the question of the credit department of the bank about whether the marital status and the number of children of the client affect the fact of repaying the loan on time, we can draw the following conclusions:\n",
    "1. Unmarried clients are more likely than others to have loan debt. Every 10th client of this category has a delay in paying the loan on time. Closest of all to the risk group are also clients who are in a civil marriage. Among them, the percentage of debts is 9.3% of all borrowers. Least of all debtors in the categories of widowers and divorced clients \n",
    "2. Among clients who do not have children - the lowest percentage of loan debts: 7.5%. Among families with children, in general, comparable indicators of the proportion of debtors from 8% among clients with three children, to 9.7% among clients with four children. In the category of families, the smallest share of debtors among clients with two children is 8.1%. Clients with five children in the sample are not enough to be representative of the results.\n",
    "\n"
   ]
  }
 ],
 "metadata": {
  "ExecuteTimeLog": [
   {
    "duration": 72,
    "start_time": "2022-04-04T09:05:43.788Z"
   },
   {
    "duration": 640,
    "start_time": "2022-04-04T09:05:48.795Z"
   },
   {
    "duration": 115,
    "start_time": "2022-04-04T09:05:50.304Z"
   },
   {
    "duration": 26,
    "start_time": "2022-04-04T09:06:04.374Z"
   },
   {
    "duration": 86,
    "start_time": "2022-04-04T09:06:13.148Z"
   },
   {
    "duration": 62,
    "start_time": "2022-04-04T09:52:50.724Z"
   },
   {
    "duration": 23,
    "start_time": "2022-04-04T10:59:56.891Z"
   },
   {
    "duration": 12,
    "start_time": "2022-04-04T11:00:13.126Z"
   },
   {
    "duration": 8,
    "start_time": "2022-04-04T11:00:30.238Z"
   },
   {
    "duration": 7,
    "start_time": "2022-04-04T11:01:10.342Z"
   },
   {
    "duration": 9,
    "start_time": "2022-04-04T11:01:16.359Z"
   },
   {
    "duration": 11,
    "start_time": "2022-04-04T11:01:45.596Z"
   },
   {
    "duration": 14,
    "start_time": "2022-04-04T11:02:29.644Z"
   },
   {
    "duration": 128,
    "start_time": "2022-04-04T11:04:31.602Z"
   },
   {
    "duration": 18,
    "start_time": "2022-04-04T11:04:38.829Z"
   },
   {
    "duration": 31,
    "start_time": "2022-04-04T11:04:45.468Z"
   },
   {
    "duration": 9,
    "start_time": "2022-04-04T11:07:06.848Z"
   },
   {
    "duration": 9,
    "start_time": "2022-04-04T11:10:11.402Z"
   },
   {
    "duration": 9,
    "start_time": "2022-04-04T11:11:02.979Z"
   },
   {
    "duration": 13,
    "start_time": "2022-04-04T11:16:02.443Z"
   },
   {
    "duration": 15,
    "start_time": "2022-04-04T11:16:22.483Z"
   },
   {
    "duration": 16,
    "start_time": "2022-04-04T11:16:40.037Z"
   },
   {
    "duration": 235,
    "start_time": "2022-04-04T11:16:48.251Z"
   },
   {
    "duration": 15,
    "start_time": "2022-04-04T11:16:52.217Z"
   },
   {
    "duration": 15,
    "start_time": "2022-04-04T11:17:28.535Z"
   },
   {
    "duration": 16,
    "start_time": "2022-04-04T11:17:40.984Z"
   },
   {
    "duration": 10,
    "start_time": "2022-04-04T11:18:20.573Z"
   },
   {
    "duration": 17,
    "start_time": "2022-04-04T11:18:26.170Z"
   },
   {
    "duration": 15,
    "start_time": "2022-04-04T11:19:42.236Z"
   },
   {
    "duration": 503,
    "start_time": "2022-04-04T11:20:06.560Z"
   },
   {
    "duration": 304,
    "start_time": "2022-04-04T11:20:19.236Z"
   },
   {
    "duration": 22,
    "start_time": "2022-04-04T11:21:00.801Z"
   },
   {
    "duration": 20,
    "start_time": "2022-04-04T11:21:09.492Z"
   },
   {
    "duration": 23,
    "start_time": "2022-04-04T11:21:16.198Z"
   },
   {
    "duration": 27,
    "start_time": "2022-04-04T11:21:25.252Z"
   },
   {
    "duration": 25,
    "start_time": "2022-04-04T11:21:57.802Z"
   },
   {
    "duration": 19,
    "start_time": "2022-04-04T11:24:34.810Z"
   },
   {
    "duration": 37,
    "start_time": "2022-04-04T11:24:40.631Z"
   },
   {
    "duration": 30,
    "start_time": "2022-04-04T11:25:40.233Z"
   },
   {
    "duration": 45,
    "start_time": "2022-04-04T11:25:46.219Z"
   },
   {
    "duration": 32,
    "start_time": "2022-04-04T11:29:05.334Z"
   },
   {
    "duration": 30,
    "start_time": "2022-04-04T11:29:15.015Z"
   },
   {
    "duration": 19,
    "start_time": "2022-04-04T11:40:27.809Z"
   },
   {
    "duration": 4119,
    "start_time": "2022-04-04T11:43:53.150Z"
   },
   {
    "duration": 558,
    "start_time": "2022-04-04T11:44:47.866Z"
   },
   {
    "duration": 19,
    "start_time": "2022-04-04T11:45:23.450Z"
   },
   {
    "duration": 9,
    "start_time": "2022-04-04T12:32:44.082Z"
   },
   {
    "duration": 6,
    "start_time": "2022-04-04T12:32:47.327Z"
   },
   {
    "duration": 7,
    "start_time": "2022-04-04T12:33:08.093Z"
   },
   {
    "duration": 34,
    "start_time": "2022-04-04T12:33:39.245Z"
   },
   {
    "duration": 8,
    "start_time": "2022-04-04T12:33:56.211Z"
   },
   {
    "duration": 221,
    "start_time": "2022-04-04T12:38:49.565Z"
   },
   {
    "duration": 229,
    "start_time": "2022-04-04T12:39:00.045Z"
   },
   {
    "duration": 8,
    "start_time": "2022-04-04T12:39:06.934Z"
   },
   {
    "duration": 7,
    "start_time": "2022-04-04T12:47:24.702Z"
   },
   {
    "duration": 16,
    "start_time": "2022-04-04T12:47:40.565Z"
   },
   {
    "duration": 6,
    "start_time": "2022-04-04T12:47:46.239Z"
   },
   {
    "duration": 7,
    "start_time": "2022-04-04T12:48:07.872Z"
   },
   {
    "duration": 11,
    "start_time": "2022-04-04T12:48:12.571Z"
   },
   {
    "duration": 5,
    "start_time": "2022-04-04T12:49:20.769Z"
   },
   {
    "duration": 9,
    "start_time": "2022-04-04T12:49:26.139Z"
   },
   {
    "duration": 20,
    "start_time": "2022-04-04T12:49:55.775Z"
   },
   {
    "duration": 12,
    "start_time": "2022-04-04T12:50:04.476Z"
   },
   {
    "duration": 5,
    "start_time": "2022-04-04T12:50:59.397Z"
   },
   {
    "duration": 9,
    "start_time": "2022-04-04T12:51:04.679Z"
   },
   {
    "duration": 18,
    "start_time": "2022-04-04T12:51:25.584Z"
   },
   {
    "duration": 10,
    "start_time": "2022-04-04T12:52:18.821Z"
   },
   {
    "duration": 10,
    "start_time": "2022-04-04T12:52:23.786Z"
   },
   {
    "duration": 9,
    "start_time": "2022-04-04T12:52:29.511Z"
   },
   {
    "duration": 10,
    "start_time": "2022-04-04T12:52:50.822Z"
   },
   {
    "duration": 4,
    "start_time": "2022-04-04T12:52:55.663Z"
   },
   {
    "duration": 8,
    "start_time": "2022-04-04T12:53:02.985Z"
   },
   {
    "duration": 0,
    "start_time": "2022-04-04T12:53:24.294Z"
   },
   {
    "duration": 10,
    "start_time": "2022-04-04T12:53:28.421Z"
   },
   {
    "duration": 3493,
    "start_time": "2022-04-04T12:53:29.044Z"
   },
   {
    "duration": 10,
    "start_time": "2022-04-04T12:53:35.125Z"
   },
   {
    "duration": 12,
    "start_time": "2022-04-04T12:53:47.122Z"
   },
   {
    "duration": 13,
    "start_time": "2022-04-04T12:53:54.418Z"
   },
   {
    "duration": 9,
    "start_time": "2022-04-04T12:54:13.459Z"
   },
   {
    "duration": 7,
    "start_time": "2022-04-04T12:55:06.025Z"
   },
   {
    "duration": 78,
    "start_time": "2022-04-04T12:55:33.398Z"
   },
   {
    "duration": 512,
    "start_time": "2022-04-04T12:55:42.916Z"
   },
   {
    "duration": 101,
    "start_time": "2022-04-04T12:55:44.085Z"
   },
   {
    "duration": 22,
    "start_time": "2022-04-04T12:55:45.104Z"
   },
   {
    "duration": 18,
    "start_time": "2022-04-04T12:55:46.035Z"
   },
   {
    "duration": 45,
    "start_time": "2022-04-04T12:55:46.350Z"
   },
   {
    "duration": 5,
    "start_time": "2022-04-04T12:55:46.968Z"
   },
   {
    "duration": 9,
    "start_time": "2022-04-04T12:55:47.119Z"
   },
   {
    "duration": 13,
    "start_time": "2022-04-04T12:55:47.435Z"
   },
   {
    "duration": 7,
    "start_time": "2022-04-04T12:55:47.566Z"
   },
   {
    "duration": 8,
    "start_time": "2022-04-04T12:55:57.718Z"
   },
   {
    "duration": 10,
    "start_time": "2022-04-04T12:56:07.517Z"
   },
   {
    "duration": 11,
    "start_time": "2022-04-04T12:56:30.867Z"
   },
   {
    "duration": 561,
    "start_time": "2022-04-04T12:56:42.351Z"
   },
   {
    "duration": 99,
    "start_time": "2022-04-04T12:56:42.915Z"
   },
   {
    "duration": 28,
    "start_time": "2022-04-04T12:56:43.017Z"
   },
   {
    "duration": 14,
    "start_time": "2022-04-04T12:56:43.048Z"
   },
   {
    "duration": 31,
    "start_time": "2022-04-04T12:56:43.063Z"
   },
   {
    "duration": 5,
    "start_time": "2022-04-04T12:56:43.096Z"
   },
   {
    "duration": 45,
    "start_time": "2022-04-04T12:56:43.103Z"
   },
   {
    "duration": 14,
    "start_time": "2022-04-04T12:56:43.150Z"
   },
   {
    "duration": 31,
    "start_time": "2022-04-04T12:56:43.166Z"
   },
   {
    "duration": 12,
    "start_time": "2022-04-04T12:57:09.913Z"
   },
   {
    "duration": 10,
    "start_time": "2022-04-04T12:57:18.107Z"
   },
   {
    "duration": 11,
    "start_time": "2022-04-04T12:57:23.120Z"
   },
   {
    "duration": 11,
    "start_time": "2022-04-04T12:57:27.852Z"
   },
   {
    "duration": 11,
    "start_time": "2022-04-04T12:57:33.121Z"
   },
   {
    "duration": 13,
    "start_time": "2022-04-04T12:58:28.172Z"
   },
   {
    "duration": 20,
    "start_time": "2022-04-04T12:58:38.150Z"
   },
   {
    "duration": 16,
    "start_time": "2022-04-04T12:58:43.504Z"
   },
   {
    "duration": 21,
    "start_time": "2022-04-04T12:59:32.906Z"
   },
   {
    "duration": 17,
    "start_time": "2022-04-04T12:59:44.538Z"
   },
   {
    "duration": 222,
    "start_time": "2022-04-04T13:00:50.323Z"
   },
   {
    "duration": 14,
    "start_time": "2022-04-04T13:01:21.920Z"
   },
   {
    "duration": 15,
    "start_time": "2022-04-04T13:01:55.669Z"
   },
   {
    "duration": 15,
    "start_time": "2022-04-04T13:02:01.925Z"
   },
   {
    "duration": 14,
    "start_time": "2022-04-04T13:02:05.540Z"
   },
   {
    "duration": 14,
    "start_time": "2022-04-04T13:02:36.921Z"
   },
   {
    "duration": 15,
    "start_time": "2022-04-04T13:02:58.428Z"
   },
   {
    "duration": 12,
    "start_time": "2022-04-04T13:06:48.824Z"
   },
   {
    "duration": 13,
    "start_time": "2022-04-04T13:06:53.045Z"
   },
   {
    "duration": 8,
    "start_time": "2022-04-04T14:25:57.039Z"
   },
   {
    "duration": 10,
    "start_time": "2022-04-04T14:26:08.003Z"
   },
   {
    "duration": 12,
    "start_time": "2022-04-04T14:26:22.120Z"
   },
   {
    "duration": 94,
    "start_time": "2022-04-04T14:29:29.106Z"
   },
   {
    "duration": 13,
    "start_time": "2022-04-04T14:30:37.356Z"
   },
   {
    "duration": 13,
    "start_time": "2022-04-04T14:30:44.120Z"
   },
   {
    "duration": 14,
    "start_time": "2022-04-04T14:33:26.872Z"
   },
   {
    "duration": 12,
    "start_time": "2022-04-04T14:33:30.585Z"
   },
   {
    "duration": 5,
    "start_time": "2022-04-04T14:33:44.268Z"
   },
   {
    "duration": 12,
    "start_time": "2022-04-04T14:33:49.598Z"
   },
   {
    "duration": 5,
    "start_time": "2022-04-04T14:33:58.687Z"
   },
   {
    "duration": 11,
    "start_time": "2022-04-04T14:34:00.201Z"
   },
   {
    "duration": 11,
    "start_time": "2022-04-04T14:35:25.302Z"
   },
   {
    "duration": 11,
    "start_time": "2022-04-04T14:36:28.505Z"
   },
   {
    "duration": 14,
    "start_time": "2022-04-04T14:37:00.840Z"
   },
   {
    "duration": 12,
    "start_time": "2022-04-04T14:37:26.789Z"
   },
   {
    "duration": 12,
    "start_time": "2022-04-04T14:37:40.969Z"
   },
   {
    "duration": 12,
    "start_time": "2022-04-04T14:38:32.473Z"
   },
   {
    "duration": 7,
    "start_time": "2022-04-04T14:42:53.776Z"
   },
   {
    "duration": 15,
    "start_time": "2022-04-04T14:45:55.307Z"
   },
   {
    "duration": 9,
    "start_time": "2022-04-04T14:48:19.552Z"
   },
   {
    "duration": 10,
    "start_time": "2022-04-04T14:48:37.457Z"
   },
   {
    "duration": 10,
    "start_time": "2022-04-04T14:48:48.855Z"
   },
   {
    "duration": 6,
    "start_time": "2022-04-04T14:48:59.035Z"
   },
   {
    "duration": 10,
    "start_time": "2022-04-04T14:49:15.770Z"
   },
   {
    "duration": 6,
    "start_time": "2022-04-04T14:49:27.472Z"
   },
   {
    "duration": 12,
    "start_time": "2022-04-04T14:49:32.602Z"
   },
   {
    "duration": 10,
    "start_time": "2022-04-04T14:49:37.583Z"
   },
   {
    "duration": 14,
    "start_time": "2022-04-04T14:50:15.934Z"
   },
   {
    "duration": 198,
    "start_time": "2022-04-04T14:50:35.804Z"
   },
   {
    "duration": 281,
    "start_time": "2022-04-04T14:50:43.152Z"
   },
   {
    "duration": 10,
    "start_time": "2022-04-04T14:50:52.920Z"
   },
   {
    "duration": 9,
    "start_time": "2022-04-04T14:51:12.168Z"
   },
   {
    "duration": 10,
    "start_time": "2022-04-04T14:51:24.388Z"
   },
   {
    "duration": 11,
    "start_time": "2022-04-04T14:51:31.185Z"
   },
   {
    "duration": 424,
    "start_time": "2022-04-04T14:55:34.487Z"
   },
   {
    "duration": 437,
    "start_time": "2022-04-04T14:55:40.955Z"
   },
   {
    "duration": 435,
    "start_time": "2022-04-04T14:55:49.567Z"
   },
   {
    "duration": 438,
    "start_time": "2022-04-04T14:56:07.436Z"
   },
   {
    "duration": 427,
    "start_time": "2022-04-04T14:56:52.801Z"
   },
   {
    "duration": 429,
    "start_time": "2022-04-04T14:57:03.550Z"
   },
   {
    "duration": 437,
    "start_time": "2022-04-04T14:57:14.650Z"
   },
   {
    "duration": 34,
    "start_time": "2022-04-04T15:01:04.799Z"
   },
   {
    "duration": 10,
    "start_time": "2022-04-04T15:01:24.987Z"
   },
   {
    "duration": 9,
    "start_time": "2022-04-04T15:01:49.013Z"
   },
   {
    "duration": 10,
    "start_time": "2022-04-04T15:02:34.620Z"
   },
   {
    "duration": 11,
    "start_time": "2022-04-04T15:02:52.585Z"
   },
   {
    "duration": 10,
    "start_time": "2022-04-04T15:02:57.485Z"
   },
   {
    "duration": 12,
    "start_time": "2022-04-04T15:02:58.437Z"
   },
   {
    "duration": 12,
    "start_time": "2022-04-04T15:03:09.581Z"
   },
   {
    "duration": 9,
    "start_time": "2022-04-04T15:03:26.785Z"
   },
   {
    "duration": 9,
    "start_time": "2022-04-04T15:03:28.536Z"
   },
   {
    "duration": 6,
    "start_time": "2022-04-04T15:06:31.792Z"
   },
   {
    "duration": 10,
    "start_time": "2022-04-04T15:06:35.751Z"
   },
   {
    "duration": 9,
    "start_time": "2022-04-04T15:06:42.281Z"
   },
   {
    "duration": 2244,
    "start_time": "2022-04-04T15:08:09.118Z"
   },
   {
    "duration": 11,
    "start_time": "2022-04-04T15:08:16.466Z"
   },
   {
    "duration": 433,
    "start_time": "2022-04-04T15:08:40.868Z"
   },
   {
    "duration": 434,
    "start_time": "2022-04-04T15:08:46.235Z"
   },
   {
    "duration": 2201,
    "start_time": "2022-04-04T15:08:47.915Z"
   },
   {
    "duration": 467,
    "start_time": "2022-04-04T15:08:50.963Z"
   },
   {
    "duration": 470,
    "start_time": "2022-04-04T15:09:03.265Z"
   },
   {
    "duration": 97,
    "start_time": "2022-04-04T15:09:03.738Z"
   },
   {
    "duration": 19,
    "start_time": "2022-04-04T15:09:03.837Z"
   },
   {
    "duration": 32,
    "start_time": "2022-04-04T15:09:03.859Z"
   },
   {
    "duration": 32,
    "start_time": "2022-04-04T15:09:03.894Z"
   },
   {
    "duration": 22,
    "start_time": "2022-04-04T15:09:03.928Z"
   },
   {
    "duration": 29,
    "start_time": "2022-04-04T15:09:03.952Z"
   },
   {
    "duration": 24,
    "start_time": "2022-04-04T15:09:03.983Z"
   },
   {
    "duration": 18,
    "start_time": "2022-04-04T15:09:04.010Z"
   },
   {
    "duration": 11,
    "start_time": "2022-04-04T15:09:04.032Z"
   },
   {
    "duration": 441,
    "start_time": "2022-04-04T15:09:04.045Z"
   },
   {
    "duration": 2339,
    "start_time": "2022-04-04T15:09:04.488Z"
   },
   {
    "duration": 446,
    "start_time": "2022-04-04T15:09:06.829Z"
   },
   {
    "duration": 463,
    "start_time": "2022-04-04T15:09:27.407Z"
   },
   {
    "duration": 495,
    "start_time": "2022-04-04T15:09:39.975Z"
   },
   {
    "duration": 453,
    "start_time": "2022-04-04T15:09:41.205Z"
   },
   {
    "duration": 477,
    "start_time": "2022-04-04T15:09:47.752Z"
   },
   {
    "duration": 103,
    "start_time": "2022-04-04T15:09:48.232Z"
   },
   {
    "duration": 22,
    "start_time": "2022-04-04T15:09:48.337Z"
   },
   {
    "duration": 12,
    "start_time": "2022-04-04T15:09:48.363Z"
   },
   {
    "duration": 30,
    "start_time": "2022-04-04T15:09:48.377Z"
   },
   {
    "duration": 8,
    "start_time": "2022-04-04T15:09:48.409Z"
   },
   {
    "duration": 8,
    "start_time": "2022-04-04T15:09:48.444Z"
   },
   {
    "duration": 11,
    "start_time": "2022-04-04T15:09:48.454Z"
   },
   {
    "duration": 13,
    "start_time": "2022-04-04T15:09:48.468Z"
   },
   {
    "duration": 58,
    "start_time": "2022-04-04T15:09:48.484Z"
   },
   {
    "duration": 456,
    "start_time": "2022-04-04T15:09:48.545Z"
   },
   {
    "duration": 2304,
    "start_time": "2022-04-04T15:09:49.003Z"
   },
   {
    "duration": 445,
    "start_time": "2022-04-04T15:09:51.310Z"
   },
   {
    "duration": 34,
    "start_time": "2022-04-04T15:10:38.516Z"
   },
   {
    "duration": 21,
    "start_time": "2022-04-04T15:11:36.333Z"
   },
   {
    "duration": 21,
    "start_time": "2022-04-04T15:37:11.362Z"
   },
   {
    "duration": 20,
    "start_time": "2022-04-04T15:37:24.501Z"
   },
   {
    "duration": 10,
    "start_time": "2022-04-04T15:38:35.085Z"
   },
   {
    "duration": 10,
    "start_time": "2022-04-04T15:38:39.280Z"
   },
   {
    "duration": 13,
    "start_time": "2022-04-04T15:38:41.144Z"
   },
   {
    "duration": 10,
    "start_time": "2022-04-04T15:41:46.554Z"
   },
   {
    "duration": 18,
    "start_time": "2022-04-04T15:41:52.292Z"
   },
   {
    "duration": 216,
    "start_time": "2022-04-04T15:44:13.971Z"
   },
   {
    "duration": 212,
    "start_time": "2022-04-04T15:44:20.091Z"
   },
   {
    "duration": 24,
    "start_time": "2022-04-04T15:44:25.740Z"
   },
   {
    "duration": 17,
    "start_time": "2022-04-04T15:46:34.422Z"
   },
   {
    "duration": 17,
    "start_time": "2022-04-04T15:47:51.571Z"
   },
   {
    "duration": 3584,
    "start_time": "2022-04-04T15:48:18.673Z"
   },
   {
    "duration": 20,
    "start_time": "2022-04-04T15:48:52.701Z"
   },
   {
    "duration": 12,
    "start_time": "2022-04-04T15:49:12.874Z"
   },
   {
    "duration": 17,
    "start_time": "2022-04-04T15:49:42.501Z"
   },
   {
    "duration": 20,
    "start_time": "2022-04-04T15:53:26.108Z"
   },
   {
    "duration": 43,
    "start_time": "2022-04-05T06:21:28.968Z"
   },
   {
    "duration": 377,
    "start_time": "2022-04-05T06:21:36.832Z"
   },
   {
    "duration": 84,
    "start_time": "2022-04-05T06:21:37.211Z"
   },
   {
    "duration": 14,
    "start_time": "2022-04-05T06:21:37.296Z"
   },
   {
    "duration": 8,
    "start_time": "2022-04-05T06:21:37.312Z"
   },
   {
    "duration": 19,
    "start_time": "2022-04-05T06:21:37.321Z"
   },
   {
    "duration": 3,
    "start_time": "2022-04-05T06:21:37.342Z"
   },
   {
    "duration": 7,
    "start_time": "2022-04-05T06:21:37.346Z"
   },
   {
    "duration": 7,
    "start_time": "2022-04-05T06:21:37.354Z"
   },
   {
    "duration": 39,
    "start_time": "2022-04-05T06:21:37.362Z"
   },
   {
    "duration": 7,
    "start_time": "2022-04-05T06:21:37.403Z"
   },
   {
    "duration": 253,
    "start_time": "2022-04-05T06:21:37.411Z"
   },
   {
    "duration": 1282,
    "start_time": "2022-04-05T06:21:37.666Z"
   },
   {
    "duration": 268,
    "start_time": "2022-04-05T06:21:38.949Z"
   },
   {
    "duration": 18,
    "start_time": "2022-04-05T06:21:39.218Z"
   },
   {
    "duration": 12,
    "start_time": "2022-04-05T06:21:39.237Z"
   },
   {
    "duration": 3178,
    "start_time": "2022-04-05T06:21:39.250Z"
   },
   {
    "duration": 0,
    "start_time": "2022-04-05T06:21:42.429Z"
   },
   {
    "duration": 364,
    "start_time": "2022-04-05T06:23:42.535Z"
   },
   {
    "duration": 84,
    "start_time": "2022-04-05T06:23:42.901Z"
   },
   {
    "duration": 14,
    "start_time": "2022-04-05T06:23:42.987Z"
   },
   {
    "duration": 9,
    "start_time": "2022-04-05T06:23:43.003Z"
   },
   {
    "duration": 19,
    "start_time": "2022-04-05T06:23:43.013Z"
   },
   {
    "duration": 4,
    "start_time": "2022-04-05T06:23:43.034Z"
   },
   {
    "duration": 6,
    "start_time": "2022-04-05T06:23:43.039Z"
   },
   {
    "duration": 6,
    "start_time": "2022-04-05T06:23:43.047Z"
   },
   {
    "duration": 8,
    "start_time": "2022-04-05T06:23:43.055Z"
   },
   {
    "duration": 8,
    "start_time": "2022-04-05T06:23:43.102Z"
   },
   {
    "duration": 61,
    "start_time": "2022-04-05T06:23:43.111Z"
   },
   {
    "duration": 0,
    "start_time": "2022-04-05T06:23:43.174Z"
   },
   {
    "duration": 0,
    "start_time": "2022-04-05T06:23:43.175Z"
   },
   {
    "duration": 0,
    "start_time": "2022-04-05T06:23:43.176Z"
   },
   {
    "duration": 0,
    "start_time": "2022-04-05T06:23:43.177Z"
   },
   {
    "duration": 0,
    "start_time": "2022-04-05T06:23:43.178Z"
   },
   {
    "duration": 0,
    "start_time": "2022-04-05T06:23:43.179Z"
   },
   {
    "duration": 0,
    "start_time": "2022-04-05T06:23:43.180Z"
   },
   {
    "duration": 11,
    "start_time": "2022-04-05T06:24:41.300Z"
   },
   {
    "duration": 11,
    "start_time": "2022-04-05T06:24:48.873Z"
   },
   {
    "duration": 8,
    "start_time": "2022-04-05T06:26:33.175Z"
   },
   {
    "duration": 3,
    "start_time": "2022-04-05T06:30:08.551Z"
   },
   {
    "duration": 14,
    "start_time": "2022-04-05T06:30:19.305Z"
   },
   {
    "duration": 6,
    "start_time": "2022-04-05T06:30:55.138Z"
   },
   {
    "duration": 7,
    "start_time": "2022-04-05T06:31:26.538Z"
   },
   {
    "duration": 8,
    "start_time": "2022-04-05T06:31:33.519Z"
   },
   {
    "duration": 9,
    "start_time": "2022-04-05T06:31:47.000Z"
   },
   {
    "duration": 7,
    "start_time": "2022-04-05T06:32:35.790Z"
   },
   {
    "duration": 397,
    "start_time": "2022-04-06T08:19:18.461Z"
   },
   {
    "duration": 107,
    "start_time": "2022-04-06T08:19:18.860Z"
   },
   {
    "duration": 17,
    "start_time": "2022-04-06T08:19:18.969Z"
   },
   {
    "duration": 12,
    "start_time": "2022-04-06T08:19:18.988Z"
   },
   {
    "duration": 40,
    "start_time": "2022-04-06T08:19:19.001Z"
   },
   {
    "duration": 4,
    "start_time": "2022-04-06T08:19:19.042Z"
   },
   {
    "duration": 11,
    "start_time": "2022-04-06T08:19:19.048Z"
   },
   {
    "duration": 11,
    "start_time": "2022-04-06T08:19:19.061Z"
   },
   {
    "duration": 12,
    "start_time": "2022-04-06T08:19:19.074Z"
   },
   {
    "duration": 43,
    "start_time": "2022-04-06T08:19:19.089Z"
   },
   {
    "duration": 16,
    "start_time": "2022-04-06T08:19:19.134Z"
   },
   {
    "duration": 9,
    "start_time": "2022-04-06T08:19:19.152Z"
   },
   {
    "duration": 202,
    "start_time": "2022-04-06T08:19:19.163Z"
   },
   {
    "duration": 0,
    "start_time": "2022-04-06T08:19:19.368Z"
   },
   {
    "duration": 0,
    "start_time": "2022-04-06T08:19:19.369Z"
   },
   {
    "duration": 0,
    "start_time": "2022-04-06T08:19:19.370Z"
   },
   {
    "duration": 0,
    "start_time": "2022-04-06T08:19:19.372Z"
   },
   {
    "duration": 0,
    "start_time": "2022-04-06T08:19:19.373Z"
   },
   {
    "duration": 0,
    "start_time": "2022-04-06T08:19:19.374Z"
   },
   {
    "duration": 0,
    "start_time": "2022-04-06T08:19:19.376Z"
   },
   {
    "duration": 0,
    "start_time": "2022-04-06T08:19:19.377Z"
   },
   {
    "duration": 28,
    "start_time": "2022-04-06T08:22:17.554Z"
   },
   {
    "duration": 6,
    "start_time": "2022-04-06T08:22:22.924Z"
   },
   {
    "duration": 8,
    "start_time": "2022-04-06T08:22:39.210Z"
   },
   {
    "duration": 65,
    "start_time": "2022-04-06T09:59:10.496Z"
   },
   {
    "duration": 453,
    "start_time": "2022-04-06T09:59:22.801Z"
   },
   {
    "duration": 95,
    "start_time": "2022-04-06T09:59:23.257Z"
   },
   {
    "duration": 30,
    "start_time": "2022-04-06T09:59:23.354Z"
   },
   {
    "duration": 14,
    "start_time": "2022-04-06T09:59:23.386Z"
   },
   {
    "duration": 65,
    "start_time": "2022-04-06T09:59:23.403Z"
   },
   {
    "duration": 5,
    "start_time": "2022-04-06T09:59:23.471Z"
   },
   {
    "duration": 10,
    "start_time": "2022-04-06T09:59:23.479Z"
   },
   {
    "duration": 10,
    "start_time": "2022-04-06T09:59:23.491Z"
   },
   {
    "duration": 12,
    "start_time": "2022-04-06T09:59:23.504Z"
   },
   {
    "duration": 57,
    "start_time": "2022-04-06T09:59:23.518Z"
   },
   {
    "duration": 15,
    "start_time": "2022-04-06T09:59:23.577Z"
   },
   {
    "duration": 9,
    "start_time": "2022-04-06T09:59:23.594Z"
   },
   {
    "duration": 75,
    "start_time": "2022-04-06T09:59:23.605Z"
   },
   {
    "duration": 13,
    "start_time": "2022-04-06T09:59:23.685Z"
   },
   {
    "duration": 114,
    "start_time": "2022-04-06T09:59:23.701Z"
   },
   {
    "duration": 0,
    "start_time": "2022-04-06T09:59:23.818Z"
   },
   {
    "duration": 0,
    "start_time": "2022-04-06T09:59:23.821Z"
   },
   {
    "duration": 0,
    "start_time": "2022-04-06T09:59:23.823Z"
   },
   {
    "duration": 0,
    "start_time": "2022-04-06T09:59:23.825Z"
   },
   {
    "duration": 0,
    "start_time": "2022-04-06T09:59:23.827Z"
   },
   {
    "duration": 0,
    "start_time": "2022-04-06T09:59:23.829Z"
   },
   {
    "duration": 0,
    "start_time": "2022-04-06T09:59:23.831Z"
   },
   {
    "duration": 139,
    "start_time": "2022-04-06T10:00:18.780Z"
   },
   {
    "duration": 100,
    "start_time": "2022-04-06T10:00:43.353Z"
   },
   {
    "duration": 20,
    "start_time": "2022-04-06T10:01:20.969Z"
   },
   {
    "duration": 127,
    "start_time": "2022-04-06T10:01:48.769Z"
   },
   {
    "duration": 7,
    "start_time": "2022-04-06T10:02:04.452Z"
   },
   {
    "duration": 6,
    "start_time": "2022-04-06T10:02:09.448Z"
   },
   {
    "duration": 456,
    "start_time": "2022-04-06T10:02:25.844Z"
   },
   {
    "duration": 2378,
    "start_time": "2022-04-06T10:02:42.729Z"
   },
   {
    "duration": 452,
    "start_time": "2022-04-06T10:02:46.520Z"
   },
   {
    "duration": 12,
    "start_time": "2022-04-06T10:04:43.735Z"
   },
   {
    "duration": 18,
    "start_time": "2022-04-06T10:04:46.697Z"
   },
   {
    "duration": 10,
    "start_time": "2022-04-06T11:41:46.745Z"
   },
   {
    "duration": 26,
    "start_time": "2022-04-06T11:45:06.817Z"
   },
   {
    "duration": 22,
    "start_time": "2022-04-06T11:46:00.694Z"
   },
   {
    "duration": 9,
    "start_time": "2022-04-06T11:46:15.730Z"
   },
   {
    "duration": 10,
    "start_time": "2022-04-06T11:47:11.397Z"
   },
   {
    "duration": 486,
    "start_time": "2022-04-06T11:47:17.382Z"
   },
   {
    "duration": 101,
    "start_time": "2022-04-06T11:47:17.871Z"
   },
   {
    "duration": 21,
    "start_time": "2022-04-06T11:47:17.975Z"
   },
   {
    "duration": 14,
    "start_time": "2022-04-06T11:47:17.998Z"
   },
   {
    "duration": 68,
    "start_time": "2022-04-06T11:47:18.015Z"
   },
   {
    "duration": 9,
    "start_time": "2022-04-06T11:47:18.086Z"
   },
   {
    "duration": 11,
    "start_time": "2022-04-06T11:47:18.097Z"
   },
   {
    "duration": 13,
    "start_time": "2022-04-06T11:47:18.110Z"
   },
   {
    "duration": 47,
    "start_time": "2022-04-06T11:47:18.125Z"
   },
   {
    "duration": 17,
    "start_time": "2022-04-06T11:47:18.174Z"
   },
   {
    "duration": 9,
    "start_time": "2022-04-06T11:47:18.193Z"
   },
   {
    "duration": 74,
    "start_time": "2022-04-06T11:47:18.204Z"
   },
   {
    "duration": 6,
    "start_time": "2022-04-06T11:47:18.280Z"
   },
   {
    "duration": 462,
    "start_time": "2022-04-06T11:47:18.289Z"
   },
   {
    "duration": 2356,
    "start_time": "2022-04-06T11:47:18.753Z"
   },
   {
    "duration": 463,
    "start_time": "2022-04-06T11:47:21.111Z"
   },
   {
    "duration": 19,
    "start_time": "2022-04-06T11:47:21.577Z"
   },
   {
    "duration": 26,
    "start_time": "2022-04-06T11:47:21.598Z"
   },
   {
    "duration": 10,
    "start_time": "2022-04-06T11:47:21.626Z"
   },
   {
    "duration": 10,
    "start_time": "2022-04-06T11:47:36.758Z"
   },
   {
    "duration": 8,
    "start_time": "2022-04-06T11:54:36.773Z"
   },
   {
    "duration": 7,
    "start_time": "2022-04-06T11:54:41.427Z"
   },
   {
    "duration": 37,
    "start_time": "2022-04-06T11:55:24.843Z"
   },
   {
    "duration": 11,
    "start_time": "2022-04-06T11:55:50.877Z"
   },
   {
    "duration": 475,
    "start_time": "2022-04-06T11:55:57.715Z"
   },
   {
    "duration": 138,
    "start_time": "2022-04-06T11:55:58.193Z"
   },
   {
    "duration": 33,
    "start_time": "2022-04-06T11:55:58.334Z"
   },
   {
    "duration": 13,
    "start_time": "2022-04-06T11:55:58.371Z"
   },
   {
    "duration": 28,
    "start_time": "2022-04-06T11:55:58.386Z"
   },
   {
    "duration": 9,
    "start_time": "2022-04-06T11:55:58.416Z"
   },
   {
    "duration": 42,
    "start_time": "2022-04-06T11:55:58.427Z"
   },
   {
    "duration": 14,
    "start_time": "2022-04-06T11:55:58.471Z"
   },
   {
    "duration": 10,
    "start_time": "2022-04-06T11:55:58.487Z"
   },
   {
    "duration": 17,
    "start_time": "2022-04-06T11:55:58.500Z"
   },
   {
    "duration": 49,
    "start_time": "2022-04-06T11:55:58.519Z"
   },
   {
    "duration": 42,
    "start_time": "2022-04-06T11:55:58.570Z"
   },
   {
    "duration": 7,
    "start_time": "2022-04-06T11:55:58.614Z"
   },
   {
    "duration": 486,
    "start_time": "2022-04-06T11:55:58.623Z"
   },
   {
    "duration": 2456,
    "start_time": "2022-04-06T11:55:59.111Z"
   },
   {
    "duration": 494,
    "start_time": "2022-04-06T11:56:01.570Z"
   },
   {
    "duration": 19,
    "start_time": "2022-04-06T11:56:02.066Z"
   },
   {
    "duration": 70,
    "start_time": "2022-04-06T11:56:02.087Z"
   },
   {
    "duration": 11,
    "start_time": "2022-04-06T11:56:02.159Z"
   },
   {
    "duration": 25,
    "start_time": "2022-04-06T11:56:56.031Z"
   },
   {
    "duration": 8,
    "start_time": "2022-04-06T11:57:10.551Z"
   },
   {
    "duration": 569,
    "start_time": "2022-04-06T11:57:44.764Z"
   },
   {
    "duration": 111,
    "start_time": "2022-04-06T11:57:45.336Z"
   },
   {
    "duration": 40,
    "start_time": "2022-04-06T11:57:45.450Z"
   },
   {
    "duration": 14,
    "start_time": "2022-04-06T11:57:45.493Z"
   },
   {
    "duration": 30,
    "start_time": "2022-04-06T11:57:45.509Z"
   },
   {
    "duration": 9,
    "start_time": "2022-04-06T11:57:45.541Z"
   },
   {
    "duration": 11,
    "start_time": "2022-04-06T11:57:45.567Z"
   },
   {
    "duration": 13,
    "start_time": "2022-04-06T11:57:45.580Z"
   },
   {
    "duration": 10,
    "start_time": "2022-04-06T11:57:45.595Z"
   },
   {
    "duration": 17,
    "start_time": "2022-04-06T11:57:45.608Z"
   },
   {
    "duration": 10,
    "start_time": "2022-04-06T11:57:45.627Z"
   },
   {
    "duration": 67,
    "start_time": "2022-04-06T11:57:45.640Z"
   },
   {
    "duration": 7,
    "start_time": "2022-04-06T11:57:45.710Z"
   },
   {
    "duration": 948,
    "start_time": "2022-04-06T11:57:45.720Z"
   },
   {
    "duration": 2953,
    "start_time": "2022-04-06T11:57:46.671Z"
   },
   {
    "duration": 435,
    "start_time": "2022-04-06T11:57:49.626Z"
   },
   {
    "duration": 7,
    "start_time": "2022-04-06T11:57:50.067Z"
   },
   {
    "duration": 5,
    "start_time": "2022-04-06T11:57:50.076Z"
   },
   {
    "duration": 9,
    "start_time": "2022-04-06T11:57:50.083Z"
   },
   {
    "duration": 9,
    "start_time": "2022-04-06T11:58:07.791Z"
   },
   {
    "duration": 512,
    "start_time": "2022-04-06T11:58:20.938Z"
   },
   {
    "duration": 91,
    "start_time": "2022-04-06T11:58:21.453Z"
   },
   {
    "duration": 29,
    "start_time": "2022-04-06T11:58:21.546Z"
   },
   {
    "duration": 14,
    "start_time": "2022-04-06T11:58:21.578Z"
   },
   {
    "duration": 31,
    "start_time": "2022-04-06T11:58:21.594Z"
   },
   {
    "duration": 42,
    "start_time": "2022-04-06T11:58:21.627Z"
   },
   {
    "duration": 11,
    "start_time": "2022-04-06T11:58:21.671Z"
   },
   {
    "duration": 14,
    "start_time": "2022-04-06T11:58:21.685Z"
   },
   {
    "duration": 13,
    "start_time": "2022-04-06T11:58:21.701Z"
   },
   {
    "duration": 65,
    "start_time": "2022-04-06T11:58:21.717Z"
   },
   {
    "duration": 13,
    "start_time": "2022-04-06T11:58:21.784Z"
   },
   {
    "duration": 79,
    "start_time": "2022-04-06T11:58:21.799Z"
   },
   {
    "duration": 7,
    "start_time": "2022-04-06T11:58:21.880Z"
   },
   {
    "duration": 680,
    "start_time": "2022-04-06T11:58:21.890Z"
   },
   {
    "duration": 3312,
    "start_time": "2022-04-06T11:58:22.572Z"
   },
   {
    "duration": 684,
    "start_time": "2022-04-06T11:58:25.886Z"
   },
   {
    "duration": 9,
    "start_time": "2022-04-06T11:58:26.573Z"
   },
   {
    "duration": 6,
    "start_time": "2022-04-06T11:58:26.585Z"
   },
   {
    "duration": 11,
    "start_time": "2022-04-06T11:58:26.593Z"
   },
   {
    "duration": 463,
    "start_time": "2022-04-06T11:59:17.405Z"
   },
   {
    "duration": 98,
    "start_time": "2022-04-06T11:59:17.871Z"
   },
   {
    "duration": 22,
    "start_time": "2022-04-06T11:59:17.971Z"
   },
   {
    "duration": 13,
    "start_time": "2022-04-06T11:59:17.996Z"
   },
   {
    "duration": 95,
    "start_time": "2022-04-06T11:59:18.012Z"
   },
   {
    "duration": 27,
    "start_time": "2022-04-06T11:59:18.120Z"
   },
   {
    "duration": 13,
    "start_time": "2022-04-06T11:59:18.150Z"
   },
   {
    "duration": 15,
    "start_time": "2022-04-06T11:59:18.166Z"
   },
   {
    "duration": 13,
    "start_time": "2022-04-06T11:59:18.183Z"
   },
   {
    "duration": 18,
    "start_time": "2022-04-06T11:59:18.201Z"
   },
   {
    "duration": 54,
    "start_time": "2022-04-06T11:59:18.221Z"
   },
   {
    "duration": 44,
    "start_time": "2022-04-06T11:59:18.279Z"
   },
   {
    "duration": 8,
    "start_time": "2022-04-06T11:59:18.325Z"
   },
   {
    "duration": 112,
    "start_time": "2022-04-06T11:59:18.367Z"
   },
   {
    "duration": 0,
    "start_time": "2022-04-06T11:59:18.482Z"
   },
   {
    "duration": 0,
    "start_time": "2022-04-06T11:59:18.484Z"
   },
   {
    "duration": 0,
    "start_time": "2022-04-06T11:59:18.486Z"
   },
   {
    "duration": 0,
    "start_time": "2022-04-06T11:59:18.488Z"
   },
   {
    "duration": 0,
    "start_time": "2022-04-06T11:59:18.490Z"
   },
   {
    "duration": 0,
    "start_time": "2022-04-06T11:59:18.492Z"
   },
   {
    "duration": 8,
    "start_time": "2022-04-06T11:59:29.361Z"
   },
   {
    "duration": 734,
    "start_time": "2022-04-06T12:00:12.767Z"
   },
   {
    "duration": 104,
    "start_time": "2022-04-06T12:00:13.504Z"
   },
   {
    "duration": 23,
    "start_time": "2022-04-06T12:00:13.610Z"
   },
   {
    "duration": 37,
    "start_time": "2022-04-06T12:00:13.637Z"
   },
   {
    "duration": 43,
    "start_time": "2022-04-06T12:00:13.676Z"
   },
   {
    "duration": 11,
    "start_time": "2022-04-06T12:00:13.722Z"
   },
   {
    "duration": 14,
    "start_time": "2022-04-06T12:00:13.769Z"
   },
   {
    "duration": 18,
    "start_time": "2022-04-06T12:00:13.786Z"
   },
   {
    "duration": 14,
    "start_time": "2022-04-06T12:00:13.806Z"
   },
   {
    "duration": 58,
    "start_time": "2022-04-06T12:00:13.824Z"
   },
   {
    "duration": 10,
    "start_time": "2022-04-06T12:00:13.885Z"
   },
   {
    "duration": 178,
    "start_time": "2022-04-06T12:00:13.898Z"
   },
   {
    "duration": 0,
    "start_time": "2022-04-06T12:00:14.079Z"
   },
   {
    "duration": 0,
    "start_time": "2022-04-06T12:00:14.081Z"
   },
   {
    "duration": 0,
    "start_time": "2022-04-06T12:00:14.083Z"
   },
   {
    "duration": 0,
    "start_time": "2022-04-06T12:00:14.085Z"
   },
   {
    "duration": 0,
    "start_time": "2022-04-06T12:00:14.087Z"
   },
   {
    "duration": 1,
    "start_time": "2022-04-06T12:00:14.088Z"
   },
   {
    "duration": 0,
    "start_time": "2022-04-06T12:00:14.090Z"
   },
   {
    "duration": 0,
    "start_time": "2022-04-06T12:00:14.092Z"
   },
   {
    "duration": 0,
    "start_time": "2022-04-06T12:00:14.094Z"
   },
   {
    "duration": 0,
    "start_time": "2022-04-06T12:00:14.097Z"
   },
   {
    "duration": 7,
    "start_time": "2022-04-06T12:00:20.478Z"
   },
   {
    "duration": 23,
    "start_time": "2022-04-06T12:01:52.919Z"
   },
   {
    "duration": 24,
    "start_time": "2022-04-06T12:02:34.951Z"
   },
   {
    "duration": 19,
    "start_time": "2022-04-06T12:04:37.414Z"
   },
   {
    "duration": 470,
    "start_time": "2022-04-06T12:04:53.091Z"
   },
   {
    "duration": 101,
    "start_time": "2022-04-06T12:04:53.568Z"
   },
   {
    "duration": 21,
    "start_time": "2022-04-06T12:04:53.671Z"
   },
   {
    "duration": 14,
    "start_time": "2022-04-06T12:04:53.695Z"
   },
   {
    "duration": 69,
    "start_time": "2022-04-06T12:04:53.712Z"
   },
   {
    "duration": 9,
    "start_time": "2022-04-06T12:04:53.783Z"
   },
   {
    "duration": 12,
    "start_time": "2022-04-06T12:04:53.794Z"
   },
   {
    "duration": 13,
    "start_time": "2022-04-06T12:04:53.808Z"
   },
   {
    "duration": 48,
    "start_time": "2022-04-06T12:04:53.823Z"
   },
   {
    "duration": 17,
    "start_time": "2022-04-06T12:04:53.874Z"
   },
   {
    "duration": 167,
    "start_time": "2022-04-06T12:04:53.894Z"
   },
   {
    "duration": 0,
    "start_time": "2022-04-06T12:04:54.070Z"
   },
   {
    "duration": 0,
    "start_time": "2022-04-06T12:04:54.072Z"
   },
   {
    "duration": 0,
    "start_time": "2022-04-06T12:04:54.074Z"
   },
   {
    "duration": 0,
    "start_time": "2022-04-06T12:04:54.076Z"
   },
   {
    "duration": 0,
    "start_time": "2022-04-06T12:04:54.079Z"
   },
   {
    "duration": 0,
    "start_time": "2022-04-06T12:04:54.081Z"
   },
   {
    "duration": 0,
    "start_time": "2022-04-06T12:04:54.083Z"
   },
   {
    "duration": 0,
    "start_time": "2022-04-06T12:04:54.085Z"
   },
   {
    "duration": 0,
    "start_time": "2022-04-06T12:04:54.087Z"
   },
   {
    "duration": 0,
    "start_time": "2022-04-06T12:04:54.090Z"
   },
   {
    "duration": 0,
    "start_time": "2022-04-06T12:04:54.092Z"
   },
   {
    "duration": 0,
    "start_time": "2022-04-06T12:04:54.095Z"
   },
   {
    "duration": 10,
    "start_time": "2022-04-06T12:05:32.099Z"
   },
   {
    "duration": 16,
    "start_time": "2022-04-06T12:06:07.082Z"
   },
   {
    "duration": 23,
    "start_time": "2022-04-06T12:17:28.388Z"
   },
   {
    "duration": 10,
    "start_time": "2022-04-06T12:17:46.185Z"
   },
   {
    "duration": 20,
    "start_time": "2022-04-06T12:18:02.203Z"
   },
   {
    "duration": 6,
    "start_time": "2022-04-06T12:18:07.772Z"
   },
   {
    "duration": 11,
    "start_time": "2022-04-06T12:18:37.052Z"
   },
   {
    "duration": 7,
    "start_time": "2022-04-06T12:18:52.852Z"
   },
   {
    "duration": 1669,
    "start_time": "2022-04-06T12:57:36.541Z"
   },
   {
    "duration": 1710,
    "start_time": "2022-04-06T12:57:56.586Z"
   },
   {
    "duration": 496,
    "start_time": "2022-04-06T12:59:56.973Z"
   },
   {
    "duration": 687,
    "start_time": "2022-04-06T13:00:07.026Z"
   },
   {
    "duration": 18,
    "start_time": "2022-04-06T13:00:23.060Z"
   },
   {
    "duration": 14,
    "start_time": "2022-04-06T13:00:52.622Z"
   },
   {
    "duration": 19,
    "start_time": "2022-04-06T13:01:01.603Z"
   },
   {
    "duration": 17,
    "start_time": "2022-04-06T13:01:24.642Z"
   },
   {
    "duration": 7,
    "start_time": "2022-04-06T13:01:28.821Z"
   },
   {
    "duration": 808,
    "start_time": "2022-04-06T13:01:37.857Z"
   },
   {
    "duration": 468,
    "start_time": "2022-04-06T13:02:12.086Z"
   },
   {
    "duration": 95,
    "start_time": "2022-04-06T13:02:12.556Z"
   },
   {
    "duration": 33,
    "start_time": "2022-04-06T13:02:12.653Z"
   },
   {
    "duration": 15,
    "start_time": "2022-04-06T13:02:12.689Z"
   },
   {
    "duration": 68,
    "start_time": "2022-04-06T13:02:12.707Z"
   },
   {
    "duration": 12,
    "start_time": "2022-04-06T13:02:12.778Z"
   },
   {
    "duration": 13,
    "start_time": "2022-04-06T13:02:12.793Z"
   },
   {
    "duration": 14,
    "start_time": "2022-04-06T13:02:12.809Z"
   },
   {
    "duration": 13,
    "start_time": "2022-04-06T13:02:12.868Z"
   },
   {
    "duration": 17,
    "start_time": "2022-04-06T13:02:12.886Z"
   },
   {
    "duration": 11,
    "start_time": "2022-04-06T13:02:12.905Z"
   },
   {
    "duration": 442,
    "start_time": "2022-04-06T13:02:12.918Z"
   },
   {
    "duration": 97,
    "start_time": "2022-04-06T13:02:13.362Z"
   },
   {
    "duration": 0,
    "start_time": "2022-04-06T13:02:13.461Z"
   },
   {
    "duration": 0,
    "start_time": "2022-04-06T13:02:13.463Z"
   },
   {
    "duration": 0,
    "start_time": "2022-04-06T13:02:13.465Z"
   },
   {
    "duration": 0,
    "start_time": "2022-04-06T13:02:13.467Z"
   },
   {
    "duration": 0,
    "start_time": "2022-04-06T13:02:13.469Z"
   },
   {
    "duration": 0,
    "start_time": "2022-04-06T13:02:13.472Z"
   },
   {
    "duration": 0,
    "start_time": "2022-04-06T13:02:13.474Z"
   },
   {
    "duration": 0,
    "start_time": "2022-04-06T13:02:13.477Z"
   },
   {
    "duration": 0,
    "start_time": "2022-04-06T13:02:13.479Z"
   },
   {
    "duration": 0,
    "start_time": "2022-04-06T13:02:13.481Z"
   },
   {
    "duration": 19,
    "start_time": "2022-04-06T13:02:31.327Z"
   },
   {
    "duration": 1195,
    "start_time": "2022-04-06T13:02:44.320Z"
   },
   {
    "duration": 11,
    "start_time": "2022-04-06T13:02:53.376Z"
   },
   {
    "duration": 25,
    "start_time": "2022-04-06T13:03:29.743Z"
   },
   {
    "duration": 9,
    "start_time": "2022-04-06T13:04:06.643Z"
   },
   {
    "duration": 14,
    "start_time": "2022-04-06T13:04:13.356Z"
   },
   {
    "duration": 31,
    "start_time": "2022-04-06T13:04:59.710Z"
   },
   {
    "duration": 510,
    "start_time": "2022-04-06T13:05:14.757Z"
   },
   {
    "duration": 99,
    "start_time": "2022-04-06T13:05:15.270Z"
   },
   {
    "duration": 21,
    "start_time": "2022-04-06T13:05:15.371Z"
   },
   {
    "duration": 13,
    "start_time": "2022-04-06T13:05:15.395Z"
   },
   {
    "duration": 62,
    "start_time": "2022-04-06T13:05:15.411Z"
   },
   {
    "duration": 8,
    "start_time": "2022-04-06T13:05:15.476Z"
   },
   {
    "duration": 11,
    "start_time": "2022-04-06T13:05:15.487Z"
   },
   {
    "duration": 13,
    "start_time": "2022-04-06T13:05:15.500Z"
   },
   {
    "duration": 56,
    "start_time": "2022-04-06T13:05:15.515Z"
   },
   {
    "duration": 17,
    "start_time": "2022-04-06T13:05:15.573Z"
   },
   {
    "duration": 12,
    "start_time": "2022-04-06T13:05:15.592Z"
   },
   {
    "duration": 399,
    "start_time": "2022-04-06T13:05:15.606Z"
   },
   {
    "duration": 105,
    "start_time": "2022-04-06T13:05:16.008Z"
   },
   {
    "duration": 0,
    "start_time": "2022-04-06T13:05:16.117Z"
   },
   {
    "duration": 0,
    "start_time": "2022-04-06T13:05:16.119Z"
   },
   {
    "duration": 0,
    "start_time": "2022-04-06T13:05:16.121Z"
   },
   {
    "duration": 0,
    "start_time": "2022-04-06T13:05:16.123Z"
   },
   {
    "duration": 0,
    "start_time": "2022-04-06T13:05:16.125Z"
   },
   {
    "duration": 0,
    "start_time": "2022-04-06T13:05:16.127Z"
   },
   {
    "duration": 0,
    "start_time": "2022-04-06T13:05:16.130Z"
   },
   {
    "duration": 0,
    "start_time": "2022-04-06T13:05:16.132Z"
   },
   {
    "duration": 0,
    "start_time": "2022-04-06T13:05:16.134Z"
   },
   {
    "duration": 0,
    "start_time": "2022-04-06T13:05:16.136Z"
   },
   {
    "duration": 0,
    "start_time": "2022-04-06T13:05:16.168Z"
   },
   {
    "duration": 20,
    "start_time": "2022-04-06T13:05:29.243Z"
   },
   {
    "duration": 44,
    "start_time": "2022-04-06T13:08:03.384Z"
   },
   {
    "duration": 11,
    "start_time": "2022-04-06T13:09:40.177Z"
   },
   {
    "duration": 11,
    "start_time": "2022-04-06T13:09:46.146Z"
   },
   {
    "duration": 7,
    "start_time": "2022-04-06T13:09:54.644Z"
   },
   {
    "duration": 30,
    "start_time": "2022-04-06T13:10:21.106Z"
   },
   {
    "duration": 532,
    "start_time": "2022-04-06T13:10:36.175Z"
   },
   {
    "duration": 116,
    "start_time": "2022-04-06T13:10:36.709Z"
   },
   {
    "duration": 22,
    "start_time": "2022-04-06T13:10:36.827Z"
   },
   {
    "duration": 31,
    "start_time": "2022-04-06T13:10:36.852Z"
   },
   {
    "duration": 33,
    "start_time": "2022-04-06T13:10:36.885Z"
   },
   {
    "duration": 8,
    "start_time": "2022-04-06T13:10:36.921Z"
   },
   {
    "duration": 13,
    "start_time": "2022-04-06T13:10:36.932Z"
   },
   {
    "duration": 22,
    "start_time": "2022-04-06T13:10:36.948Z"
   },
   {
    "duration": 13,
    "start_time": "2022-04-06T13:10:36.973Z"
   },
   {
    "duration": 20,
    "start_time": "2022-04-06T13:10:36.991Z"
   },
   {
    "duration": 11,
    "start_time": "2022-04-06T13:10:37.013Z"
   },
   {
    "duration": 669,
    "start_time": "2022-04-06T13:10:37.027Z"
   },
   {
    "duration": 145,
    "start_time": "2022-04-06T13:10:37.698Z"
   },
   {
    "duration": 0,
    "start_time": "2022-04-06T13:10:37.846Z"
   },
   {
    "duration": 0,
    "start_time": "2022-04-06T13:10:37.848Z"
   },
   {
    "duration": 0,
    "start_time": "2022-04-06T13:10:37.850Z"
   },
   {
    "duration": 0,
    "start_time": "2022-04-06T13:10:37.852Z"
   },
   {
    "duration": 0,
    "start_time": "2022-04-06T13:10:37.868Z"
   },
   {
    "duration": 0,
    "start_time": "2022-04-06T13:10:37.870Z"
   },
   {
    "duration": 0,
    "start_time": "2022-04-06T13:10:37.872Z"
   },
   {
    "duration": 0,
    "start_time": "2022-04-06T13:10:37.874Z"
   },
   {
    "duration": 0,
    "start_time": "2022-04-06T13:10:37.876Z"
   },
   {
    "duration": 0,
    "start_time": "2022-04-06T13:10:37.878Z"
   },
   {
    "duration": 12,
    "start_time": "2022-04-06T13:10:45.791Z"
   },
   {
    "duration": 533,
    "start_time": "2022-04-06T13:12:33.747Z"
   },
   {
    "duration": 103,
    "start_time": "2022-04-06T13:12:34.283Z"
   },
   {
    "duration": 22,
    "start_time": "2022-04-06T13:12:34.389Z"
   },
   {
    "duration": 14,
    "start_time": "2022-04-06T13:12:34.415Z"
   },
   {
    "duration": 63,
    "start_time": "2022-04-06T13:12:34.431Z"
   },
   {
    "duration": 9,
    "start_time": "2022-04-06T13:12:34.497Z"
   },
   {
    "duration": 10,
    "start_time": "2022-04-06T13:12:34.508Z"
   },
   {
    "duration": 50,
    "start_time": "2022-04-06T13:12:34.520Z"
   },
   {
    "duration": 10,
    "start_time": "2022-04-06T13:12:34.572Z"
   },
   {
    "duration": 16,
    "start_time": "2022-04-06T13:12:34.586Z"
   },
   {
    "duration": 11,
    "start_time": "2022-04-06T13:12:34.604Z"
   },
   {
    "duration": 590,
    "start_time": "2022-04-06T13:12:34.617Z"
   },
   {
    "duration": 147,
    "start_time": "2022-04-06T13:12:35.209Z"
   },
   {
    "duration": 0,
    "start_time": "2022-04-06T13:12:35.359Z"
   },
   {
    "duration": 0,
    "start_time": "2022-04-06T13:12:35.367Z"
   },
   {
    "duration": 0,
    "start_time": "2022-04-06T13:12:35.369Z"
   },
   {
    "duration": 1,
    "start_time": "2022-04-06T13:12:35.371Z"
   },
   {
    "duration": 0,
    "start_time": "2022-04-06T13:12:35.373Z"
   },
   {
    "duration": 0,
    "start_time": "2022-04-06T13:12:35.375Z"
   },
   {
    "duration": 0,
    "start_time": "2022-04-06T13:12:35.377Z"
   },
   {
    "duration": 0,
    "start_time": "2022-04-06T13:12:35.378Z"
   },
   {
    "duration": 0,
    "start_time": "2022-04-06T13:12:35.381Z"
   },
   {
    "duration": 0,
    "start_time": "2022-04-06T13:12:35.382Z"
   },
   {
    "duration": 12,
    "start_time": "2022-04-06T13:12:44.313Z"
   },
   {
    "duration": 18,
    "start_time": "2022-04-06T13:14:07.058Z"
   },
   {
    "duration": 16,
    "start_time": "2022-04-06T13:14:10.826Z"
   },
   {
    "duration": 493,
    "start_time": "2022-04-06T13:14:32.669Z"
   },
   {
    "duration": 102,
    "start_time": "2022-04-06T13:14:33.167Z"
   },
   {
    "duration": 22,
    "start_time": "2022-04-06T13:14:33.271Z"
   },
   {
    "duration": 15,
    "start_time": "2022-04-06T13:14:33.295Z"
   },
   {
    "duration": 62,
    "start_time": "2022-04-06T13:14:33.315Z"
   },
   {
    "duration": 9,
    "start_time": "2022-04-06T13:14:33.379Z"
   },
   {
    "duration": 16,
    "start_time": "2022-04-06T13:14:33.391Z"
   },
   {
    "duration": 18,
    "start_time": "2022-04-06T13:14:33.411Z"
   },
   {
    "duration": 16,
    "start_time": "2022-04-06T13:14:33.469Z"
   },
   {
    "duration": 17,
    "start_time": "2022-04-06T13:14:33.488Z"
   },
   {
    "duration": 14,
    "start_time": "2022-04-06T13:14:33.507Z"
   },
   {
    "duration": 99,
    "start_time": "2022-04-06T13:14:33.523Z"
   },
   {
    "duration": 0,
    "start_time": "2022-04-06T13:14:33.624Z"
   },
   {
    "duration": 0,
    "start_time": "2022-04-06T13:14:33.626Z"
   },
   {
    "duration": 0,
    "start_time": "2022-04-06T13:14:33.628Z"
   },
   {
    "duration": 0,
    "start_time": "2022-04-06T13:14:33.630Z"
   },
   {
    "duration": 0,
    "start_time": "2022-04-06T13:14:33.632Z"
   },
   {
    "duration": 0,
    "start_time": "2022-04-06T13:14:33.634Z"
   },
   {
    "duration": 0,
    "start_time": "2022-04-06T13:14:33.635Z"
   },
   {
    "duration": 0,
    "start_time": "2022-04-06T13:14:33.637Z"
   },
   {
    "duration": 0,
    "start_time": "2022-04-06T13:14:33.638Z"
   },
   {
    "duration": 0,
    "start_time": "2022-04-06T13:14:33.640Z"
   },
   {
    "duration": 0,
    "start_time": "2022-04-06T13:14:33.641Z"
   },
   {
    "duration": 1841,
    "start_time": "2022-04-06T13:14:49.193Z"
   },
   {
    "duration": 11,
    "start_time": "2022-04-06T13:14:52.997Z"
   },
   {
    "duration": 11,
    "start_time": "2022-04-06T13:15:35.732Z"
   },
   {
    "duration": 89,
    "start_time": "2022-04-06T13:16:05.139Z"
   },
   {
    "duration": 1611,
    "start_time": "2022-04-06T13:16:08.806Z"
   },
   {
    "duration": 15,
    "start_time": "2022-04-06T13:17:03.363Z"
   },
   {
    "duration": 11,
    "start_time": "2022-04-06T13:17:07.105Z"
   },
   {
    "duration": 15,
    "start_time": "2022-04-06T13:17:12.241Z"
   },
   {
    "duration": 11,
    "start_time": "2022-04-06T13:17:18.813Z"
   },
   {
    "duration": 12,
    "start_time": "2022-04-06T13:17:44.484Z"
   },
   {
    "duration": 1919,
    "start_time": "2022-04-06T13:18:20.955Z"
   },
   {
    "duration": 514,
    "start_time": "2022-04-06T13:18:31.107Z"
   },
   {
    "duration": 111,
    "start_time": "2022-04-06T13:18:31.624Z"
   },
   {
    "duration": 32,
    "start_time": "2022-04-06T13:18:31.737Z"
   },
   {
    "duration": 14,
    "start_time": "2022-04-06T13:18:31.772Z"
   },
   {
    "duration": 33,
    "start_time": "2022-04-06T13:18:31.788Z"
   },
   {
    "duration": 46,
    "start_time": "2022-04-06T13:18:31.823Z"
   },
   {
    "duration": 11,
    "start_time": "2022-04-06T13:18:31.871Z"
   },
   {
    "duration": 16,
    "start_time": "2022-04-06T13:18:31.885Z"
   },
   {
    "duration": 22,
    "start_time": "2022-04-06T13:18:31.903Z"
   },
   {
    "duration": 43,
    "start_time": "2022-04-06T13:18:31.928Z"
   },
   {
    "duration": 12,
    "start_time": "2022-04-06T13:18:31.973Z"
   },
   {
    "duration": 2129,
    "start_time": "2022-04-06T13:18:31.988Z"
   },
   {
    "duration": 0,
    "start_time": "2022-04-06T13:18:34.120Z"
   },
   {
    "duration": 0,
    "start_time": "2022-04-06T13:18:34.122Z"
   },
   {
    "duration": 0,
    "start_time": "2022-04-06T13:18:34.124Z"
   },
   {
    "duration": 0,
    "start_time": "2022-04-06T13:18:34.126Z"
   },
   {
    "duration": 0,
    "start_time": "2022-04-06T13:18:34.128Z"
   },
   {
    "duration": 0,
    "start_time": "2022-04-06T13:18:34.130Z"
   },
   {
    "duration": 0,
    "start_time": "2022-04-06T13:18:34.132Z"
   },
   {
    "duration": 0,
    "start_time": "2022-04-06T13:18:34.134Z"
   },
   {
    "duration": 0,
    "start_time": "2022-04-06T13:18:34.137Z"
   },
   {
    "duration": 0,
    "start_time": "2022-04-06T13:18:34.139Z"
   },
   {
    "duration": 0,
    "start_time": "2022-04-06T13:18:34.141Z"
   },
   {
    "duration": 1752,
    "start_time": "2022-04-06T13:18:47.405Z"
   },
   {
    "duration": 1846,
    "start_time": "2022-04-06T13:19:56.327Z"
   },
   {
    "duration": 131,
    "start_time": "2022-04-06T13:20:06.212Z"
   },
   {
    "duration": 11,
    "start_time": "2022-04-06T13:20:08.795Z"
   },
   {
    "duration": 11,
    "start_time": "2022-04-06T13:20:17.393Z"
   },
   {
    "duration": 1476,
    "start_time": "2022-04-06T13:20:28.261Z"
   },
   {
    "duration": 11,
    "start_time": "2022-04-06T13:20:38.083Z"
   },
   {
    "duration": 16,
    "start_time": "2022-04-06T13:20:44.871Z"
   },
   {
    "duration": 2237,
    "start_time": "2022-04-06T13:21:38.717Z"
   },
   {
    "duration": 18,
    "start_time": "2022-04-06T13:22:01.225Z"
   },
   {
    "duration": 13,
    "start_time": "2022-04-06T13:22:10.532Z"
   },
   {
    "duration": 17,
    "start_time": "2022-04-06T13:22:32.112Z"
   },
   {
    "duration": 18,
    "start_time": "2022-04-06T13:24:09.372Z"
   },
   {
    "duration": 14,
    "start_time": "2022-04-06T13:24:17.228Z"
   },
   {
    "duration": 1780,
    "start_time": "2022-04-06T13:24:32.343Z"
   },
   {
    "duration": 16,
    "start_time": "2022-04-06T13:24:39.091Z"
   },
   {
    "duration": 14,
    "start_time": "2022-04-06T13:27:20.306Z"
   },
   {
    "duration": 14,
    "start_time": "2022-04-06T13:28:00.896Z"
   },
   {
    "duration": 15,
    "start_time": "2022-04-06T13:28:10.060Z"
   },
   {
    "duration": 18,
    "start_time": "2022-04-06T13:28:44.089Z"
   },
   {
    "duration": 18,
    "start_time": "2022-04-06T13:28:48.419Z"
   },
   {
    "duration": 14,
    "start_time": "2022-04-06T13:28:57.723Z"
   },
   {
    "duration": 14,
    "start_time": "2022-04-06T13:29:48.053Z"
   },
   {
    "duration": 15,
    "start_time": "2022-04-06T13:29:55.669Z"
   },
   {
    "duration": 19,
    "start_time": "2022-04-06T13:30:00.622Z"
   },
   {
    "duration": 13,
    "start_time": "2022-04-06T13:30:03.919Z"
   },
   {
    "duration": 13,
    "start_time": "2022-04-06T13:30:10.904Z"
   },
   {
    "duration": 14,
    "start_time": "2022-04-06T13:30:50.712Z"
   },
   {
    "duration": 12,
    "start_time": "2022-04-06T13:31:03.295Z"
   },
   {
    "duration": 11,
    "start_time": "2022-04-06T13:31:11.683Z"
   },
   {
    "duration": 11,
    "start_time": "2022-04-06T13:31:56.537Z"
   },
   {
    "duration": 388,
    "start_time": "2022-04-06T13:32:05.255Z"
   },
   {
    "duration": 11,
    "start_time": "2022-04-06T13:32:10.439Z"
   },
   {
    "duration": 29,
    "start_time": "2022-04-06T13:32:28.637Z"
   },
   {
    "duration": 31,
    "start_time": "2022-04-06T13:32:39.767Z"
   },
   {
    "duration": 32,
    "start_time": "2022-04-06T13:32:46.452Z"
   },
   {
    "duration": 107,
    "start_time": "2022-04-06T13:32:52.170Z"
   },
   {
    "duration": 29,
    "start_time": "2022-04-06T13:32:57.269Z"
   },
   {
    "duration": 28,
    "start_time": "2022-04-06T13:34:23.970Z"
   },
   {
    "duration": 20,
    "start_time": "2022-04-06T13:34:30.272Z"
   },
   {
    "duration": 567,
    "start_time": "2022-04-06T13:34:50.900Z"
   },
   {
    "duration": 104,
    "start_time": "2022-04-06T13:34:51.470Z"
   },
   {
    "duration": 23,
    "start_time": "2022-04-06T13:34:51.576Z"
   },
   {
    "duration": 15,
    "start_time": "2022-04-06T13:34:51.602Z"
   },
   {
    "duration": 72,
    "start_time": "2022-04-06T13:34:51.620Z"
   },
   {
    "duration": 10,
    "start_time": "2022-04-06T13:34:51.694Z"
   },
   {
    "duration": 11,
    "start_time": "2022-04-06T13:34:51.706Z"
   },
   {
    "duration": 49,
    "start_time": "2022-04-06T13:34:51.719Z"
   },
   {
    "duration": 10,
    "start_time": "2022-04-06T13:34:51.771Z"
   },
   {
    "duration": 13,
    "start_time": "2022-04-06T13:34:51.785Z"
   },
   {
    "duration": 123,
    "start_time": "2022-04-06T13:34:51.800Z"
   },
   {
    "duration": 0,
    "start_time": "2022-04-06T13:34:51.925Z"
   },
   {
    "duration": 0,
    "start_time": "2022-04-06T13:34:51.926Z"
   },
   {
    "duration": 0,
    "start_time": "2022-04-06T13:34:51.928Z"
   },
   {
    "duration": 0,
    "start_time": "2022-04-06T13:34:51.930Z"
   },
   {
    "duration": 0,
    "start_time": "2022-04-06T13:34:51.932Z"
   },
   {
    "duration": 0,
    "start_time": "2022-04-06T13:34:51.933Z"
   },
   {
    "duration": 0,
    "start_time": "2022-04-06T13:34:51.934Z"
   },
   {
    "duration": 0,
    "start_time": "2022-04-06T13:34:51.935Z"
   },
   {
    "duration": 0,
    "start_time": "2022-04-06T13:34:51.937Z"
   },
   {
    "duration": 0,
    "start_time": "2022-04-06T13:34:51.938Z"
   },
   {
    "duration": 1,
    "start_time": "2022-04-06T13:34:51.968Z"
   },
   {
    "duration": 0,
    "start_time": "2022-04-06T13:34:51.971Z"
   },
   {
    "duration": 0,
    "start_time": "2022-04-06T13:34:51.973Z"
   },
   {
    "duration": 13,
    "start_time": "2022-04-06T13:34:57.855Z"
   },
   {
    "duration": 15,
    "start_time": "2022-04-06T13:35:25.446Z"
   },
   {
    "duration": 14,
    "start_time": "2022-04-06T13:35:31.239Z"
   },
   {
    "duration": 12,
    "start_time": "2022-04-06T13:35:53.875Z"
   },
   {
    "duration": 15,
    "start_time": "2022-04-06T13:36:09.881Z"
   },
   {
    "duration": 14,
    "start_time": "2022-04-06T13:36:26.871Z"
   },
   {
    "duration": 22,
    "start_time": "2022-04-06T13:36:39.103Z"
   },
   {
    "duration": 14,
    "start_time": "2022-04-06T13:36:41.377Z"
   },
   {
    "duration": 17,
    "start_time": "2022-04-06T13:37:24.986Z"
   },
   {
    "duration": 13,
    "start_time": "2022-04-06T13:37:29.572Z"
   },
   {
    "duration": 14,
    "start_time": "2022-04-06T13:37:37.199Z"
   },
   {
    "duration": 15,
    "start_time": "2022-04-06T13:37:56.641Z"
   },
   {
    "duration": 18,
    "start_time": "2022-04-06T13:39:10.554Z"
   },
   {
    "duration": 14,
    "start_time": "2022-04-06T13:39:12.851Z"
   },
   {
    "duration": 15,
    "start_time": "2022-04-06T13:39:31.975Z"
   },
   {
    "duration": 1422,
    "start_time": "2022-04-06T13:39:42.389Z"
   },
   {
    "duration": 14,
    "start_time": "2022-04-06T13:39:52.309Z"
   },
   {
    "duration": 14,
    "start_time": "2022-04-06T13:40:39.103Z"
   },
   {
    "duration": 15,
    "start_time": "2022-04-06T13:40:52.081Z"
   },
   {
    "duration": 13,
    "start_time": "2022-04-06T13:41:08.373Z"
   },
   {
    "duration": 13,
    "start_time": "2022-04-06T13:41:18.689Z"
   },
   {
    "duration": 13,
    "start_time": "2022-04-06T13:41:39.338Z"
   },
   {
    "duration": 14,
    "start_time": "2022-04-06T13:41:46.722Z"
   },
   {
    "duration": 14,
    "start_time": "2022-04-06T13:43:56.359Z"
   },
   {
    "duration": 204,
    "start_time": "2022-04-06T13:44:04.064Z"
   },
   {
    "duration": 19,
    "start_time": "2022-04-06T13:44:54.522Z"
   },
   {
    "duration": 22,
    "start_time": "2022-04-06T13:45:02.044Z"
   },
   {
    "duration": 21,
    "start_time": "2022-04-06T13:45:06.033Z"
   },
   {
    "duration": 13,
    "start_time": "2022-04-06T13:45:45.254Z"
   },
   {
    "duration": 17,
    "start_time": "2022-04-06T13:46:03.191Z"
   },
   {
    "duration": 11,
    "start_time": "2022-04-06T13:46:21.002Z"
   },
   {
    "duration": 12,
    "start_time": "2022-04-06T13:46:37.089Z"
   },
   {
    "duration": 14,
    "start_time": "2022-04-06T13:46:56.054Z"
   },
   {
    "duration": 14,
    "start_time": "2022-04-06T13:58:12.479Z"
   },
   {
    "duration": 18,
    "start_time": "2022-04-06T13:58:17.878Z"
   },
   {
    "duration": 20,
    "start_time": "2022-04-06T13:58:27.905Z"
   },
   {
    "duration": 17,
    "start_time": "2022-04-06T13:58:37.680Z"
   },
   {
    "duration": 18,
    "start_time": "2022-04-06T13:58:44.248Z"
   },
   {
    "duration": 18,
    "start_time": "2022-04-06T13:58:52.641Z"
   },
   {
    "duration": 15,
    "start_time": "2022-04-06T13:59:09.426Z"
   },
   {
    "duration": 10,
    "start_time": "2022-04-06T13:59:36.140Z"
   },
   {
    "duration": 17,
    "start_time": "2022-04-06T13:59:38.876Z"
   },
   {
    "duration": 13,
    "start_time": "2022-04-06T13:59:42.960Z"
   },
   {
    "duration": 13,
    "start_time": "2022-04-06T13:59:55.933Z"
   },
   {
    "duration": 13,
    "start_time": "2022-04-06T13:59:59.668Z"
   },
   {
    "duration": 11,
    "start_time": "2022-04-06T14:00:10.956Z"
   },
   {
    "duration": 15,
    "start_time": "2022-04-06T14:00:18.108Z"
   },
   {
    "duration": 11,
    "start_time": "2022-04-06T14:00:21.124Z"
   },
   {
    "duration": 337,
    "start_time": "2022-04-06T14:00:43.092Z"
   },
   {
    "duration": 15,
    "start_time": "2022-04-06T14:00:51.391Z"
   },
   {
    "duration": 11,
    "start_time": "2022-04-06T14:00:59.476Z"
   },
   {
    "duration": 20,
    "start_time": "2022-04-06T14:01:13.558Z"
   },
   {
    "duration": 530,
    "start_time": "2022-04-06T14:02:17.341Z"
   },
   {
    "duration": 101,
    "start_time": "2022-04-06T14:02:17.874Z"
   },
   {
    "duration": 23,
    "start_time": "2022-04-06T14:02:17.978Z"
   },
   {
    "duration": 13,
    "start_time": "2022-04-06T14:02:18.004Z"
   },
   {
    "duration": 63,
    "start_time": "2022-04-06T14:02:18.020Z"
   },
   {
    "duration": 10,
    "start_time": "2022-04-06T14:02:18.085Z"
   },
   {
    "duration": 9,
    "start_time": "2022-04-06T14:02:18.097Z"
   },
   {
    "duration": 12,
    "start_time": "2022-04-06T14:02:18.109Z"
   },
   {
    "duration": 53,
    "start_time": "2022-04-06T14:02:18.123Z"
   },
   {
    "duration": 14,
    "start_time": "2022-04-06T14:02:18.179Z"
   },
   {
    "duration": 129,
    "start_time": "2022-04-06T14:02:18.196Z"
   },
   {
    "duration": 0,
    "start_time": "2022-04-06T14:02:18.328Z"
   },
   {
    "duration": 0,
    "start_time": "2022-04-06T14:02:18.329Z"
   },
   {
    "duration": 1,
    "start_time": "2022-04-06T14:02:18.331Z"
   },
   {
    "duration": 0,
    "start_time": "2022-04-06T14:02:18.334Z"
   },
   {
    "duration": 0,
    "start_time": "2022-04-06T14:02:18.336Z"
   },
   {
    "duration": 0,
    "start_time": "2022-04-06T14:02:18.339Z"
   },
   {
    "duration": 0,
    "start_time": "2022-04-06T14:02:18.341Z"
   },
   {
    "duration": 0,
    "start_time": "2022-04-06T14:02:18.368Z"
   },
   {
    "duration": 0,
    "start_time": "2022-04-06T14:02:18.370Z"
   },
   {
    "duration": 0,
    "start_time": "2022-04-06T14:02:18.372Z"
   },
   {
    "duration": 0,
    "start_time": "2022-04-06T14:02:18.374Z"
   },
   {
    "duration": 0,
    "start_time": "2022-04-06T14:02:18.376Z"
   },
   {
    "duration": 0,
    "start_time": "2022-04-06T14:02:18.377Z"
   },
   {
    "duration": 12,
    "start_time": "2022-04-06T14:02:49.582Z"
   },
   {
    "duration": 17,
    "start_time": "2022-04-06T14:05:54.559Z"
   },
   {
    "duration": 15,
    "start_time": "2022-04-06T14:06:00.659Z"
   },
   {
    "duration": 38,
    "start_time": "2022-04-06T14:06:29.789Z"
   },
   {
    "duration": 515,
    "start_time": "2022-04-06T14:07:11.282Z"
   },
   {
    "duration": 23,
    "start_time": "2022-04-06T14:07:15.404Z"
   },
   {
    "duration": 530,
    "start_time": "2022-04-06T14:07:35.528Z"
   },
   {
    "duration": 99,
    "start_time": "2022-04-06T14:07:36.061Z"
   },
   {
    "duration": 28,
    "start_time": "2022-04-06T14:07:36.163Z"
   },
   {
    "duration": 15,
    "start_time": "2022-04-06T14:07:36.194Z"
   },
   {
    "duration": 56,
    "start_time": "2022-04-06T14:07:36.212Z"
   },
   {
    "duration": 10,
    "start_time": "2022-04-06T14:07:36.270Z"
   },
   {
    "duration": 12,
    "start_time": "2022-04-06T14:07:36.283Z"
   },
   {
    "duration": 13,
    "start_time": "2022-04-06T14:07:36.297Z"
   },
   {
    "duration": 56,
    "start_time": "2022-04-06T14:07:36.312Z"
   },
   {
    "duration": 12,
    "start_time": "2022-04-06T14:07:36.371Z"
   },
   {
    "duration": 9,
    "start_time": "2022-04-06T14:07:36.385Z"
   },
   {
    "duration": 400,
    "start_time": "2022-04-06T14:07:36.397Z"
   },
   {
    "duration": 6,
    "start_time": "2022-04-06T14:07:36.800Z"
   },
   {
    "duration": 18,
    "start_time": "2022-04-06T14:07:36.810Z"
   },
   {
    "duration": 164,
    "start_time": "2022-04-06T14:07:36.831Z"
   },
   {
    "duration": 0,
    "start_time": "2022-04-06T14:07:36.997Z"
   },
   {
    "duration": 0,
    "start_time": "2022-04-06T14:07:36.999Z"
   },
   {
    "duration": 0,
    "start_time": "2022-04-06T14:07:37.001Z"
   },
   {
    "duration": 0,
    "start_time": "2022-04-06T14:07:37.003Z"
   },
   {
    "duration": 0,
    "start_time": "2022-04-06T14:07:37.005Z"
   },
   {
    "duration": 0,
    "start_time": "2022-04-06T14:07:37.007Z"
   },
   {
    "duration": 499,
    "start_time": "2022-04-06T14:07:52.139Z"
   },
   {
    "duration": 2623,
    "start_time": "2022-04-06T14:08:01.691Z"
   },
   {
    "duration": 510,
    "start_time": "2022-04-06T14:08:06.263Z"
   },
   {
    "duration": 7,
    "start_time": "2022-04-06T14:08:09.801Z"
   },
   {
    "duration": 8,
    "start_time": "2022-04-06T14:08:18.307Z"
   },
   {
    "duration": 10,
    "start_time": "2022-04-06T14:08:28.737Z"
   },
   {
    "duration": 96,
    "start_time": "2022-04-06T14:08:40.542Z"
   },
   {
    "duration": 24,
    "start_time": "2022-04-06T14:08:45.925Z"
   },
   {
    "duration": 15,
    "start_time": "2022-04-06T14:08:47.160Z"
   },
   {
    "duration": 8,
    "start_time": "2022-04-06T14:15:01.500Z"
   },
   {
    "duration": 18,
    "start_time": "2022-04-06T14:15:51.023Z"
   },
   {
    "duration": 10,
    "start_time": "2022-04-06T14:16:41.241Z"
   },
   {
    "duration": 10,
    "start_time": "2022-04-06T14:16:41.922Z"
   },
   {
    "duration": 22,
    "start_time": "2022-04-06T14:25:20.819Z"
   },
   {
    "duration": 11,
    "start_time": "2022-04-06T14:26:54.932Z"
   },
   {
    "duration": 24,
    "start_time": "2022-04-06T14:34:43.988Z"
   },
   {
    "duration": 18,
    "start_time": "2022-04-06T14:34:57.131Z"
   },
   {
    "duration": 462,
    "start_time": "2022-04-06T14:37:07.657Z"
   },
   {
    "duration": 28,
    "start_time": "2022-04-06T14:37:15.352Z"
   },
   {
    "duration": 320,
    "start_time": "2022-04-06T14:41:16.672Z"
   },
   {
    "duration": 21,
    "start_time": "2022-04-06T14:41:17.639Z"
   },
   {
    "duration": 17,
    "start_time": "2022-04-06T14:49:08.875Z"
   },
   {
    "duration": 19,
    "start_time": "2022-04-06T14:50:01.509Z"
   },
   {
    "duration": 19,
    "start_time": "2022-04-06T14:51:10.402Z"
   },
   {
    "duration": 470,
    "start_time": "2022-04-06T14:51:15.297Z"
   },
   {
    "duration": 99,
    "start_time": "2022-04-06T14:51:15.770Z"
   },
   {
    "duration": 21,
    "start_time": "2022-04-06T14:51:15.871Z"
   },
   {
    "duration": 13,
    "start_time": "2022-04-06T14:51:15.895Z"
   },
   {
    "duration": 64,
    "start_time": "2022-04-06T14:51:15.910Z"
   },
   {
    "duration": 14,
    "start_time": "2022-04-06T14:51:15.976Z"
   },
   {
    "duration": 10,
    "start_time": "2022-04-06T14:51:15.992Z"
   },
   {
    "duration": 12,
    "start_time": "2022-04-06T14:51:16.005Z"
   },
   {
    "duration": 51,
    "start_time": "2022-04-06T14:51:16.020Z"
   },
   {
    "duration": 18,
    "start_time": "2022-04-06T14:51:16.075Z"
   },
   {
    "duration": 11,
    "start_time": "2022-04-06T14:51:16.095Z"
   },
   {
    "duration": 409,
    "start_time": "2022-04-06T14:51:16.108Z"
   },
   {
    "duration": 6,
    "start_time": "2022-04-06T14:51:16.520Z"
   },
   {
    "duration": 471,
    "start_time": "2022-04-06T14:51:16.529Z"
   },
   {
    "duration": 2367,
    "start_time": "2022-04-06T14:51:17.002Z"
   },
   {
    "duration": 459,
    "start_time": "2022-04-06T14:51:19.372Z"
   },
   {
    "duration": 16,
    "start_time": "2022-04-06T14:51:19.833Z"
   },
   {
    "duration": 24,
    "start_time": "2022-04-06T14:51:19.851Z"
   },
   {
    "duration": 16,
    "start_time": "2022-04-06T14:51:19.877Z"
   },
   {
    "duration": 20,
    "start_time": "2022-04-06T14:51:19.895Z"
   },
   {
    "duration": 356,
    "start_time": "2022-04-06T14:51:19.918Z"
   },
   {
    "duration": 20,
    "start_time": "2022-04-06T14:51:20.276Z"
   },
   {
    "duration": 19,
    "start_time": "2022-04-06T14:51:20.298Z"
   },
   {
    "duration": 530,
    "start_time": "2022-04-06T14:52:06.061Z"
   },
   {
    "duration": 104,
    "start_time": "2022-04-06T14:52:06.594Z"
   },
   {
    "duration": 23,
    "start_time": "2022-04-06T14:52:06.701Z"
   },
   {
    "duration": 41,
    "start_time": "2022-04-06T14:52:06.726Z"
   },
   {
    "duration": 39,
    "start_time": "2022-04-06T14:52:06.772Z"
   },
   {
    "duration": 10,
    "start_time": "2022-04-06T14:52:06.814Z"
   },
   {
    "duration": 44,
    "start_time": "2022-04-06T14:52:06.827Z"
   },
   {
    "duration": 15,
    "start_time": "2022-04-06T14:52:06.873Z"
   },
   {
    "duration": 16,
    "start_time": "2022-04-06T14:52:06.890Z"
   },
   {
    "duration": 20,
    "start_time": "2022-04-06T14:52:06.908Z"
   },
   {
    "duration": 45,
    "start_time": "2022-04-06T14:52:06.931Z"
   },
   {
    "duration": 539,
    "start_time": "2022-04-06T14:52:06.978Z"
   },
   {
    "duration": 5,
    "start_time": "2022-04-06T14:52:07.520Z"
   },
   {
    "duration": 477,
    "start_time": "2022-04-06T14:52:07.529Z"
   },
   {
    "duration": 2352,
    "start_time": "2022-04-06T14:52:08.009Z"
   },
   {
    "duration": 457,
    "start_time": "2022-04-06T14:52:10.363Z"
   },
   {
    "duration": 15,
    "start_time": "2022-04-06T14:52:10.823Z"
   },
   {
    "duration": 29,
    "start_time": "2022-04-06T14:52:10.840Z"
   },
   {
    "duration": 15,
    "start_time": "2022-04-06T14:52:10.871Z"
   },
   {
    "duration": 20,
    "start_time": "2022-04-06T14:52:10.888Z"
   },
   {
    "duration": 142,
    "start_time": "2022-04-06T14:52:10.910Z"
   },
   {
    "duration": 0,
    "start_time": "2022-04-06T14:52:11.054Z"
   },
   {
    "duration": 0,
    "start_time": "2022-04-06T14:52:11.057Z"
   },
   {
    "duration": 30,
    "start_time": "2022-04-06T14:52:26.976Z"
   },
   {
    "duration": 30,
    "start_time": "2022-04-06T14:52:35.026Z"
   },
   {
    "duration": 31,
    "start_time": "2022-04-06T14:53:15.348Z"
   },
   {
    "duration": 6,
    "start_time": "2022-04-06T14:53:46.726Z"
   },
   {
    "duration": 8,
    "start_time": "2022-04-06T14:53:53.427Z"
   },
   {
    "duration": 32,
    "start_time": "2022-04-06T14:54:30.652Z"
   },
   {
    "duration": 34,
    "start_time": "2022-04-06T14:55:04.359Z"
   },
   {
    "duration": 35,
    "start_time": "2022-04-06T14:55:15.755Z"
   },
   {
    "duration": 30,
    "start_time": "2022-04-06T14:55:40.383Z"
   },
   {
    "duration": 30,
    "start_time": "2022-04-06T14:57:36.310Z"
   },
   {
    "duration": 30,
    "start_time": "2022-04-06T14:57:52.643Z"
   },
   {
    "duration": 8,
    "start_time": "2022-04-06T14:58:02.102Z"
   },
   {
    "duration": 333,
    "start_time": "2022-04-06T15:00:24.835Z"
   },
   {
    "duration": 33,
    "start_time": "2022-04-06T15:00:27.044Z"
   },
   {
    "duration": 9,
    "start_time": "2022-04-06T15:00:48.773Z"
   },
   {
    "duration": 89,
    "start_time": "2022-04-06T15:01:41.327Z"
   },
   {
    "duration": 97,
    "start_time": "2022-04-06T15:02:44.539Z"
   },
   {
    "duration": 349,
    "start_time": "2022-04-06T15:03:03.941Z"
   },
   {
    "duration": 19,
    "start_time": "2022-04-06T15:03:06.563Z"
   },
   {
    "duration": 10,
    "start_time": "2022-04-06T15:04:39.760Z"
   },
   {
    "duration": 23,
    "start_time": "2022-04-06T15:04:56.896Z"
   },
   {
    "duration": 5,
    "start_time": "2022-04-06T15:05:43.524Z"
   },
   {
    "duration": 93,
    "start_time": "2022-04-06T15:05:55.918Z"
   },
   {
    "duration": 15,
    "start_time": "2022-04-06T15:11:53.557Z"
   },
   {
    "duration": 15,
    "start_time": "2022-04-06T15:12:08.422Z"
   },
   {
    "duration": 36,
    "start_time": "2022-04-06T15:12:26.159Z"
   },
   {
    "duration": 13,
    "start_time": "2022-04-06T15:12:47.434Z"
   },
   {
    "duration": 13,
    "start_time": "2022-04-06T15:13:41.221Z"
   },
   {
    "duration": 105,
    "start_time": "2022-04-06T15:14:10.689Z"
   },
   {
    "duration": 31,
    "start_time": "2022-04-06T15:15:34.988Z"
   },
   {
    "duration": 28,
    "start_time": "2022-04-06T15:16:04.994Z"
   },
   {
    "duration": 30,
    "start_time": "2022-04-06T15:19:43.284Z"
   },
   {
    "duration": 6,
    "start_time": "2022-04-06T15:22:13.259Z"
   },
   {
    "duration": 13,
    "start_time": "2022-04-06T15:22:20.223Z"
   },
   {
    "duration": 12,
    "start_time": "2022-04-06T15:22:29.515Z"
   },
   {
    "duration": 16,
    "start_time": "2022-04-06T15:22:46.866Z"
   },
   {
    "duration": 324,
    "start_time": "2022-04-06T15:24:43.502Z"
   },
   {
    "duration": 22,
    "start_time": "2022-04-06T15:24:45.628Z"
   },
   {
    "duration": 26,
    "start_time": "2022-04-06T15:25:00.605Z"
   },
   {
    "duration": 24,
    "start_time": "2022-04-06T15:25:42.568Z"
   },
   {
    "duration": 23,
    "start_time": "2022-04-06T15:26:09.851Z"
   },
   {
    "duration": 23,
    "start_time": "2022-04-06T15:26:38.522Z"
   },
   {
    "duration": 8,
    "start_time": "2022-04-06T15:44:35.598Z"
   },
   {
    "duration": 10,
    "start_time": "2022-04-06T15:44:50.933Z"
   },
   {
    "duration": 13,
    "start_time": "2022-04-06T15:45:11.836Z"
   },
   {
    "duration": 38,
    "start_time": "2022-04-06T15:45:31.169Z"
   },
   {
    "duration": 97,
    "start_time": "2022-04-06T15:45:55.600Z"
   },
   {
    "duration": 15,
    "start_time": "2022-04-06T15:46:13.635Z"
   },
   {
    "duration": 15,
    "start_time": "2022-04-06T15:46:21.350Z"
   },
   {
    "duration": 13,
    "start_time": "2022-04-06T15:46:25.062Z"
   },
   {
    "duration": 10,
    "start_time": "2022-04-06T15:47:05.631Z"
   },
   {
    "duration": 6,
    "start_time": "2022-04-06T15:47:26.281Z"
   },
   {
    "duration": 11,
    "start_time": "2022-04-06T15:47:42.497Z"
   },
   {
    "duration": 16,
    "start_time": "2022-04-06T15:48:32.964Z"
   },
   {
    "duration": 11,
    "start_time": "2022-04-06T15:49:16.314Z"
   },
   {
    "duration": 11,
    "start_time": "2022-04-06T15:49:38.429Z"
   },
   {
    "duration": 12,
    "start_time": "2022-04-06T15:50:27.333Z"
   },
   {
    "duration": 9,
    "start_time": "2022-04-06T15:50:34.850Z"
   },
   {
    "duration": 21,
    "start_time": "2022-04-06T15:50:39.228Z"
   },
   {
    "duration": 24,
    "start_time": "2022-04-06T15:51:00.927Z"
   },
   {
    "duration": 20,
    "start_time": "2022-04-06T15:51:01.094Z"
   },
   {
    "duration": 617,
    "start_time": "2022-04-06T15:51:42.913Z"
   },
   {
    "duration": 102,
    "start_time": "2022-04-06T15:51:43.533Z"
   },
   {
    "duration": 35,
    "start_time": "2022-04-06T15:51:43.637Z"
   },
   {
    "duration": 16,
    "start_time": "2022-04-06T15:51:43.676Z"
   },
   {
    "duration": 32,
    "start_time": "2022-04-06T15:51:43.694Z"
   },
   {
    "duration": 42,
    "start_time": "2022-04-06T15:51:43.729Z"
   },
   {
    "duration": 11,
    "start_time": "2022-04-06T15:51:43.773Z"
   },
   {
    "duration": 12,
    "start_time": "2022-04-06T15:51:43.787Z"
   },
   {
    "duration": 10,
    "start_time": "2022-04-06T15:51:43.801Z"
   },
   {
    "duration": 60,
    "start_time": "2022-04-06T15:51:43.816Z"
   },
   {
    "duration": 10,
    "start_time": "2022-04-06T15:51:43.878Z"
   },
   {
    "duration": 391,
    "start_time": "2022-04-06T15:51:43.891Z"
   },
   {
    "duration": 6,
    "start_time": "2022-04-06T15:51:44.285Z"
   },
   {
    "duration": 468,
    "start_time": "2022-04-06T15:51:44.293Z"
   },
   {
    "duration": 2343,
    "start_time": "2022-04-06T15:51:44.767Z"
   },
   {
    "duration": 473,
    "start_time": "2022-04-06T15:51:47.113Z"
   },
   {
    "duration": 15,
    "start_time": "2022-04-06T15:51:47.588Z"
   },
   {
    "duration": 14,
    "start_time": "2022-04-06T15:51:47.605Z"
   },
   {
    "duration": 18,
    "start_time": "2022-04-06T15:51:47.621Z"
   },
   {
    "duration": 63,
    "start_time": "2022-04-06T15:51:47.641Z"
   },
   {
    "duration": 10,
    "start_time": "2022-04-06T15:51:47.706Z"
   },
   {
    "duration": 76,
    "start_time": "2022-04-06T15:51:47.719Z"
   },
   {
    "duration": 27,
    "start_time": "2022-04-06T15:51:47.798Z"
   },
   {
    "duration": 41,
    "start_time": "2022-04-06T15:51:47.828Z"
   },
   {
    "duration": 545,
    "start_time": "2022-04-06T15:52:44.434Z"
   },
   {
    "duration": 105,
    "start_time": "2022-04-06T15:52:44.982Z"
   },
   {
    "duration": 21,
    "start_time": "2022-04-06T15:52:45.093Z"
   },
   {
    "duration": 17,
    "start_time": "2022-04-06T15:52:45.116Z"
   },
   {
    "duration": 32,
    "start_time": "2022-04-06T15:52:45.168Z"
   },
   {
    "duration": 11,
    "start_time": "2022-04-06T15:52:45.203Z"
   },
   {
    "duration": 13,
    "start_time": "2022-04-06T15:52:45.217Z"
   },
   {
    "duration": 16,
    "start_time": "2022-04-06T15:52:45.269Z"
   },
   {
    "duration": 14,
    "start_time": "2022-04-06T15:52:45.290Z"
   },
   {
    "duration": 21,
    "start_time": "2022-04-06T15:52:45.306Z"
   },
   {
    "duration": 46,
    "start_time": "2022-04-06T15:52:45.330Z"
   },
   {
    "duration": 542,
    "start_time": "2022-04-06T15:52:45.379Z"
   },
   {
    "duration": 7,
    "start_time": "2022-04-06T15:52:45.924Z"
   },
   {
    "duration": 479,
    "start_time": "2022-04-06T15:52:45.933Z"
   },
   {
    "duration": 2343,
    "start_time": "2022-04-06T15:52:46.414Z"
   },
   {
    "duration": 469,
    "start_time": "2022-04-06T15:52:48.759Z"
   },
   {
    "duration": 15,
    "start_time": "2022-04-06T15:52:49.230Z"
   },
   {
    "duration": 26,
    "start_time": "2022-04-06T15:52:49.247Z"
   },
   {
    "duration": 18,
    "start_time": "2022-04-06T15:52:49.276Z"
   },
   {
    "duration": 29,
    "start_time": "2022-04-06T15:52:49.297Z"
   },
   {
    "duration": 41,
    "start_time": "2022-04-06T15:52:49.329Z"
   },
   {
    "duration": 21,
    "start_time": "2022-04-06T15:52:49.373Z"
   },
   {
    "duration": 20,
    "start_time": "2022-04-06T15:52:49.396Z"
   },
   {
    "duration": 52,
    "start_time": "2022-04-06T15:52:49.418Z"
   },
   {
    "duration": 35,
    "start_time": "2022-04-06T15:53:35.947Z"
   },
   {
    "duration": 27,
    "start_time": "2022-04-06T15:53:44.930Z"
   },
   {
    "duration": 31,
    "start_time": "2022-04-06T15:54:04.897Z"
   },
   {
    "duration": 24,
    "start_time": "2022-04-06T15:54:28.052Z"
   },
   {
    "duration": 20,
    "start_time": "2022-04-06T15:54:30.350Z"
   },
   {
    "duration": 581,
    "start_time": "2022-04-06T15:54:54.199Z"
   },
   {
    "duration": 134,
    "start_time": "2022-04-06T15:54:54.784Z"
   },
   {
    "duration": 29,
    "start_time": "2022-04-06T15:54:54.921Z"
   },
   {
    "duration": 17,
    "start_time": "2022-04-06T15:54:54.969Z"
   },
   {
    "duration": 40,
    "start_time": "2022-04-06T15:54:54.989Z"
   },
   {
    "duration": 11,
    "start_time": "2022-04-06T15:54:55.031Z"
   },
   {
    "duration": 12,
    "start_time": "2022-04-06T15:54:55.069Z"
   },
   {
    "duration": 14,
    "start_time": "2022-04-06T15:54:55.083Z"
   },
   {
    "duration": 14,
    "start_time": "2022-04-06T15:54:55.099Z"
   },
   {
    "duration": 58,
    "start_time": "2022-04-06T15:54:55.117Z"
   },
   {
    "duration": 9,
    "start_time": "2022-04-06T15:54:55.178Z"
   },
   {
    "duration": 556,
    "start_time": "2022-04-06T15:54:55.190Z"
   },
   {
    "duration": 7,
    "start_time": "2022-04-06T15:54:55.749Z"
   },
   {
    "duration": 704,
    "start_time": "2022-04-06T15:54:55.768Z"
   },
   {
    "duration": 2836,
    "start_time": "2022-04-06T15:54:56.475Z"
   },
   {
    "duration": 479,
    "start_time": "2022-04-06T15:54:59.313Z"
   },
   {
    "duration": 14,
    "start_time": "2022-04-06T15:54:59.794Z"
   },
   {
    "duration": 13,
    "start_time": "2022-04-06T15:54:59.811Z"
   },
   {
    "duration": 59,
    "start_time": "2022-04-06T15:54:59.827Z"
   },
   {
    "duration": 42,
    "start_time": "2022-04-06T15:54:59.889Z"
   },
   {
    "duration": 10,
    "start_time": "2022-04-06T15:54:59.934Z"
   },
   {
    "duration": 6,
    "start_time": "2022-04-06T15:54:59.968Z"
   },
   {
    "duration": 28,
    "start_time": "2022-04-06T15:54:59.976Z"
   },
   {
    "duration": 30,
    "start_time": "2022-04-06T15:55:00.006Z"
   },
   {
    "duration": 9,
    "start_time": "2022-04-06T15:57:42.317Z"
   },
   {
    "duration": 10,
    "start_time": "2022-04-06T15:57:51.349Z"
   },
   {
    "duration": 10,
    "start_time": "2022-04-06T15:58:00.133Z"
   },
   {
    "duration": 19,
    "start_time": "2022-04-06T15:58:09.410Z"
   },
   {
    "duration": 34,
    "start_time": "2022-04-06T15:58:13.228Z"
   },
   {
    "duration": 13,
    "start_time": "2022-04-06T15:58:44.813Z"
   },
   {
    "duration": 14,
    "start_time": "2022-04-06T15:59:07.730Z"
   },
   {
    "duration": 21,
    "start_time": "2022-04-06T15:59:12.461Z"
   },
   {
    "duration": 7,
    "start_time": "2022-04-06T15:59:23.496Z"
   },
   {
    "duration": 6,
    "start_time": "2022-04-06T15:59:24.576Z"
   },
   {
    "duration": 7,
    "start_time": "2022-04-06T15:59:35.100Z"
   },
   {
    "duration": 504,
    "start_time": "2022-04-06T16:00:06.057Z"
   },
   {
    "duration": 142,
    "start_time": "2022-04-06T16:00:06.564Z"
   },
   {
    "duration": 29,
    "start_time": "2022-04-06T16:00:06.708Z"
   },
   {
    "duration": 38,
    "start_time": "2022-04-06T16:00:06.741Z"
   },
   {
    "duration": 40,
    "start_time": "2022-04-06T16:00:06.782Z"
   },
   {
    "duration": 10,
    "start_time": "2022-04-06T16:00:06.825Z"
   },
   {
    "duration": 14,
    "start_time": "2022-04-06T16:00:06.868Z"
   },
   {
    "duration": 12,
    "start_time": "2022-04-06T16:00:06.885Z"
   },
   {
    "duration": 10,
    "start_time": "2022-04-06T16:00:06.899Z"
   },
   {
    "duration": 57,
    "start_time": "2022-04-06T16:00:06.913Z"
   },
   {
    "duration": 10,
    "start_time": "2022-04-06T16:00:06.972Z"
   },
   {
    "duration": 391,
    "start_time": "2022-04-06T16:00:06.984Z"
   },
   {
    "duration": 6,
    "start_time": "2022-04-06T16:00:07.377Z"
   },
   {
    "duration": 470,
    "start_time": "2022-04-06T16:00:07.385Z"
   },
   {
    "duration": 2346,
    "start_time": "2022-04-06T16:00:07.858Z"
   },
   {
    "duration": 461,
    "start_time": "2022-04-06T16:00:10.206Z"
   },
   {
    "duration": 15,
    "start_time": "2022-04-06T16:00:10.669Z"
   },
   {
    "duration": 13,
    "start_time": "2022-04-06T16:00:10.686Z"
   },
   {
    "duration": 15,
    "start_time": "2022-04-06T16:00:10.701Z"
   },
   {
    "duration": 9,
    "start_time": "2022-04-06T16:00:10.718Z"
   },
   {
    "duration": 106,
    "start_time": "2022-04-06T16:00:10.768Z"
   },
   {
    "duration": 0,
    "start_time": "2022-04-06T16:00:10.876Z"
   },
   {
    "duration": 0,
    "start_time": "2022-04-06T16:00:10.877Z"
   },
   {
    "duration": 0,
    "start_time": "2022-04-06T16:00:10.879Z"
   },
   {
    "duration": 0,
    "start_time": "2022-04-06T16:00:10.880Z"
   },
   {
    "duration": 0,
    "start_time": "2022-04-06T16:00:10.881Z"
   },
   {
    "duration": 0,
    "start_time": "2022-04-06T16:00:10.883Z"
   },
   {
    "duration": 19,
    "start_time": "2022-04-06T16:00:42.351Z"
   },
   {
    "duration": 10,
    "start_time": "2022-04-06T16:00:47.070Z"
   },
   {
    "duration": 19,
    "start_time": "2022-04-06T16:00:48.645Z"
   },
   {
    "duration": 7,
    "start_time": "2022-04-06T16:01:02.036Z"
   },
   {
    "duration": 22,
    "start_time": "2022-04-06T16:01:05.741Z"
   },
   {
    "duration": 510,
    "start_time": "2022-04-06T16:02:43.544Z"
   },
   {
    "duration": 98,
    "start_time": "2022-04-06T16:02:44.056Z"
   },
   {
    "duration": 23,
    "start_time": "2022-04-06T16:02:44.167Z"
   },
   {
    "duration": 16,
    "start_time": "2022-04-06T16:02:44.194Z"
   },
   {
    "duration": 69,
    "start_time": "2022-04-06T16:02:44.213Z"
   },
   {
    "duration": 11,
    "start_time": "2022-04-06T16:02:44.285Z"
   },
   {
    "duration": 12,
    "start_time": "2022-04-06T16:02:44.299Z"
   },
   {
    "duration": 58,
    "start_time": "2022-04-06T16:02:44.314Z"
   },
   {
    "duration": 12,
    "start_time": "2022-04-06T16:02:44.376Z"
   },
   {
    "duration": 17,
    "start_time": "2022-04-06T16:02:44.394Z"
   },
   {
    "duration": 10,
    "start_time": "2022-04-06T16:02:44.414Z"
   },
   {
    "duration": 407,
    "start_time": "2022-04-06T16:02:44.426Z"
   },
   {
    "duration": 6,
    "start_time": "2022-04-06T16:02:44.836Z"
   },
   {
    "duration": 474,
    "start_time": "2022-04-06T16:02:44.844Z"
   },
   {
    "duration": 2353,
    "start_time": "2022-04-06T16:02:45.320Z"
   },
   {
    "duration": 471,
    "start_time": "2022-04-06T16:02:47.675Z"
   },
   {
    "duration": 23,
    "start_time": "2022-04-06T16:02:48.148Z"
   },
   {
    "duration": 13,
    "start_time": "2022-04-06T16:02:48.173Z"
   },
   {
    "duration": 17,
    "start_time": "2022-04-06T16:02:48.188Z"
   },
   {
    "duration": 10,
    "start_time": "2022-04-06T16:02:48.207Z"
   },
   {
    "duration": 55,
    "start_time": "2022-04-06T16:02:48.220Z"
   },
   {
    "duration": 104,
    "start_time": "2022-04-06T16:02:48.277Z"
   },
   {
    "duration": 0,
    "start_time": "2022-04-06T16:02:48.383Z"
   },
   {
    "duration": 0,
    "start_time": "2022-04-06T16:02:48.385Z"
   },
   {
    "duration": 0,
    "start_time": "2022-04-06T16:02:48.386Z"
   },
   {
    "duration": 0,
    "start_time": "2022-04-06T16:02:48.388Z"
   },
   {
    "duration": 0,
    "start_time": "2022-04-06T16:02:48.389Z"
   },
   {
    "duration": 19,
    "start_time": "2022-04-06T16:02:58.604Z"
   },
   {
    "duration": 22,
    "start_time": "2022-04-06T16:03:08.132Z"
   },
   {
    "duration": 23,
    "start_time": "2022-04-06T16:04:12.245Z"
   },
   {
    "duration": 22,
    "start_time": "2022-04-06T16:04:13.095Z"
   },
   {
    "duration": 7,
    "start_time": "2022-04-06T16:04:17.577Z"
   },
   {
    "duration": 14,
    "start_time": "2022-04-06T16:04:18.646Z"
   },
   {
    "duration": 31,
    "start_time": "2022-04-06T16:04:20.349Z"
   },
   {
    "duration": 515,
    "start_time": "2022-04-06T16:04:31.257Z"
   },
   {
    "duration": 101,
    "start_time": "2022-04-06T16:04:31.774Z"
   },
   {
    "duration": 21,
    "start_time": "2022-04-06T16:04:31.878Z"
   },
   {
    "duration": 15,
    "start_time": "2022-04-06T16:04:31.902Z"
   },
   {
    "duration": 62,
    "start_time": "2022-04-06T16:04:31.919Z"
   },
   {
    "duration": 9,
    "start_time": "2022-04-06T16:04:31.983Z"
   },
   {
    "duration": 11,
    "start_time": "2022-04-06T16:04:31.994Z"
   },
   {
    "duration": 12,
    "start_time": "2022-04-06T16:04:32.007Z"
   },
   {
    "duration": 49,
    "start_time": "2022-04-06T16:04:32.021Z"
   },
   {
    "duration": 24,
    "start_time": "2022-04-06T16:04:32.074Z"
   },
   {
    "duration": 10,
    "start_time": "2022-04-06T16:04:32.100Z"
   },
   {
    "duration": 384,
    "start_time": "2022-04-06T16:04:32.113Z"
   },
   {
    "duration": 7,
    "start_time": "2022-04-06T16:04:32.500Z"
   },
   {
    "duration": 461,
    "start_time": "2022-04-06T16:04:32.510Z"
   },
   {
    "duration": 2442,
    "start_time": "2022-04-06T16:04:32.973Z"
   },
   {
    "duration": 493,
    "start_time": "2022-04-06T16:04:35.417Z"
   },
   {
    "duration": 15,
    "start_time": "2022-04-06T16:04:35.913Z"
   },
   {
    "duration": 15,
    "start_time": "2022-04-06T16:04:35.931Z"
   },
   {
    "duration": 21,
    "start_time": "2022-04-06T16:04:35.970Z"
   },
   {
    "duration": 10,
    "start_time": "2022-04-06T16:04:35.994Z"
   },
   {
    "duration": 26,
    "start_time": "2022-04-06T16:04:36.007Z"
   },
   {
    "duration": 143,
    "start_time": "2022-04-06T16:04:36.035Z"
   },
   {
    "duration": 0,
    "start_time": "2022-04-06T16:04:36.181Z"
   },
   {
    "duration": 0,
    "start_time": "2022-04-06T16:04:36.183Z"
   },
   {
    "duration": 0,
    "start_time": "2022-04-06T16:04:36.185Z"
   },
   {
    "duration": 0,
    "start_time": "2022-04-06T16:04:36.196Z"
   },
   {
    "duration": 24,
    "start_time": "2022-04-06T16:04:46.397Z"
   },
   {
    "duration": 13,
    "start_time": "2022-04-06T16:04:55.145Z"
   },
   {
    "duration": 23,
    "start_time": "2022-04-06T16:05:02.663Z"
   },
   {
    "duration": 8,
    "start_time": "2022-04-06T16:06:06.804Z"
   },
   {
    "duration": 89,
    "start_time": "2022-04-06T16:13:14.102Z"
   },
   {
    "duration": 37,
    "start_time": "2022-04-06T16:13:20.799Z"
   },
   {
    "duration": 18,
    "start_time": "2022-04-06T16:13:42.409Z"
   },
   {
    "duration": 19,
    "start_time": "2022-04-06T16:13:46.989Z"
   },
   {
    "duration": 464,
    "start_time": "2022-04-06T16:13:57.998Z"
   },
   {
    "duration": 130,
    "start_time": "2022-04-06T16:13:58.467Z"
   },
   {
    "duration": 22,
    "start_time": "2022-04-06T16:13:58.600Z"
   },
   {
    "duration": 14,
    "start_time": "2022-04-06T16:13:58.625Z"
   },
   {
    "duration": 56,
    "start_time": "2022-04-06T16:13:58.641Z"
   },
   {
    "duration": 11,
    "start_time": "2022-04-06T16:13:58.700Z"
   },
   {
    "duration": 11,
    "start_time": "2022-04-06T16:13:58.713Z"
   },
   {
    "duration": 50,
    "start_time": "2022-04-06T16:13:58.726Z"
   },
   {
    "duration": 12,
    "start_time": "2022-04-06T16:13:58.779Z"
   },
   {
    "duration": 16,
    "start_time": "2022-04-06T16:13:58.795Z"
   },
   {
    "duration": 10,
    "start_time": "2022-04-06T16:13:58.813Z"
   },
   {
    "duration": 409,
    "start_time": "2022-04-06T16:13:58.825Z"
   },
   {
    "duration": 6,
    "start_time": "2022-04-06T16:13:59.236Z"
   },
   {
    "duration": 460,
    "start_time": "2022-04-06T16:13:59.244Z"
   },
   {
    "duration": 2314,
    "start_time": "2022-04-06T16:13:59.706Z"
   },
   {
    "duration": 458,
    "start_time": "2022-04-06T16:14:02.023Z"
   },
   {
    "duration": 16,
    "start_time": "2022-04-06T16:14:02.483Z"
   },
   {
    "duration": 18,
    "start_time": "2022-04-06T16:14:02.501Z"
   },
   {
    "duration": 25,
    "start_time": "2022-04-06T16:14:02.521Z"
   },
   {
    "duration": 23,
    "start_time": "2022-04-06T16:14:02.548Z"
   },
   {
    "duration": 16,
    "start_time": "2022-04-06T16:14:02.574Z"
   },
   {
    "duration": 115,
    "start_time": "2022-04-06T16:14:02.592Z"
   },
   {
    "duration": 0,
    "start_time": "2022-04-06T16:14:02.709Z"
   },
   {
    "duration": 0,
    "start_time": "2022-04-06T16:14:02.710Z"
   },
   {
    "duration": 0,
    "start_time": "2022-04-06T16:14:02.712Z"
   },
   {
    "duration": 0,
    "start_time": "2022-04-06T16:14:02.714Z"
   },
   {
    "duration": 22,
    "start_time": "2022-04-06T16:14:08.442Z"
   },
   {
    "duration": 20,
    "start_time": "2022-04-06T16:14:21.873Z"
   },
   {
    "duration": 21,
    "start_time": "2022-04-06T16:14:24.857Z"
   },
   {
    "duration": 97,
    "start_time": "2022-04-06T16:15:23.444Z"
   },
   {
    "duration": 20,
    "start_time": "2022-04-06T16:15:29.443Z"
   },
   {
    "duration": 21,
    "start_time": "2022-04-06T16:15:32.293Z"
   },
   {
    "duration": 30,
    "start_time": "2022-04-06T16:15:36.294Z"
   },
   {
    "duration": 22,
    "start_time": "2022-04-06T16:15:37.726Z"
   },
   {
    "duration": 45,
    "start_time": "2022-04-06T16:15:41.081Z"
   },
   {
    "duration": 23,
    "start_time": "2022-04-06T16:15:41.970Z"
   },
   {
    "duration": 61,
    "start_time": "2022-04-06T16:15:48.456Z"
   },
   {
    "duration": 21,
    "start_time": "2022-04-06T16:15:49.519Z"
   },
   {
    "duration": 520,
    "start_time": "2022-04-06T16:16:16.528Z"
   },
   {
    "duration": 103,
    "start_time": "2022-04-06T16:16:17.051Z"
   },
   {
    "duration": 29,
    "start_time": "2022-04-06T16:16:17.156Z"
   },
   {
    "duration": 14,
    "start_time": "2022-04-06T16:16:17.188Z"
   },
   {
    "duration": 30,
    "start_time": "2022-04-06T16:16:17.206Z"
   },
   {
    "duration": 9,
    "start_time": "2022-04-06T16:16:17.267Z"
   },
   {
    "duration": 11,
    "start_time": "2022-04-06T16:16:17.278Z"
   },
   {
    "duration": 13,
    "start_time": "2022-04-06T16:16:17.291Z"
   },
   {
    "duration": 10,
    "start_time": "2022-04-06T16:16:17.307Z"
   },
   {
    "duration": 57,
    "start_time": "2022-04-06T16:16:17.319Z"
   },
   {
    "duration": 10,
    "start_time": "2022-04-06T16:16:17.378Z"
   },
   {
    "duration": 399,
    "start_time": "2022-04-06T16:16:17.390Z"
   },
   {
    "duration": 6,
    "start_time": "2022-04-06T16:16:17.791Z"
   },
   {
    "duration": 488,
    "start_time": "2022-04-06T16:16:17.801Z"
   },
   {
    "duration": 2330,
    "start_time": "2022-04-06T16:16:18.291Z"
   },
   {
    "duration": 478,
    "start_time": "2022-04-06T16:16:20.624Z"
   },
   {
    "duration": 15,
    "start_time": "2022-04-06T16:16:21.104Z"
   },
   {
    "duration": 15,
    "start_time": "2022-04-06T16:16:21.121Z"
   },
   {
    "duration": 37,
    "start_time": "2022-04-06T16:16:21.138Z"
   },
   {
    "duration": 9,
    "start_time": "2022-04-06T16:16:21.177Z"
   },
   {
    "duration": 89,
    "start_time": "2022-04-06T16:16:21.188Z"
   },
   {
    "duration": 21,
    "start_time": "2022-04-06T16:16:21.279Z"
   },
   {
    "duration": 20,
    "start_time": "2022-04-06T16:16:21.302Z"
   },
   {
    "duration": 46,
    "start_time": "2022-04-06T16:52:52.353Z"
   },
   {
    "duration": 362,
    "start_time": "2022-04-06T16:53:07.197Z"
   },
   {
    "duration": 71,
    "start_time": "2022-04-06T16:53:07.562Z"
   },
   {
    "duration": 24,
    "start_time": "2022-04-06T16:53:07.634Z"
   },
   {
    "duration": 12,
    "start_time": "2022-04-06T16:53:07.660Z"
   },
   {
    "duration": 21,
    "start_time": "2022-04-06T16:53:07.674Z"
   },
   {
    "duration": 6,
    "start_time": "2022-04-06T16:53:07.697Z"
   },
   {
    "duration": 12,
    "start_time": "2022-04-06T16:53:07.738Z"
   },
   {
    "duration": 18,
    "start_time": "2022-04-06T16:53:07.752Z"
   },
   {
    "duration": 8,
    "start_time": "2022-04-06T16:53:07.771Z"
   },
   {
    "duration": 11,
    "start_time": "2022-04-06T16:53:07.782Z"
   },
   {
    "duration": 6,
    "start_time": "2022-04-06T16:53:07.795Z"
   },
   {
    "duration": 252,
    "start_time": "2022-04-06T16:53:07.803Z"
   },
   {
    "duration": 4,
    "start_time": "2022-04-06T16:53:08.057Z"
   },
   {
    "duration": 247,
    "start_time": "2022-04-06T16:53:08.062Z"
   },
   {
    "duration": 1289,
    "start_time": "2022-04-06T16:53:08.311Z"
   },
   {
    "duration": 256,
    "start_time": "2022-04-06T16:53:09.602Z"
   },
   {
    "duration": 10,
    "start_time": "2022-04-06T16:53:09.860Z"
   },
   {
    "duration": 14,
    "start_time": "2022-04-06T16:53:09.871Z"
   },
   {
    "duration": 13,
    "start_time": "2022-04-06T16:53:09.887Z"
   },
   {
    "duration": 5,
    "start_time": "2022-04-06T16:53:09.902Z"
   },
   {
    "duration": 72,
    "start_time": "2022-04-06T16:53:09.909Z"
   },
   {
    "duration": 14,
    "start_time": "2022-04-06T16:53:09.983Z"
   },
   {
    "duration": 3,
    "start_time": "2022-04-06T16:53:09.999Z"
   },
   {
    "duration": 63,
    "start_time": "2022-04-06T16:54:21.628Z"
   },
   {
    "duration": 16,
    "start_time": "2022-04-06T16:54:32.312Z"
   },
   {
    "duration": 15,
    "start_time": "2022-04-06T16:54:47.544Z"
   },
   {
    "duration": 15,
    "start_time": "2022-04-06T16:55:16.695Z"
   },
   {
    "duration": 15,
    "start_time": "2022-04-06T16:55:32.277Z"
   },
   {
    "duration": 12,
    "start_time": "2022-04-06T16:59:27.898Z"
   },
   {
    "duration": 7,
    "start_time": "2022-04-06T17:00:54.247Z"
   },
   {
    "duration": 3372,
    "start_time": "2022-04-06T17:01:40.883Z"
   },
   {
    "duration": 47,
    "start_time": "2022-04-06T17:02:20.327Z"
   },
   {
    "duration": 14,
    "start_time": "2022-04-06T17:02:22.333Z"
   },
   {
    "duration": 13,
    "start_time": "2022-04-06T17:02:43.876Z"
   },
   {
    "duration": 15,
    "start_time": "2022-04-06T17:02:51.163Z"
   },
   {
    "duration": 8,
    "start_time": "2022-04-06T17:03:28.476Z"
   },
   {
    "duration": 8,
    "start_time": "2022-04-06T17:03:34.061Z"
   },
   {
    "duration": 22,
    "start_time": "2022-04-06T17:03:57.629Z"
   },
   {
    "duration": 18,
    "start_time": "2022-04-06T17:04:03.610Z"
   },
   {
    "duration": 21,
    "start_time": "2022-04-06T17:05:35.910Z"
   },
   {
    "duration": 387,
    "start_time": "2022-04-07T05:22:36.348Z"
   },
   {
    "duration": 75,
    "start_time": "2022-04-07T05:22:36.737Z"
   },
   {
    "duration": 13,
    "start_time": "2022-04-07T05:22:36.814Z"
   },
   {
    "duration": 14,
    "start_time": "2022-04-07T05:22:36.829Z"
   },
   {
    "duration": 19,
    "start_time": "2022-04-07T05:22:36.845Z"
   },
   {
    "duration": 9,
    "start_time": "2022-04-07T05:22:36.865Z"
   },
   {
    "duration": 7,
    "start_time": "2022-04-07T05:22:36.876Z"
   },
   {
    "duration": 10,
    "start_time": "2022-04-07T05:22:36.884Z"
   },
   {
    "duration": 7,
    "start_time": "2022-04-07T05:22:36.895Z"
   },
   {
    "duration": 12,
    "start_time": "2022-04-07T05:22:36.937Z"
   },
   {
    "duration": 7,
    "start_time": "2022-04-07T05:22:36.950Z"
   },
   {
    "duration": 211,
    "start_time": "2022-04-07T05:22:36.958Z"
   },
   {
    "duration": 4,
    "start_time": "2022-04-07T05:22:37.171Z"
   },
   {
    "duration": 232,
    "start_time": "2022-04-07T05:22:37.176Z"
   },
   {
    "duration": 1170,
    "start_time": "2022-04-07T05:22:37.410Z"
   },
   {
    "duration": 227,
    "start_time": "2022-04-07T05:22:38.581Z"
   },
   {
    "duration": 10,
    "start_time": "2022-04-07T05:22:38.810Z"
   },
   {
    "duration": 20,
    "start_time": "2022-04-07T05:22:38.822Z"
   },
   {
    "duration": 15,
    "start_time": "2022-04-07T05:22:38.844Z"
   },
   {
    "duration": 7,
    "start_time": "2022-04-07T05:22:38.861Z"
   },
   {
    "duration": 48,
    "start_time": "2022-04-07T05:22:38.870Z"
   },
   {
    "duration": 53,
    "start_time": "2022-04-07T05:22:38.920Z"
   },
   {
    "duration": 13,
    "start_time": "2022-04-07T05:22:38.975Z"
   },
   {
    "duration": 15,
    "start_time": "2022-04-07T05:22:38.990Z"
   },
   {
    "duration": 39,
    "start_time": "2022-04-07T05:22:39.007Z"
   },
   {
    "duration": 19,
    "start_time": "2022-04-07T05:22:39.048Z"
   },
   {
    "duration": 36,
    "start_time": "2022-04-07T05:22:45.858Z"
   },
   {
    "duration": 11,
    "start_time": "2022-04-07T05:24:04.723Z"
   },
   {
    "duration": 63,
    "start_time": "2022-04-07T05:24:54.735Z"
   },
   {
    "duration": 9,
    "start_time": "2022-04-07T05:24:58.195Z"
   },
   {
    "duration": 10,
    "start_time": "2022-04-07T05:25:11.871Z"
   },
   {
    "duration": 4,
    "start_time": "2022-04-07T05:25:16.504Z"
   },
   {
    "duration": 7,
    "start_time": "2022-04-07T05:26:06.436Z"
   },
   {
    "duration": 3,
    "start_time": "2022-04-07T05:30:20.029Z"
   },
   {
    "duration": 4,
    "start_time": "2022-04-07T05:30:25.665Z"
   },
   {
    "duration": 1693,
    "start_time": "2022-04-07T05:31:01.584Z"
   },
   {
    "duration": 11,
    "start_time": "2022-04-07T05:31:07.002Z"
   },
   {
    "duration": 13,
    "start_time": "2022-04-07T05:31:24.828Z"
   },
   {
    "duration": 11,
    "start_time": "2022-04-07T05:31:37.802Z"
   },
   {
    "duration": 11,
    "start_time": "2022-04-07T05:32:36.618Z"
   },
   {
    "duration": 4,
    "start_time": "2022-04-07T05:33:23.828Z"
   },
   {
    "duration": 5,
    "start_time": "2022-04-07T05:41:54.734Z"
   },
   {
    "duration": 11,
    "start_time": "2022-04-07T05:42:04.433Z"
   },
   {
    "duration": 7,
    "start_time": "2022-04-07T05:42:16.969Z"
   },
   {
    "duration": 4,
    "start_time": "2022-04-07T05:42:20.205Z"
   },
   {
    "duration": 5,
    "start_time": "2022-04-07T05:43:16.169Z"
   },
   {
    "duration": 12,
    "start_time": "2022-04-07T05:43:21.757Z"
   },
   {
    "duration": 17,
    "start_time": "2022-04-07T05:56:33.491Z"
   },
   {
    "duration": 9,
    "start_time": "2022-04-07T05:56:59.036Z"
   },
   {
    "duration": 5,
    "start_time": "2022-04-07T06:01:42.259Z"
   },
   {
    "duration": 9,
    "start_time": "2022-04-07T06:01:53.091Z"
   },
   {
    "duration": 8,
    "start_time": "2022-04-07T06:02:06.911Z"
   },
   {
    "duration": 6,
    "start_time": "2022-04-07T06:02:23.837Z"
   },
   {
    "duration": 10,
    "start_time": "2022-04-07T06:02:29.806Z"
   },
   {
    "duration": 7,
    "start_time": "2022-04-07T06:02:36.137Z"
   },
   {
    "duration": 11,
    "start_time": "2022-04-07T06:02:49.536Z"
   },
   {
    "duration": 9,
    "start_time": "2022-04-07T06:02:59.028Z"
   },
   {
    "duration": 12,
    "start_time": "2022-04-07T06:03:04.780Z"
   },
   {
    "duration": 10,
    "start_time": "2022-04-07T06:11:10.164Z"
   },
   {
    "duration": 9,
    "start_time": "2022-04-07T06:14:56.272Z"
   },
   {
    "duration": 13,
    "start_time": "2022-04-07T06:15:10.877Z"
   },
   {
    "duration": 11,
    "start_time": "2022-04-07T06:22:18.945Z"
   },
   {
    "duration": 8,
    "start_time": "2022-04-07T06:23:11.503Z"
   },
   {
    "duration": 17,
    "start_time": "2022-04-07T06:23:16.370Z"
   },
   {
    "duration": 13,
    "start_time": "2022-04-07T06:23:29.677Z"
   },
   {
    "duration": 13,
    "start_time": "2022-04-07T06:23:34.133Z"
   },
   {
    "duration": 13,
    "start_time": "2022-04-07T06:23:37.876Z"
   },
   {
    "duration": 13,
    "start_time": "2022-04-07T06:24:00.932Z"
   },
   {
    "duration": 25,
    "start_time": "2022-04-07T06:24:19.013Z"
   },
   {
    "duration": 13,
    "start_time": "2022-04-07T06:24:56.269Z"
   },
   {
    "duration": 162,
    "start_time": "2022-04-07T06:25:17.430Z"
   },
   {
    "duration": 13,
    "start_time": "2022-04-07T06:25:22.516Z"
   },
   {
    "duration": 12,
    "start_time": "2022-04-07T06:25:46.674Z"
   },
   {
    "duration": 14,
    "start_time": "2022-04-07T06:26:07.509Z"
   },
   {
    "duration": 14,
    "start_time": "2022-04-07T06:26:20.432Z"
   },
   {
    "duration": 7,
    "start_time": "2022-04-07T06:26:57.605Z"
   },
   {
    "duration": 15,
    "start_time": "2022-04-07T06:27:39.988Z"
   },
   {
    "duration": 23,
    "start_time": "2022-04-07T06:27:45.056Z"
   },
   {
    "duration": 10,
    "start_time": "2022-04-07T06:28:04.328Z"
   },
   {
    "duration": 19,
    "start_time": "2022-04-07T06:28:11.912Z"
   },
   {
    "duration": 8,
    "start_time": "2022-04-07T06:28:58.982Z"
   },
   {
    "duration": 8,
    "start_time": "2022-04-07T06:29:03.448Z"
   },
   {
    "duration": 105,
    "start_time": "2022-04-07T06:30:05.520Z"
   },
   {
    "duration": 7,
    "start_time": "2022-04-07T06:30:22.732Z"
   },
   {
    "duration": 12,
    "start_time": "2022-04-07T06:30:41.292Z"
   },
   {
    "duration": 1727,
    "start_time": "2022-04-07T06:31:42.698Z"
   },
   {
    "duration": 8,
    "start_time": "2022-04-07T06:31:53.609Z"
   },
   {
    "duration": 13,
    "start_time": "2022-04-07T06:31:59.628Z"
   },
   {
    "duration": 101,
    "start_time": "2022-04-07T06:32:25.692Z"
   },
   {
    "duration": 111,
    "start_time": "2022-04-07T06:32:38.788Z"
   },
   {
    "duration": 15,
    "start_time": "2022-04-07T06:32:45.121Z"
   },
   {
    "duration": 6,
    "start_time": "2022-04-07T06:39:05.116Z"
   },
   {
    "duration": 11,
    "start_time": "2022-04-07T06:39:10.465Z"
   },
   {
    "duration": 12,
    "start_time": "2022-04-07T06:39:33.180Z"
   },
   {
    "duration": 13,
    "start_time": "2022-04-07T06:39:53.401Z"
   },
   {
    "duration": 3,
    "start_time": "2022-04-07T06:41:25.593Z"
   },
   {
    "duration": 23,
    "start_time": "2022-04-07T06:41:31.256Z"
   },
   {
    "duration": 17,
    "start_time": "2022-04-07T06:41:47.717Z"
   },
   {
    "duration": 13,
    "start_time": "2022-04-07T06:42:29.862Z"
   },
   {
    "duration": 102,
    "start_time": "2022-04-07T06:42:39.752Z"
   },
   {
    "duration": 16,
    "start_time": "2022-04-07T06:42:56.281Z"
   },
   {
    "duration": 14,
    "start_time": "2022-04-07T06:43:01.907Z"
   },
   {
    "duration": 13,
    "start_time": "2022-04-07T06:43:05.101Z"
   },
   {
    "duration": 16,
    "start_time": "2022-04-07T06:43:09.112Z"
   },
   {
    "duration": 17,
    "start_time": "2022-04-07T06:43:19.500Z"
   },
   {
    "duration": 15,
    "start_time": "2022-04-07T06:43:53.440Z"
   },
   {
    "duration": 21,
    "start_time": "2022-04-07T06:44:08.369Z"
   },
   {
    "duration": 22,
    "start_time": "2022-04-07T06:44:20.744Z"
   },
   {
    "duration": 7,
    "start_time": "2022-04-07T06:45:18.460Z"
   },
   {
    "duration": 15,
    "start_time": "2022-04-07T06:45:38.757Z"
   },
   {
    "duration": 22,
    "start_time": "2022-04-07T06:45:45.557Z"
   },
   {
    "duration": 22,
    "start_time": "2022-04-07T06:47:20.318Z"
   },
   {
    "duration": 22,
    "start_time": "2022-04-07T06:47:45.632Z"
   },
   {
    "duration": 22,
    "start_time": "2022-04-07T06:47:54.106Z"
   },
   {
    "duration": 19,
    "start_time": "2022-04-07T06:48:02.541Z"
   },
   {
    "duration": 21,
    "start_time": "2022-04-07T06:48:11.152Z"
   },
   {
    "duration": 18,
    "start_time": "2022-04-07T06:48:16.164Z"
   },
   {
    "duration": 20,
    "start_time": "2022-04-07T06:48:27.380Z"
   },
   {
    "duration": 21,
    "start_time": "2022-04-07T06:48:45.256Z"
   },
   {
    "duration": 20,
    "start_time": "2022-04-07T06:48:51.552Z"
   },
   {
    "duration": 22,
    "start_time": "2022-04-07T06:49:07.331Z"
   },
   {
    "duration": 21,
    "start_time": "2022-04-07T06:49:18.696Z"
   },
   {
    "duration": 18,
    "start_time": "2022-04-07T06:49:57.825Z"
   },
   {
    "duration": 22,
    "start_time": "2022-04-07T06:50:02.832Z"
   },
   {
    "duration": 21,
    "start_time": "2022-04-07T06:51:14.351Z"
   },
   {
    "duration": 22,
    "start_time": "2022-04-07T06:52:16.859Z"
   },
   {
    "duration": 104,
    "start_time": "2022-04-07T06:52:37.909Z"
   },
   {
    "duration": 24,
    "start_time": "2022-04-07T06:52:43.160Z"
   },
   {
    "duration": 22,
    "start_time": "2022-04-07T06:52:54.480Z"
   },
   {
    "duration": 23,
    "start_time": "2022-04-07T06:53:01.488Z"
   },
   {
    "duration": 21,
    "start_time": "2022-04-07T06:53:09.316Z"
   },
   {
    "duration": 19,
    "start_time": "2022-04-07T06:53:35.997Z"
   },
   {
    "duration": 21,
    "start_time": "2022-04-07T06:54:38.931Z"
   },
   {
    "duration": 18,
    "start_time": "2022-04-07T06:54:55.399Z"
   },
   {
    "duration": 4,
    "start_time": "2022-04-07T06:55:18.712Z"
   },
   {
    "duration": 1757,
    "start_time": "2022-04-07T06:55:34.691Z"
   },
   {
    "duration": 1782,
    "start_time": "2022-04-07T06:55:51.436Z"
   },
   {
    "duration": 20,
    "start_time": "2022-04-07T06:56:17.964Z"
   },
   {
    "duration": 8,
    "start_time": "2022-04-07T06:57:51.040Z"
   },
   {
    "duration": 12,
    "start_time": "2022-04-07T06:58:03.696Z"
   },
   {
    "duration": 20,
    "start_time": "2022-04-07T06:58:19.308Z"
   },
   {
    "duration": 113,
    "start_time": "2022-04-07T06:58:52.375Z"
   },
   {
    "duration": 15,
    "start_time": "2022-04-07T06:58:56.477Z"
   },
   {
    "duration": 56,
    "start_time": "2022-04-07T06:59:04.429Z"
   },
   {
    "duration": 23,
    "start_time": "2022-04-07T06:59:28.976Z"
   },
   {
    "duration": 26,
    "start_time": "2022-04-07T07:00:06.616Z"
   },
   {
    "duration": 32,
    "start_time": "2022-04-07T07:02:30.227Z"
   },
   {
    "duration": 26,
    "start_time": "2022-04-07T07:02:52.439Z"
   },
   {
    "duration": 27,
    "start_time": "2022-04-07T07:03:10.037Z"
   },
   {
    "duration": 23,
    "start_time": "2022-04-07T07:03:18.039Z"
   },
   {
    "duration": 25,
    "start_time": "2022-04-07T07:03:33.527Z"
   },
   {
    "duration": 8,
    "start_time": "2022-04-07T07:13:47.317Z"
   },
   {
    "duration": 22,
    "start_time": "2022-04-07T07:13:53.640Z"
   },
   {
    "duration": 11,
    "start_time": "2022-04-07T07:14:26.239Z"
   },
   {
    "duration": 26,
    "start_time": "2022-04-07T07:24:11.250Z"
   },
   {
    "duration": 411,
    "start_time": "2022-04-07T07:49:44.222Z"
   },
   {
    "duration": 72,
    "start_time": "2022-04-07T07:49:44.637Z"
   },
   {
    "duration": 14,
    "start_time": "2022-04-07T07:49:44.711Z"
   },
   {
    "duration": 18,
    "start_time": "2022-04-07T07:49:44.727Z"
   },
   {
    "duration": 20,
    "start_time": "2022-04-07T07:49:44.746Z"
   },
   {
    "duration": 6,
    "start_time": "2022-04-07T07:49:44.768Z"
   },
   {
    "duration": 11,
    "start_time": "2022-04-07T07:49:44.775Z"
   },
   {
    "duration": 8,
    "start_time": "2022-04-07T07:49:44.788Z"
   },
   {
    "duration": 41,
    "start_time": "2022-04-07T07:49:44.798Z"
   },
   {
    "duration": 12,
    "start_time": "2022-04-07T07:49:44.841Z"
   },
   {
    "duration": 10,
    "start_time": "2022-04-07T07:49:44.855Z"
   },
   {
    "duration": 227,
    "start_time": "2022-04-07T07:49:44.867Z"
   },
   {
    "duration": 4,
    "start_time": "2022-04-07T07:49:45.096Z"
   },
   {
    "duration": 239,
    "start_time": "2022-04-07T07:49:45.102Z"
   },
   {
    "duration": 1206,
    "start_time": "2022-04-07T07:49:45.343Z"
   },
   {
    "duration": 233,
    "start_time": "2022-04-07T07:49:46.551Z"
   },
   {
    "duration": 10,
    "start_time": "2022-04-07T07:49:46.786Z"
   },
   {
    "duration": 11,
    "start_time": "2022-04-07T07:49:46.798Z"
   },
   {
    "duration": 27,
    "start_time": "2022-04-07T07:49:46.810Z"
   },
   {
    "duration": 6,
    "start_time": "2022-04-07T07:49:46.839Z"
   },
   {
    "duration": 47,
    "start_time": "2022-04-07T07:49:46.847Z"
   },
   {
    "duration": 58,
    "start_time": "2022-04-07T07:49:46.896Z"
   },
   {
    "duration": 13,
    "start_time": "2022-04-07T07:49:46.956Z"
   },
   {
    "duration": 16,
    "start_time": "2022-04-07T07:49:46.971Z"
   },
   {
    "duration": 18,
    "start_time": "2022-04-07T07:49:46.989Z"
   },
   {
    "duration": 61,
    "start_time": "2022-04-07T07:49:47.008Z"
   },
   {
    "duration": 11,
    "start_time": "2022-04-07T07:49:47.071Z"
   },
   {
    "duration": 18,
    "start_time": "2022-04-07T07:49:47.085Z"
   },
   {
    "duration": 10,
    "start_time": "2022-04-07T07:49:47.105Z"
   },
   {
    "duration": 22,
    "start_time": "2022-04-07T07:49:47.117Z"
   },
   {
    "duration": 15,
    "start_time": "2022-04-07T07:49:47.141Z"
   },
   {
    "duration": 12,
    "start_time": "2022-04-07T07:49:47.158Z"
   },
   {
    "duration": 13,
    "start_time": "2022-04-07T07:49:47.172Z"
   },
   {
    "duration": 15,
    "start_time": "2022-04-07T07:49:47.187Z"
   },
   {
    "duration": 37,
    "start_time": "2022-04-07T07:49:47.203Z"
   },
   {
    "duration": 27,
    "start_time": "2022-04-07T07:49:47.241Z"
   },
   {
    "duration": 10,
    "start_time": "2022-04-07T07:49:47.269Z"
   },
   {
    "duration": 25,
    "start_time": "2022-04-07T07:49:47.281Z"
   },
   {
    "duration": 50,
    "start_time": "2022-04-07T07:49:47.307Z"
   },
   {
    "duration": 25,
    "start_time": "2022-04-07T07:50:52.216Z"
   },
   {
    "duration": 353,
    "start_time": "2022-04-07T08:31:55.978Z"
   },
   {
    "duration": 74,
    "start_time": "2022-04-07T08:31:56.333Z"
   },
   {
    "duration": 14,
    "start_time": "2022-04-07T08:31:56.409Z"
   },
   {
    "duration": 19,
    "start_time": "2022-04-07T08:31:56.425Z"
   },
   {
    "duration": 19,
    "start_time": "2022-04-07T08:31:56.446Z"
   },
   {
    "duration": 5,
    "start_time": "2022-04-07T08:31:56.467Z"
   },
   {
    "duration": 7,
    "start_time": "2022-04-07T08:31:56.474Z"
   },
   {
    "duration": 8,
    "start_time": "2022-04-07T08:31:56.483Z"
   },
   {
    "duration": 9,
    "start_time": "2022-04-07T08:31:56.492Z"
   },
   {
    "duration": 11,
    "start_time": "2022-04-07T08:31:56.537Z"
   },
   {
    "duration": 6,
    "start_time": "2022-04-07T08:31:56.550Z"
   },
   {
    "duration": 213,
    "start_time": "2022-04-07T08:31:56.557Z"
   },
   {
    "duration": 4,
    "start_time": "2022-04-07T08:31:56.772Z"
   },
   {
    "duration": 235,
    "start_time": "2022-04-07T08:31:56.778Z"
   },
   {
    "duration": 1220,
    "start_time": "2022-04-07T08:31:57.014Z"
   },
   {
    "duration": 243,
    "start_time": "2022-04-07T08:31:58.235Z"
   },
   {
    "duration": 11,
    "start_time": "2022-04-07T08:31:58.479Z"
   },
   {
    "duration": 12,
    "start_time": "2022-04-07T08:31:58.492Z"
   },
   {
    "duration": 15,
    "start_time": "2022-04-07T08:31:58.506Z"
   },
   {
    "duration": 6,
    "start_time": "2022-04-07T08:31:58.537Z"
   },
   {
    "duration": 46,
    "start_time": "2022-04-07T08:31:58.545Z"
   },
   {
    "duration": 68,
    "start_time": "2022-04-07T08:31:58.592Z"
   },
   {
    "duration": 13,
    "start_time": "2022-04-07T08:31:58.662Z"
   },
   {
    "duration": 14,
    "start_time": "2022-04-07T08:31:58.676Z"
   },
   {
    "duration": 18,
    "start_time": "2022-04-07T08:31:58.692Z"
   },
   {
    "duration": 56,
    "start_time": "2022-04-07T08:31:58.711Z"
   },
   {
    "duration": 11,
    "start_time": "2022-04-07T08:31:58.769Z"
   },
   {
    "duration": 13,
    "start_time": "2022-04-07T08:31:58.784Z"
   },
   {
    "duration": 9,
    "start_time": "2022-04-07T08:31:58.799Z"
   },
   {
    "duration": 28,
    "start_time": "2022-04-07T08:31:58.810Z"
   },
   {
    "duration": 11,
    "start_time": "2022-04-07T08:31:58.840Z"
   },
   {
    "duration": 10,
    "start_time": "2022-04-07T08:31:58.853Z"
   },
   {
    "duration": 12,
    "start_time": "2022-04-07T08:31:58.865Z"
   },
   {
    "duration": 15,
    "start_time": "2022-04-07T08:31:58.879Z"
   },
   {
    "duration": 19,
    "start_time": "2022-04-07T08:31:58.895Z"
   },
   {
    "duration": 44,
    "start_time": "2022-04-07T08:31:58.916Z"
   },
   {
    "duration": 10,
    "start_time": "2022-04-07T08:31:58.962Z"
   },
   {
    "duration": 24,
    "start_time": "2022-04-07T08:31:58.974Z"
   },
   {
    "duration": 50,
    "start_time": "2022-04-07T08:31:59.000Z"
   },
   {
    "duration": 419,
    "start_time": "2022-04-07T09:41:58.633Z"
   },
   {
    "duration": 86,
    "start_time": "2022-04-07T09:41:59.054Z"
   },
   {
    "duration": 16,
    "start_time": "2022-04-07T09:41:59.142Z"
   },
   {
    "duration": 10,
    "start_time": "2022-04-07T09:41:59.160Z"
   },
   {
    "duration": 21,
    "start_time": "2022-04-07T09:41:59.172Z"
   },
   {
    "duration": 7,
    "start_time": "2022-04-07T09:41:59.194Z"
   },
   {
    "duration": 35,
    "start_time": "2022-04-07T09:41:59.202Z"
   },
   {
    "duration": 9,
    "start_time": "2022-04-07T09:41:59.239Z"
   },
   {
    "duration": 8,
    "start_time": "2022-04-07T09:41:59.250Z"
   },
   {
    "duration": 12,
    "start_time": "2022-04-07T09:41:59.261Z"
   },
   {
    "duration": 8,
    "start_time": "2022-04-07T09:41:59.275Z"
   },
   {
    "duration": 262,
    "start_time": "2022-04-07T09:41:59.285Z"
   },
   {
    "duration": 6,
    "start_time": "2022-04-07T09:41:59.549Z"
   },
   {
    "duration": 275,
    "start_time": "2022-04-07T09:41:59.557Z"
   },
   {
    "duration": 1386,
    "start_time": "2022-04-07T09:41:59.835Z"
   },
   {
    "duration": 291,
    "start_time": "2022-04-07T09:42:01.223Z"
   },
   {
    "duration": 16,
    "start_time": "2022-04-07T09:42:01.517Z"
   },
   {
    "duration": 31,
    "start_time": "2022-04-07T09:42:01.535Z"
   },
   {
    "duration": 21,
    "start_time": "2022-04-07T09:42:01.568Z"
   },
   {
    "duration": 31,
    "start_time": "2022-04-07T09:42:01.591Z"
   },
   {
    "duration": 75,
    "start_time": "2022-04-07T09:42:01.624Z"
   },
   {
    "duration": 54,
    "start_time": "2022-04-07T09:42:01.701Z"
   },
   {
    "duration": 16,
    "start_time": "2022-04-07T09:42:01.757Z"
   },
   {
    "duration": 31,
    "start_time": "2022-04-07T09:42:01.775Z"
   },
   {
    "duration": 40,
    "start_time": "2022-04-07T09:42:01.808Z"
   },
   {
    "duration": 39,
    "start_time": "2022-04-07T09:42:01.850Z"
   },
   {
    "duration": 12,
    "start_time": "2022-04-07T09:42:01.891Z"
   },
   {
    "duration": 34,
    "start_time": "2022-04-07T09:42:01.907Z"
   },
   {
    "duration": 21,
    "start_time": "2022-04-07T09:42:01.943Z"
   },
   {
    "duration": 27,
    "start_time": "2022-04-07T09:42:01.966Z"
   },
   {
    "duration": 38,
    "start_time": "2022-04-07T09:42:01.995Z"
   },
   {
    "duration": 24,
    "start_time": "2022-04-07T09:42:02.035Z"
   },
   {
    "duration": 29,
    "start_time": "2022-04-07T09:42:02.061Z"
   },
   {
    "duration": 19,
    "start_time": "2022-04-07T09:42:02.092Z"
   },
   {
    "duration": 25,
    "start_time": "2022-04-07T09:42:02.113Z"
   },
   {
    "duration": 32,
    "start_time": "2022-04-07T09:42:02.140Z"
   },
   {
    "duration": 12,
    "start_time": "2022-04-07T09:42:02.174Z"
   },
   {
    "duration": 46,
    "start_time": "2022-04-07T09:42:02.187Z"
   },
   {
    "duration": 28,
    "start_time": "2022-04-07T09:42:02.234Z"
   },
   {
    "duration": 22,
    "start_time": "2022-04-07T10:21:24.086Z"
   },
   {
    "duration": 392,
    "start_time": "2022-04-07T10:44:09.078Z"
   },
   {
    "duration": 94,
    "start_time": "2022-04-07T10:44:09.472Z"
   },
   {
    "duration": 16,
    "start_time": "2022-04-07T10:44:09.567Z"
   },
   {
    "duration": 13,
    "start_time": "2022-04-07T10:44:09.585Z"
   },
   {
    "duration": 37,
    "start_time": "2022-04-07T10:44:09.600Z"
   },
   {
    "duration": 6,
    "start_time": "2022-04-07T10:44:09.639Z"
   },
   {
    "duration": 27,
    "start_time": "2022-04-07T10:44:09.646Z"
   },
   {
    "duration": 17,
    "start_time": "2022-04-07T10:44:09.675Z"
   },
   {
    "duration": 7,
    "start_time": "2022-04-07T10:44:09.694Z"
   },
   {
    "duration": 12,
    "start_time": "2022-04-07T10:44:09.703Z"
   },
   {
    "duration": 20,
    "start_time": "2022-04-07T10:44:09.717Z"
   },
   {
    "duration": 234,
    "start_time": "2022-04-07T10:44:09.739Z"
   },
   {
    "duration": 4,
    "start_time": "2022-04-07T10:44:09.975Z"
   },
   {
    "duration": 275,
    "start_time": "2022-04-07T10:44:09.982Z"
   },
   {
    "duration": 1355,
    "start_time": "2022-04-07T10:44:10.258Z"
   },
   {
    "duration": 278,
    "start_time": "2022-04-07T10:44:11.614Z"
   },
   {
    "duration": 12,
    "start_time": "2022-04-07T10:44:11.894Z"
   },
   {
    "duration": 25,
    "start_time": "2022-04-07T10:44:11.908Z"
   },
   {
    "duration": 21,
    "start_time": "2022-04-07T10:44:11.935Z"
   },
   {
    "duration": 30,
    "start_time": "2022-04-07T10:44:11.958Z"
   },
   {
    "duration": 60,
    "start_time": "2022-04-07T10:44:11.990Z"
   },
   {
    "duration": 55,
    "start_time": "2022-04-07T10:44:12.052Z"
   },
   {
    "duration": 27,
    "start_time": "2022-04-07T10:44:12.109Z"
   },
   {
    "duration": 19,
    "start_time": "2022-04-07T10:44:12.139Z"
   },
   {
    "duration": 23,
    "start_time": "2022-04-07T10:44:12.160Z"
   },
   {
    "duration": 70,
    "start_time": "2022-04-07T10:44:12.185Z"
   },
   {
    "duration": 12,
    "start_time": "2022-04-07T10:44:12.257Z"
   },
   {
    "duration": 33,
    "start_time": "2022-04-07T10:44:12.271Z"
   },
   {
    "duration": 32,
    "start_time": "2022-04-07T10:44:12.306Z"
   },
   {
    "duration": 32,
    "start_time": "2022-04-07T10:44:12.340Z"
   },
   {
    "duration": 20,
    "start_time": "2022-04-07T10:44:12.373Z"
   },
   {
    "duration": 29,
    "start_time": "2022-04-07T10:44:12.395Z"
   },
   {
    "duration": 16,
    "start_time": "2022-04-07T10:44:12.425Z"
   },
   {
    "duration": 18,
    "start_time": "2022-04-07T10:44:12.442Z"
   },
   {
    "duration": 17,
    "start_time": "2022-04-07T10:44:12.462Z"
   },
   {
    "duration": 29,
    "start_time": "2022-04-07T10:44:12.481Z"
   },
   {
    "duration": 12,
    "start_time": "2022-04-07T10:44:12.531Z"
   },
   {
    "duration": 30,
    "start_time": "2022-04-07T10:44:12.545Z"
   },
   {
    "duration": 26,
    "start_time": "2022-04-07T10:44:12.577Z"
   },
   {
    "duration": 76,
    "start_time": "2022-04-08T11:23:15.909Z"
   },
   {
    "duration": 462,
    "start_time": "2022-04-08T11:23:36.465Z"
   },
   {
    "duration": 84,
    "start_time": "2022-04-08T11:23:37.747Z"
   },
   {
    "duration": 16,
    "start_time": "2022-04-08T11:23:39.219Z"
   },
   {
    "duration": 15,
    "start_time": "2022-04-08T11:23:42.759Z"
   },
   {
    "duration": 21,
    "start_time": "2022-04-08T11:23:45.167Z"
   },
   {
    "duration": 7,
    "start_time": "2022-04-08T11:23:50.096Z"
   },
   {
    "duration": 7,
    "start_time": "2022-04-08T11:23:55.751Z"
   },
   {
    "duration": 2347,
    "start_time": "2022-04-08T11:23:57.876Z"
   },
   {
    "duration": 5,
    "start_time": "2022-04-08T11:24:17.555Z"
   },
   {
    "duration": 14,
    "start_time": "2022-04-08T11:35:44.585Z"
   },
   {
    "duration": 13,
    "start_time": "2022-04-08T11:35:54.880Z"
   },
   {
    "duration": 7,
    "start_time": "2022-04-08T11:35:59.647Z"
   },
   {
    "duration": 12,
    "start_time": "2022-04-08T11:36:03.337Z"
   },
   {
    "duration": 12,
    "start_time": "2022-04-08T11:36:12.418Z"
   },
   {
    "duration": 14,
    "start_time": "2022-04-08T11:36:22.380Z"
   },
   {
    "duration": 11,
    "start_time": "2022-04-08T11:36:28.832Z"
   },
   {
    "duration": 13,
    "start_time": "2022-04-08T11:36:32.827Z"
   },
   {
    "duration": 11,
    "start_time": "2022-04-08T11:36:47.783Z"
   },
   {
    "duration": 13,
    "start_time": "2022-04-08T11:37:12.984Z"
   },
   {
    "duration": 17,
    "start_time": "2022-04-08T11:37:32.083Z"
   },
   {
    "duration": 8,
    "start_time": "2022-04-08T11:41:42.403Z"
   },
   {
    "duration": 11,
    "start_time": "2022-04-08T11:41:44.071Z"
   },
   {
    "duration": 7,
    "start_time": "2022-04-08T11:41:45.851Z"
   },
   {
    "duration": 259,
    "start_time": "2022-04-08T11:41:46.592Z"
   },
   {
    "duration": 5,
    "start_time": "2022-04-08T11:41:47.452Z"
   },
   {
    "duration": 2188,
    "start_time": "2022-04-08T11:41:48.691Z"
   },
   {
    "duration": 0,
    "start_time": "2022-04-08T11:41:50.880Z"
   },
   {
    "duration": 0,
    "start_time": "2022-04-08T11:41:50.881Z"
   },
   {
    "duration": 11,
    "start_time": "2022-04-08T11:41:50.984Z"
   },
   {
    "duration": 9,
    "start_time": "2022-04-08T11:41:51.176Z"
   },
   {
    "duration": 11,
    "start_time": "2022-04-08T11:41:52.036Z"
   },
   {
    "duration": 7,
    "start_time": "2022-04-08T11:41:52.231Z"
   },
   {
    "duration": 44,
    "start_time": "2022-04-08T11:41:52.471Z"
   },
   {
    "duration": 47,
    "start_time": "2022-04-08T11:41:53.584Z"
   },
   {
    "duration": 15,
    "start_time": "2022-04-08T11:41:54.492Z"
   },
   {
    "duration": 17,
    "start_time": "2022-04-08T11:41:56.496Z"
   },
   {
    "duration": 18,
    "start_time": "2022-04-08T11:41:57.475Z"
   },
   {
    "duration": 34,
    "start_time": "2022-04-08T11:41:57.592Z"
   },
   {
    "duration": 12,
    "start_time": "2022-04-08T11:42:01.404Z"
   },
   {
    "duration": 19,
    "start_time": "2022-04-08T11:42:02.048Z"
   },
   {
    "duration": 13,
    "start_time": "2022-04-08T11:42:02.717Z"
   },
   {
    "duration": 253,
    "start_time": "2022-04-08T11:42:04.204Z"
   },
   {
    "duration": 130,
    "start_time": "2022-04-08T11:42:12.024Z"
   },
   {
    "duration": 156,
    "start_time": "2022-04-08T11:42:21.223Z"
   },
   {
    "duration": 13,
    "start_time": "2022-04-08T11:43:32.205Z"
   },
   {
    "duration": 8,
    "start_time": "2022-04-08T11:43:47.435Z"
   },
   {
    "duration": 15,
    "start_time": "2022-04-08T11:43:54.063Z"
   },
   {
    "duration": 5,
    "start_time": "2022-04-08T11:44:07.384Z"
   },
   {
    "duration": 145,
    "start_time": "2022-04-08T11:44:21.550Z"
   },
   {
    "duration": 11,
    "start_time": "2022-04-08T11:44:25.675Z"
   },
   {
    "duration": 399,
    "start_time": "2022-04-08T11:44:34.674Z"
   },
   {
    "duration": 74,
    "start_time": "2022-04-08T11:44:35.074Z"
   },
   {
    "duration": 15,
    "start_time": "2022-04-08T11:44:35.149Z"
   },
   {
    "duration": 20,
    "start_time": "2022-04-08T11:44:35.166Z"
   },
   {
    "duration": 19,
    "start_time": "2022-04-08T11:44:35.187Z"
   },
   {
    "duration": 9,
    "start_time": "2022-04-08T11:44:35.208Z"
   },
   {
    "duration": 7,
    "start_time": "2022-04-08T11:44:35.218Z"
   },
   {
    "duration": 5,
    "start_time": "2022-04-08T11:44:35.227Z"
   },
   {
    "duration": 33,
    "start_time": "2022-04-08T11:44:35.233Z"
   },
   {
    "duration": 8,
    "start_time": "2022-04-08T11:44:35.269Z"
   },
   {
    "duration": 17,
    "start_time": "2022-04-08T11:44:35.278Z"
   },
   {
    "duration": 7,
    "start_time": "2022-04-08T11:44:35.297Z"
   },
   {
    "duration": 237,
    "start_time": "2022-04-08T11:44:35.306Z"
   },
   {
    "duration": 5,
    "start_time": "2022-04-08T11:44:35.544Z"
   },
   {
    "duration": 265,
    "start_time": "2022-04-08T11:44:35.551Z"
   },
   {
    "duration": 1284,
    "start_time": "2022-04-08T11:44:35.819Z"
   },
   {
    "duration": 266,
    "start_time": "2022-04-08T11:44:37.105Z"
   },
   {
    "duration": 11,
    "start_time": "2022-04-08T11:44:37.373Z"
   },
   {
    "duration": 18,
    "start_time": "2022-04-08T11:44:37.386Z"
   },
   {
    "duration": 24,
    "start_time": "2022-04-08T11:44:37.406Z"
   },
   {
    "duration": 17,
    "start_time": "2022-04-08T11:44:37.432Z"
   },
   {
    "duration": 55,
    "start_time": "2022-04-08T11:44:37.451Z"
   },
   {
    "duration": 44,
    "start_time": "2022-04-08T11:44:37.508Z"
   },
   {
    "duration": 18,
    "start_time": "2022-04-08T11:44:37.554Z"
   },
   {
    "duration": 22,
    "start_time": "2022-04-08T11:44:37.573Z"
   },
   {
    "duration": 26,
    "start_time": "2022-04-08T11:44:37.596Z"
   },
   {
    "duration": 53,
    "start_time": "2022-04-08T11:44:37.624Z"
   },
   {
    "duration": 11,
    "start_time": "2022-04-08T11:44:37.680Z"
   },
   {
    "duration": 25,
    "start_time": "2022-04-08T11:44:37.692Z"
   },
   {
    "duration": 14,
    "start_time": "2022-04-08T11:44:37.719Z"
   },
   {
    "duration": 11,
    "start_time": "2022-04-08T11:44:37.734Z"
   },
   {
    "duration": 56,
    "start_time": "2022-04-08T11:44:37.747Z"
   },
   {
    "duration": 13,
    "start_time": "2022-04-08T11:44:37.805Z"
   },
   {
    "duration": 11,
    "start_time": "2022-04-08T11:44:37.819Z"
   },
   {
    "duration": 15,
    "start_time": "2022-04-08T11:44:37.831Z"
   },
   {
    "duration": 19,
    "start_time": "2022-04-08T11:44:37.848Z"
   },
   {
    "duration": 26,
    "start_time": "2022-04-08T11:44:37.869Z"
   },
   {
    "duration": 10,
    "start_time": "2022-04-08T11:44:37.896Z"
   },
   {
    "duration": 24,
    "start_time": "2022-04-08T11:44:37.907Z"
   },
   {
    "duration": 41,
    "start_time": "2022-04-08T11:44:37.932Z"
   },
   {
    "duration": 45,
    "start_time": "2022-04-08T11:47:20.895Z"
   },
   {
    "duration": 13,
    "start_time": "2022-04-08T11:47:22.772Z"
   },
   {
    "duration": 14,
    "start_time": "2022-04-08T11:48:52.503Z"
   },
   {
    "duration": 481,
    "start_time": "2022-04-08T12:07:08.817Z"
   },
   {
    "duration": 74,
    "start_time": "2022-04-08T12:07:09.300Z"
   },
   {
    "duration": 16,
    "start_time": "2022-04-08T12:07:09.376Z"
   },
   {
    "duration": 10,
    "start_time": "2022-04-08T12:07:09.395Z"
   },
   {
    "duration": 22,
    "start_time": "2022-04-08T12:07:09.406Z"
   },
   {
    "duration": 8,
    "start_time": "2022-04-08T12:07:09.457Z"
   },
   {
    "duration": 8,
    "start_time": "2022-04-08T12:07:09.467Z"
   },
   {
    "duration": 5,
    "start_time": "2022-04-08T12:07:09.477Z"
   },
   {
    "duration": 10,
    "start_time": "2022-04-08T12:07:09.484Z"
   },
   {
    "duration": 9,
    "start_time": "2022-04-08T12:07:09.496Z"
   },
   {
    "duration": 52,
    "start_time": "2022-04-08T12:07:09.506Z"
   },
   {
    "duration": 8,
    "start_time": "2022-04-08T12:07:09.560Z"
   },
   {
    "duration": 217,
    "start_time": "2022-04-08T12:07:09.570Z"
   },
   {
    "duration": 4,
    "start_time": "2022-04-08T12:07:09.789Z"
   },
   {
    "duration": 250,
    "start_time": "2022-04-08T12:07:09.795Z"
   },
   {
    "duration": 1340,
    "start_time": "2022-04-08T12:07:10.047Z"
   },
   {
    "duration": 243,
    "start_time": "2022-04-08T12:07:11.388Z"
   },
   {
    "duration": 11,
    "start_time": "2022-04-08T12:07:11.633Z"
   },
   {
    "duration": 11,
    "start_time": "2022-04-08T12:07:11.657Z"
   },
   {
    "duration": 30,
    "start_time": "2022-04-08T12:07:11.670Z"
   },
   {
    "duration": 10,
    "start_time": "2022-04-08T12:07:11.701Z"
   },
   {
    "duration": 78,
    "start_time": "2022-04-08T12:07:11.713Z"
   },
   {
    "duration": 0,
    "start_time": "2022-04-08T12:07:11.794Z"
   },
   {
    "duration": 0,
    "start_time": "2022-04-08T12:07:11.795Z"
   },
   {
    "duration": 0,
    "start_time": "2022-04-08T12:07:11.796Z"
   },
   {
    "duration": 0,
    "start_time": "2022-04-08T12:07:11.797Z"
   },
   {
    "duration": 0,
    "start_time": "2022-04-08T12:07:11.798Z"
   },
   {
    "duration": 0,
    "start_time": "2022-04-08T12:07:11.799Z"
   },
   {
    "duration": 0,
    "start_time": "2022-04-08T12:07:11.800Z"
   },
   {
    "duration": 0,
    "start_time": "2022-04-08T12:07:11.801Z"
   },
   {
    "duration": 0,
    "start_time": "2022-04-08T12:07:11.802Z"
   },
   {
    "duration": 0,
    "start_time": "2022-04-08T12:07:11.802Z"
   },
   {
    "duration": 0,
    "start_time": "2022-04-08T12:07:11.803Z"
   },
   {
    "duration": 0,
    "start_time": "2022-04-08T12:07:11.804Z"
   },
   {
    "duration": 0,
    "start_time": "2022-04-08T12:07:11.805Z"
   },
   {
    "duration": 0,
    "start_time": "2022-04-08T12:07:11.806Z"
   },
   {
    "duration": 0,
    "start_time": "2022-04-08T12:07:11.807Z"
   },
   {
    "duration": 0,
    "start_time": "2022-04-08T12:07:11.808Z"
   },
   {
    "duration": 0,
    "start_time": "2022-04-08T12:07:11.809Z"
   },
   {
    "duration": 0,
    "start_time": "2022-04-08T12:07:11.810Z"
   },
   {
    "duration": 0,
    "start_time": "2022-04-08T12:07:11.811Z"
   },
   {
    "duration": 7,
    "start_time": "2022-04-08T12:07:34.553Z"
   },
   {
    "duration": 8,
    "start_time": "2022-04-08T12:07:40.590Z"
   },
   {
    "duration": 10,
    "start_time": "2022-04-08T12:07:47.154Z"
   },
   {
    "duration": 10,
    "start_time": "2022-04-08T12:07:55.058Z"
   },
   {
    "duration": 8,
    "start_time": "2022-04-08T12:08:17.309Z"
   },
   {
    "duration": 4,
    "start_time": "2022-04-08T12:45:11.998Z"
   },
   {
    "duration": 32,
    "start_time": "2022-04-08T12:45:13.008Z"
   },
   {
    "duration": 4,
    "start_time": "2022-04-08T12:45:20.622Z"
   },
   {
    "duration": 174,
    "start_time": "2022-04-08T12:45:23.502Z"
   },
   {
    "duration": 15,
    "start_time": "2022-04-08T12:45:27.546Z"
   },
   {
    "duration": 3,
    "start_time": "2022-04-08T12:45:43.418Z"
   },
   {
    "duration": 20,
    "start_time": "2022-04-08T12:45:44.814Z"
   },
   {
    "duration": 3,
    "start_time": "2022-04-08T12:46:10.670Z"
   },
   {
    "duration": 20,
    "start_time": "2022-04-08T12:46:12.189Z"
   },
   {
    "duration": 3,
    "start_time": "2022-04-08T12:46:28.366Z"
   },
   {
    "duration": 326,
    "start_time": "2022-04-08T12:46:29.221Z"
   },
   {
    "duration": 24,
    "start_time": "2022-04-08T12:46:30.543Z"
   },
   {
    "duration": 4,
    "start_time": "2022-04-08T12:47:15.351Z"
   },
   {
    "duration": 20,
    "start_time": "2022-04-08T12:47:15.499Z"
   },
   {
    "duration": 15,
    "start_time": "2022-04-08T12:47:36.074Z"
   },
   {
    "duration": 3,
    "start_time": "2022-04-08T12:48:03.150Z"
   },
   {
    "duration": 21,
    "start_time": "2022-04-08T12:48:04.094Z"
   },
   {
    "duration": 3,
    "start_time": "2022-04-08T12:48:25.906Z"
   },
   {
    "duration": 46,
    "start_time": "2022-04-08T12:48:28.396Z"
   },
   {
    "duration": 6,
    "start_time": "2022-04-08T12:48:43.147Z"
   },
   {
    "duration": 15,
    "start_time": "2022-04-08T12:48:53.187Z"
   },
   {
    "duration": 12,
    "start_time": "2022-04-08T12:49:34.802Z"
   },
   {
    "duration": 8,
    "start_time": "2022-04-08T12:49:40.683Z"
   },
   {
    "duration": 7,
    "start_time": "2022-04-08T12:49:46.215Z"
   },
   {
    "duration": 34,
    "start_time": "2022-04-08T12:50:06.103Z"
   },
   {
    "duration": 525,
    "start_time": "2022-04-08T13:12:40.676Z"
   },
   {
    "duration": 104,
    "start_time": "2022-04-08T13:12:41.204Z"
   },
   {
    "duration": 21,
    "start_time": "2022-04-08T13:12:41.310Z"
   },
   {
    "duration": 24,
    "start_time": "2022-04-08T13:12:41.335Z"
   },
   {
    "duration": 30,
    "start_time": "2022-04-08T13:12:41.361Z"
   },
   {
    "duration": 8,
    "start_time": "2022-04-08T13:12:41.393Z"
   },
   {
    "duration": 10,
    "start_time": "2022-04-08T13:12:41.403Z"
   },
   {
    "duration": 5,
    "start_time": "2022-04-08T13:12:41.415Z"
   },
   {
    "duration": 46,
    "start_time": "2022-04-08T13:12:41.422Z"
   },
   {
    "duration": 12,
    "start_time": "2022-04-08T13:12:41.471Z"
   },
   {
    "duration": 11,
    "start_time": "2022-04-08T13:12:41.484Z"
   },
   {
    "duration": 7,
    "start_time": "2022-04-08T13:12:41.496Z"
   },
   {
    "duration": 243,
    "start_time": "2022-04-08T13:12:41.505Z"
   },
   {
    "duration": 5,
    "start_time": "2022-04-08T13:12:41.749Z"
   },
   {
    "duration": 268,
    "start_time": "2022-04-08T13:12:41.758Z"
   },
   {
    "duration": 1262,
    "start_time": "2022-04-08T13:12:42.028Z"
   },
   {
    "duration": 261,
    "start_time": "2022-04-08T13:12:43.292Z"
   },
   {
    "duration": 10,
    "start_time": "2022-04-08T13:12:43.558Z"
   },
   {
    "duration": 25,
    "start_time": "2022-04-08T13:12:43.570Z"
   },
   {
    "duration": 22,
    "start_time": "2022-04-08T13:12:43.597Z"
   },
   {
    "duration": 23,
    "start_time": "2022-04-08T13:12:43.621Z"
   },
   {
    "duration": 34,
    "start_time": "2022-04-08T13:12:43.646Z"
   },
   {
    "duration": 11,
    "start_time": "2022-04-08T13:12:43.682Z"
   },
   {
    "duration": 199,
    "start_time": "2022-04-08T13:12:43.695Z"
   },
   {
    "duration": 15,
    "start_time": "2022-04-08T13:12:43.896Z"
   },
   {
    "duration": 14,
    "start_time": "2022-04-08T13:12:43.913Z"
   },
   {
    "duration": 68,
    "start_time": "2022-04-08T13:12:43.929Z"
   },
   {
    "duration": 50,
    "start_time": "2022-04-08T13:12:44.002Z"
   },
   {
    "duration": 14,
    "start_time": "2022-04-08T13:12:44.058Z"
   },
   {
    "duration": 16,
    "start_time": "2022-04-08T13:12:44.074Z"
   },
   {
    "duration": 34,
    "start_time": "2022-04-08T13:12:44.092Z"
   },
   {
    "duration": 46,
    "start_time": "2022-04-08T13:12:44.128Z"
   },
   {
    "duration": 11,
    "start_time": "2022-04-08T13:12:44.176Z"
   },
   {
    "duration": 19,
    "start_time": "2022-04-08T13:12:44.189Z"
   },
   {
    "duration": 30,
    "start_time": "2022-04-08T13:12:44.210Z"
   },
   {
    "duration": 17,
    "start_time": "2022-04-08T13:12:44.242Z"
   },
   {
    "duration": 30,
    "start_time": "2022-04-08T13:12:44.260Z"
   },
   {
    "duration": 24,
    "start_time": "2022-04-08T13:12:44.291Z"
   },
   {
    "duration": 21,
    "start_time": "2022-04-08T13:12:44.317Z"
   },
   {
    "duration": 27,
    "start_time": "2022-04-08T13:12:44.340Z"
   },
   {
    "duration": 48,
    "start_time": "2022-04-08T13:12:44.369Z"
   },
   {
    "duration": 43,
    "start_time": "2022-04-08T13:12:44.418Z"
   },
   {
    "duration": 18,
    "start_time": "2022-04-08T13:12:44.463Z"
   },
   {
    "duration": 54,
    "start_time": "2022-04-08T13:12:44.483Z"
   },
   {
    "duration": 48,
    "start_time": "2022-04-08T13:12:44.540Z"
   },
   {
    "duration": 427,
    "start_time": "2022-04-08T13:13:19.782Z"
   },
   {
    "duration": 77,
    "start_time": "2022-04-08T13:13:20.212Z"
   },
   {
    "duration": 21,
    "start_time": "2022-04-08T13:13:20.291Z"
   },
   {
    "duration": 11,
    "start_time": "2022-04-08T13:13:20.314Z"
   },
   {
    "duration": 44,
    "start_time": "2022-04-08T13:13:20.327Z"
   },
   {
    "duration": 127,
    "start_time": "2022-04-08T13:13:20.373Z"
   },
   {
    "duration": 11,
    "start_time": "2022-04-08T13:13:20.502Z"
   },
   {
    "duration": 10,
    "start_time": "2022-04-08T13:13:20.515Z"
   },
   {
    "duration": 13,
    "start_time": "2022-04-08T13:13:20.527Z"
   },
   {
    "duration": 10,
    "start_time": "2022-04-08T13:13:20.543Z"
   },
   {
    "duration": 21,
    "start_time": "2022-04-08T13:13:20.555Z"
   },
   {
    "duration": 11,
    "start_time": "2022-04-08T13:13:20.579Z"
   },
   {
    "duration": 229,
    "start_time": "2022-04-08T13:13:20.593Z"
   },
   {
    "duration": 5,
    "start_time": "2022-04-08T13:13:20.823Z"
   },
   {
    "duration": 256,
    "start_time": "2022-04-08T13:13:20.830Z"
   },
   {
    "duration": 1288,
    "start_time": "2022-04-08T13:13:21.088Z"
   },
   {
    "duration": 262,
    "start_time": "2022-04-08T13:13:22.378Z"
   },
   {
    "duration": 11,
    "start_time": "2022-04-08T13:13:22.642Z"
   },
   {
    "duration": 10,
    "start_time": "2022-04-08T13:13:22.657Z"
   },
   {
    "duration": 20,
    "start_time": "2022-04-08T13:13:22.669Z"
   },
   {
    "duration": 9,
    "start_time": "2022-04-08T13:13:22.691Z"
   },
   {
    "duration": 25,
    "start_time": "2022-04-08T13:13:22.702Z"
   },
   {
    "duration": 30,
    "start_time": "2022-04-08T13:13:22.729Z"
   },
   {
    "duration": 204,
    "start_time": "2022-04-08T13:13:22.760Z"
   },
   {
    "duration": 14,
    "start_time": "2022-04-08T13:13:22.966Z"
   },
   {
    "duration": 80,
    "start_time": "2022-04-08T13:13:22.981Z"
   },
   {
    "duration": 0,
    "start_time": "2022-04-08T13:13:23.063Z"
   },
   {
    "duration": 0,
    "start_time": "2022-04-08T13:13:23.064Z"
   },
   {
    "duration": 0,
    "start_time": "2022-04-08T13:13:23.066Z"
   },
   {
    "duration": 0,
    "start_time": "2022-04-08T13:13:23.067Z"
   },
   {
    "duration": 0,
    "start_time": "2022-04-08T13:13:23.068Z"
   },
   {
    "duration": 0,
    "start_time": "2022-04-08T13:13:23.069Z"
   },
   {
    "duration": 0,
    "start_time": "2022-04-08T13:13:23.070Z"
   },
   {
    "duration": 0,
    "start_time": "2022-04-08T13:13:23.070Z"
   },
   {
    "duration": 0,
    "start_time": "2022-04-08T13:13:23.071Z"
   },
   {
    "duration": 0,
    "start_time": "2022-04-08T13:13:23.073Z"
   },
   {
    "duration": 0,
    "start_time": "2022-04-08T13:13:23.074Z"
   },
   {
    "duration": 0,
    "start_time": "2022-04-08T13:13:23.074Z"
   },
   {
    "duration": 0,
    "start_time": "2022-04-08T13:13:23.075Z"
   },
   {
    "duration": 0,
    "start_time": "2022-04-08T13:13:23.076Z"
   },
   {
    "duration": 0,
    "start_time": "2022-04-08T13:13:23.077Z"
   },
   {
    "duration": 0,
    "start_time": "2022-04-08T13:13:23.078Z"
   },
   {
    "duration": 0,
    "start_time": "2022-04-08T13:13:23.079Z"
   },
   {
    "duration": 0,
    "start_time": "2022-04-08T13:13:23.080Z"
   },
   {
    "duration": 0,
    "start_time": "2022-04-08T13:13:23.081Z"
   },
   {
    "duration": 110,
    "start_time": "2022-04-08T16:32:58.940Z"
   },
   {
    "duration": 93,
    "start_time": "2022-04-08T16:33:12.082Z"
   },
   {
    "duration": 4,
    "start_time": "2022-04-08T16:33:21.735Z"
   },
   {
    "duration": 60,
    "start_time": "2022-04-08T16:33:23.653Z"
   },
   {
    "duration": 464,
    "start_time": "2022-04-08T16:33:28.499Z"
   },
   {
    "duration": 98,
    "start_time": "2022-04-08T16:33:28.966Z"
   },
   {
    "duration": 20,
    "start_time": "2022-04-08T16:33:29.066Z"
   },
   {
    "duration": 13,
    "start_time": "2022-04-08T16:33:29.088Z"
   },
   {
    "duration": 28,
    "start_time": "2022-04-08T16:33:29.104Z"
   },
   {
    "duration": 13,
    "start_time": "2022-04-08T16:33:29.168Z"
   },
   {
    "duration": 12,
    "start_time": "2022-04-08T16:33:29.183Z"
   },
   {
    "duration": 7,
    "start_time": "2022-04-08T16:33:29.198Z"
   },
   {
    "duration": 60,
    "start_time": "2022-04-08T16:33:29.208Z"
   },
   {
    "duration": 11,
    "start_time": "2022-04-08T16:33:29.274Z"
   },
   {
    "duration": 19,
    "start_time": "2022-04-08T16:33:29.288Z"
   },
   {
    "duration": 12,
    "start_time": "2022-04-08T16:33:29.309Z"
   },
   {
    "duration": 404,
    "start_time": "2022-04-08T16:33:29.323Z"
   },
   {
    "duration": 8,
    "start_time": "2022-04-08T16:33:29.730Z"
   },
   {
    "duration": 451,
    "start_time": "2022-04-08T16:33:29.741Z"
   },
   {
    "duration": 2343,
    "start_time": "2022-04-08T16:33:30.195Z"
   },
   {
    "duration": 453,
    "start_time": "2022-04-08T16:33:32.540Z"
   },
   {
    "duration": 17,
    "start_time": "2022-04-08T16:33:32.996Z"
   },
   {
    "duration": 14,
    "start_time": "2022-04-08T16:33:33.015Z"
   },
   {
    "duration": 44,
    "start_time": "2022-04-08T16:33:33.031Z"
   },
   {
    "duration": 10,
    "start_time": "2022-04-08T16:33:33.078Z"
   },
   {
    "duration": 31,
    "start_time": "2022-04-08T16:33:33.091Z"
   },
   {
    "duration": 4,
    "start_time": "2022-04-08T16:33:33.125Z"
   },
   {
    "duration": 118,
    "start_time": "2022-04-08T16:33:33.167Z"
   },
   {
    "duration": 0,
    "start_time": "2022-04-08T16:33:33.289Z"
   },
   {
    "duration": 0,
    "start_time": "2022-04-08T16:33:33.290Z"
   },
   {
    "duration": 0,
    "start_time": "2022-04-08T16:33:33.292Z"
   },
   {
    "duration": 0,
    "start_time": "2022-04-08T16:33:33.294Z"
   },
   {
    "duration": 0,
    "start_time": "2022-04-08T16:33:33.296Z"
   },
   {
    "duration": 0,
    "start_time": "2022-04-08T16:33:33.297Z"
   },
   {
    "duration": 0,
    "start_time": "2022-04-08T16:33:33.299Z"
   },
   {
    "duration": 0,
    "start_time": "2022-04-08T16:33:33.302Z"
   },
   {
    "duration": 0,
    "start_time": "2022-04-08T16:33:33.303Z"
   },
   {
    "duration": 1,
    "start_time": "2022-04-08T16:33:33.304Z"
   },
   {
    "duration": 0,
    "start_time": "2022-04-08T16:33:33.306Z"
   },
   {
    "duration": 0,
    "start_time": "2022-04-08T16:33:33.307Z"
   },
   {
    "duration": 0,
    "start_time": "2022-04-08T16:33:33.309Z"
   },
   {
    "duration": 0,
    "start_time": "2022-04-08T16:33:33.310Z"
   },
   {
    "duration": 0,
    "start_time": "2022-04-08T16:33:33.312Z"
   },
   {
    "duration": 0,
    "start_time": "2022-04-08T16:33:33.313Z"
   },
   {
    "duration": 0,
    "start_time": "2022-04-08T16:33:33.315Z"
   },
   {
    "duration": 0,
    "start_time": "2022-04-08T16:33:33.316Z"
   },
   {
    "duration": 0,
    "start_time": "2022-04-08T16:33:33.317Z"
   },
   {
    "duration": 0,
    "start_time": "2022-04-08T16:33:33.319Z"
   },
   {
    "duration": 0,
    "start_time": "2022-04-08T16:33:33.368Z"
   },
   {
    "duration": 18,
    "start_time": "2022-04-08T16:34:03.146Z"
   },
   {
    "duration": 33,
    "start_time": "2022-04-08T16:34:08.714Z"
   },
   {
    "duration": 9,
    "start_time": "2022-04-08T16:34:25.721Z"
   },
   {
    "duration": 8,
    "start_time": "2022-04-08T16:34:30.835Z"
   },
   {
    "duration": 33,
    "start_time": "2022-04-08T16:34:35.291Z"
   },
   {
    "duration": 21,
    "start_time": "2022-04-08T16:34:45.057Z"
   },
   {
    "duration": 52,
    "start_time": "2022-04-08T16:34:51.268Z"
   },
   {
    "duration": 5,
    "start_time": "2022-04-08T16:36:40.819Z"
   },
   {
    "duration": 328,
    "start_time": "2022-04-08T16:36:42.707Z"
   },
   {
    "duration": 22,
    "start_time": "2022-04-08T16:36:45.100Z"
   },
   {
    "duration": 11,
    "start_time": "2022-04-08T16:37:07.115Z"
   },
   {
    "duration": 13,
    "start_time": "2022-04-08T16:37:11.892Z"
   },
   {
    "duration": 10,
    "start_time": "2022-04-08T16:37:47.600Z"
   },
   {
    "duration": 9,
    "start_time": "2022-04-08T16:37:50.851Z"
   },
   {
    "duration": 12,
    "start_time": "2022-04-08T16:37:59.461Z"
   },
   {
    "duration": 31,
    "start_time": "2022-04-08T16:38:08.105Z"
   },
   {
    "duration": 5,
    "start_time": "2022-04-08T16:46:03.449Z"
   },
   {
    "duration": 9,
    "start_time": "2022-04-08T16:46:13.171Z"
   },
   {
    "duration": 9,
    "start_time": "2022-04-08T16:46:20.219Z"
   },
   {
    "duration": 5,
    "start_time": "2022-04-08T16:46:25.893Z"
   },
   {
    "duration": 5,
    "start_time": "2022-04-08T16:46:34.636Z"
   },
   {
    "duration": 30,
    "start_time": "2022-04-08T16:46:36.279Z"
   },
   {
    "duration": 5,
    "start_time": "2022-04-08T16:46:41.836Z"
   },
   {
    "duration": 310,
    "start_time": "2022-04-08T16:46:43.780Z"
   },
   {
    "duration": 21,
    "start_time": "2022-04-08T16:46:46.301Z"
   },
   {
    "duration": 9,
    "start_time": "2022-04-08T16:46:57.825Z"
   },
   {
    "duration": 4,
    "start_time": "2022-04-08T16:47:08.440Z"
   },
   {
    "duration": 9,
    "start_time": "2022-04-08T16:47:23.656Z"
   },
   {
    "duration": 9,
    "start_time": "2022-04-08T16:48:21.173Z"
   },
   {
    "duration": 9,
    "start_time": "2022-04-08T16:48:58.216Z"
   },
   {
    "duration": 9,
    "start_time": "2022-04-08T16:49:33.454Z"
   },
   {
    "duration": 8,
    "start_time": "2022-04-08T16:50:32.431Z"
   },
   {
    "duration": 4,
    "start_time": "2022-04-08T16:53:58.228Z"
   },
   {
    "duration": 1946,
    "start_time": "2022-04-08T16:53:58.872Z"
   },
   {
    "duration": 23,
    "start_time": "2022-04-08T16:54:02.739Z"
   },
   {
    "duration": 477,
    "start_time": "2022-04-08T17:02:12.502Z"
   },
   {
    "duration": 103,
    "start_time": "2022-04-08T17:02:12.982Z"
   },
   {
    "duration": 22,
    "start_time": "2022-04-08T17:02:13.087Z"
   },
   {
    "duration": 15,
    "start_time": "2022-04-08T17:02:13.112Z"
   },
   {
    "duration": 55,
    "start_time": "2022-04-08T17:02:13.129Z"
   },
   {
    "duration": 10,
    "start_time": "2022-04-08T17:02:13.186Z"
   },
   {
    "duration": 11,
    "start_time": "2022-04-08T17:02:13.198Z"
   },
   {
    "duration": 7,
    "start_time": "2022-04-08T17:02:13.212Z"
   },
   {
    "duration": 54,
    "start_time": "2022-04-08T17:02:13.221Z"
   },
   {
    "duration": 11,
    "start_time": "2022-04-08T17:02:13.280Z"
   },
   {
    "duration": 18,
    "start_time": "2022-04-08T17:02:13.293Z"
   },
   {
    "duration": 10,
    "start_time": "2022-04-08T17:02:13.313Z"
   },
   {
    "duration": 396,
    "start_time": "2022-04-08T17:02:13.325Z"
   },
   {
    "duration": 6,
    "start_time": "2022-04-08T17:02:13.724Z"
   },
   {
    "duration": 525,
    "start_time": "2022-04-08T17:02:13.732Z"
   },
   {
    "duration": 2258,
    "start_time": "2022-04-08T17:02:14.260Z"
   },
   {
    "duration": 467,
    "start_time": "2022-04-08T17:02:16.520Z"
   },
   {
    "duration": 14,
    "start_time": "2022-04-08T17:02:16.989Z"
   },
   {
    "duration": 12,
    "start_time": "2022-04-08T17:02:17.006Z"
   },
   {
    "duration": 17,
    "start_time": "2022-04-08T17:02:17.021Z"
   },
   {
    "duration": 35,
    "start_time": "2022-04-08T17:02:17.041Z"
   },
   {
    "duration": 60,
    "start_time": "2022-04-08T17:02:17.078Z"
   },
   {
    "duration": 29,
    "start_time": "2022-04-08T17:02:17.140Z"
   },
   {
    "duration": 384,
    "start_time": "2022-04-08T17:02:17.171Z"
   },
   {
    "duration": 17,
    "start_time": "2022-04-08T17:02:17.557Z"
   },
   {
    "duration": 96,
    "start_time": "2022-04-08T17:02:17.576Z"
   },
   {
    "duration": 0,
    "start_time": "2022-04-08T17:02:17.675Z"
   },
   {
    "duration": 0,
    "start_time": "2022-04-08T17:02:17.677Z"
   },
   {
    "duration": 0,
    "start_time": "2022-04-08T17:02:17.679Z"
   },
   {
    "duration": 0,
    "start_time": "2022-04-08T17:02:17.680Z"
   },
   {
    "duration": 0,
    "start_time": "2022-04-08T17:02:17.682Z"
   },
   {
    "duration": 0,
    "start_time": "2022-04-08T17:02:17.684Z"
   },
   {
    "duration": 0,
    "start_time": "2022-04-08T17:02:17.686Z"
   },
   {
    "duration": 0,
    "start_time": "2022-04-08T17:02:17.687Z"
   },
   {
    "duration": 1,
    "start_time": "2022-04-08T17:02:17.688Z"
   },
   {
    "duration": 0,
    "start_time": "2022-04-08T17:02:17.690Z"
   },
   {
    "duration": 0,
    "start_time": "2022-04-08T17:02:17.692Z"
   },
   {
    "duration": 0,
    "start_time": "2022-04-08T17:02:17.693Z"
   },
   {
    "duration": 0,
    "start_time": "2022-04-08T17:02:17.694Z"
   },
   {
    "duration": 0,
    "start_time": "2022-04-08T17:02:17.696Z"
   },
   {
    "duration": 0,
    "start_time": "2022-04-08T17:02:17.697Z"
   },
   {
    "duration": 0,
    "start_time": "2022-04-08T17:02:17.699Z"
   },
   {
    "duration": 0,
    "start_time": "2022-04-08T17:02:17.700Z"
   },
   {
    "duration": 0,
    "start_time": "2022-04-08T17:02:17.701Z"
   },
   {
    "duration": 465,
    "start_time": "2022-04-08T17:03:09.394Z"
   },
   {
    "duration": 96,
    "start_time": "2022-04-08T17:03:09.861Z"
   },
   {
    "duration": 23,
    "start_time": "2022-04-08T17:03:09.959Z"
   },
   {
    "duration": 13,
    "start_time": "2022-04-08T17:03:09.985Z"
   },
   {
    "duration": 28,
    "start_time": "2022-04-08T17:03:10.001Z"
   },
   {
    "duration": 37,
    "start_time": "2022-04-08T17:03:10.032Z"
   },
   {
    "duration": 11,
    "start_time": "2022-04-08T17:03:10.071Z"
   },
   {
    "duration": 7,
    "start_time": "2022-04-08T17:03:10.085Z"
   },
   {
    "duration": 12,
    "start_time": "2022-04-08T17:03:10.094Z"
   },
   {
    "duration": 56,
    "start_time": "2022-04-08T17:03:10.111Z"
   },
   {
    "duration": 17,
    "start_time": "2022-04-08T17:03:10.170Z"
   },
   {
    "duration": 11,
    "start_time": "2022-04-08T17:03:10.189Z"
   },
   {
    "duration": 422,
    "start_time": "2022-04-08T17:03:10.202Z"
   },
   {
    "duration": 8,
    "start_time": "2022-04-08T17:03:10.626Z"
   },
   {
    "duration": 503,
    "start_time": "2022-04-08T17:03:10.636Z"
   },
   {
    "duration": 2212,
    "start_time": "2022-04-08T17:03:11.143Z"
   },
   {
    "duration": 469,
    "start_time": "2022-04-08T17:03:13.357Z"
   },
   {
    "duration": 15,
    "start_time": "2022-04-08T17:03:13.829Z"
   },
   {
    "duration": 34,
    "start_time": "2022-04-08T17:03:13.849Z"
   },
   {
    "duration": 17,
    "start_time": "2022-04-08T17:03:13.886Z"
   },
   {
    "duration": 11,
    "start_time": "2022-04-08T17:03:13.905Z"
   },
   {
    "duration": 6,
    "start_time": "2022-04-08T17:03:13.918Z"
   },
   {
    "duration": 41,
    "start_time": "2022-04-08T17:03:13.926Z"
   },
   {
    "duration": 2076,
    "start_time": "2022-04-08T17:03:13.970Z"
   },
   {
    "duration": 23,
    "start_time": "2022-04-08T17:03:16.049Z"
   },
   {
    "duration": 96,
    "start_time": "2022-04-08T17:03:16.074Z"
   },
   {
    "duration": 0,
    "start_time": "2022-04-08T17:03:16.173Z"
   },
   {
    "duration": 0,
    "start_time": "2022-04-08T17:03:16.174Z"
   },
   {
    "duration": 0,
    "start_time": "2022-04-08T17:03:16.175Z"
   },
   {
    "duration": 0,
    "start_time": "2022-04-08T17:03:16.177Z"
   },
   {
    "duration": 0,
    "start_time": "2022-04-08T17:03:16.179Z"
   },
   {
    "duration": 0,
    "start_time": "2022-04-08T17:03:16.180Z"
   },
   {
    "duration": 0,
    "start_time": "2022-04-08T17:03:16.181Z"
   },
   {
    "duration": 0,
    "start_time": "2022-04-08T17:03:16.183Z"
   },
   {
    "duration": 0,
    "start_time": "2022-04-08T17:03:16.184Z"
   },
   {
    "duration": 0,
    "start_time": "2022-04-08T17:03:16.186Z"
   },
   {
    "duration": 0,
    "start_time": "2022-04-08T17:03:16.188Z"
   },
   {
    "duration": 0,
    "start_time": "2022-04-08T17:03:16.190Z"
   },
   {
    "duration": 0,
    "start_time": "2022-04-08T17:03:16.191Z"
   },
   {
    "duration": 0,
    "start_time": "2022-04-08T17:03:16.194Z"
   },
   {
    "duration": 0,
    "start_time": "2022-04-08T17:03:16.196Z"
   },
   {
    "duration": 0,
    "start_time": "2022-04-08T17:03:16.197Z"
   },
   {
    "duration": 0,
    "start_time": "2022-04-08T17:03:16.198Z"
   },
   {
    "duration": 0,
    "start_time": "2022-04-08T17:03:16.200Z"
   },
   {
    "duration": 10,
    "start_time": "2022-04-08T17:04:48.897Z"
   },
   {
    "duration": 4,
    "start_time": "2022-04-08T17:06:40.214Z"
   },
   {
    "duration": 1656,
    "start_time": "2022-04-08T17:06:40.947Z"
   },
   {
    "duration": 18,
    "start_time": "2022-04-08T17:07:07.739Z"
   },
   {
    "duration": 17,
    "start_time": "2022-04-08T17:07:16.836Z"
   },
   {
    "duration": 5,
    "start_time": "2022-04-08T17:07:32.331Z"
   },
   {
    "duration": 1483,
    "start_time": "2022-04-08T17:07:33.552Z"
   },
   {
    "duration": 4,
    "start_time": "2022-04-08T17:07:49.886Z"
   },
   {
    "duration": 2307,
    "start_time": "2022-04-08T17:07:51.577Z"
   },
   {
    "duration": 24,
    "start_time": "2022-04-08T17:07:57.364Z"
   },
   {
    "duration": 14,
    "start_time": "2022-04-08T17:08:33.138Z"
   },
   {
    "duration": 487,
    "start_time": "2022-04-08T17:08:44.991Z"
   },
   {
    "duration": 100,
    "start_time": "2022-04-08T17:08:45.481Z"
   },
   {
    "duration": 21,
    "start_time": "2022-04-08T17:08:45.584Z"
   },
   {
    "duration": 15,
    "start_time": "2022-04-08T17:08:45.608Z"
   },
   {
    "duration": 63,
    "start_time": "2022-04-08T17:08:45.625Z"
   },
   {
    "duration": 9,
    "start_time": "2022-04-08T17:08:45.691Z"
   },
   {
    "duration": 11,
    "start_time": "2022-04-08T17:08:45.703Z"
   },
   {
    "duration": 7,
    "start_time": "2022-04-08T17:08:45.716Z"
   },
   {
    "duration": 53,
    "start_time": "2022-04-08T17:08:45.726Z"
   },
   {
    "duration": 11,
    "start_time": "2022-04-08T17:08:45.784Z"
   },
   {
    "duration": 17,
    "start_time": "2022-04-08T17:08:45.797Z"
   },
   {
    "duration": 10,
    "start_time": "2022-04-08T17:08:45.816Z"
   },
   {
    "duration": 374,
    "start_time": "2022-04-08T17:08:45.868Z"
   },
   {
    "duration": 6,
    "start_time": "2022-04-08T17:08:46.244Z"
   },
   {
    "duration": 468,
    "start_time": "2022-04-08T17:08:46.253Z"
   },
   {
    "duration": 2357,
    "start_time": "2022-04-08T17:08:46.723Z"
   },
   {
    "duration": 463,
    "start_time": "2022-04-08T17:08:49.083Z"
   },
   {
    "duration": 23,
    "start_time": "2022-04-08T17:08:49.548Z"
   },
   {
    "duration": 15,
    "start_time": "2022-04-08T17:08:49.573Z"
   },
   {
    "duration": 22,
    "start_time": "2022-04-08T17:08:49.590Z"
   },
   {
    "duration": 10,
    "start_time": "2022-04-08T17:08:49.614Z"
   },
   {
    "duration": 4,
    "start_time": "2022-04-08T17:08:49.626Z"
   },
   {
    "duration": 5,
    "start_time": "2022-04-08T17:08:49.668Z"
   },
   {
    "duration": 2056,
    "start_time": "2022-04-08T17:08:49.675Z"
   },
   {
    "duration": 12,
    "start_time": "2022-04-08T17:08:51.733Z"
   },
   {
    "duration": 31,
    "start_time": "2022-04-08T17:08:51.747Z"
   },
   {
    "duration": 4,
    "start_time": "2022-04-08T17:08:51.780Z"
   },
   {
    "duration": 11,
    "start_time": "2022-04-08T17:08:51.790Z"
   },
   {
    "duration": 4,
    "start_time": "2022-04-08T17:08:51.803Z"
   },
   {
    "duration": 1976,
    "start_time": "2022-04-08T17:08:51.809Z"
   },
   {
    "duration": 22,
    "start_time": "2022-04-08T17:08:53.787Z"
   },
   {
    "duration": 93,
    "start_time": "2022-04-08T17:08:53.812Z"
   },
   {
    "duration": 29,
    "start_time": "2022-04-08T17:08:53.908Z"
   },
   {
    "duration": 75,
    "start_time": "2022-04-08T17:08:53.939Z"
   },
   {
    "duration": 17,
    "start_time": "2022-04-08T17:08:54.017Z"
   },
   {
    "duration": 34,
    "start_time": "2022-04-08T17:08:54.036Z"
   },
   {
    "duration": 16,
    "start_time": "2022-04-08T17:08:54.072Z"
   },
   {
    "duration": 6,
    "start_time": "2022-04-08T17:08:54.090Z"
   },
   {
    "duration": 20,
    "start_time": "2022-04-08T17:08:54.098Z"
   },
   {
    "duration": 47,
    "start_time": "2022-04-08T17:08:54.120Z"
   },
   {
    "duration": 21,
    "start_time": "2022-04-08T17:08:54.170Z"
   },
   {
    "duration": 23,
    "start_time": "2022-04-08T17:08:54.194Z"
   },
   {
    "duration": 56,
    "start_time": "2022-04-08T17:08:54.219Z"
   },
   {
    "duration": 40,
    "start_time": "2022-04-08T17:08:54.278Z"
   },
   {
    "duration": 17,
    "start_time": "2022-04-08T17:08:54.321Z"
   },
   {
    "duration": 56,
    "start_time": "2022-04-08T17:08:54.367Z"
   },
   {
    "duration": 65,
    "start_time": "2022-04-08T17:08:54.427Z"
   },
   {
    "duration": 462,
    "start_time": "2022-04-08T17:18:00.207Z"
   },
   {
    "duration": 99,
    "start_time": "2022-04-08T17:18:00.672Z"
   },
   {
    "duration": 22,
    "start_time": "2022-04-08T17:18:00.773Z"
   },
   {
    "duration": 14,
    "start_time": "2022-04-08T17:18:00.798Z"
   },
   {
    "duration": 60,
    "start_time": "2022-04-08T17:18:00.815Z"
   },
   {
    "duration": 9,
    "start_time": "2022-04-08T17:18:00.878Z"
   },
   {
    "duration": 13,
    "start_time": "2022-04-08T17:18:00.890Z"
   },
   {
    "duration": 25,
    "start_time": "2022-04-08T17:18:00.905Z"
   },
   {
    "duration": 48,
    "start_time": "2022-04-08T17:18:00.932Z"
   },
   {
    "duration": 57,
    "start_time": "2022-04-08T17:18:00.984Z"
   },
   {
    "duration": 24,
    "start_time": "2022-04-08T17:18:01.043Z"
   },
   {
    "duration": 9,
    "start_time": "2022-04-08T17:18:01.069Z"
   },
   {
    "duration": 391,
    "start_time": "2022-04-08T17:18:01.080Z"
   },
   {
    "duration": 6,
    "start_time": "2022-04-08T17:18:01.474Z"
   },
   {
    "duration": 463,
    "start_time": "2022-04-08T17:18:01.482Z"
   },
   {
    "duration": 2359,
    "start_time": "2022-04-08T17:18:01.947Z"
   },
   {
    "duration": 459,
    "start_time": "2022-04-08T17:18:04.308Z"
   },
   {
    "duration": 14,
    "start_time": "2022-04-08T17:18:04.770Z"
   },
   {
    "duration": 13,
    "start_time": "2022-04-08T17:18:04.787Z"
   },
   {
    "duration": 17,
    "start_time": "2022-04-08T17:18:04.802Z"
   },
   {
    "duration": 10,
    "start_time": "2022-04-08T17:18:04.820Z"
   },
   {
    "duration": 4,
    "start_time": "2022-04-08T17:18:04.868Z"
   },
   {
    "duration": 6,
    "start_time": "2022-04-08T17:18:04.874Z"
   },
   {
    "duration": 2015,
    "start_time": "2022-04-08T17:18:04.882Z"
   },
   {
    "duration": 11,
    "start_time": "2022-04-08T17:18:06.899Z"
   },
   {
    "duration": 9,
    "start_time": "2022-04-08T17:18:06.912Z"
   },
   {
    "duration": 14,
    "start_time": "2022-04-08T17:18:06.923Z"
   },
   {
    "duration": 4,
    "start_time": "2022-04-08T17:18:06.941Z"
   },
   {
    "duration": 1950,
    "start_time": "2022-04-08T17:18:06.967Z"
   },
   {
    "duration": 22,
    "start_time": "2022-04-08T17:18:08.919Z"
   },
   {
    "duration": 94,
    "start_time": "2022-04-08T17:18:08.943Z"
   },
   {
    "duration": 41,
    "start_time": "2022-04-08T17:18:09.039Z"
   },
   {
    "duration": 50,
    "start_time": "2022-04-08T17:18:09.082Z"
   },
   {
    "duration": 40,
    "start_time": "2022-04-08T17:18:09.135Z"
   },
   {
    "duration": 16,
    "start_time": "2022-04-08T17:18:09.177Z"
   },
   {
    "duration": 6,
    "start_time": "2022-04-08T17:18:09.195Z"
   },
   {
    "duration": 15,
    "start_time": "2022-04-08T17:18:09.204Z"
   },
   {
    "duration": 49,
    "start_time": "2022-04-08T17:18:09.221Z"
   },
   {
    "duration": 18,
    "start_time": "2022-04-08T17:18:09.273Z"
   },
   {
    "duration": 21,
    "start_time": "2022-04-08T17:18:09.293Z"
   },
   {
    "duration": 51,
    "start_time": "2022-04-08T17:18:09.317Z"
   },
   {
    "duration": 3,
    "start_time": "2022-04-08T17:18:09.371Z"
   },
   {
    "duration": 22,
    "start_time": "2022-04-08T17:18:09.376Z"
   },
   {
    "duration": 35,
    "start_time": "2022-04-08T17:18:09.401Z"
   },
   {
    "duration": 37,
    "start_time": "2022-04-08T17:18:09.467Z"
   },
   {
    "duration": 27,
    "start_time": "2022-04-08T17:18:51.629Z"
   },
   {
    "duration": 108,
    "start_time": "2022-04-08T17:19:12.838Z"
   },
   {
    "duration": 34,
    "start_time": "2022-04-08T17:19:29.139Z"
   },
   {
    "duration": 30,
    "start_time": "2022-04-08T17:19:57.679Z"
   },
   {
    "duration": 28,
    "start_time": "2022-04-08T17:20:03.527Z"
   },
   {
    "duration": 27,
    "start_time": "2022-04-08T17:20:10.667Z"
   },
   {
    "duration": 30,
    "start_time": "2022-04-08T17:21:09.863Z"
   },
   {
    "duration": 27,
    "start_time": "2022-04-08T17:21:24.641Z"
   },
   {
    "duration": 28,
    "start_time": "2022-04-08T17:22:25.460Z"
   },
   {
    "duration": 28,
    "start_time": "2022-04-08T17:23:24.035Z"
   },
   {
    "duration": 32,
    "start_time": "2022-04-08T17:23:41.527Z"
   },
   {
    "duration": 32,
    "start_time": "2022-04-08T17:23:50.335Z"
   },
   {
    "duration": 28,
    "start_time": "2022-04-08T17:23:57.592Z"
   },
   {
    "duration": 27,
    "start_time": "2022-04-08T17:24:15.846Z"
   },
   {
    "duration": 22,
    "start_time": "2022-04-08T17:24:19.064Z"
   },
   {
    "duration": 26,
    "start_time": "2022-04-08T17:25:32.707Z"
   },
   {
    "duration": 26,
    "start_time": "2022-04-08T17:25:38.119Z"
   },
   {
    "duration": 31,
    "start_time": "2022-04-08T17:25:46.490Z"
   },
   {
    "duration": 35,
    "start_time": "2022-04-08T17:25:54.399Z"
   },
   {
    "duration": 521,
    "start_time": "2022-04-08T17:29:55.335Z"
   },
   {
    "duration": 100,
    "start_time": "2022-04-08T17:29:55.859Z"
   },
   {
    "duration": 30,
    "start_time": "2022-04-08T17:29:55.961Z"
   },
   {
    "duration": 14,
    "start_time": "2022-04-08T17:29:55.994Z"
   },
   {
    "duration": 60,
    "start_time": "2022-04-08T17:29:56.010Z"
   },
   {
    "duration": 13,
    "start_time": "2022-04-08T17:29:56.073Z"
   },
   {
    "duration": 13,
    "start_time": "2022-04-08T17:29:56.089Z"
   },
   {
    "duration": 6,
    "start_time": "2022-04-08T17:29:56.104Z"
   },
   {
    "duration": 55,
    "start_time": "2022-04-08T17:29:56.112Z"
   },
   {
    "duration": 12,
    "start_time": "2022-04-08T17:29:56.171Z"
   },
   {
    "duration": 17,
    "start_time": "2022-04-08T17:29:56.185Z"
   },
   {
    "duration": 10,
    "start_time": "2022-04-08T17:29:56.204Z"
   },
   {
    "duration": 407,
    "start_time": "2022-04-08T17:29:56.216Z"
   },
   {
    "duration": 6,
    "start_time": "2022-04-08T17:29:56.625Z"
   },
   {
    "duration": 495,
    "start_time": "2022-04-08T17:29:56.633Z"
   },
   {
    "duration": 2361,
    "start_time": "2022-04-08T17:29:57.131Z"
   },
   {
    "duration": 457,
    "start_time": "2022-04-08T17:29:59.495Z"
   },
   {
    "duration": 24,
    "start_time": "2022-04-08T17:29:59.955Z"
   },
   {
    "duration": 12,
    "start_time": "2022-04-08T17:29:59.981Z"
   },
   {
    "duration": 18,
    "start_time": "2022-04-08T17:29:59.996Z"
   },
   {
    "duration": 53,
    "start_time": "2022-04-08T17:30:00.016Z"
   },
   {
    "duration": 8,
    "start_time": "2022-04-08T17:30:00.071Z"
   },
   {
    "duration": 9,
    "start_time": "2022-04-08T17:30:00.081Z"
   },
   {
    "duration": 2122,
    "start_time": "2022-04-08T17:30:00.093Z"
   },
   {
    "duration": 12,
    "start_time": "2022-04-08T17:30:02.217Z"
   },
   {
    "duration": 9,
    "start_time": "2022-04-08T17:30:02.232Z"
   },
   {
    "duration": 29,
    "start_time": "2022-04-08T17:30:02.243Z"
   },
   {
    "duration": 5,
    "start_time": "2022-04-08T17:30:02.277Z"
   },
   {
    "duration": 2027,
    "start_time": "2022-04-08T17:30:02.284Z"
   },
   {
    "duration": 23,
    "start_time": "2022-04-08T17:30:04.314Z"
   },
   {
    "duration": 98,
    "start_time": "2022-04-08T17:30:04.339Z"
   },
   {
    "duration": 43,
    "start_time": "2022-04-08T17:30:04.439Z"
   },
   {
    "duration": 52,
    "start_time": "2022-04-08T17:30:04.484Z"
   },
   {
    "duration": 35,
    "start_time": "2022-04-08T17:30:04.539Z"
   },
   {
    "duration": 17,
    "start_time": "2022-04-08T17:30:04.576Z"
   },
   {
    "duration": 8,
    "start_time": "2022-04-08T17:30:04.595Z"
   },
   {
    "duration": 18,
    "start_time": "2022-04-08T17:30:04.606Z"
   },
   {
    "duration": 55,
    "start_time": "2022-04-08T17:30:04.627Z"
   },
   {
    "duration": 18,
    "start_time": "2022-04-08T17:30:04.685Z"
   },
   {
    "duration": 23,
    "start_time": "2022-04-08T17:30:04.706Z"
   },
   {
    "duration": 26,
    "start_time": "2022-04-08T17:30:04.771Z"
   },
   {
    "duration": 34,
    "start_time": "2022-04-08T17:30:04.800Z"
   },
   {
    "duration": 45,
    "start_time": "2022-04-08T17:30:04.836Z"
   },
   {
    "duration": 34,
    "start_time": "2022-04-08T17:30:04.884Z"
   },
   {
    "duration": 56,
    "start_time": "2022-04-08T17:30:04.921Z"
   },
   {
    "duration": 391,
    "start_time": "2022-04-08T18:23:15.544Z"
   },
   {
    "duration": 79,
    "start_time": "2022-04-08T18:23:15.937Z"
   },
   {
    "duration": 16,
    "start_time": "2022-04-08T18:23:16.018Z"
   },
   {
    "duration": 10,
    "start_time": "2022-04-08T18:23:16.036Z"
   },
   {
    "duration": 21,
    "start_time": "2022-04-08T18:23:16.048Z"
   },
   {
    "duration": 6,
    "start_time": "2022-04-08T18:23:16.070Z"
   },
   {
    "duration": 38,
    "start_time": "2022-04-08T18:23:16.077Z"
   },
   {
    "duration": 5,
    "start_time": "2022-04-08T18:23:16.116Z"
   },
   {
    "duration": 9,
    "start_time": "2022-04-08T18:23:16.122Z"
   },
   {
    "duration": 7,
    "start_time": "2022-04-08T18:23:16.134Z"
   },
   {
    "duration": 12,
    "start_time": "2022-04-08T18:23:16.142Z"
   },
   {
    "duration": 7,
    "start_time": "2022-04-08T18:23:16.156Z"
   },
   {
    "duration": 262,
    "start_time": "2022-04-08T18:23:16.165Z"
   },
   {
    "duration": 4,
    "start_time": "2022-04-08T18:23:16.429Z"
   },
   {
    "duration": 261,
    "start_time": "2022-04-08T18:23:16.434Z"
   },
   {
    "duration": 1286,
    "start_time": "2022-04-08T18:23:16.696Z"
   },
   {
    "duration": 263,
    "start_time": "2022-04-08T18:23:17.984Z"
   },
   {
    "duration": 11,
    "start_time": "2022-04-08T18:23:18.249Z"
   },
   {
    "duration": 19,
    "start_time": "2022-04-08T18:23:18.262Z"
   },
   {
    "duration": 13,
    "start_time": "2022-04-08T18:23:18.282Z"
   },
   {
    "duration": 7,
    "start_time": "2022-04-08T18:23:18.309Z"
   },
   {
    "duration": 3,
    "start_time": "2022-04-08T18:23:18.317Z"
   },
   {
    "duration": 4,
    "start_time": "2022-04-08T18:23:18.321Z"
   },
   {
    "duration": 1329,
    "start_time": "2022-04-08T18:23:18.327Z"
   },
   {
    "duration": 9,
    "start_time": "2022-04-08T18:23:19.657Z"
   },
   {
    "duration": 2,
    "start_time": "2022-04-08T18:23:19.668Z"
   },
   {
    "duration": 10,
    "start_time": "2022-04-08T18:23:19.672Z"
   },
   {
    "duration": 3,
    "start_time": "2022-04-08T18:23:19.686Z"
   },
   {
    "duration": 1272,
    "start_time": "2022-04-08T18:23:19.708Z"
   },
   {
    "duration": 17,
    "start_time": "2022-04-08T18:23:20.981Z"
   },
   {
    "duration": 48,
    "start_time": "2022-04-08T18:23:21.008Z"
   },
   {
    "duration": 19,
    "start_time": "2022-04-08T18:23:21.058Z"
   },
   {
    "duration": 51,
    "start_time": "2022-04-08T18:23:21.079Z"
   },
   {
    "duration": 10,
    "start_time": "2022-04-08T18:23:21.132Z"
   },
   {
    "duration": 10,
    "start_time": "2022-04-08T18:23:21.144Z"
   },
   {
    "duration": 4,
    "start_time": "2022-04-08T18:23:21.156Z"
   },
   {
    "duration": 15,
    "start_time": "2022-04-08T18:23:21.161Z"
   },
   {
    "duration": 33,
    "start_time": "2022-04-08T18:23:21.177Z"
   },
   {
    "duration": 13,
    "start_time": "2022-04-08T18:23:21.212Z"
   },
   {
    "duration": 13,
    "start_time": "2022-04-08T18:23:21.227Z"
   },
   {
    "duration": 14,
    "start_time": "2022-04-08T18:23:21.241Z"
   },
   {
    "duration": 54,
    "start_time": "2022-04-08T18:23:21.256Z"
   },
   {
    "duration": 13,
    "start_time": "2022-04-08T18:23:21.311Z"
   },
   {
    "duration": 25,
    "start_time": "2022-04-08T18:23:21.326Z"
   },
   {
    "duration": 25,
    "start_time": "2022-04-08T18:23:21.353Z"
   },
   {
    "duration": 394,
    "start_time": "2022-04-08T18:40:34.640Z"
   },
   {
    "duration": 82,
    "start_time": "2022-04-08T18:40:35.036Z"
   },
   {
    "duration": 15,
    "start_time": "2022-04-08T18:40:35.120Z"
   },
   {
    "duration": 15,
    "start_time": "2022-04-08T18:40:35.138Z"
   },
   {
    "duration": 23,
    "start_time": "2022-04-08T18:40:35.155Z"
   },
   {
    "duration": 7,
    "start_time": "2022-04-08T18:40:35.208Z"
   },
   {
    "duration": 7,
    "start_time": "2022-04-08T18:40:35.217Z"
   },
   {
    "duration": 5,
    "start_time": "2022-04-08T18:40:35.225Z"
   },
   {
    "duration": 17,
    "start_time": "2022-04-08T18:40:35.232Z"
   },
   {
    "duration": 7,
    "start_time": "2022-04-08T18:40:35.252Z"
   },
   {
    "duration": 15,
    "start_time": "2022-04-08T18:40:35.260Z"
   },
   {
    "duration": 36,
    "start_time": "2022-04-08T18:40:35.277Z"
   },
   {
    "duration": 245,
    "start_time": "2022-04-08T18:40:35.314Z"
   },
   {
    "duration": 4,
    "start_time": "2022-04-08T18:40:35.561Z"
   },
   {
    "duration": 261,
    "start_time": "2022-04-08T18:40:35.567Z"
   },
   {
    "duration": 1372,
    "start_time": "2022-04-08T18:40:35.830Z"
   },
   {
    "duration": 256,
    "start_time": "2022-04-08T18:40:37.204Z"
   },
   {
    "duration": 11,
    "start_time": "2022-04-08T18:40:37.462Z"
   },
   {
    "duration": 11,
    "start_time": "2022-04-08T18:40:37.475Z"
   },
   {
    "duration": 29,
    "start_time": "2022-04-08T18:40:37.487Z"
   },
   {
    "duration": 7,
    "start_time": "2022-04-08T18:40:37.518Z"
   },
   {
    "duration": 3,
    "start_time": "2022-04-08T18:40:37.526Z"
   },
   {
    "duration": 5,
    "start_time": "2022-04-08T18:40:37.530Z"
   },
   {
    "duration": 1432,
    "start_time": "2022-04-08T18:40:37.536Z"
   },
   {
    "duration": 9,
    "start_time": "2022-04-08T18:40:38.970Z"
   },
   {
    "duration": 17,
    "start_time": "2022-04-08T18:40:38.981Z"
   },
   {
    "duration": 11,
    "start_time": "2022-04-08T18:40:39.000Z"
   },
   {
    "duration": 8,
    "start_time": "2022-04-08T18:40:39.016Z"
   },
   {
    "duration": 1360,
    "start_time": "2022-04-08T18:40:39.026Z"
   },
   {
    "duration": 23,
    "start_time": "2022-04-08T18:40:40.388Z"
   },
   {
    "duration": 63,
    "start_time": "2022-04-08T18:40:40.413Z"
   },
   {
    "duration": 36,
    "start_time": "2022-04-08T18:40:40.478Z"
   },
   {
    "duration": 39,
    "start_time": "2022-04-08T18:40:40.516Z"
   },
   {
    "duration": 12,
    "start_time": "2022-04-08T18:40:40.557Z"
   },
   {
    "duration": 41,
    "start_time": "2022-04-08T18:40:40.571Z"
   },
   {
    "duration": 6,
    "start_time": "2022-04-08T18:40:40.614Z"
   },
   {
    "duration": 12,
    "start_time": "2022-04-08T18:40:40.622Z"
   },
   {
    "duration": 12,
    "start_time": "2022-04-08T18:40:40.636Z"
   },
   {
    "duration": 14,
    "start_time": "2022-04-08T18:40:40.650Z"
   },
   {
    "duration": 53,
    "start_time": "2022-04-08T18:40:40.666Z"
   },
   {
    "duration": 15,
    "start_time": "2022-04-08T18:40:40.721Z"
   },
   {
    "duration": 27,
    "start_time": "2022-04-08T18:40:40.738Z"
   },
   {
    "duration": 12,
    "start_time": "2022-04-08T18:40:40.767Z"
   },
   {
    "duration": 33,
    "start_time": "2022-04-08T18:40:40.810Z"
   },
   {
    "duration": 25,
    "start_time": "2022-04-08T18:40:40.845Z"
   }
  ],
  "kernelspec": {
   "display_name": "Python 3 (ipykernel)",
   "language": "python",
   "name": "python3"
  },
  "language_info": {
   "codemirror_mode": {
    "name": "ipython",
    "version": 3
   },
   "file_extension": ".py",
   "mimetype": "text/x-python",
   "name": "python",
   "nbconvert_exporter": "python",
   "pygments_lexer": "ipython3",
   "version": "3.9.7"
  },
  "toc": {
   "base_numbering": 1,
   "nav_menu": {},
   "number_sections": true,
   "sideBar": true,
   "skip_h1_title": true,
   "title_cell": "Table of Contents",
   "title_sidebar": "Contents",
   "toc_cell": false,
   "toc_position": {},
   "toc_section_display": true,
   "toc_window_display": false
  }
 },
 "nbformat": 4,
 "nbformat_minor": 5
}
