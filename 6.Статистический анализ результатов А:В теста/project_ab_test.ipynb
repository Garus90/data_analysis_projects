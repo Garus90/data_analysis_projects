{
 "cells": [
  {
   "cell_type": "markdown",
   "metadata": {},
   "source": [
    "# А/В тестирование и анализ гипотез увеличения выручки интернет-магазина"
   ]
  },
  {
   "cell_type": "code",
   "execution_count": 1,
   "metadata": {},
   "outputs": [],
   "source": [
    "import pandas as pd\n",
    "import scipy.stats as stats\n",
    "import datetime as dt\n",
    "import numpy as np\n",
    "import matplotlib.pyplot as plt"
   ]
  },
  {
   "cell_type": "code",
   "execution_count": 2,
   "metadata": {},
   "outputs": [],
   "source": [
    "pd.set_option('display.max_colwidth',150)"
   ]
  },
  {
   "cell_type": "code",
   "execution_count": 3,
   "metadata": {},
   "outputs": [],
   "source": [
    "hypothesis = pd.read_csv('/Users/ruslangayfullin/DA_New/YP/project_7_ab_test/hypothesis.csv')"
   ]
  },
  {
   "cell_type": "code",
   "execution_count": 4,
   "metadata": {},
   "outputs": [],
   "source": [
    "orders = pd.read_csv('/Users/ruslangayfullin/DA_New/YP/project_7_ab_test/orders.csv')\n",
    "visitors = pd.read_csv('/Users/ruslangayfullin/DA_New/YP/project_7_ab_test/visitors.csv')"
   ]
  },
  {
   "cell_type": "markdown",
   "metadata": {},
   "source": [
    "### Предобработка "
   ]
  },
  {
   "cell_type": "code",
   "execution_count": 5,
   "metadata": {},
   "outputs": [
    {
     "data": {
      "text/html": [
       "<div>\n",
       "<style scoped>\n",
       "    .dataframe tbody tr th:only-of-type {\n",
       "        vertical-align: middle;\n",
       "    }\n",
       "\n",
       "    .dataframe tbody tr th {\n",
       "        vertical-align: top;\n",
       "    }\n",
       "\n",
       "    .dataframe thead th {\n",
       "        text-align: right;\n",
       "    }\n",
       "</style>\n",
       "<table border=\"1\" class=\"dataframe\">\n",
       "  <thead>\n",
       "    <tr style=\"text-align: right;\">\n",
       "      <th></th>\n",
       "      <th>transactionId</th>\n",
       "      <th>visitorId</th>\n",
       "      <th>date</th>\n",
       "      <th>revenue</th>\n",
       "      <th>group</th>\n",
       "    </tr>\n",
       "  </thead>\n",
       "  <tbody>\n",
       "    <tr>\n",
       "      <th>0</th>\n",
       "      <td>3667963787</td>\n",
       "      <td>3312258926</td>\n",
       "      <td>2019-08-15</td>\n",
       "      <td>1650</td>\n",
       "      <td>B</td>\n",
       "    </tr>\n",
       "    <tr>\n",
       "      <th>1</th>\n",
       "      <td>2804400009</td>\n",
       "      <td>3642806036</td>\n",
       "      <td>2019-08-15</td>\n",
       "      <td>730</td>\n",
       "      <td>B</td>\n",
       "    </tr>\n",
       "    <tr>\n",
       "      <th>2</th>\n",
       "      <td>2961555356</td>\n",
       "      <td>4069496402</td>\n",
       "      <td>2019-08-15</td>\n",
       "      <td>400</td>\n",
       "      <td>A</td>\n",
       "    </tr>\n",
       "    <tr>\n",
       "      <th>3</th>\n",
       "      <td>3797467345</td>\n",
       "      <td>1196621759</td>\n",
       "      <td>2019-08-15</td>\n",
       "      <td>9759</td>\n",
       "      <td>B</td>\n",
       "    </tr>\n",
       "    <tr>\n",
       "      <th>4</th>\n",
       "      <td>2282983706</td>\n",
       "      <td>2322279887</td>\n",
       "      <td>2019-08-15</td>\n",
       "      <td>2308</td>\n",
       "      <td>B</td>\n",
       "    </tr>\n",
       "  </tbody>\n",
       "</table>\n",
       "</div>"
      ],
      "text/plain": [
       "   transactionId   visitorId        date  revenue group\n",
       "0     3667963787  3312258926  2019-08-15     1650     B\n",
       "1     2804400009  3642806036  2019-08-15      730     B\n",
       "2     2961555356  4069496402  2019-08-15      400     A\n",
       "3     3797467345  1196621759  2019-08-15     9759     B\n",
       "4     2282983706  2322279887  2019-08-15     2308     B"
      ]
     },
     "execution_count": 5,
     "metadata": {},
     "output_type": "execute_result"
    }
   ],
   "source": [
    "orders.head()"
   ]
  },
  {
   "cell_type": "code",
   "execution_count": 6,
   "metadata": {},
   "outputs": [
    {
     "name": "stdout",
     "output_type": "stream",
     "text": [
      "<class 'pandas.core.frame.DataFrame'>\n",
      "RangeIndex: 1197 entries, 0 to 1196\n",
      "Data columns (total 5 columns):\n",
      " #   Column         Non-Null Count  Dtype \n",
      "---  ------         --------------  ----- \n",
      " 0   transactionId  1197 non-null   int64 \n",
      " 1   visitorId      1197 non-null   int64 \n",
      " 2   date           1197 non-null   object\n",
      " 3   revenue        1197 non-null   int64 \n",
      " 4   group          1197 non-null   object\n",
      "dtypes: int64(3), object(2)\n",
      "memory usage: 46.9+ KB\n"
     ]
    }
   ],
   "source": [
    "orders.info()"
   ]
  },
  {
   "cell_type": "code",
   "execution_count": 7,
   "metadata": {},
   "outputs": [
    {
     "data": {
      "text/plain": [
       "0"
      ]
     },
     "execution_count": 7,
     "metadata": {},
     "output_type": "execute_result"
    }
   ],
   "source": [
    "orders.duplicated().sum()"
   ]
  },
  {
   "cell_type": "code",
   "execution_count": 8,
   "metadata": {},
   "outputs": [
    {
     "data": {
      "text/html": [
       "<div>\n",
       "<style scoped>\n",
       "    .dataframe tbody tr th:only-of-type {\n",
       "        vertical-align: middle;\n",
       "    }\n",
       "\n",
       "    .dataframe tbody tr th {\n",
       "        vertical-align: top;\n",
       "    }\n",
       "\n",
       "    .dataframe thead th {\n",
       "        text-align: right;\n",
       "    }\n",
       "</style>\n",
       "<table border=\"1\" class=\"dataframe\">\n",
       "  <thead>\n",
       "    <tr style=\"text-align: right;\">\n",
       "      <th></th>\n",
       "      <th>group</th>\n",
       "      <th>visitorId</th>\n",
       "    </tr>\n",
       "  </thead>\n",
       "  <tbody>\n",
       "    <tr>\n",
       "      <th>0</th>\n",
       "      <td>A</td>\n",
       "      <td>503</td>\n",
       "    </tr>\n",
       "    <tr>\n",
       "      <th>1</th>\n",
       "      <td>B</td>\n",
       "      <td>586</td>\n",
       "    </tr>\n",
       "  </tbody>\n",
       "</table>\n",
       "</div>"
      ],
      "text/plain": [
       "  group  visitorId\n",
       "0     A        503\n",
       "1     B        586"
      ]
     },
     "execution_count": 8,
     "metadata": {},
     "output_type": "execute_result"
    }
   ],
   "source": [
    "# проверим сколько пользователей в каждой из групп\n",
    "orders.groupby('group',as_index=False)['visitorId'].nunique()"
   ]
  },
  {
   "cell_type": "code",
   "execution_count": 9,
   "metadata": {},
   "outputs": [
    {
     "name": "stdout",
     "output_type": "stream",
     "text": [
      "Количество пересекающихся пользователей: 58\n"
     ]
    }
   ],
   "source": [
    "# проверим количество пользователей которые одновременно находятся в группе А и группе В\n",
    "print('Количество пересекающихся пользователей: {}'.format(len(orders.groupby('visitorId',as_index=False)['group'].nunique().query('group >1'))))"
   ]
  },
  {
   "cell_type": "code",
   "execution_count": 10,
   "metadata": {},
   "outputs": [],
   "source": [
    "#удалим из датасета пересекающихся пользователей \n",
    "list_of_crossing_id =  list(orders\n",
    "                            .groupby('visitorId',as_index=False)['group']\n",
    "                            .nunique()\n",
    "                            .query('group >1')['visitorId'])\n",
    "\n",
    "orders = orders.query('visitorId not in @list_of_crossing_id').reset_index(drop=True)\n"
   ]
  },
  {
   "cell_type": "code",
   "execution_count": 11,
   "metadata": {},
   "outputs": [],
   "source": [
    "orders['date'] = pd.to_datetime(orders['date'])"
   ]
  },
  {
   "cell_type": "code",
   "execution_count": 12,
   "metadata": {},
   "outputs": [
    {
     "name": "stdout",
     "output_type": "stream",
     "text": [
      "Период проведения теста для группы А c 2019-08-01 по 2019-08-31\n",
      "Период проведения теста для группы В c 2019-08-01 по 2019-08-31\n"
     ]
    }
   ],
   "source": [
    "print('Период проведения теста для группы А c {} по {}'.format(orders.query('group == \"A\"')['date'].dt.date.min(),orders.query('group == \"A\"')['date'].dt.date.max()))\n",
    "print('Период проведения теста для группы В c {} по {}'.format(orders.query('group == \"B\"')['date'].dt.date.min(),orders.query('group == \"B\"')['date'].dt.date.max()))\n",
    "\n"
   ]
  },
  {
   "cell_type": "markdown",
   "metadata": {},
   "source": [
    "Период проведения теста для каждой группы совпадает. В датасете присутствует 58 пользователей, которые пересекаются и участвуют сразу в двух контрольных группах. При этом сами группы не одинаковы по количеству участников, что искажает результаты теста. Составителям теста необходимо доработать методику формирования групп в будущем"
   ]
  },
  {
   "cell_type": "code",
   "execution_count": 13,
   "metadata": {},
   "outputs": [
    {
     "data": {
      "text/html": [
       "<div>\n",
       "<style scoped>\n",
       "    .dataframe tbody tr th:only-of-type {\n",
       "        vertical-align: middle;\n",
       "    }\n",
       "\n",
       "    .dataframe tbody tr th {\n",
       "        vertical-align: top;\n",
       "    }\n",
       "\n",
       "    .dataframe thead th {\n",
       "        text-align: right;\n",
       "    }\n",
       "</style>\n",
       "<table border=\"1\" class=\"dataframe\">\n",
       "  <thead>\n",
       "    <tr style=\"text-align: right;\">\n",
       "      <th></th>\n",
       "      <th>date</th>\n",
       "      <th>group</th>\n",
       "      <th>visitors</th>\n",
       "    </tr>\n",
       "  </thead>\n",
       "  <tbody>\n",
       "    <tr>\n",
       "      <th>0</th>\n",
       "      <td>2019-08-01</td>\n",
       "      <td>A</td>\n",
       "      <td>719</td>\n",
       "    </tr>\n",
       "    <tr>\n",
       "      <th>1</th>\n",
       "      <td>2019-08-02</td>\n",
       "      <td>A</td>\n",
       "      <td>619</td>\n",
       "    </tr>\n",
       "    <tr>\n",
       "      <th>2</th>\n",
       "      <td>2019-08-03</td>\n",
       "      <td>A</td>\n",
       "      <td>507</td>\n",
       "    </tr>\n",
       "    <tr>\n",
       "      <th>3</th>\n",
       "      <td>2019-08-04</td>\n",
       "      <td>A</td>\n",
       "      <td>717</td>\n",
       "    </tr>\n",
       "    <tr>\n",
       "      <th>4</th>\n",
       "      <td>2019-08-05</td>\n",
       "      <td>A</td>\n",
       "      <td>756</td>\n",
       "    </tr>\n",
       "  </tbody>\n",
       "</table>\n",
       "</div>"
      ],
      "text/plain": [
       "         date group  visitors\n",
       "0  2019-08-01     A       719\n",
       "1  2019-08-02     A       619\n",
       "2  2019-08-03     A       507\n",
       "3  2019-08-04     A       717\n",
       "4  2019-08-05     A       756"
      ]
     },
     "execution_count": 13,
     "metadata": {},
     "output_type": "execute_result"
    }
   ],
   "source": [
    "visitors.head()"
   ]
  },
  {
   "cell_type": "code",
   "execution_count": 14,
   "metadata": {},
   "outputs": [
    {
     "name": "stdout",
     "output_type": "stream",
     "text": [
      "<class 'pandas.core.frame.DataFrame'>\n",
      "RangeIndex: 62 entries, 0 to 61\n",
      "Data columns (total 3 columns):\n",
      " #   Column    Non-Null Count  Dtype \n",
      "---  ------    --------------  ----- \n",
      " 0   date      62 non-null     object\n",
      " 1   group     62 non-null     object\n",
      " 2   visitors  62 non-null     int64 \n",
      "dtypes: int64(1), object(2)\n",
      "memory usage: 1.6+ KB\n"
     ]
    }
   ],
   "source": [
    "visitors.info()"
   ]
  },
  {
   "cell_type": "code",
   "execution_count": 15,
   "metadata": {},
   "outputs": [
    {
     "data": {
      "text/plain": [
       "0"
      ]
     },
     "execution_count": 15,
     "metadata": {},
     "output_type": "execute_result"
    }
   ],
   "source": [
    "visitors.duplicated().sum()"
   ]
  },
  {
   "cell_type": "code",
   "execution_count": 16,
   "metadata": {},
   "outputs": [],
   "source": [
    "visitors['date'] = pd.to_datetime(visitors['date'])"
   ]
  },
  {
   "cell_type": "code",
   "execution_count": 17,
   "metadata": {},
   "outputs": [
    {
     "name": "stdout",
     "output_type": "stream",
     "text": [
      "<class 'pandas.core.frame.DataFrame'>\n",
      "RangeIndex: 9 entries, 0 to 8\n",
      "Data columns (total 5 columns):\n",
      " #   Column      Non-Null Count  Dtype \n",
      "---  ------      --------------  ----- \n",
      " 0   Hypothesis  9 non-null      object\n",
      " 1   Reach       9 non-null      int64 \n",
      " 2   Impact      9 non-null      int64 \n",
      " 3   Confidence  9 non-null      int64 \n",
      " 4   Efforts     9 non-null      int64 \n",
      "dtypes: int64(4), object(1)\n",
      "memory usage: 488.0+ bytes\n"
     ]
    }
   ],
   "source": [
    "hypothesis.info()"
   ]
  },
  {
   "cell_type": "code",
   "execution_count": 18,
   "metadata": {},
   "outputs": [],
   "source": [
    "hypothesis.columns = hypothesis.columns.str.lower()"
   ]
  },
  {
   "cell_type": "markdown",
   "metadata": {},
   "source": [
    "## Приоритезация гипотез"
   ]
  },
  {
   "cell_type": "markdown",
   "metadata": {},
   "source": [
    "Применим фреймворк ICE для приоритизации гипотез\n"
   ]
  },
  {
   "cell_type": "code",
   "execution_count": 19,
   "metadata": {},
   "outputs": [
    {
     "data": {
      "text/html": [
       "<div>\n",
       "<style scoped>\n",
       "    .dataframe tbody tr th:only-of-type {\n",
       "        vertical-align: middle;\n",
       "    }\n",
       "\n",
       "    .dataframe tbody tr th {\n",
       "        vertical-align: top;\n",
       "    }\n",
       "\n",
       "    .dataframe thead th {\n",
       "        text-align: right;\n",
       "    }\n",
       "</style>\n",
       "<table border=\"1\" class=\"dataframe\">\n",
       "  <thead>\n",
       "    <tr style=\"text-align: right;\">\n",
       "      <th></th>\n",
       "      <th>hypothesis</th>\n",
       "      <th>ICE</th>\n",
       "    </tr>\n",
       "  </thead>\n",
       "  <tbody>\n",
       "    <tr>\n",
       "      <th>8</th>\n",
       "      <td>Запустить акцию, дающую скидку на товар в день рождения</td>\n",
       "      <td>16.200000</td>\n",
       "    </tr>\n",
       "    <tr>\n",
       "      <th>0</th>\n",
       "      <td>Добавить два новых канала привлечения трафика, что позволит привлекать на 30% больше пользователей</td>\n",
       "      <td>13.333333</td>\n",
       "    </tr>\n",
       "    <tr>\n",
       "      <th>7</th>\n",
       "      <td>Добавить форму подписки на все основные страницы, чтобы собрать базу клиентов для email-рассылок</td>\n",
       "      <td>11.200000</td>\n",
       "    </tr>\n",
       "    <tr>\n",
       "      <th>6</th>\n",
       "      <td>Показать на главной странице баннеры с актуальными акциями и распродажами, чтобы увеличить конверсию</td>\n",
       "      <td>8.000000</td>\n",
       "    </tr>\n",
       "    <tr>\n",
       "      <th>2</th>\n",
       "      <td>Добавить блоки рекомендаций товаров на сайт интернет магазина, чтобы повысить конверсию и средний чек заказа</td>\n",
       "      <td>7.000000</td>\n",
       "    </tr>\n",
       "    <tr>\n",
       "      <th>1</th>\n",
       "      <td>Запустить собственную службу доставки, что сократит срок доставки заказов</td>\n",
       "      <td>2.000000</td>\n",
       "    </tr>\n",
       "    <tr>\n",
       "      <th>5</th>\n",
       "      <td>Добавить страницу отзывов клиентов о магазине, что позволит увеличить количество заказов</td>\n",
       "      <td>1.333333</td>\n",
       "    </tr>\n",
       "    <tr>\n",
       "      <th>3</th>\n",
       "      <td>Изменить структура категорий, что увеличит конверсию, т.к. пользователи быстрее найдут нужный товар</td>\n",
       "      <td>1.125000</td>\n",
       "    </tr>\n",
       "    <tr>\n",
       "      <th>4</th>\n",
       "      <td>Изменить цвет фона главной страницы, чтобы увеличить вовлеченность пользователей</td>\n",
       "      <td>1.000000</td>\n",
       "    </tr>\n",
       "  </tbody>\n",
       "</table>\n",
       "</div>"
      ],
      "text/plain": [
       "                                                                                                     hypothesis  \\\n",
       "8                                                       Запустить акцию, дающую скидку на товар в день рождения   \n",
       "0            Добавить два новых канала привлечения трафика, что позволит привлекать на 30% больше пользователей   \n",
       "7              Добавить форму подписки на все основные страницы, чтобы собрать базу клиентов для email-рассылок   \n",
       "6          Показать на главной странице баннеры с актуальными акциями и распродажами, чтобы увеличить конверсию   \n",
       "2  Добавить блоки рекомендаций товаров на сайт интернет магазина, чтобы повысить конверсию и средний чек заказа   \n",
       "1                                     Запустить собственную службу доставки, что сократит срок доставки заказов   \n",
       "5                      Добавить страницу отзывов клиентов о магазине, что позволит увеличить количество заказов   \n",
       "3           Изменить структура категорий, что увеличит конверсию, т.к. пользователи быстрее найдут нужный товар   \n",
       "4                              Изменить цвет фона главной страницы, чтобы увеличить вовлеченность пользователей   \n",
       "\n",
       "         ICE  \n",
       "8  16.200000  \n",
       "0  13.333333  \n",
       "7  11.200000  \n",
       "6   8.000000  \n",
       "2   7.000000  \n",
       "1   2.000000  \n",
       "5   1.333333  \n",
       "3   1.125000  \n",
       "4   1.000000  "
      ]
     },
     "execution_count": 19,
     "metadata": {},
     "output_type": "execute_result"
    }
   ],
   "source": [
    "hypothesis['ICE'] = hypothesis['impact'] * hypothesis['confidence'] / hypothesis['efforts']\n",
    "\n",
    "hypothesis[['hypothesis','ICE']].sort_values(by='ICE',ascending=False)\n",
    "\n"
   ]
  },
  {
   "cell_type": "markdown",
   "metadata": {},
   "source": [
    "Применим фреймворк RICE для приоритизации гипотез. "
   ]
  },
  {
   "cell_type": "code",
   "execution_count": 20,
   "metadata": {},
   "outputs": [
    {
     "data": {
      "text/html": [
       "<div>\n",
       "<style scoped>\n",
       "    .dataframe tbody tr th:only-of-type {\n",
       "        vertical-align: middle;\n",
       "    }\n",
       "\n",
       "    .dataframe tbody tr th {\n",
       "        vertical-align: top;\n",
       "    }\n",
       "\n",
       "    .dataframe thead th {\n",
       "        text-align: right;\n",
       "    }\n",
       "</style>\n",
       "<table border=\"1\" class=\"dataframe\">\n",
       "  <thead>\n",
       "    <tr style=\"text-align: right;\">\n",
       "      <th></th>\n",
       "      <th>hypothesis</th>\n",
       "      <th>RICE</th>\n",
       "    </tr>\n",
       "  </thead>\n",
       "  <tbody>\n",
       "    <tr>\n",
       "      <th>7</th>\n",
       "      <td>Добавить форму подписки на все основные страницы, чтобы собрать базу клиентов для email-рассылок</td>\n",
       "      <td>112.0</td>\n",
       "    </tr>\n",
       "    <tr>\n",
       "      <th>2</th>\n",
       "      <td>Добавить блоки рекомендаций товаров на сайт интернет магазина, чтобы повысить конверсию и средний чек заказа</td>\n",
       "      <td>56.0</td>\n",
       "    </tr>\n",
       "    <tr>\n",
       "      <th>0</th>\n",
       "      <td>Добавить два новых канала привлечения трафика, что позволит привлекать на 30% больше пользователей</td>\n",
       "      <td>40.0</td>\n",
       "    </tr>\n",
       "    <tr>\n",
       "      <th>6</th>\n",
       "      <td>Показать на главной странице баннеры с актуальными акциями и распродажами, чтобы увеличить конверсию</td>\n",
       "      <td>40.0</td>\n",
       "    </tr>\n",
       "    <tr>\n",
       "      <th>8</th>\n",
       "      <td>Запустить акцию, дающую скидку на товар в день рождения</td>\n",
       "      <td>16.2</td>\n",
       "    </tr>\n",
       "    <tr>\n",
       "      <th>3</th>\n",
       "      <td>Изменить структура категорий, что увеличит конверсию, т.к. пользователи быстрее найдут нужный товар</td>\n",
       "      <td>9.0</td>\n",
       "    </tr>\n",
       "    <tr>\n",
       "      <th>1</th>\n",
       "      <td>Запустить собственную службу доставки, что сократит срок доставки заказов</td>\n",
       "      <td>4.0</td>\n",
       "    </tr>\n",
       "    <tr>\n",
       "      <th>5</th>\n",
       "      <td>Добавить страницу отзывов клиентов о магазине, что позволит увеличить количество заказов</td>\n",
       "      <td>4.0</td>\n",
       "    </tr>\n",
       "    <tr>\n",
       "      <th>4</th>\n",
       "      <td>Изменить цвет фона главной страницы, чтобы увеличить вовлеченность пользователей</td>\n",
       "      <td>3.0</td>\n",
       "    </tr>\n",
       "  </tbody>\n",
       "</table>\n",
       "</div>"
      ],
      "text/plain": [
       "                                                                                                     hypothesis  \\\n",
       "7              Добавить форму подписки на все основные страницы, чтобы собрать базу клиентов для email-рассылок   \n",
       "2  Добавить блоки рекомендаций товаров на сайт интернет магазина, чтобы повысить конверсию и средний чек заказа   \n",
       "0            Добавить два новых канала привлечения трафика, что позволит привлекать на 30% больше пользователей   \n",
       "6          Показать на главной странице баннеры с актуальными акциями и распродажами, чтобы увеличить конверсию   \n",
       "8                                                       Запустить акцию, дающую скидку на товар в день рождения   \n",
       "3           Изменить структура категорий, что увеличит конверсию, т.к. пользователи быстрее найдут нужный товар   \n",
       "1                                     Запустить собственную службу доставки, что сократит срок доставки заказов   \n",
       "5                      Добавить страницу отзывов клиентов о магазине, что позволит увеличить количество заказов   \n",
       "4                              Изменить цвет фона главной страницы, чтобы увеличить вовлеченность пользователей   \n",
       "\n",
       "    RICE  \n",
       "7  112.0  \n",
       "2   56.0  \n",
       "0   40.0  \n",
       "6   40.0  \n",
       "8   16.2  \n",
       "3    9.0  \n",
       "1    4.0  \n",
       "5    4.0  \n",
       "4    3.0  "
      ]
     },
     "execution_count": 20,
     "metadata": {},
     "output_type": "execute_result"
    }
   ],
   "source": [
    "\n",
    "hypothesis['RICE'] = hypothesis['reach'] * hypothesis['impact'] * hypothesis['confidence'] / hypothesis['efforts']\n",
    "\n",
    "hypothesis[['hypothesis','RICE']].sort_values(by='RICE',ascending=False)"
   ]
  },
  {
   "cell_type": "markdown",
   "metadata": {},
   "source": [
    "Результат приоретизации гипотез с применением фреймворка ICE отличается от результатов с применением метода RICE, так как метод RICE учитывает охват пользователей, которых затронет изменение.\n",
    "Так, гипотеза \"Запустить акцию, дающую скидку на товар в день рождения\" по методу ICE является наиболее приоритетным, при этом учитывая низкий охват, который имеет данное изменение, по методу RICE гипотеза перемещается с 1 на 5 место.\n",
    "\n",
    "Наибольший охват и эффективность одновременно, имеет гипотеза 7 - \"Добавить форму подписки на все основные страницы, чтобы собрать базу клиентов для email-рассылок\". По методу RICE она в 2 раза превосходит следующую за ней гипотезу"
   ]
  },
  {
   "cell_type": "markdown",
   "metadata": {},
   "source": [
    "## А/В тест"
   ]
  },
  {
   "cell_type": "markdown",
   "metadata": {},
   "source": [
    "Построение графика кумулятивной выручки по группам."
   ]
  },
  {
   "cell_type": "code",
   "execution_count": 21,
   "metadata": {},
   "outputs": [],
   "source": [
    "datesGroups = orders[['date','group']].drop_duplicates()"
   ]
  },
  {
   "cell_type": "code",
   "execution_count": 22,
   "metadata": {},
   "outputs": [],
   "source": [
    "ordersAggregated = datesGroups.apply(\n",
    "    lambda x: orders[np.logical_and(orders['date'] <= x['date'],\n",
    "                                    orders['group'] == x['group'])]\n",
    "    .agg({'date' : 'max', \n",
    "          'group' : 'max', \n",
    "          'transactionId' : 'nunique', \n",
    "          'visitorId' : 'nunique', \n",
    "          'revenue' : 'sum'}), axis=1).sort_values(by=['date','group'])\n",
    "\n",
    "\n",
    "visitorsAggregated = datesGroups.apply(\n",
    "    lambda x: visitors[np.logical_and(visitors['date'] <= x['date'], \n",
    "                                      visitors['group'] == x['group'])]\n",
    "    .agg({'date' : 'max', \n",
    "          'group' : 'max', \n",
    "          'visitors' : 'sum'}), axis=1).sort_values(by=['date','group'])\n",
    "\n",
    "\n",
    "cumulativeData = ordersAggregated.merge(visitorsAggregated, left_on=['date', 'group'], right_on=['date', 'group'])\n",
    "\n",
    "cumulativeData.columns = ['date', 'group', 'orders', 'buyers', 'revenue', 'visitors']"
   ]
  },
  {
   "cell_type": "code",
   "execution_count": 23,
   "metadata": {},
   "outputs": [
    {
     "data": {
      "image/png": "[encoded data removed]",
      "text/plain": [
       "<Figure size 1080x360 with 1 Axes>"
      ]
     },
     "metadata": {
      "needs_background": "light"
     },
     "output_type": "display_data"
    }
   ],
   "source": [
    "\n",
    "cumulativeRevenueA = cumulativeData[cumulativeData['group']=='A'][['date','revenue', 'orders']]\n",
    "cumulativeRevenueB = cumulativeData[cumulativeData['group']=='B'][['date','revenue', 'orders']]\n",
    "\n",
    "plt.figure(figsize=(15,5))\n",
    "\n",
    "plt.plot(cumulativeRevenueA['date'], cumulativeRevenueA['revenue'], label='Group_A')\n",
    "plt.plot(cumulativeRevenueB['date'], cumulativeRevenueB['revenue'], label='Group_B')\n",
    "plt.title('График кумулятивной выручки по группам')\n",
    "plt.legend();"
   ]
  },
  {
   "cell_type": "markdown",
   "metadata": {},
   "source": [
    "Графики выручки обеих групп показывают стабильный рост. При этом в группе В после 17 августа наблюдается один случай резкого роста выручки. Это может быть вызвано как резким ростом числа заказов, так и наличием очень дорогих заказов в группе В."
   ]
  },
  {
   "cell_type": "markdown",
   "metadata": {},
   "source": [
    "Построение графика кумулятивного среднего чека по группам\n"
   ]
  },
  {
   "cell_type": "code",
   "execution_count": 24,
   "metadata": {},
   "outputs": [
    {
     "data": {
      "image/png": "[encoded data removed]",
      "text/plain": [
       "<Figure size 1080x360 with 1 Axes>"
      ]
     },
     "metadata": {
      "needs_background": "light"
     },
     "output_type": "display_data"
    }
   ],
   "source": [
    "plt.figure(figsize=(15,5))\n",
    "\n",
    "plt.plot(cumulativeRevenueA['date'], cumulativeRevenueA['revenue']/cumulativeRevenueA['orders'], label='Group_A')\n",
    "plt.plot(cumulativeRevenueB['date'], cumulativeRevenueB['revenue']/cumulativeRevenueB['orders'], label='Group_B')\n",
    "plt.title('График кумулятивного среднего чека по группам.')\n",
    "plt.legend();"
   ]
  },
  {
   "cell_type": "markdown",
   "metadata": {},
   "source": [
    "График кумуятивного среднего чека показывает скачкообразный рост чека в группе В после 17 августа. После чего сердний чек несущесвтенно снижается, однако так и не достигает уровня группы А. Вероятно это связано с приходом клиентов, которые совершают дорогие покупки"
   ]
  },
  {
   "cell_type": "markdown",
   "metadata": {},
   "source": [
    "Построение графика относительного изменения кумулятивного среднего чека группы B к группе A. \n"
   ]
  },
  {
   "cell_type": "code",
   "execution_count": 25,
   "metadata": {},
   "outputs": [
    {
     "data": {
      "image/png": "[encoded data removed]",
      "text/plain": [
       "<Figure size 1080x360 with 1 Axes>"
      ]
     },
     "metadata": {
      "needs_background": "light"
     },
     "output_type": "display_data"
    }
   ],
   "source": [
    "plt.figure(figsize=(15,5))\n",
    "\n",
    "mergedCumulativeRevenue = cumulativeRevenueA.merge(cumulativeRevenueB, left_on='date', right_on='date', how='left', suffixes=['A', 'B'])\n",
    "\n",
    "plt.plot(mergedCumulativeRevenue['date'], (mergedCumulativeRevenue['revenueB']/mergedCumulativeRevenue['ordersB'])/(mergedCumulativeRevenue['revenueA']/mergedCumulativeRevenue['ordersA'])-1)\n",
    "plt.title('график относительного изменения кумулятивного среднего чека')\n",
    "plt.axhline(y=0, color='black', linestyle='--');"
   ]
  },
  {
   "cell_type": "markdown",
   "metadata": {},
   "source": [
    "График изменения среднего чека группы В относительно А показывает несколько резких скачков. При этом резкий рост графика совпадает с ростом кумулятивного среднего чека группы В - и связан с наличием дорогих заказов, изменяющих средние значения"
   ]
  },
  {
   "cell_type": "markdown",
   "metadata": {},
   "source": [
    "Построение графика кумулятивной конверсии по группам.\n"
   ]
  },
  {
   "cell_type": "code",
   "execution_count": 26,
   "metadata": {},
   "outputs": [
    {
     "data": {
      "image/png": "[encoded data removed]",
      "text/plain": [
       "<Figure size 1080x360 with 1 Axes>"
      ]
     },
     "metadata": {
      "needs_background": "light"
     },
     "output_type": "display_data"
    }
   ],
   "source": [
    "cumulativeData['conversion'] = cumulativeData['orders']/cumulativeData['visitors']\n",
    "\n",
    "\n",
    "cumulativeDataA = cumulativeData[cumulativeData['group']=='A']\n",
    "cumulativeDataB = cumulativeData[cumulativeData['group']=='B']\n",
    "\n",
    "plt.figure(figsize=(15,5))\n",
    "plt.plot(cumulativeDataA['date'], cumulativeDataA['conversion'], label='A')\n",
    "plt.plot(cumulativeDataB['date'], cumulativeDataB['conversion'], label='B')\n",
    "plt.legend();\n",
    "\n",
    "plt.axhline(y=0.0288, color='orange', linestyle='--')\n",
    "plt.axhline(y=0.0309, color='orange', linestyle='--')\n",
    "\n",
    "plt.axhline(y=0.025, color='lightblue', linestyle='--')\n",
    "plt.axhline(y=0.026, color='lightblue', linestyle='--');\n"
   ]
  },
  {
   "cell_type": "markdown",
   "metadata": {},
   "source": [
    "Графики конверсии показывали резкие скачки в начале наблюдений, однако потом стабилизировались - конверсия группы А около значений 0.025, конверсия группы В - между 0.029 и 0.031. График показывает что конверсия в группе В стабильно выше"
   ]
  },
  {
   "cell_type": "markdown",
   "metadata": {},
   "source": [
    "Построение графика относительного изменения кумулятивной конверсии группы B к группе A.\n"
   ]
  },
  {
   "cell_type": "code",
   "execution_count": 27,
   "metadata": {},
   "outputs": [
    {
     "data": {
      "image/png": "[encoded data removed]",
      "text/plain": [
       "<Figure size 1080x360 with 1 Axes>"
      ]
     },
     "metadata": {
      "needs_background": "light"
     },
     "output_type": "display_data"
    }
   ],
   "source": [
    "mergedCumulativeConversions = cumulativeDataA[['date','conversion']].merge(cumulativeDataB[['date','conversion']], left_on='date', right_on='date', how='left', suffixes=['A', 'B'])\n",
    "\n",
    "plt.figure(figsize=(15,5))\n",
    "plt.plot(mergedCumulativeConversions['date'], mergedCumulativeConversions['conversionB']/mergedCumulativeConversions['conversionA']-1)\n",
    "plt.title('график относительного изменения кумулятивной конверсии')\n",
    "\n",
    "\n",
    "plt.axhline(y=0, color='black', linestyle='--')\n",
    "plt.axhline(y=0.15, color='grey', linestyle='--');\n"
   ]
  },
  {
   "cell_type": "markdown",
   "metadata": {},
   "source": [
    "График относительного изменения кумулятивной конверсии подтверждает показания предыдущего графика - конверсия В существенно после стабилизации первых дней наблюдения - превышает конверсию группы А"
   ]
  },
  {
   "cell_type": "markdown",
   "metadata": {},
   "source": [
    "Построение точечного графика количества заказов по пользователям. \n"
   ]
  },
  {
   "cell_type": "code",
   "execution_count": 28,
   "metadata": {},
   "outputs": [],
   "source": [
    "orders_by_users = orders.groupby('visitorId',as_index=False).agg({'transactionId':'nunique'})\n",
    "orders_by_users.columns = ['userId', 'orders']"
   ]
  },
  {
   "cell_type": "code",
   "execution_count": 29,
   "metadata": {},
   "outputs": [
    {
     "data": {
      "image/png": "[encoded data removed]",
      "text/plain": [
       "<Figure size 432x288 with 1 Axes>"
      ]
     },
     "metadata": {
      "needs_background": "light"
     },
     "output_type": "display_data"
    }
   ],
   "source": [
    "x_values = pd.Series(range(0,len(orders_by_users)))\n",
    "plt.scatter(x_values, orders_by_users['orders'])\n",
    "plt.grid();"
   ]
  },
  {
   "cell_type": "markdown",
   "metadata": {},
   "source": [
    "график количества заказов по пользователям показывает, что большинство пользователей совершает 1 или 2 покупки. При этом достаточно часто встречаются пользователи которые соврешили 3 покупки. Те, кто совершил более трех покупок встречаются довольно редко. При этом в данных есть отдельные пользователи, которые совершили более 10 покупок, но их число несущественно"
   ]
  },
  {
   "cell_type": "markdown",
   "metadata": {},
   "source": [
    "Определение 95-й и 99-й перцентили количества заказов на пользователя."
   ]
  },
  {
   "cell_type": "code",
   "execution_count": 30,
   "metadata": {},
   "outputs": [
    {
     "name": "stdout",
     "output_type": "stream",
     "text": [
      "[1. 2.]\n"
     ]
    }
   ],
   "source": [
    "print(np.percentile(orders_by_users['orders'], [95, 99]))"
   ]
  },
  {
   "cell_type": "markdown",
   "metadata": {},
   "source": [
    "Не более 5% пользователей оформляли более 2 заказов и только 1% оформили более 4 заказов. Следовательно, для анализа целесообразно отобрать подавляющее большинство пользователей, тех 95% , которые оформили не более 2 заказов"
   ]
  },
  {
   "cell_type": "markdown",
   "metadata": {},
   "source": [
    "Построение точечного графика стоимостей заказов.\n"
   ]
  },
  {
   "cell_type": "code",
   "execution_count": 31,
   "metadata": {},
   "outputs": [
    {
     "data": {
      "image/png": "[encoded data removed]",
      "text/plain": [
       "<Figure size 432x288 with 1 Axes>"
      ]
     },
     "metadata": {
      "needs_background": "light"
     },
     "output_type": "display_data"
    }
   ],
   "source": [
    "x_values = pd.Series(range(0,len(orders['revenue'])))\n",
    "plt.scatter(x_values, orders['revenue']) \n",
    "plt.grid()\n",
    "\n",
    "plt.ylabel('Стоимость заказов млн.')\n",
    "plt.title('график стоимостей заказов');"
   ]
  },
  {
   "cell_type": "code",
   "execution_count": 32,
   "metadata": {},
   "outputs": [
    {
     "data": {
      "image/png": "[encoded data removed]",
      "text/plain": [
       "<Figure size 432x288 with 1 Axes>"
      ]
     },
     "metadata": {
      "needs_background": "light"
     },
     "output_type": "display_data"
    }
   ],
   "source": [
    "x_values = pd.Series(range(0,len(orders['revenue'])))\n",
    "plt.scatter(x_values, orders['revenue'])\n",
    "plt.ylim(0,100000)\n",
    "plt.grid()\n",
    "plt.ylabel('Стоимость заказов')\n",
    "plt.title('график без учета аномалий');"
   ]
  },
  {
   "cell_type": "markdown",
   "metadata": {},
   "source": [
    "Подавляющее большинство заказов стоит до 20000. При этом есть отдельные выбросы на уровне 200 тыс. и свыше 1,2 млн"
   ]
  },
  {
   "cell_type": "markdown",
   "metadata": {},
   "source": [
    "9. Посчитайте 95-й и 99-й перцентили стоимости заказов. Выберите границу для определения аномальных заказов.\n"
   ]
  },
  {
   "cell_type": "code",
   "execution_count": 33,
   "metadata": {},
   "outputs": [
    {
     "name": "stdout",
     "output_type": "stream",
     "text": [
      "[26785. 53904.]\n"
     ]
    }
   ],
   "source": [
    "print(np.percentile(orders['revenue'], [95, 99])) "
   ]
  },
  {
   "cell_type": "markdown",
   "metadata": {},
   "source": [
    "Не более 5% пользователей совершали заказы свыше 28 тыс, и только 1% - свыше 58.2 тыс. Следовательно для дальнейшего анализа можно учитывать 95% пользователей, которые совершили заказов на стоимость до 28 тыс."
   ]
  },
  {
   "cell_type": "markdown",
   "metadata": {},
   "source": [
    "**Рассчет статистической значимости различий в конверсии между группами по «сырым» данным.**\n"
   ]
  },
  {
   "cell_type": "markdown",
   "metadata": {},
   "source": [
    "**Проверяем гипотезу**\n",
    "* H0:Cтатистическаая значимость различий в конверсии между группами отсутствует \n",
    "* H1: имеется статистическая значимость между конверсией  двух групп\n",
    "\n",
    "        \n",
    "    Для проверки гипотезы применим непараметрический метод Манна-Уитни, который применяется при наличии выбросов, сильно сдвигающих параметрические результаты.\n"
   ]
  },
  {
   "cell_type": "code",
   "execution_count": 34,
   "metadata": {},
   "outputs": [
    {
     "data": {
      "text/html": [
       "<div>\n",
       "<style scoped>\n",
       "    .dataframe tbody tr th:only-of-type {\n",
       "        vertical-align: middle;\n",
       "    }\n",
       "\n",
       "    .dataframe tbody tr th {\n",
       "        vertical-align: top;\n",
       "    }\n",
       "\n",
       "    .dataframe thead th {\n",
       "        text-align: right;\n",
       "    }\n",
       "</style>\n",
       "<table border=\"1\" class=\"dataframe\">\n",
       "  <thead>\n",
       "    <tr style=\"text-align: right;\">\n",
       "      <th></th>\n",
       "      <th>date</th>\n",
       "      <th>orders_per_date_a</th>\n",
       "      <th>revenue_per_date_a</th>\n",
       "      <th>orders_per_date_b</th>\n",
       "      <th>revenue_per_date_b</th>\n",
       "      <th>orders_cummulative_a</th>\n",
       "      <th>revenue_cummulative_a</th>\n",
       "      <th>orders_cummulative_b</th>\n",
       "      <th>revenue_cummulative_b</th>\n",
       "      <th>visitors_per_date_a</th>\n",
       "      <th>visitors_per_date_b</th>\n",
       "      <th>visitors_cummulative_a</th>\n",
       "      <th>visitors_cummulative_b</th>\n",
       "    </tr>\n",
       "  </thead>\n",
       "  <tbody>\n",
       "    <tr>\n",
       "      <th>0</th>\n",
       "      <td>2019-08-01</td>\n",
       "      <td>23</td>\n",
       "      <td>142779</td>\n",
       "      <td>17</td>\n",
       "      <td>59758</td>\n",
       "      <td>23</td>\n",
       "      <td>142779</td>\n",
       "      <td>17</td>\n",
       "      <td>59758</td>\n",
       "      <td>719</td>\n",
       "      <td>713</td>\n",
       "      <td>719</td>\n",
       "      <td>713</td>\n",
       "    </tr>\n",
       "    <tr>\n",
       "      <th>1</th>\n",
       "      <td>2019-08-02</td>\n",
       "      <td>19</td>\n",
       "      <td>91602</td>\n",
       "      <td>23</td>\n",
       "      <td>162043</td>\n",
       "      <td>42</td>\n",
       "      <td>234381</td>\n",
       "      <td>40</td>\n",
       "      <td>221801</td>\n",
       "      <td>619</td>\n",
       "      <td>581</td>\n",
       "      <td>1338</td>\n",
       "      <td>1294</td>\n",
       "    </tr>\n",
       "    <tr>\n",
       "      <th>2</th>\n",
       "      <td>2019-08-03</td>\n",
       "      <td>24</td>\n",
       "      <td>112473</td>\n",
       "      <td>14</td>\n",
       "      <td>67049</td>\n",
       "      <td>66</td>\n",
       "      <td>346854</td>\n",
       "      <td>54</td>\n",
       "      <td>288850</td>\n",
       "      <td>507</td>\n",
       "      <td>509</td>\n",
       "      <td>1845</td>\n",
       "      <td>1803</td>\n",
       "    </tr>\n",
       "    <tr>\n",
       "      <th>3</th>\n",
       "      <td>2019-08-04</td>\n",
       "      <td>11</td>\n",
       "      <td>41176</td>\n",
       "      <td>14</td>\n",
       "      <td>96890</td>\n",
       "      <td>77</td>\n",
       "      <td>388030</td>\n",
       "      <td>68</td>\n",
       "      <td>385740</td>\n",
       "      <td>717</td>\n",
       "      <td>770</td>\n",
       "      <td>2562</td>\n",
       "      <td>2573</td>\n",
       "    </tr>\n",
       "    <tr>\n",
       "      <th>4</th>\n",
       "      <td>2019-08-05</td>\n",
       "      <td>22</td>\n",
       "      <td>86383</td>\n",
       "      <td>21</td>\n",
       "      <td>89908</td>\n",
       "      <td>99</td>\n",
       "      <td>474413</td>\n",
       "      <td>89</td>\n",
       "      <td>475648</td>\n",
       "      <td>756</td>\n",
       "      <td>707</td>\n",
       "      <td>3318</td>\n",
       "      <td>3280</td>\n",
       "    </tr>\n",
       "  </tbody>\n",
       "</table>\n",
       "</div>"
      ],
      "text/plain": [
       "        date  orders_per_date_a  revenue_per_date_a  orders_per_date_b  \\\n",
       "0 2019-08-01                 23              142779                 17   \n",
       "1 2019-08-02                 19               91602                 23   \n",
       "2 2019-08-03                 24              112473                 14   \n",
       "3 2019-08-04                 11               41176                 14   \n",
       "4 2019-08-05                 22               86383                 21   \n",
       "\n",
       "   revenue_per_date_b  orders_cummulative_a  revenue_cummulative_a  \\\n",
       "0               59758                    23                 142779   \n",
       "1              162043                    42                 234381   \n",
       "2               67049                    66                 346854   \n",
       "3               96890                    77                 388030   \n",
       "4               89908                    99                 474413   \n",
       "\n",
       "   orders_cummulative_b  revenue_cummulative_b  visitors_per_date_a  \\\n",
       "0                    17                  59758                  719   \n",
       "1                    40                 221801                  619   \n",
       "2                    54                 288850                  507   \n",
       "3                    68                 385740                  717   \n",
       "4                    89                 475648                  756   \n",
       "\n",
       "   visitors_per_date_b  visitors_cummulative_a  visitors_cummulative_b  \n",
       "0                  713                     719                     713  \n",
       "1                  581                    1338                    1294  \n",
       "2                  509                    1845                    1803  \n",
       "3                  770                    2562                    2573  \n",
       "4                  707                    3318                    3280  "
      ]
     },
     "execution_count": 34,
     "metadata": {},
     "output_type": "execute_result"
    }
   ],
   "source": [
    "# сформируем датасет, в котором соберем данные по дням и кумулятивные данные для каждой из тестовых групп\n",
    "\n",
    "# определение пользователей за день по группам\n",
    "visitors_daily_a = visitors[visitors['group'] == 'A'][['date', 'visitors']]\n",
    "visitors_daily_a.columns = ['date', 'visitors_per_date_a']\n",
    "\n",
    "visitors_daily_b = visitors[visitors['group'] == 'B'][['date', 'visitors']]\n",
    "visitors_daily_b.columns = ['date', 'visitors_per_date_b']\n",
    "\n",
    "# определение накопления пользователей по группам\n",
    "visitors_cummulative_a = visitors_daily_a.apply(\n",
    "    lambda x: visitors_daily_a[visitors_daily_a['date'] <= x['date']].agg(\n",
    "        {'date': 'max', \n",
    "         'visitors_per_date_a': 'sum'}),axis=1)\n",
    "\n",
    "visitors_cummulative_a.columns = ['date', 'visitors_cummulative_a']\n",
    "\n",
    "visitors_cummulative_b = visitors_daily_b.apply(\n",
    "    lambda x: visitors_daily_b[visitors_daily_b['date'] <= x['date']].agg(\n",
    "        {'date': 'max', \n",
    "         'visitors_per_date_b': 'sum'}),axis=1)\n",
    "visitors_cummulative_b.columns = ['date', 'visitors_cummulative_b']\n",
    "\n",
    "# количество заказов по дням по группам\n",
    "orders_daily_a = (\n",
    "    orders[orders['group'] == 'A'][['date', 'transactionId', 'visitorId', 'revenue']]\n",
    "    .groupby('date', as_index=False)\n",
    "    .agg({'transactionId': pd.Series.nunique, 'revenue': 'sum'}))\n",
    "orders_daily_a.columns = ['date', 'orders_per_date_a', 'revenue_per_date_a']\n",
    "orders_daily_a\n",
    "\n",
    "orders_daily_b = (\n",
    "    orders[orders['group'] == 'B'][['date', 'transactionId', 'visitorId', 'revenue']]\n",
    "    .groupby('date', as_index=False)\n",
    "    .agg({'transactionId': pd.Series.nunique, 'revenue': 'sum'}))\n",
    "orders_daily_b.columns = ['date', 'orders_per_date_b', 'revenue_per_date_b']\n",
    "\n",
    "#кумулятивное количество заказов\n",
    "orders_cummulative_a = orders_daily_a.apply(\n",
    "    lambda x: orders_daily_a[orders_daily_a['date'] <= x['date']].agg(\n",
    "        {'date': 'max', 'orders_per_date_a': 'sum', 'revenue_per_date_a': 'sum'}),axis=1).sort_values(by=['date'])\n",
    "orders_cummulative_a.columns = ['date','orders_cummulative_a','revenue_cummulative_a']\n",
    "\n",
    "orders_cummulative_b = orders_daily_b.apply(\n",
    "    lambda x: orders_daily_b[orders_daily_b['date'] <= x['date']].agg(\n",
    "        {'date': 'max', 'orders_per_date_b': 'sum', 'revenue_per_date_b': 'sum'}),axis=1).sort_values(by=['date'])\n",
    "orders_cummulative_b.columns = ['date','orders_cummulative_b','revenue_cummulative_b']\n",
    "\n",
    "# объединим в общий датасет данные по дням и кумулятивные данные\n",
    "merged_data = (\n",
    "    orders_daily_a.merge(orders_daily_b, left_on='date', right_on='date', how='left')\n",
    "    .merge(orders_cummulative_a, left_on='date', right_on='date', how='left')\n",
    "    .merge(orders_cummulative_b, left_on='date', right_on='date', how='left')\n",
    "    .merge(visitors_daily_a,left_on='date', right_on='date', how='left')\n",
    "    .merge(visitors_daily_b,left_on='date', right_on='date', how='left')\n",
    "    .merge(visitors_cummulative_a,left_on='date', right_on='date', how='left')\n",
    "    .merge(visitors_cummulative_b,left_on='date', right_on='date', how='left')    \n",
    ")\n",
    "merged_data.head()"
   ]
  },
  {
   "cell_type": "code",
   "execution_count": 35,
   "metadata": {},
   "outputs": [],
   "source": [
    "ordersByUsersA = (\n",
    "    orders[orders['group'] == 'A']\n",
    "    .groupby('visitorId', as_index=False)\n",
    "    .agg({'transactionId': pd.Series.nunique})\n",
    ")\n",
    "ordersByUsersA.columns = ['userId', 'orders']\n",
    "\n",
    "ordersByUsersB = (\n",
    "    orders[orders['group'] == 'B']\n",
    "    .groupby('visitorId', as_index=False)\n",
    "    .agg({'transactionId': pd.Series.nunique})\n",
    ")\n",
    "ordersByUsersB.columns = ['userId', 'orders'] \n"
   ]
  },
  {
   "cell_type": "code",
   "execution_count": 36,
   "metadata": {},
   "outputs": [],
   "source": [
    "sample_a = pd.concat([ordersByUsersA['orders'],\n",
    "                     pd.Series(0, \n",
    "                               index=np.arange(merged_data['visitors_per_date_a'].sum() - len(ordersByUsersA['orders']))\n",
    "                               , name='orders')],axis=0)\n",
    "\n",
    "\n",
    "sample_b = pd.concat([ordersByUsersB['orders'],\n",
    "                     pd.Series(0, \n",
    "                               index=np.arange(merged_data['visitors_per_date_b'].sum() - len(ordersByUsersB['orders'])), \n",
    "                               name='orders')],axis=0) "
   ]
  },
  {
   "cell_type": "code",
   "execution_count": 37,
   "metadata": {},
   "outputs": [
    {
     "name": "stdout",
     "output_type": "stream",
     "text": [
      "p-value: 0.011\n",
      "Различие в средних: 0.160\n"
     ]
    }
   ],
   "source": [
    "print('p-value: {0:.3f}'.format(stats.mannwhitneyu(sample_a, sample_b)[1]))\n",
    "print('Различие в средних: {0:.3f}'.format(sample_b.mean()/sample_a.mean()-1)) "
   ]
  },
  {
   "cell_type": "markdown",
   "metadata": {},
   "source": [
    "\n",
    "По итогам теста Манна-Уитни на \"сырых\" данных до обработки выбросов можно отвергнуть гипотезу об отустствии статистически значимых различий между двумя группами А и В, так как p-value = 0.011, что является меньшим значением чем предел стат значимости 0.05.\n",
    "Различие в средних значениях составляет 0.160"
   ]
  },
  {
   "cell_type": "markdown",
   "metadata": {},
   "source": [
    "**Рассчет статистической значимости различий в среднем чеке заказа между группами по «сырым» данным**"
   ]
  },
  {
   "cell_type": "markdown",
   "metadata": {},
   "source": [
    "Проверяем гипотезу\n",
    "* H0:Cтатистическаая значимость различий вв среднем чеке заказа между группами отсутствует \n",
    "* H1: имеется статистическая значимость между в среднем чеке заказа между группами\n",
    "\n",
    "    \n",
    "    \n",
    "    Для проверки гипотезы применим непараметрический метод Манна-Уитни, который применяется при наличии выбросов, сильно сдвигающих параметрические результаты. \n"
   ]
  },
  {
   "cell_type": "code",
   "execution_count": 38,
   "metadata": {},
   "outputs": [
    {
     "name": "stdout",
     "output_type": "stream",
     "text": [
      "p-value: 0.829\n",
      "различие в среднем чеке 0.287\n"
     ]
    }
   ],
   "source": [
    "print('p-value: {0:.3f}'\n",
    "      .format(stats.mannwhitneyu(orders[orders['group']=='A']['revenue'], orders[orders['group']=='B']['revenue'])[1]))\n",
    "\n",
    "print('различие в среднем чеке {0:.3f}'\n",
    "      .format(orders[orders['group']=='B']['revenue'].mean()/orders[orders['group']=='A']['revenue'].mean()-1)) "
   ]
  },
  {
   "cell_type": "markdown",
   "metadata": {},
   "source": [
    "P-value составил 0.829, что превышает альфа значение 0.05. Нулевую гипотезу Н0, о том, что средние чеки двух групп пользователей равны, отвегнуть не получилось\n",
    "\n",
    "При этом показатель различия среднего чека показывает превышение среднего чека группы В над чеком группы А "
   ]
  },
  {
   "cell_type": "markdown",
   "metadata": {},
   "source": [
    "**Рассчет статистической значимости различий в конверсии между группами по «очищенным» данным**\n"
   ]
  },
  {
   "cell_type": "code",
   "execution_count": 39,
   "metadata": {},
   "outputs": [],
   "source": [
    "users_with_many_orders = pd.concat(\n",
    "    [\n",
    "        ordersByUsersA[ordersByUsersA['orders'] > 2]['userId'],\n",
    "        ordersByUsersB[ordersByUsersB['orders'] > 2]['userId'],\n",
    "    ],\n",
    "    axis=0,\n",
    ")\n",
    "users_with_expensive_orders = orders[orders['revenue'] > 28000]['visitorId']\n",
    "abnormal_users = (\n",
    "    pd.concat([users_with_many_orders, users_with_expensive_orders], axis=0)\n",
    "    .drop_duplicates()\n",
    "    .sort_values()\n",
    ")\n"
   ]
  },
  {
   "cell_type": "code",
   "execution_count": 40,
   "metadata": {},
   "outputs": [
    {
     "data": {
      "text/plain": [
       "55"
      ]
     },
     "execution_count": 40,
     "metadata": {},
     "output_type": "execute_result"
    }
   ],
   "source": [
    "len(abnormal_users)"
   ]
  },
  {
   "cell_type": "code",
   "execution_count": 41,
   "metadata": {},
   "outputs": [],
   "source": [
    "sampleAFiltered = pd.concat([ordersByUsersA[np.logical_not(ordersByUsersA['userId'].isin(abnormal_users))]['orders'],\n",
    "        pd.Series(\n",
    "            0,\n",
    "            index=np.arange(\n",
    "                merged_data['visitors_per_date_a'].sum() - len(ordersByUsersA['orders'])),name='orders')],axis=0)\n",
    "\n",
    "sampleBFiltered = pd.concat([ordersByUsersB[np.logical_not(ordersByUsersB['userId'].isin(abnormal_users))]['orders'],\n",
    "        pd.Series(\n",
    "            0,\n",
    "            index=np.arange(\n",
    "                merged_data['visitors_per_date_b'].sum() - len(ordersByUsersB['orders'])),name='orders')],axis=0,)"
   ]
  },
  {
   "cell_type": "code",
   "execution_count": 42,
   "metadata": {},
   "outputs": [
    {
     "name": "stdout",
     "output_type": "stream",
     "text": [
      "p_value: 0.009\n",
      "Различие в средних: 0.189\n"
     ]
    }
   ],
   "source": [
    "print('p_value: {0:.3f}'.format(stats.mannwhitneyu(sampleAFiltered, sampleBFiltered)[1]))\n",
    "print('Различие в средних: {0:.3f}'.format(sampleBFiltered.mean()/sampleAFiltered.mean()-1))"
   ]
  },
  {
   "cell_type": "markdown",
   "metadata": {},
   "source": [
    "После обработки сырых данных существенных различий не наблюдается.  p-value изменилась с 0.011 до 0.009, все еще оставаясь ниже 0.05\n",
    "\n",
    "Различие в средних значениях выросло с 0.160 до 0.189\n",
    "\n",
    "По итогам теста Манна-Уитни можно отвергнуть гипотезу об отустствии статистически значимых различий между двумя группами А и В в конверсии заказов"
   ]
  },
  {
   "cell_type": "markdown",
   "metadata": {},
   "source": [
    "**По очищенным данным конверсия также различна. Выбросы не повлияли на результаты**"
   ]
  },
  {
   "cell_type": "markdown",
   "metadata": {},
   "source": [
    "**Рассчет статистической значимости различий в среднем чеке заказа между группами по «очищенным» данным**"
   ]
  },
  {
   "cell_type": "code",
   "execution_count": 43,
   "metadata": {},
   "outputs": [
    {
     "name": "stdout",
     "output_type": "stream",
     "text": [
      "p_value: 0.762\n",
      "различие в среднем чеке -0.022\n"
     ]
    }
   ],
   "source": [
    "print(\n",
    "    'p_value: {0:.3f}'.format(stats.mannwhitneyu(\n",
    "        orders[np.logical_and(orders['group'] == 'A',\n",
    "                              np.logical_not(orders['visitorId'].isin(abnormal_users)))]['revenue'],\n",
    "            orders[np.logical_and(\n",
    "                orders['group'] == 'B',\n",
    "                np.logical_not(orders['visitorId'].isin(abnormal_users)))]['revenue'])[1]))\n",
    "\n",
    "print(\n",
    "    \"различие в среднем чеке {0:.3f}\".format(orders[np.logical_and(orders['group'] == 'B',\n",
    "                                           np.logical_not(orders['visitorId'].isin(abnormal_users)))]['revenue'].mean()\n",
    "        / orders[np.logical_and(orders['group'] == 'A',\n",
    "                                np.logical_not(orders['visitorId'].isin(abnormal_users)))]['revenue'].mean() - 1))\n"
   ]
  },
  {
   "cell_type": "markdown",
   "metadata": {},
   "source": [
    "После обработки данных гипотезу о том что средние чеки двух групп пользователей равны, все еще отвегнуть нельзя. P-value изменился с 0.829 до 0.762. Средние чеки существенно отличаются. \n",
    "\n",
    "При этом показатель различия среднего чека между группами А и В изменился с 0.287 на -0.022. Следовательно средний чек группы В в среднем ниже группы А"
   ]
  },
  {
   "cell_type": "markdown",
   "metadata": {},
   "source": [
    "# Общий вывод"
   ]
  },
  {
   "cell_type": "markdown",
   "metadata": {},
   "source": [
    "- Графики выручки обеих групп показывают стабильный рост. При этом в группе В после 17 августа рост выручки существенно выше чем в группе А\n",
    "- График кумуятивного среднего чека показывает рост чека в группе В после 17 августа.  При этом нет статистически значимого различия по среднему чеку между группами ни по «сырым», ни по данным после фильтрации аномалий\n",
    "- График конверсии показывает что конверсия в группе В стабильно выше. Гипотеза от отсутствии статистически значимых различий между двумя группами А и В в конверсии заказов не была отвергнута, что подтверждает значения графиков\n",
    "\n",
    "\n",
    "Общими итогами теста можно считать следующие:\n",
    "Увеличение выручки интернет магазина действительно произошло для группы В, при этом увеличение сопровождалось ростом конверсии а не ростом среднего чека. \n",
    "\n",
    "<b>Следовательно, тест может считаться успешным, и может  быть завершен. Победу можно присвоить группе B\n"
   ]
  }
 ],
 "metadata": {
  "ExecuteTimeLog": [
   {
    "duration": 1284,
    "start_time": "2022-09-18T08:19:21.893Z"
   },
   {
    "duration": 110,
    "start_time": "2022-09-18T08:19:54.166Z"
   },
   {
    "duration": 12,
    "start_time": "2022-09-18T08:20:06.575Z"
   },
   {
    "duration": 12,
    "start_time": "2022-09-18T08:20:11.030Z"
   },
   {
    "duration": 11,
    "start_time": "2022-09-18T08:20:32.300Z"
   },
   {
    "duration": 386,
    "start_time": "2022-09-18T08:23:41.302Z"
   },
   {
    "duration": 8,
    "start_time": "2022-09-18T08:23:49.166Z"
   },
   {
    "duration": 5,
    "start_time": "2022-09-18T08:24:35.102Z"
   },
   {
    "duration": 228,
    "start_time": "2022-09-18T08:24:43.373Z"
   },
   {
    "duration": 3,
    "start_time": "2022-09-18T08:25:17.726Z"
   },
   {
    "duration": 12,
    "start_time": "2022-09-18T08:25:20.557Z"
   },
   {
    "duration": 13,
    "start_time": "2022-09-18T08:27:47.362Z"
   },
   {
    "duration": 17,
    "start_time": "2022-09-18T08:27:54.076Z"
   },
   {
    "duration": 12,
    "start_time": "2022-09-18T08:29:34.762Z"
   },
   {
    "duration": 18,
    "start_time": "2022-09-18T08:29:47.191Z"
   },
   {
    "duration": 1035,
    "start_time": "2022-09-18T09:46:30.342Z"
   },
   {
    "duration": 2,
    "start_time": "2022-09-18T09:46:31.379Z"
   },
   {
    "duration": 108,
    "start_time": "2022-09-18T09:46:31.383Z"
   },
   {
    "duration": 10,
    "start_time": "2022-09-18T09:46:31.493Z"
   },
   {
    "duration": 12,
    "start_time": "2022-09-18T09:46:31.505Z"
   },
   {
    "duration": 44,
    "start_time": "2022-09-18T09:46:31.518Z"
   },
   {
    "duration": 11,
    "start_time": "2022-09-18T09:46:31.563Z"
   },
   {
    "duration": 98,
    "start_time": "2022-09-18T09:53:45.743Z"
   },
   {
    "duration": 7,
    "start_time": "2022-09-18T09:53:46.359Z"
   },
   {
    "duration": 138,
    "start_time": "2022-09-18T09:53:48.370Z"
   },
   {
    "duration": 8,
    "start_time": "2022-09-18T09:53:50.377Z"
   },
   {
    "duration": 10,
    "start_time": "2022-09-18T09:53:52.548Z"
   },
   {
    "duration": 8,
    "start_time": "2022-09-18T09:53:53.010Z"
   },
   {
    "duration": 7,
    "start_time": "2022-09-18T09:53:57.269Z"
   },
   {
    "duration": 10,
    "start_time": "2022-09-18T09:54:03.150Z"
   },
   {
    "duration": 7,
    "start_time": "2022-09-18T09:54:29.668Z"
   },
   {
    "duration": 6,
    "start_time": "2022-09-18T09:54:34.243Z"
   },
   {
    "duration": 4,
    "start_time": "2022-09-18T09:55:23.971Z"
   },
   {
    "duration": 8,
    "start_time": "2022-09-18T09:55:26.113Z"
   },
   {
    "duration": 10,
    "start_time": "2022-09-18T09:55:27.425Z"
   },
   {
    "duration": 7,
    "start_time": "2022-09-18T09:56:18.447Z"
   },
   {
    "duration": 9,
    "start_time": "2022-09-18T09:56:22.366Z"
   },
   {
    "duration": 6,
    "start_time": "2022-09-18T09:56:27.866Z"
   },
   {
    "duration": 4,
    "start_time": "2022-09-18T09:56:46.610Z"
   },
   {
    "duration": 10,
    "start_time": "2022-09-18T09:56:48.667Z"
   },
   {
    "duration": 7,
    "start_time": "2022-09-18T09:56:51.766Z"
   },
   {
    "duration": 949,
    "start_time": "2022-09-18T09:59:17.459Z"
   },
   {
    "duration": 3,
    "start_time": "2022-09-18T09:59:18.410Z"
   },
   {
    "duration": 66,
    "start_time": "2022-09-18T09:59:18.414Z"
   },
   {
    "duration": 51,
    "start_time": "2022-09-18T09:59:18.481Z"
   },
   {
    "duration": 12,
    "start_time": "2022-09-18T09:59:18.534Z"
   },
   {
    "duration": 10,
    "start_time": "2022-09-18T09:59:18.548Z"
   },
   {
    "duration": 6,
    "start_time": "2022-09-18T09:59:18.560Z"
   },
   {
    "duration": 5,
    "start_time": "2022-09-18T09:59:18.567Z"
   },
   {
    "duration": 8,
    "start_time": "2022-09-18T09:59:18.574Z"
   },
   {
    "duration": 27,
    "start_time": "2022-09-18T09:59:18.583Z"
   },
   {
    "duration": 6,
    "start_time": "2022-09-18T09:59:18.612Z"
   },
   {
    "duration": 5,
    "start_time": "2022-09-18T09:59:18.619Z"
   },
   {
    "duration": 12,
    "start_time": "2022-09-18T09:59:18.625Z"
   },
   {
    "duration": 3,
    "start_time": "2022-09-18T09:59:18.640Z"
   },
   {
    "duration": 12,
    "start_time": "2022-09-18T09:59:18.645Z"
   },
   {
    "duration": 10,
    "start_time": "2022-09-18T09:59:18.659Z"
   },
   {
    "duration": 7,
    "start_time": "2022-09-18T10:00:04.934Z"
   },
   {
    "duration": 7,
    "start_time": "2022-09-18T10:00:05.276Z"
   },
   {
    "duration": 1036,
    "start_time": "2022-09-18T10:10:58.180Z"
   },
   {
    "duration": 2,
    "start_time": "2022-09-18T10:10:59.218Z"
   },
   {
    "duration": 74,
    "start_time": "2022-09-18T10:10:59.222Z"
   },
   {
    "duration": 50,
    "start_time": "2022-09-18T10:10:59.297Z"
   },
   {
    "duration": 11,
    "start_time": "2022-09-18T10:10:59.349Z"
   },
   {
    "duration": 10,
    "start_time": "2022-09-18T10:10:59.361Z"
   },
   {
    "duration": 8,
    "start_time": "2022-09-18T10:10:59.373Z"
   },
   {
    "duration": 5,
    "start_time": "2022-09-18T10:10:59.382Z"
   },
   {
    "duration": 10,
    "start_time": "2022-09-18T10:10:59.389Z"
   },
   {
    "duration": 17,
    "start_time": "2022-09-18T10:10:59.400Z"
   },
   {
    "duration": 5,
    "start_time": "2022-09-18T10:10:59.418Z"
   },
   {
    "duration": 8,
    "start_time": "2022-09-18T10:10:59.425Z"
   },
   {
    "duration": 11,
    "start_time": "2022-09-18T10:10:59.434Z"
   },
   {
    "duration": 6,
    "start_time": "2022-09-18T10:10:59.447Z"
   },
   {
    "duration": 15,
    "start_time": "2022-09-18T10:10:59.454Z"
   },
   {
    "duration": 10,
    "start_time": "2022-09-18T10:10:59.470Z"
   },
   {
    "duration": 8,
    "start_time": "2022-09-18T10:10:59.482Z"
   },
   {
    "duration": 7,
    "start_time": "2022-09-18T10:10:59.509Z"
   },
   {
    "duration": 6,
    "start_time": "2022-09-18T10:10:59.517Z"
   },
   {
    "duration": 122,
    "start_time": "2022-09-18T10:14:01.807Z"
   },
   {
    "duration": 26,
    "start_time": "2022-09-18T10:14:25.887Z"
   },
   {
    "duration": 258,
    "start_time": "2022-09-18T10:16:19.349Z"
   },
   {
    "duration": 252,
    "start_time": "2022-09-18T10:16:26.960Z"
   },
   {
    "duration": 252,
    "start_time": "2022-09-18T10:17:33.720Z"
   },
   {
    "duration": 150,
    "start_time": "2022-09-18T10:18:20.970Z"
   },
   {
    "duration": 150,
    "start_time": "2022-09-18T10:22:08.716Z"
   },
   {
    "duration": 134,
    "start_time": "2022-09-18T10:22:19.018Z"
   },
   {
    "duration": 147,
    "start_time": "2022-09-18T10:22:38.364Z"
   },
   {
    "duration": 256,
    "start_time": "2022-09-18T10:22:50.438Z"
   },
   {
    "duration": 194,
    "start_time": "2022-09-18T10:22:55.870Z"
   },
   {
    "duration": 181,
    "start_time": "2022-09-18T10:23:00.661Z"
   },
   {
    "duration": 172,
    "start_time": "2022-09-18T10:23:11.960Z"
   },
   {
    "duration": 253,
    "start_time": "2022-09-18T10:23:16.721Z"
   },
   {
    "duration": 995,
    "start_time": "2022-09-18T10:34:56.720Z"
   },
   {
    "duration": 3,
    "start_time": "2022-09-18T10:34:57.717Z"
   },
   {
    "duration": 67,
    "start_time": "2022-09-18T10:34:57.721Z"
   },
   {
    "duration": 51,
    "start_time": "2022-09-18T10:34:57.789Z"
   },
   {
    "duration": 11,
    "start_time": "2022-09-18T10:34:57.842Z"
   },
   {
    "duration": 11,
    "start_time": "2022-09-18T10:34:57.854Z"
   },
   {
    "duration": 6,
    "start_time": "2022-09-18T10:34:57.866Z"
   },
   {
    "duration": 5,
    "start_time": "2022-09-18T10:34:57.873Z"
   },
   {
    "duration": 9,
    "start_time": "2022-09-18T10:34:57.879Z"
   },
   {
    "duration": 11,
    "start_time": "2022-09-18T10:34:57.889Z"
   },
   {
    "duration": 7,
    "start_time": "2022-09-18T10:34:57.901Z"
   },
   {
    "duration": 3,
    "start_time": "2022-09-18T10:34:57.910Z"
   },
   {
    "duration": 11,
    "start_time": "2022-09-18T10:34:57.914Z"
   },
   {
    "duration": 3,
    "start_time": "2022-09-18T10:34:57.928Z"
   },
   {
    "duration": 11,
    "start_time": "2022-09-18T10:34:57.932Z"
   },
   {
    "duration": 9,
    "start_time": "2022-09-18T10:34:57.945Z"
   },
   {
    "duration": 7,
    "start_time": "2022-09-18T10:34:57.956Z"
   },
   {
    "duration": 8,
    "start_time": "2022-09-18T10:34:57.964Z"
   },
   {
    "duration": 37,
    "start_time": "2022-09-18T10:34:57.974Z"
   },
   {
    "duration": 271,
    "start_time": "2022-09-18T10:34:58.013Z"
   },
   {
    "duration": 268,
    "start_time": "2022-09-18T10:34:58.286Z"
   },
   {
    "duration": 262,
    "start_time": "2022-09-18T10:36:21.543Z"
   },
   {
    "duration": 265,
    "start_time": "2022-09-18T10:36:35.185Z"
   },
   {
    "duration": 183,
    "start_time": "2022-09-18T10:38:10.337Z"
   },
   {
    "duration": 185,
    "start_time": "2022-09-18T10:38:36.437Z"
   },
   {
    "duration": 181,
    "start_time": "2022-09-18T10:38:50.218Z"
   },
   {
    "duration": 186,
    "start_time": "2022-09-18T10:40:15.341Z"
   },
   {
    "duration": 184,
    "start_time": "2022-09-18T10:40:22.195Z"
   },
   {
    "duration": 271,
    "start_time": "2022-09-18T10:41:12.901Z"
   },
   {
    "duration": 288,
    "start_time": "2022-09-18T10:42:03.031Z"
   },
   {
    "duration": 215,
    "start_time": "2022-09-18T10:42:15.934Z"
   },
   {
    "duration": 260,
    "start_time": "2022-09-18T10:42:48.341Z"
   },
   {
    "duration": 291,
    "start_time": "2022-09-18T10:47:39.774Z"
   },
   {
    "duration": 282,
    "start_time": "2022-09-18T11:13:15.012Z"
   },
   {
    "duration": 184,
    "start_time": "2022-09-18T11:13:25.571Z"
   },
   {
    "duration": 264,
    "start_time": "2022-09-18T11:34:51.870Z"
   },
   {
    "duration": 186,
    "start_time": "2022-09-18T11:36:30.975Z"
   },
   {
    "duration": 191,
    "start_time": "2022-09-18T11:36:39.071Z"
   },
   {
    "duration": 280,
    "start_time": "2022-09-18T11:38:37.734Z"
   },
   {
    "duration": 261,
    "start_time": "2022-09-18T11:38:49.360Z"
   },
   {
    "duration": 315,
    "start_time": "2022-09-18T11:39:14.511Z"
   },
   {
    "duration": 366,
    "start_time": "2022-09-18T11:39:21.064Z"
   },
   {
    "duration": 294,
    "start_time": "2022-09-18T11:40:10.972Z"
   },
   {
    "duration": 329,
    "start_time": "2022-09-18T11:40:37.905Z"
   },
   {
    "duration": 308,
    "start_time": "2022-09-18T11:40:43.513Z"
   },
   {
    "duration": 311,
    "start_time": "2022-09-18T11:40:48.902Z"
   },
   {
    "duration": 326,
    "start_time": "2022-09-18T11:41:06.214Z"
   },
   {
    "duration": 328,
    "start_time": "2022-09-18T11:41:10.615Z"
   },
   {
    "duration": 336,
    "start_time": "2022-09-18T11:41:18.702Z"
   },
   {
    "duration": 316,
    "start_time": "2022-09-18T11:41:46.406Z"
   },
   {
    "duration": 316,
    "start_time": "2022-09-18T11:41:51.803Z"
   },
   {
    "duration": 320,
    "start_time": "2022-09-18T11:43:27.194Z"
   },
   {
    "duration": 318,
    "start_time": "2022-09-18T11:43:49.302Z"
   },
   {
    "duration": 379,
    "start_time": "2022-09-18T11:43:56.556Z"
   },
   {
    "duration": 1017,
    "start_time": "2022-09-18T12:29:14.851Z"
   },
   {
    "duration": 3,
    "start_time": "2022-09-18T12:29:15.869Z"
   },
   {
    "duration": 74,
    "start_time": "2022-09-18T12:29:15.874Z"
   },
   {
    "duration": 50,
    "start_time": "2022-09-18T12:29:15.950Z"
   },
   {
    "duration": 11,
    "start_time": "2022-09-18T12:29:16.002Z"
   },
   {
    "duration": 17,
    "start_time": "2022-09-18T12:29:16.015Z"
   },
   {
    "duration": 7,
    "start_time": "2022-09-18T12:29:16.034Z"
   },
   {
    "duration": 6,
    "start_time": "2022-09-18T12:29:16.043Z"
   },
   {
    "duration": 10,
    "start_time": "2022-09-18T12:29:16.051Z"
   },
   {
    "duration": 14,
    "start_time": "2022-09-18T12:29:16.063Z"
   },
   {
    "duration": 7,
    "start_time": "2022-09-18T12:29:16.079Z"
   },
   {
    "duration": 4,
    "start_time": "2022-09-18T12:29:16.108Z"
   },
   {
    "duration": 14,
    "start_time": "2022-09-18T12:29:16.114Z"
   },
   {
    "duration": 3,
    "start_time": "2022-09-18T12:29:16.132Z"
   },
   {
    "duration": 20,
    "start_time": "2022-09-18T12:29:16.137Z"
   },
   {
    "duration": 14,
    "start_time": "2022-09-18T12:29:16.158Z"
   },
   {
    "duration": 8,
    "start_time": "2022-09-18T12:29:16.173Z"
   },
   {
    "duration": 33,
    "start_time": "2022-09-18T12:29:16.182Z"
   },
   {
    "duration": 7,
    "start_time": "2022-09-18T12:29:16.217Z"
   },
   {
    "duration": 270,
    "start_time": "2022-09-18T12:29:16.226Z"
   },
   {
    "duration": 276,
    "start_time": "2022-09-18T12:29:16.498Z"
   },
   {
    "duration": 202,
    "start_time": "2022-09-18T12:29:16.776Z"
   },
   {
    "duration": 306,
    "start_time": "2022-09-18T12:29:16.980Z"
   },
   {
    "duration": 349,
    "start_time": "2022-09-18T12:29:17.288Z"
   },
   {
    "duration": 391,
    "start_time": "2022-09-18T12:29:17.639Z"
   },
   {
    "duration": 321,
    "start_time": "2022-09-18T12:29:36.401Z"
   },
   {
    "duration": 314,
    "start_time": "2022-09-18T12:29:51.709Z"
   },
   {
    "duration": 370,
    "start_time": "2022-09-18T12:29:56.907Z"
   },
   {
    "duration": 246,
    "start_time": "2022-09-18T12:32:03.251Z"
   },
   {
    "duration": 351,
    "start_time": "2022-09-18T12:32:14.900Z"
   },
   {
    "duration": 7,
    "start_time": "2022-09-18T12:34:07.375Z"
   },
   {
    "duration": 9,
    "start_time": "2022-09-18T12:34:07.909Z"
   },
   {
    "duration": 128,
    "start_time": "2022-09-18T12:34:32.799Z"
   },
   {
    "duration": 11,
    "start_time": "2022-09-18T12:35:02.864Z"
   },
   {
    "duration": 10,
    "start_time": "2022-09-18T12:35:07.363Z"
   },
   {
    "duration": 8,
    "start_time": "2022-09-18T12:35:14.767Z"
   },
   {
    "duration": 3,
    "start_time": "2022-09-18T12:35:42.470Z"
   },
   {
    "duration": 4,
    "start_time": "2022-09-18T12:36:37.721Z"
   },
   {
    "duration": 10,
    "start_time": "2022-09-18T12:48:33.367Z"
   },
   {
    "duration": 10,
    "start_time": "2022-09-18T12:49:15.159Z"
   },
   {
    "duration": 11,
    "start_time": "2022-09-18T12:49:39.048Z"
   },
   {
    "duration": 99,
    "start_time": "2022-09-18T12:50:09.919Z"
   },
   {
    "duration": 4,
    "start_time": "2022-09-18T12:50:52.059Z"
   },
   {
    "duration": 114,
    "start_time": "2022-09-18T12:51:32.248Z"
   },
   {
    "duration": 4,
    "start_time": "2022-09-18T12:51:39.075Z"
   },
   {
    "duration": 1000,
    "start_time": "2022-09-18T13:06:56.703Z"
   },
   {
    "duration": 3,
    "start_time": "2022-09-18T13:06:57.705Z"
   },
   {
    "duration": 71,
    "start_time": "2022-09-18T13:06:57.709Z"
   },
   {
    "duration": 49,
    "start_time": "2022-09-18T13:06:57.782Z"
   },
   {
    "duration": 11,
    "start_time": "2022-09-18T13:06:57.833Z"
   },
   {
    "duration": 12,
    "start_time": "2022-09-18T13:06:57.845Z"
   },
   {
    "duration": 6,
    "start_time": "2022-09-18T13:06:57.858Z"
   },
   {
    "duration": 5,
    "start_time": "2022-09-18T13:06:57.866Z"
   },
   {
    "duration": 8,
    "start_time": "2022-09-18T13:06:57.872Z"
   },
   {
    "duration": 11,
    "start_time": "2022-09-18T13:06:57.882Z"
   },
   {
    "duration": 15,
    "start_time": "2022-09-18T13:06:57.894Z"
   },
   {
    "duration": 8,
    "start_time": "2022-09-18T13:06:57.911Z"
   },
   {
    "duration": 11,
    "start_time": "2022-09-18T13:06:57.920Z"
   },
   {
    "duration": 3,
    "start_time": "2022-09-18T13:06:57.934Z"
   },
   {
    "duration": 14,
    "start_time": "2022-09-18T13:06:57.938Z"
   },
   {
    "duration": 11,
    "start_time": "2022-09-18T13:06:57.953Z"
   },
   {
    "duration": 11,
    "start_time": "2022-09-18T13:06:57.966Z"
   },
   {
    "duration": 36,
    "start_time": "2022-09-18T13:06:57.978Z"
   },
   {
    "duration": 6,
    "start_time": "2022-09-18T13:06:58.016Z"
   },
   {
    "duration": 273,
    "start_time": "2022-09-18T13:06:58.024Z"
   },
   {
    "duration": 271,
    "start_time": "2022-09-18T13:06:58.298Z"
   },
   {
    "duration": 185,
    "start_time": "2022-09-18T13:06:58.571Z"
   },
   {
    "duration": 259,
    "start_time": "2022-09-18T13:06:58.757Z"
   },
   {
    "duration": 314,
    "start_time": "2022-09-18T13:06:59.017Z"
   },
   {
    "duration": 280,
    "start_time": "2022-09-18T13:06:59.333Z"
   },
   {
    "duration": 7,
    "start_time": "2022-09-18T13:06:59.615Z"
   },
   {
    "duration": 10,
    "start_time": "2022-09-18T13:06:59.623Z"
   },
   {
    "duration": 12,
    "start_time": "2022-09-18T13:06:59.634Z"
   },
   {
    "duration": 210,
    "start_time": "2022-09-18T13:06:59.647Z"
   },
   {
    "duration": 0,
    "start_time": "2022-09-18T13:06:59.858Z"
   },
   {
    "duration": 0,
    "start_time": "2022-09-18T13:06:59.859Z"
   },
   {
    "duration": 0,
    "start_time": "2022-09-18T13:06:59.861Z"
   },
   {
    "duration": 106,
    "start_time": "2022-09-18T13:07:17.603Z"
   },
   {
    "duration": 4,
    "start_time": "2022-09-18T13:07:27.688Z"
   },
   {
    "duration": 115,
    "start_time": "2022-09-18T13:07:37.887Z"
   },
   {
    "duration": 12,
    "start_time": "2022-09-18T13:09:47.104Z"
   },
   {
    "duration": 100,
    "start_time": "2022-09-18T13:13:46.171Z"
   },
   {
    "duration": 4,
    "start_time": "2022-09-18T13:14:14.619Z"
   },
   {
    "duration": 11,
    "start_time": "2022-09-18T13:15:56.300Z"
   },
   {
    "duration": 13,
    "start_time": "2022-09-18T13:17:42.287Z"
   },
   {
    "duration": 50,
    "start_time": "2022-09-18T13:17:51.851Z"
   },
   {
    "duration": 89,
    "start_time": "2022-09-18T13:19:30.063Z"
   },
   {
    "duration": 9,
    "start_time": "2022-09-18T13:20:46.703Z"
   },
   {
    "duration": 97,
    "start_time": "2022-09-18T13:21:51.305Z"
   },
   {
    "duration": 107,
    "start_time": "2022-09-18T13:25:55.649Z"
   },
   {
    "duration": 109,
    "start_time": "2022-09-18T13:26:04.265Z"
   },
   {
    "duration": 149,
    "start_time": "2022-09-18T13:28:26.211Z"
   },
   {
    "duration": 201,
    "start_time": "2022-09-18T13:40:34.357Z"
   },
   {
    "duration": 14,
    "start_time": "2022-09-18T13:45:50.296Z"
   },
   {
    "duration": 167,
    "start_time": "2022-09-18T13:46:43.812Z"
   },
   {
    "duration": 141,
    "start_time": "2022-09-18T13:46:51.064Z"
   },
   {
    "duration": 6,
    "start_time": "2022-09-18T13:47:53.758Z"
   },
   {
    "duration": 6,
    "start_time": "2022-09-18T13:54:12.590Z"
   },
   {
    "duration": 5,
    "start_time": "2022-09-18T13:54:21.846Z"
   },
   {
    "duration": 6,
    "start_time": "2022-09-18T13:55:10.672Z"
   },
   {
    "duration": 20,
    "start_time": "2022-09-18T13:55:48.691Z"
   },
   {
    "duration": 154,
    "start_time": "2022-09-18T13:59:30.370Z"
   },
   {
    "duration": 4,
    "start_time": "2022-09-18T14:00:38.080Z"
   },
   {
    "duration": 786,
    "start_time": "2022-09-18T14:03:34.220Z"
   },
   {
    "duration": 5,
    "start_time": "2022-09-18T14:04:07.752Z"
   },
   {
    "duration": 11,
    "start_time": "2022-09-18T14:04:08.585Z"
   },
   {
    "duration": 9,
    "start_time": "2022-09-18T14:04:40.104Z"
   },
   {
    "duration": 8,
    "start_time": "2022-09-18T14:05:12.290Z"
   },
   {
    "duration": 4,
    "start_time": "2022-09-18T14:05:19.508Z"
   },
   {
    "duration": 14,
    "start_time": "2022-09-18T14:05:23.239Z"
   },
   {
    "duration": 3,
    "start_time": "2022-09-18T14:05:27.443Z"
   },
   {
    "duration": 12,
    "start_time": "2022-09-18T14:05:38.157Z"
   },
   {
    "duration": 7,
    "start_time": "2022-09-18T14:10:51.582Z"
   },
   {
    "duration": 9,
    "start_time": "2022-09-18T14:11:04.594Z"
   },
   {
    "duration": 6,
    "start_time": "2022-09-18T14:13:35.324Z"
   },
   {
    "duration": 27,
    "start_time": "2022-09-18T14:13:36.073Z"
   },
   {
    "duration": 20,
    "start_time": "2022-09-18T14:13:43.176Z"
   },
   {
    "duration": 19,
    "start_time": "2022-09-18T14:15:05.658Z"
   },
   {
    "duration": 22,
    "start_time": "2022-09-18T14:21:48.103Z"
   },
   {
    "duration": 10,
    "start_time": "2022-09-18T14:22:40.714Z"
   },
   {
    "duration": 8,
    "start_time": "2022-09-18T14:27:26.552Z"
   },
   {
    "duration": 4,
    "start_time": "2022-09-18T14:28:57.044Z"
   },
   {
    "duration": 13,
    "start_time": "2022-09-18T14:29:18.804Z"
   },
   {
    "duration": 14,
    "start_time": "2022-09-18T14:29:40.155Z"
   },
   {
    "duration": 9,
    "start_time": "2022-09-18T14:29:52.474Z"
   },
   {
    "duration": 8,
    "start_time": "2022-09-18T14:29:59.487Z"
   },
   {
    "duration": 13,
    "start_time": "2022-09-18T14:30:04.515Z"
   },
   {
    "duration": 9,
    "start_time": "2022-09-18T14:30:08.771Z"
   },
   {
    "duration": 962,
    "start_time": "2022-09-18T14:30:19.565Z"
   },
   {
    "duration": 3,
    "start_time": "2022-09-18T14:30:20.529Z"
   },
   {
    "duration": 77,
    "start_time": "2022-09-18T14:30:20.534Z"
   },
   {
    "duration": 49,
    "start_time": "2022-09-18T14:30:20.613Z"
   },
   {
    "duration": 11,
    "start_time": "2022-09-18T14:30:20.664Z"
   },
   {
    "duration": 10,
    "start_time": "2022-09-18T14:30:20.676Z"
   },
   {
    "duration": 6,
    "start_time": "2022-09-18T14:30:20.687Z"
   },
   {
    "duration": 6,
    "start_time": "2022-09-18T14:30:20.694Z"
   },
   {
    "duration": 8,
    "start_time": "2022-09-18T14:30:20.701Z"
   },
   {
    "duration": 8,
    "start_time": "2022-09-18T14:30:20.711Z"
   },
   {
    "duration": 5,
    "start_time": "2022-09-18T14:30:20.721Z"
   },
   {
    "duration": 4,
    "start_time": "2022-09-18T14:30:20.727Z"
   },
   {
    "duration": 12,
    "start_time": "2022-09-18T14:30:20.732Z"
   },
   {
    "duration": 6,
    "start_time": "2022-09-18T14:30:20.745Z"
   },
   {
    "duration": 12,
    "start_time": "2022-09-18T14:30:20.752Z"
   },
   {
    "duration": 9,
    "start_time": "2022-09-18T14:30:20.766Z"
   },
   {
    "duration": 38,
    "start_time": "2022-09-18T14:30:20.776Z"
   },
   {
    "duration": 12,
    "start_time": "2022-09-18T14:30:20.816Z"
   },
   {
    "duration": 7,
    "start_time": "2022-09-18T14:30:20.830Z"
   },
   {
    "duration": 297,
    "start_time": "2022-09-18T14:30:20.839Z"
   },
   {
    "duration": 275,
    "start_time": "2022-09-18T14:30:21.137Z"
   },
   {
    "duration": 192,
    "start_time": "2022-09-18T14:30:21.413Z"
   },
   {
    "duration": 307,
    "start_time": "2022-09-18T14:30:21.606Z"
   },
   {
    "duration": 321,
    "start_time": "2022-09-18T14:30:21.915Z"
   },
   {
    "duration": 286,
    "start_time": "2022-09-18T14:30:22.237Z"
   },
   {
    "duration": 9,
    "start_time": "2022-09-18T14:30:22.525Z"
   },
   {
    "duration": 20,
    "start_time": "2022-09-18T14:30:22.536Z"
   },
   {
    "duration": 14,
    "start_time": "2022-09-18T14:30:22.560Z"
   },
   {
    "duration": 150,
    "start_time": "2022-09-18T14:30:22.576Z"
   },
   {
    "duration": 5,
    "start_time": "2022-09-18T14:30:22.728Z"
   },
   {
    "duration": 147,
    "start_time": "2022-09-18T14:30:22.735Z"
   },
   {
    "duration": 4,
    "start_time": "2022-09-18T14:30:22.884Z"
   },
   {
    "duration": 219,
    "start_time": "2022-09-18T14:30:22.889Z"
   },
   {
    "duration": 145,
    "start_time": "2022-09-18T14:30:23.109Z"
   },
   {
    "duration": 7,
    "start_time": "2022-09-18T14:30:23.256Z"
   },
   {
    "duration": 7,
    "start_time": "2022-09-18T14:30:23.265Z"
   },
   {
    "duration": 21,
    "start_time": "2022-09-18T14:30:23.273Z"
   },
   {
    "duration": 10,
    "start_time": "2022-09-18T14:30:23.308Z"
   },
   {
    "duration": 11,
    "start_time": "2022-09-18T14:30:23.319Z"
   },
   {
    "duration": 10,
    "start_time": "2022-09-18T14:30:23.331Z"
   },
   {
    "duration": 13,
    "start_time": "2022-09-18T14:31:01.549Z"
   },
   {
    "duration": 9,
    "start_time": "2022-09-18T14:31:24.200Z"
   },
   {
    "duration": 4,
    "start_time": "2022-09-18T14:31:52.501Z"
   },
   {
    "duration": 983,
    "start_time": "2022-09-18T14:37:57.445Z"
   },
   {
    "duration": 3,
    "start_time": "2022-09-18T14:37:58.430Z"
   },
   {
    "duration": 71,
    "start_time": "2022-09-18T14:37:58.434Z"
   },
   {
    "duration": 49,
    "start_time": "2022-09-18T14:37:58.506Z"
   },
   {
    "duration": 11,
    "start_time": "2022-09-18T14:37:58.557Z"
   },
   {
    "duration": 13,
    "start_time": "2022-09-18T14:37:58.569Z"
   },
   {
    "duration": 6,
    "start_time": "2022-09-18T14:37:58.583Z"
   },
   {
    "duration": 5,
    "start_time": "2022-09-18T14:37:58.590Z"
   },
   {
    "duration": 9,
    "start_time": "2022-09-18T14:37:58.596Z"
   },
   {
    "duration": 9,
    "start_time": "2022-09-18T14:37:58.607Z"
   },
   {
    "duration": 4,
    "start_time": "2022-09-18T14:37:58.618Z"
   },
   {
    "duration": 4,
    "start_time": "2022-09-18T14:37:58.624Z"
   },
   {
    "duration": 11,
    "start_time": "2022-09-18T14:37:58.629Z"
   },
   {
    "duration": 3,
    "start_time": "2022-09-18T14:37:58.643Z"
   },
   {
    "duration": 12,
    "start_time": "2022-09-18T14:37:58.647Z"
   },
   {
    "duration": 9,
    "start_time": "2022-09-18T14:37:58.661Z"
   },
   {
    "duration": 8,
    "start_time": "2022-09-18T14:37:58.672Z"
   },
   {
    "duration": 31,
    "start_time": "2022-09-18T14:37:58.682Z"
   },
   {
    "duration": 8,
    "start_time": "2022-09-18T14:37:58.715Z"
   },
   {
    "duration": 278,
    "start_time": "2022-09-18T14:37:58.725Z"
   },
   {
    "duration": 279,
    "start_time": "2022-09-18T14:37:59.005Z"
   },
   {
    "duration": 195,
    "start_time": "2022-09-18T14:37:59.285Z"
   },
   {
    "duration": 364,
    "start_time": "2022-09-18T14:37:59.481Z"
   },
   {
    "duration": 310,
    "start_time": "2022-09-18T14:37:59.846Z"
   },
   {
    "duration": 267,
    "start_time": "2022-09-18T14:38:00.157Z"
   },
   {
    "duration": 8,
    "start_time": "2022-09-18T14:38:00.425Z"
   },
   {
    "duration": 24,
    "start_time": "2022-09-18T14:38:00.435Z"
   },
   {
    "duration": 28,
    "start_time": "2022-09-18T14:38:00.461Z"
   },
   {
    "duration": 115,
    "start_time": "2022-09-18T14:38:00.491Z"
   },
   {
    "duration": 4,
    "start_time": "2022-09-18T14:38:00.607Z"
   },
   {
    "duration": 138,
    "start_time": "2022-09-18T14:38:00.613Z"
   },
   {
    "duration": 4,
    "start_time": "2022-09-18T14:38:00.752Z"
   },
   {
    "duration": 221,
    "start_time": "2022-09-18T14:38:00.757Z"
   },
   {
    "duration": 149,
    "start_time": "2022-09-18T14:38:00.979Z"
   },
   {
    "duration": 10,
    "start_time": "2022-09-18T14:38:01.129Z"
   },
   {
    "duration": 19,
    "start_time": "2022-09-18T14:38:01.141Z"
   },
   {
    "duration": 33,
    "start_time": "2022-09-18T14:38:01.161Z"
   },
   {
    "duration": 9,
    "start_time": "2022-09-18T14:38:01.196Z"
   },
   {
    "duration": 10,
    "start_time": "2022-09-18T14:38:01.208Z"
   },
   {
    "duration": 9,
    "start_time": "2022-09-18T14:38:01.219Z"
   },
   {
    "duration": 114,
    "start_time": "2022-09-18T14:38:01.231Z"
   },
   {
    "duration": 7,
    "start_time": "2022-09-18T14:38:32.276Z"
   },
   {
    "duration": 10,
    "start_time": "2022-09-18T14:39:03.318Z"
   },
   {
    "duration": 8,
    "start_time": "2022-09-18T14:39:18.927Z"
   },
   {
    "duration": 21,
    "start_time": "2022-09-18T14:39:33.144Z"
   },
   {
    "duration": 852,
    "start_time": "2022-09-18T14:40:07.850Z"
   },
   {
    "duration": 13,
    "start_time": "2022-09-18T14:40:57.310Z"
   },
   {
    "duration": 8,
    "start_time": "2022-09-18T14:44:39.289Z"
   },
   {
    "duration": 4,
    "start_time": "2022-09-18T14:47:03.211Z"
   },
   {
    "duration": 11,
    "start_time": "2022-09-18T14:47:09.058Z"
   },
   {
    "duration": 3,
    "start_time": "2022-09-18T14:47:17.751Z"
   },
   {
    "duration": 4,
    "start_time": "2022-09-18T14:47:28.189Z"
   },
   {
    "duration": 245,
    "start_time": "2022-09-18T14:49:51.948Z"
   },
   {
    "duration": 11,
    "start_time": "2022-09-18T14:57:12.644Z"
   },
   {
    "duration": 20,
    "start_time": "2022-09-18T14:57:13.996Z"
   },
   {
    "duration": 12,
    "start_time": "2022-09-18T14:58:51.017Z"
   },
   {
    "duration": 14,
    "start_time": "2022-09-18T15:00:18.215Z"
   },
   {
    "duration": 14,
    "start_time": "2022-09-18T15:00:37.577Z"
   },
   {
    "duration": 13,
    "start_time": "2022-09-18T15:01:06.686Z"
   },
   {
    "duration": 36,
    "start_time": "2022-09-18T15:01:49.359Z"
   },
   {
    "duration": 9,
    "start_time": "2022-09-18T15:02:35.001Z"
   },
   {
    "duration": 9,
    "start_time": "2022-09-18T15:45:18.555Z"
   },
   {
    "duration": 5,
    "start_time": "2022-09-18T15:45:20.664Z"
   },
   {
    "duration": 10,
    "start_time": "2022-09-18T15:45:21.944Z"
   },
   {
    "duration": 9,
    "start_time": "2022-09-18T15:45:24.074Z"
   },
   {
    "duration": 20,
    "start_time": "2022-09-18T15:45:25.740Z"
   },
   {
    "duration": 96,
    "start_time": "2022-09-18T15:46:01.987Z"
   },
   {
    "duration": 14,
    "start_time": "2022-09-18T15:46:10.885Z"
   },
   {
    "duration": 1092,
    "start_time": "2022-09-18T15:47:22.345Z"
   },
   {
    "duration": 4,
    "start_time": "2022-09-18T15:47:23.439Z"
   },
   {
    "duration": 76,
    "start_time": "2022-09-18T15:47:23.445Z"
   },
   {
    "duration": 50,
    "start_time": "2022-09-18T15:47:23.522Z"
   },
   {
    "duration": 11,
    "start_time": "2022-09-18T15:47:23.574Z"
   },
   {
    "duration": 9,
    "start_time": "2022-09-18T15:47:23.587Z"
   },
   {
    "duration": 7,
    "start_time": "2022-09-18T15:47:23.597Z"
   },
   {
    "duration": 4,
    "start_time": "2022-09-18T15:47:23.606Z"
   },
   {
    "duration": 8,
    "start_time": "2022-09-18T15:47:23.611Z"
   },
   {
    "duration": 9,
    "start_time": "2022-09-18T15:47:23.620Z"
   },
   {
    "duration": 6,
    "start_time": "2022-09-18T15:47:23.630Z"
   },
   {
    "duration": 6,
    "start_time": "2022-09-18T15:47:23.637Z"
   },
   {
    "duration": 12,
    "start_time": "2022-09-18T15:47:23.644Z"
   },
   {
    "duration": 6,
    "start_time": "2022-09-18T15:47:23.659Z"
   },
   {
    "duration": 12,
    "start_time": "2022-09-18T15:47:23.667Z"
   },
   {
    "duration": 10,
    "start_time": "2022-09-18T15:47:23.710Z"
   },
   {
    "duration": 9,
    "start_time": "2022-09-18T15:47:23.722Z"
   },
   {
    "duration": 10,
    "start_time": "2022-09-18T15:47:23.733Z"
   },
   {
    "duration": 7,
    "start_time": "2022-09-18T15:47:23.744Z"
   },
   {
    "duration": 301,
    "start_time": "2022-09-18T15:47:23.752Z"
   },
   {
    "duration": 297,
    "start_time": "2022-09-18T15:47:24.054Z"
   },
   {
    "duration": 193,
    "start_time": "2022-09-18T15:47:24.353Z"
   },
   {
    "duration": 274,
    "start_time": "2022-09-18T15:47:24.548Z"
   },
   {
    "duration": 319,
    "start_time": "2022-09-18T15:47:24.825Z"
   },
   {
    "duration": 272,
    "start_time": "2022-09-18T15:47:25.145Z"
   },
   {
    "duration": 12,
    "start_time": "2022-09-18T15:47:25.419Z"
   },
   {
    "duration": 112,
    "start_time": "2022-09-18T15:47:25.432Z"
   },
   {
    "duration": 4,
    "start_time": "2022-09-18T15:47:25.545Z"
   },
   {
    "duration": 131,
    "start_time": "2022-09-18T15:47:25.551Z"
   },
   {
    "duration": 4,
    "start_time": "2022-09-18T15:47:25.683Z"
   },
   {
    "duration": 221,
    "start_time": "2022-09-18T15:47:25.688Z"
   },
   {
    "duration": 145,
    "start_time": "2022-09-18T15:47:25.910Z"
   },
   {
    "duration": 6,
    "start_time": "2022-09-18T15:47:26.056Z"
   },
   {
    "duration": 26,
    "start_time": "2022-09-18T15:47:26.064Z"
   },
   {
    "duration": 24,
    "start_time": "2022-09-18T15:47:26.091Z"
   },
   {
    "duration": 9,
    "start_time": "2022-09-18T15:47:26.117Z"
   },
   {
    "duration": 5,
    "start_time": "2022-09-18T15:47:26.127Z"
   },
   {
    "duration": 15,
    "start_time": "2022-09-18T15:47:26.133Z"
   },
   {
    "duration": 9,
    "start_time": "2022-09-18T15:47:26.150Z"
   },
   {
    "duration": 36,
    "start_time": "2022-09-18T15:47:26.161Z"
   },
   {
    "duration": 17,
    "start_time": "2022-09-18T15:47:26.201Z"
   },
   {
    "duration": 1094,
    "start_time": "2022-09-18T15:48:22.350Z"
   },
   {
    "duration": 3,
    "start_time": "2022-09-18T15:48:23.446Z"
   },
   {
    "duration": 75,
    "start_time": "2022-09-18T15:48:23.450Z"
   },
   {
    "duration": 49,
    "start_time": "2022-09-18T15:48:23.526Z"
   },
   {
    "duration": 11,
    "start_time": "2022-09-18T15:48:23.577Z"
   },
   {
    "duration": 11,
    "start_time": "2022-09-18T15:48:23.589Z"
   },
   {
    "duration": 7,
    "start_time": "2022-09-18T15:48:23.602Z"
   },
   {
    "duration": 6,
    "start_time": "2022-09-18T15:48:23.611Z"
   },
   {
    "duration": 12,
    "start_time": "2022-09-18T15:48:23.618Z"
   },
   {
    "duration": 13,
    "start_time": "2022-09-18T15:48:23.632Z"
   },
   {
    "duration": 8,
    "start_time": "2022-09-18T15:48:23.647Z"
   },
   {
    "duration": 9,
    "start_time": "2022-09-18T15:48:23.656Z"
   },
   {
    "duration": 13,
    "start_time": "2022-09-18T15:48:23.666Z"
   },
   {
    "duration": 4,
    "start_time": "2022-09-18T15:48:23.682Z"
   },
   {
    "duration": 28,
    "start_time": "2022-09-18T15:48:23.688Z"
   },
   {
    "duration": 12,
    "start_time": "2022-09-18T15:48:23.718Z"
   },
   {
    "duration": 5,
    "start_time": "2022-09-18T15:48:23.732Z"
   },
   {
    "duration": 284,
    "start_time": "2022-09-18T15:48:23.739Z"
   },
   {
    "duration": 286,
    "start_time": "2022-09-18T15:48:24.024Z"
   },
   {
    "duration": 192,
    "start_time": "2022-09-18T15:48:24.312Z"
   },
   {
    "duration": 295,
    "start_time": "2022-09-18T15:48:24.506Z"
   },
   {
    "duration": 325,
    "start_time": "2022-09-18T15:48:24.802Z"
   },
   {
    "duration": 275,
    "start_time": "2022-09-18T15:48:25.129Z"
   },
   {
    "duration": 11,
    "start_time": "2022-09-18T15:48:25.409Z"
   },
   {
    "duration": 117,
    "start_time": "2022-09-18T15:48:25.422Z"
   },
   {
    "duration": 4,
    "start_time": "2022-09-18T15:48:25.541Z"
   },
   {
    "duration": 132,
    "start_time": "2022-09-18T15:48:25.546Z"
   },
   {
    "duration": 4,
    "start_time": "2022-09-18T15:48:25.679Z"
   },
   {
    "duration": 219,
    "start_time": "2022-09-18T15:48:25.685Z"
   },
   {
    "duration": 142,
    "start_time": "2022-09-18T15:48:25.909Z"
   },
   {
    "duration": 6,
    "start_time": "2022-09-18T15:48:26.052Z"
   },
   {
    "duration": 24,
    "start_time": "2022-09-18T15:48:26.059Z"
   },
   {
    "duration": 29,
    "start_time": "2022-09-18T15:48:26.084Z"
   },
   {
    "duration": 7,
    "start_time": "2022-09-18T15:48:26.115Z"
   },
   {
    "duration": 7,
    "start_time": "2022-09-18T15:48:26.123Z"
   },
   {
    "duration": 11,
    "start_time": "2022-09-18T15:48:26.131Z"
   },
   {
    "duration": 21,
    "start_time": "2022-09-18T15:48:26.143Z"
   },
   {
    "duration": 11,
    "start_time": "2022-09-18T15:48:26.166Z"
   },
   {
    "duration": 1264,
    "start_time": "2022-09-19T11:49:44.000Z"
   },
   {
    "duration": 3,
    "start_time": "2022-09-19T11:49:45.266Z"
   },
   {
    "duration": 124,
    "start_time": "2022-09-19T11:49:45.271Z"
   },
   {
    "duration": 131,
    "start_time": "2022-09-19T11:49:45.396Z"
   },
   {
    "duration": 12,
    "start_time": "2022-09-19T11:49:45.530Z"
   },
   {
    "duration": 11,
    "start_time": "2022-09-19T11:49:45.543Z"
   },
   {
    "duration": 9,
    "start_time": "2022-09-19T11:49:45.556Z"
   },
   {
    "duration": 5,
    "start_time": "2022-09-19T11:49:45.566Z"
   },
   {
    "duration": 10,
    "start_time": "2022-09-19T11:49:45.573Z"
   },
   {
    "duration": 13,
    "start_time": "2022-09-19T11:49:45.584Z"
   },
   {
    "duration": 5,
    "start_time": "2022-09-19T11:49:45.621Z"
   },
   {
    "duration": 13,
    "start_time": "2022-09-19T11:49:45.628Z"
   },
   {
    "duration": 14,
    "start_time": "2022-09-19T11:49:45.643Z"
   },
   {
    "duration": 4,
    "start_time": "2022-09-19T11:49:45.660Z"
   },
   {
    "duration": 20,
    "start_time": "2022-09-19T11:49:45.666Z"
   },
   {
    "duration": 11,
    "start_time": "2022-09-19T11:49:45.688Z"
   },
   {
    "duration": 25,
    "start_time": "2022-09-19T11:49:45.702Z"
   },
   {
    "duration": 294,
    "start_time": "2022-09-19T11:49:45.728Z"
   },
   {
    "duration": 310,
    "start_time": "2022-09-19T11:49:46.024Z"
   },
   {
    "duration": 220,
    "start_time": "2022-09-19T11:49:46.336Z"
   },
   {
    "duration": 355,
    "start_time": "2022-09-19T11:49:46.558Z"
   },
   {
    "duration": 353,
    "start_time": "2022-09-19T11:49:46.915Z"
   },
   {
    "duration": 295,
    "start_time": "2022-09-19T11:49:47.270Z"
   },
   {
    "duration": 12,
    "start_time": "2022-09-19T11:49:47.567Z"
   },
   {
    "duration": 141,
    "start_time": "2022-09-19T11:49:47.581Z"
   },
   {
    "duration": 4,
    "start_time": "2022-09-19T11:49:47.724Z"
   },
   {
    "duration": 159,
    "start_time": "2022-09-19T11:49:47.730Z"
   },
   {
    "duration": 5,
    "start_time": "2022-09-19T11:49:47.890Z"
   },
   {
    "duration": 253,
    "start_time": "2022-09-19T11:49:47.897Z"
   },
   {
    "duration": 149,
    "start_time": "2022-09-19T11:49:48.152Z"
   },
   {
    "duration": 7,
    "start_time": "2022-09-19T11:49:48.302Z"
   },
   {
    "duration": 32,
    "start_time": "2022-09-19T11:49:48.310Z"
   },
   {
    "duration": 10,
    "start_time": "2022-09-19T11:49:48.344Z"
   },
   {
    "duration": 15,
    "start_time": "2022-09-19T11:49:48.355Z"
   },
   {
    "duration": 8,
    "start_time": "2022-09-19T11:49:48.373Z"
   },
   {
    "duration": 12,
    "start_time": "2022-09-19T11:49:48.382Z"
   },
   {
    "duration": 42,
    "start_time": "2022-09-19T11:49:48.396Z"
   },
   {
    "duration": 14,
    "start_time": "2022-09-19T11:49:48.439Z"
   },
   {
    "duration": 48,
    "start_time": "2022-09-21T04:41:33.199Z"
   },
   {
    "duration": 1486,
    "start_time": "2022-09-21T16:03:52.850Z"
   },
   {
    "duration": 5,
    "start_time": "2022-09-21T16:03:54.340Z"
   },
   {
    "duration": 213,
    "start_time": "2022-09-21T16:03:54.349Z"
   },
   {
    "duration": 181,
    "start_time": "2022-09-21T16:03:54.564Z"
   },
   {
    "duration": 13,
    "start_time": "2022-09-21T16:03:54.747Z"
   },
   {
    "duration": 14,
    "start_time": "2022-09-21T16:03:54.762Z"
   },
   {
    "duration": 6,
    "start_time": "2022-09-21T16:03:54.778Z"
   },
   {
    "duration": 39,
    "start_time": "2022-09-21T16:03:54.786Z"
   },
   {
    "duration": 32,
    "start_time": "2022-09-21T16:03:54.827Z"
   },
   {
    "duration": 19,
    "start_time": "2022-09-21T16:03:54.860Z"
   },
   {
    "duration": 46,
    "start_time": "2022-09-21T16:03:54.881Z"
   },
   {
    "duration": 7,
    "start_time": "2022-09-21T16:03:54.929Z"
   },
   {
    "duration": 17,
    "start_time": "2022-09-21T16:03:54.938Z"
   },
   {
    "duration": 5,
    "start_time": "2022-09-21T16:03:54.958Z"
   },
   {
    "duration": 15,
    "start_time": "2022-09-21T16:03:54.965Z"
   },
   {
    "duration": 21,
    "start_time": "2022-09-21T16:03:54.982Z"
   },
   {
    "duration": 34,
    "start_time": "2022-09-21T16:03:55.004Z"
   },
   {
    "duration": 374,
    "start_time": "2022-09-21T16:03:55.040Z"
   },
   {
    "duration": 357,
    "start_time": "2022-09-21T16:03:55.419Z"
   },
   {
    "duration": 253,
    "start_time": "2022-09-21T16:03:55.778Z"
   },
   {
    "duration": 382,
    "start_time": "2022-09-21T16:03:56.033Z"
   },
   {
    "duration": 358,
    "start_time": "2022-09-21T16:03:56.417Z"
   },
   {
    "duration": 373,
    "start_time": "2022-09-21T16:03:56.776Z"
   },
   {
    "duration": 17,
    "start_time": "2022-09-21T16:03:57.152Z"
   },
   {
    "duration": 158,
    "start_time": "2022-09-21T16:03:57.171Z"
   },
   {
    "duration": 5,
    "start_time": "2022-09-21T16:03:57.332Z"
   },
   {
    "duration": 200,
    "start_time": "2022-09-21T16:03:57.339Z"
   },
   {
    "duration": 5,
    "start_time": "2022-09-21T16:03:57.541Z"
   },
   {
    "duration": 302,
    "start_time": "2022-09-21T16:03:57.549Z"
   },
   {
    "duration": 173,
    "start_time": "2022-09-21T16:03:57.852Z"
   },
   {
    "duration": 8,
    "start_time": "2022-09-21T16:03:58.030Z"
   },
   {
    "duration": 32,
    "start_time": "2022-09-21T16:03:58.039Z"
   },
   {
    "duration": 10,
    "start_time": "2022-09-21T16:03:58.072Z"
   },
   {
    "duration": 48,
    "start_time": "2022-09-21T16:03:58.084Z"
   },
   {
    "duration": 8,
    "start_time": "2022-09-21T16:03:58.134Z"
   },
   {
    "duration": 9,
    "start_time": "2022-09-21T16:03:58.143Z"
   },
   {
    "duration": 26,
    "start_time": "2022-09-21T16:03:58.154Z"
   },
   {
    "duration": 34,
    "start_time": "2022-09-21T16:03:58.182Z"
   }
  ],
  "kernelspec": {
   "display_name": "Python 3 (ipykernel)",
   "language": "python",
   "name": "python3"
  },
  "language_info": {
   "codemirror_mode": {
    "name": "ipython",
    "version": 3
   },
   "file_extension": ".py",
   "mimetype": "text/x-python",
   "name": "python",
   "nbconvert_exporter": "python",
   "pygments_lexer": "ipython3",
   "version": "3.9.7"
  },
  "toc": {
   "base_numbering": 1,
   "nav_menu": {},
   "number_sections": true,
   "sideBar": true,
   "skip_h1_title": true,
   "title_cell": "Table of Contents",
   "title_sidebar": "Contents",
   "toc_cell": false,
   "toc_position": {},
   "toc_section_display": true,
   "toc_window_display": false
  }
 },
 "nbformat": 4,
 "nbformat_minor": 2
}
