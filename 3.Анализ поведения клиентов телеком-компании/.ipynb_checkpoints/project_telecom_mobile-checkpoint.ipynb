{
 "cells": [
  {
   "cell_type": "markdown",
   "metadata": {},
   "source": [
    "# Определение перспективного тарифа для телеком-компании"
   ]
  },
  {
   "cell_type": "code",
   "execution_count": 1,
   "metadata": {},
   "outputs": [],
   "source": [
    "import pandas as pd \n",
    "from scipy import stats as st\n",
    "import numpy as np\n",
    "import matplotlib.pyplot as plt"
   ]
  },
  {
   "cell_type": "code",
   "execution_count": 2,
   "metadata": {},
   "outputs": [],
   "source": [
    "calls = pd.read_csv('/Users/ruslangayfullin/DA_New/YP/project_4_telecom_mobile/calls.csv')\n",
    "internet = pd.read_csv('/Users/ruslangayfullin/DA_New/YP/project_4_telecom_mobile/internet.csv')\n",
    "messages = pd.read_csv('/Users/ruslangayfullin/DA_New/YP/project_4_telecom_mobile/messages.csv')\n",
    "tariffs = pd.read_csv('/Users/ruslangayfullin/DA_New/YP/project_4_telecom_mobile/tariffs.csv')\n",
    "users = pd.read_csv('/Users/ruslangayfullin/DA_New/YP/project_4_telecom_mobile/users.csv')"
   ]
  },
  {
   "cell_type": "markdown",
   "metadata": {},
   "source": [
    "# Предварительный анализ и предобработка данных"
   ]
  },
  {
   "cell_type": "code",
   "execution_count": 3,
   "metadata": {},
   "outputs": [
    {
     "data": {
      "text/html": [
       "<div>\n",
       "<style scoped>\n",
       "    .dataframe tbody tr th:only-of-type {\n",
       "        vertical-align: middle;\n",
       "    }\n",
       "\n",
       "    .dataframe tbody tr th {\n",
       "        vertical-align: top;\n",
       "    }\n",
       "\n",
       "    .dataframe thead th {\n",
       "        text-align: right;\n",
       "    }\n",
       "</style>\n",
       "<table border=\"1\" class=\"dataframe\">\n",
       "  <thead>\n",
       "    <tr style=\"text-align: right;\">\n",
       "      <th></th>\n",
       "      <th>id</th>\n",
       "      <th>call_date</th>\n",
       "      <th>duration</th>\n",
       "      <th>user_id</th>\n",
       "    </tr>\n",
       "  </thead>\n",
       "  <tbody>\n",
       "    <tr>\n",
       "      <th>0</th>\n",
       "      <td>1000_0</td>\n",
       "      <td>2018-07-25</td>\n",
       "      <td>0.00</td>\n",
       "      <td>1000</td>\n",
       "    </tr>\n",
       "    <tr>\n",
       "      <th>1</th>\n",
       "      <td>1000_1</td>\n",
       "      <td>2018-08-17</td>\n",
       "      <td>0.00</td>\n",
       "      <td>1000</td>\n",
       "    </tr>\n",
       "    <tr>\n",
       "      <th>2</th>\n",
       "      <td>1000_2</td>\n",
       "      <td>2018-06-11</td>\n",
       "      <td>2.85</td>\n",
       "      <td>1000</td>\n",
       "    </tr>\n",
       "    <tr>\n",
       "      <th>3</th>\n",
       "      <td>1000_3</td>\n",
       "      <td>2018-09-21</td>\n",
       "      <td>13.80</td>\n",
       "      <td>1000</td>\n",
       "    </tr>\n",
       "    <tr>\n",
       "      <th>4</th>\n",
       "      <td>1000_4</td>\n",
       "      <td>2018-12-15</td>\n",
       "      <td>5.18</td>\n",
       "      <td>1000</td>\n",
       "    </tr>\n",
       "  </tbody>\n",
       "</table>\n",
       "</div>"
      ],
      "text/plain": [
       "       id   call_date  duration  user_id\n",
       "0  1000_0  2018-07-25      0.00     1000\n",
       "1  1000_1  2018-08-17      0.00     1000\n",
       "2  1000_2  2018-06-11      2.85     1000\n",
       "3  1000_3  2018-09-21     13.80     1000\n",
       "4  1000_4  2018-12-15      5.18     1000"
      ]
     },
     "execution_count": 3,
     "metadata": {},
     "output_type": "execute_result"
    }
   ],
   "source": [
    "calls.head()"
   ]
  },
  {
   "cell_type": "code",
   "execution_count": 4,
   "metadata": {},
   "outputs": [
    {
     "name": "stdout",
     "output_type": "stream",
     "text": [
      "<class 'pandas.core.frame.DataFrame'>\n",
      "RangeIndex: 202607 entries, 0 to 202606\n",
      "Data columns (total 4 columns):\n",
      " #   Column     Non-Null Count   Dtype  \n",
      "---  ------     --------------   -----  \n",
      " 0   id         202607 non-null  object \n",
      " 1   call_date  202607 non-null  object \n",
      " 2   duration   202607 non-null  float64\n",
      " 3   user_id    202607 non-null  int64  \n",
      "dtypes: float64(1), int64(1), object(2)\n",
      "memory usage: 6.2+ MB\n"
     ]
    }
   ],
   "source": [
    "calls.info()"
   ]
  },
  {
   "cell_type": "code",
   "execution_count": 5,
   "metadata": {},
   "outputs": [],
   "source": [
    "# приведем данные даты в формат datetime\n",
    "calls['call_date'] = pd.to_datetime(calls['call_date'],format ='%Y-%m-%d')\n",
    "calls['duration'] = np.ceil(calls['duration']).astype('int')"
   ]
  },
  {
   "cell_type": "code",
   "execution_count": 6,
   "metadata": {},
   "outputs": [
    {
     "data": {
      "text/html": [
       "<div>\n",
       "<style scoped>\n",
       "    .dataframe tbody tr th:only-of-type {\n",
       "        vertical-align: middle;\n",
       "    }\n",
       "\n",
       "    .dataframe tbody tr th {\n",
       "        vertical-align: top;\n",
       "    }\n",
       "\n",
       "    .dataframe thead th {\n",
       "        text-align: right;\n",
       "    }\n",
       "</style>\n",
       "<table border=\"1\" class=\"dataframe\">\n",
       "  <thead>\n",
       "    <tr style=\"text-align: right;\">\n",
       "      <th></th>\n",
       "      <th>Unnamed: 0</th>\n",
       "      <th>id</th>\n",
       "      <th>mb_used</th>\n",
       "      <th>session_date</th>\n",
       "      <th>user_id</th>\n",
       "    </tr>\n",
       "  </thead>\n",
       "  <tbody>\n",
       "    <tr>\n",
       "      <th>0</th>\n",
       "      <td>0</td>\n",
       "      <td>1000_0</td>\n",
       "      <td>112.95</td>\n",
       "      <td>2018-11-25</td>\n",
       "      <td>1000</td>\n",
       "    </tr>\n",
       "    <tr>\n",
       "      <th>1</th>\n",
       "      <td>1</td>\n",
       "      <td>1000_1</td>\n",
       "      <td>1052.81</td>\n",
       "      <td>2018-09-07</td>\n",
       "      <td>1000</td>\n",
       "    </tr>\n",
       "    <tr>\n",
       "      <th>2</th>\n",
       "      <td>2</td>\n",
       "      <td>1000_2</td>\n",
       "      <td>1197.26</td>\n",
       "      <td>2018-06-25</td>\n",
       "      <td>1000</td>\n",
       "    </tr>\n",
       "    <tr>\n",
       "      <th>3</th>\n",
       "      <td>3</td>\n",
       "      <td>1000_3</td>\n",
       "      <td>550.27</td>\n",
       "      <td>2018-08-22</td>\n",
       "      <td>1000</td>\n",
       "    </tr>\n",
       "    <tr>\n",
       "      <th>4</th>\n",
       "      <td>4</td>\n",
       "      <td>1000_4</td>\n",
       "      <td>302.56</td>\n",
       "      <td>2018-09-24</td>\n",
       "      <td>1000</td>\n",
       "    </tr>\n",
       "  </tbody>\n",
       "</table>\n",
       "</div>"
      ],
      "text/plain": [
       "   Unnamed: 0      id  mb_used session_date  user_id\n",
       "0           0  1000_0   112.95   2018-11-25     1000\n",
       "1           1  1000_1  1052.81   2018-09-07     1000\n",
       "2           2  1000_2  1197.26   2018-06-25     1000\n",
       "3           3  1000_3   550.27   2018-08-22     1000\n",
       "4           4  1000_4   302.56   2018-09-24     1000"
      ]
     },
     "execution_count": 6,
     "metadata": {},
     "output_type": "execute_result"
    }
   ],
   "source": [
    "internet.head()"
   ]
  },
  {
   "cell_type": "code",
   "execution_count": 7,
   "metadata": {},
   "outputs": [
    {
     "name": "stdout",
     "output_type": "stream",
     "text": [
      "<class 'pandas.core.frame.DataFrame'>\n",
      "RangeIndex: 149396 entries, 0 to 149395\n",
      "Data columns (total 5 columns):\n",
      " #   Column        Non-Null Count   Dtype  \n",
      "---  ------        --------------   -----  \n",
      " 0   Unnamed: 0    149396 non-null  int64  \n",
      " 1   id            149396 non-null  object \n",
      " 2   mb_used       149396 non-null  float64\n",
      " 3   session_date  149396 non-null  object \n",
      " 4   user_id       149396 non-null  int64  \n",
      "dtypes: float64(1), int64(2), object(2)\n",
      "memory usage: 5.7+ MB\n"
     ]
    }
   ],
   "source": [
    "internet.info()"
   ]
  },
  {
   "cell_type": "code",
   "execution_count": 8,
   "metadata": {},
   "outputs": [],
   "source": [
    "internet = internet.drop(columns='Unnamed: 0')"
   ]
  },
  {
   "cell_type": "code",
   "execution_count": 9,
   "metadata": {},
   "outputs": [],
   "source": [
    "internet['session_date'] = pd.to_datetime(internet['session_date'], format='%Y-%m-%d')\n"
   ]
  },
  {
   "cell_type": "code",
   "execution_count": 10,
   "metadata": {},
   "outputs": [
    {
     "data": {
      "text/html": [
       "<div>\n",
       "<style scoped>\n",
       "    .dataframe tbody tr th:only-of-type {\n",
       "        vertical-align: middle;\n",
       "    }\n",
       "\n",
       "    .dataframe tbody tr th {\n",
       "        vertical-align: top;\n",
       "    }\n",
       "\n",
       "    .dataframe thead th {\n",
       "        text-align: right;\n",
       "    }\n",
       "</style>\n",
       "<table border=\"1\" class=\"dataframe\">\n",
       "  <thead>\n",
       "    <tr style=\"text-align: right;\">\n",
       "      <th></th>\n",
       "      <th>id</th>\n",
       "      <th>message_date</th>\n",
       "      <th>user_id</th>\n",
       "    </tr>\n",
       "  </thead>\n",
       "  <tbody>\n",
       "    <tr>\n",
       "      <th>0</th>\n",
       "      <td>1000_0</td>\n",
       "      <td>2018-06-27</td>\n",
       "      <td>1000</td>\n",
       "    </tr>\n",
       "    <tr>\n",
       "      <th>1</th>\n",
       "      <td>1000_1</td>\n",
       "      <td>2018-10-08</td>\n",
       "      <td>1000</td>\n",
       "    </tr>\n",
       "    <tr>\n",
       "      <th>2</th>\n",
       "      <td>1000_2</td>\n",
       "      <td>2018-08-04</td>\n",
       "      <td>1000</td>\n",
       "    </tr>\n",
       "    <tr>\n",
       "      <th>3</th>\n",
       "      <td>1000_3</td>\n",
       "      <td>2018-06-16</td>\n",
       "      <td>1000</td>\n",
       "    </tr>\n",
       "    <tr>\n",
       "      <th>4</th>\n",
       "      <td>1000_4</td>\n",
       "      <td>2018-12-05</td>\n",
       "      <td>1000</td>\n",
       "    </tr>\n",
       "  </tbody>\n",
       "</table>\n",
       "</div>"
      ],
      "text/plain": [
       "       id message_date  user_id\n",
       "0  1000_0   2018-06-27     1000\n",
       "1  1000_1   2018-10-08     1000\n",
       "2  1000_2   2018-08-04     1000\n",
       "3  1000_3   2018-06-16     1000\n",
       "4  1000_4   2018-12-05     1000"
      ]
     },
     "execution_count": 10,
     "metadata": {},
     "output_type": "execute_result"
    }
   ],
   "source": [
    "messages.head()"
   ]
  },
  {
   "cell_type": "code",
   "execution_count": 11,
   "metadata": {},
   "outputs": [
    {
     "name": "stdout",
     "output_type": "stream",
     "text": [
      "<class 'pandas.core.frame.DataFrame'>\n",
      "RangeIndex: 123036 entries, 0 to 123035\n",
      "Data columns (total 3 columns):\n",
      " #   Column        Non-Null Count   Dtype \n",
      "---  ------        --------------   ----- \n",
      " 0   id            123036 non-null  object\n",
      " 1   message_date  123036 non-null  object\n",
      " 2   user_id       123036 non-null  int64 \n",
      "dtypes: int64(1), object(2)\n",
      "memory usage: 2.8+ MB\n"
     ]
    }
   ],
   "source": [
    "messages.info()"
   ]
  },
  {
   "cell_type": "code",
   "execution_count": 12,
   "metadata": {},
   "outputs": [],
   "source": [
    "messages['message_date'] = pd.to_datetime(messages['message_date'], format='%Y-%m-%d')"
   ]
  },
  {
   "cell_type": "code",
   "execution_count": 13,
   "metadata": {},
   "outputs": [
    {
     "data": {
      "text/html": [
       "<div>\n",
       "<style scoped>\n",
       "    .dataframe tbody tr th:only-of-type {\n",
       "        vertical-align: middle;\n",
       "    }\n",
       "\n",
       "    .dataframe tbody tr th {\n",
       "        vertical-align: top;\n",
       "    }\n",
       "\n",
       "    .dataframe thead th {\n",
       "        text-align: right;\n",
       "    }\n",
       "</style>\n",
       "<table border=\"1\" class=\"dataframe\">\n",
       "  <thead>\n",
       "    <tr style=\"text-align: right;\">\n",
       "      <th></th>\n",
       "      <th>messages_included</th>\n",
       "      <th>mb_per_month_included</th>\n",
       "      <th>minutes_included</th>\n",
       "      <th>rub_monthly_fee</th>\n",
       "      <th>rub_per_gb</th>\n",
       "      <th>rub_per_message</th>\n",
       "      <th>rub_per_minute</th>\n",
       "      <th>tariff_name</th>\n",
       "    </tr>\n",
       "  </thead>\n",
       "  <tbody>\n",
       "    <tr>\n",
       "      <th>0</th>\n",
       "      <td>50</td>\n",
       "      <td>15360</td>\n",
       "      <td>500</td>\n",
       "      <td>550</td>\n",
       "      <td>200</td>\n",
       "      <td>3</td>\n",
       "      <td>3</td>\n",
       "      <td>smart</td>\n",
       "    </tr>\n",
       "    <tr>\n",
       "      <th>1</th>\n",
       "      <td>1000</td>\n",
       "      <td>30720</td>\n",
       "      <td>3000</td>\n",
       "      <td>1950</td>\n",
       "      <td>150</td>\n",
       "      <td>1</td>\n",
       "      <td>1</td>\n",
       "      <td>ultra</td>\n",
       "    </tr>\n",
       "  </tbody>\n",
       "</table>\n",
       "</div>"
      ],
      "text/plain": [
       "   messages_included  mb_per_month_included  minutes_included  \\\n",
       "0                 50                  15360               500   \n",
       "1               1000                  30720              3000   \n",
       "\n",
       "   rub_monthly_fee  rub_per_gb  rub_per_message  rub_per_minute tariff_name  \n",
       "0              550         200                3               3       smart  \n",
       "1             1950         150                1               1       ultra  "
      ]
     },
     "execution_count": 13,
     "metadata": {},
     "output_type": "execute_result"
    }
   ],
   "source": [
    "tariffs"
   ]
  },
  {
   "cell_type": "code",
   "execution_count": 14,
   "metadata": {},
   "outputs": [
    {
     "name": "stdout",
     "output_type": "stream",
     "text": [
      "<class 'pandas.core.frame.DataFrame'>\n",
      "RangeIndex: 2 entries, 0 to 1\n",
      "Data columns (total 8 columns):\n",
      " #   Column                 Non-Null Count  Dtype \n",
      "---  ------                 --------------  ----- \n",
      " 0   messages_included      2 non-null      int64 \n",
      " 1   mb_per_month_included  2 non-null      int64 \n",
      " 2   minutes_included       2 non-null      int64 \n",
      " 3   rub_monthly_fee        2 non-null      int64 \n",
      " 4   rub_per_gb             2 non-null      int64 \n",
      " 5   rub_per_message        2 non-null      int64 \n",
      " 6   rub_per_minute         2 non-null      int64 \n",
      " 7   tariff_name            2 non-null      object\n",
      "dtypes: int64(7), object(1)\n",
      "memory usage: 256.0+ bytes\n"
     ]
    }
   ],
   "source": [
    "tariffs.info()"
   ]
  },
  {
   "cell_type": "code",
   "execution_count": 15,
   "metadata": {},
   "outputs": [
    {
     "data": {
      "text/html": [
       "<div>\n",
       "<style scoped>\n",
       "    .dataframe tbody tr th:only-of-type {\n",
       "        vertical-align: middle;\n",
       "    }\n",
       "\n",
       "    .dataframe tbody tr th {\n",
       "        vertical-align: top;\n",
       "    }\n",
       "\n",
       "    .dataframe thead th {\n",
       "        text-align: right;\n",
       "    }\n",
       "</style>\n",
       "<table border=\"1\" class=\"dataframe\">\n",
       "  <thead>\n",
       "    <tr style=\"text-align: right;\">\n",
       "      <th></th>\n",
       "      <th>user_id</th>\n",
       "      <th>age</th>\n",
       "      <th>churn_date</th>\n",
       "      <th>city</th>\n",
       "      <th>first_name</th>\n",
       "      <th>last_name</th>\n",
       "      <th>reg_date</th>\n",
       "      <th>tariff</th>\n",
       "    </tr>\n",
       "  </thead>\n",
       "  <tbody>\n",
       "    <tr>\n",
       "      <th>0</th>\n",
       "      <td>1000</td>\n",
       "      <td>52</td>\n",
       "      <td>NaN</td>\n",
       "      <td>Краснодар</td>\n",
       "      <td>Рафаил</td>\n",
       "      <td>Верещагин</td>\n",
       "      <td>2018-05-25</td>\n",
       "      <td>ultra</td>\n",
       "    </tr>\n",
       "    <tr>\n",
       "      <th>1</th>\n",
       "      <td>1001</td>\n",
       "      <td>41</td>\n",
       "      <td>NaN</td>\n",
       "      <td>Москва</td>\n",
       "      <td>Иван</td>\n",
       "      <td>Ежов</td>\n",
       "      <td>2018-11-01</td>\n",
       "      <td>smart</td>\n",
       "    </tr>\n",
       "    <tr>\n",
       "      <th>2</th>\n",
       "      <td>1002</td>\n",
       "      <td>59</td>\n",
       "      <td>NaN</td>\n",
       "      <td>Стерлитамак</td>\n",
       "      <td>Евгений</td>\n",
       "      <td>Абрамович</td>\n",
       "      <td>2018-06-17</td>\n",
       "      <td>smart</td>\n",
       "    </tr>\n",
       "    <tr>\n",
       "      <th>3</th>\n",
       "      <td>1003</td>\n",
       "      <td>23</td>\n",
       "      <td>NaN</td>\n",
       "      <td>Москва</td>\n",
       "      <td>Белла</td>\n",
       "      <td>Белякова</td>\n",
       "      <td>2018-08-17</td>\n",
       "      <td>ultra</td>\n",
       "    </tr>\n",
       "    <tr>\n",
       "      <th>4</th>\n",
       "      <td>1004</td>\n",
       "      <td>68</td>\n",
       "      <td>NaN</td>\n",
       "      <td>Новокузнецк</td>\n",
       "      <td>Татьяна</td>\n",
       "      <td>Авдеенко</td>\n",
       "      <td>2018-05-14</td>\n",
       "      <td>ultra</td>\n",
       "    </tr>\n",
       "  </tbody>\n",
       "</table>\n",
       "</div>"
      ],
      "text/plain": [
       "   user_id  age churn_date         city first_name  last_name    reg_date  \\\n",
       "0     1000   52        NaN    Краснодар     Рафаил  Верещагин  2018-05-25   \n",
       "1     1001   41        NaN       Москва       Иван       Ежов  2018-11-01   \n",
       "2     1002   59        NaN  Стерлитамак    Евгений  Абрамович  2018-06-17   \n",
       "3     1003   23        NaN       Москва      Белла   Белякова  2018-08-17   \n",
       "4     1004   68        NaN  Новокузнецк    Татьяна   Авдеенко  2018-05-14   \n",
       "\n",
       "  tariff  \n",
       "0  ultra  \n",
       "1  smart  \n",
       "2  smart  \n",
       "3  ultra  \n",
       "4  ultra  "
      ]
     },
     "execution_count": 15,
     "metadata": {},
     "output_type": "execute_result"
    }
   ],
   "source": [
    "users.head()"
   ]
  },
  {
   "cell_type": "code",
   "execution_count": 16,
   "metadata": {},
   "outputs": [
    {
     "name": "stdout",
     "output_type": "stream",
     "text": [
      "<class 'pandas.core.frame.DataFrame'>\n",
      "RangeIndex: 500 entries, 0 to 499\n",
      "Data columns (total 8 columns):\n",
      " #   Column      Non-Null Count  Dtype \n",
      "---  ------      --------------  ----- \n",
      " 0   user_id     500 non-null    int64 \n",
      " 1   age         500 non-null    int64 \n",
      " 2   churn_date  38 non-null     object\n",
      " 3   city        500 non-null    object\n",
      " 4   first_name  500 non-null    object\n",
      " 5   last_name   500 non-null    object\n",
      " 6   reg_date    500 non-null    object\n",
      " 7   tariff      500 non-null    object\n",
      "dtypes: int64(2), object(6)\n",
      "memory usage: 31.4+ KB\n"
     ]
    }
   ],
   "source": [
    "users.info()"
   ]
  },
  {
   "cell_type": "code",
   "execution_count": 17,
   "metadata": {},
   "outputs": [],
   "source": [
    "users['reg_date'] = pd.to_datetime(users['reg_date'], format='%Y-%m-%d')"
   ]
  },
  {
   "cell_type": "code",
   "execution_count": 18,
   "metadata": {},
   "outputs": [],
   "source": [
    "users['full_name'] = users['first_name'] + ' ' + users['last_name']"
   ]
  },
  {
   "cell_type": "markdown",
   "metadata": {},
   "source": [
    "В данных обнаружена ошибка формата записи даты. Данные приведены в формат datetime. Фамилии и имена записаны в разных колонках, создана колонка, объединяющая данные"
   ]
  },
  {
   "cell_type": "markdown",
   "metadata": {},
   "source": [
    "Подсчет для каждого пользователя:\n",
    "- количества сделанных звонков и израсходованных минут разговора по месяцам;\n",
    "- количества отправленных сообщений по месяцам;\n",
    "- объема израсходованного интернет-трафика по месяцам;\n",
    "- помесячную выручку с каждого пользователя "
   ]
  },
  {
   "cell_type": "code",
   "execution_count": 19,
   "metadata": {},
   "outputs": [
    {
     "data": {
      "text/html": [
       "<div>\n",
       "<style scoped>\n",
       "    .dataframe tbody tr th:only-of-type {\n",
       "        vertical-align: middle;\n",
       "    }\n",
       "\n",
       "    .dataframe tbody tr th {\n",
       "        vertical-align: top;\n",
       "    }\n",
       "\n",
       "    .dataframe thead th {\n",
       "        text-align: right;\n",
       "    }\n",
       "</style>\n",
       "<table border=\"1\" class=\"dataframe\">\n",
       "  <thead>\n",
       "    <tr style=\"text-align: right;\">\n",
       "      <th></th>\n",
       "      <th>user_id</th>\n",
       "      <th>tariff</th>\n",
       "      <th>city</th>\n",
       "    </tr>\n",
       "  </thead>\n",
       "  <tbody>\n",
       "    <tr>\n",
       "      <th>0</th>\n",
       "      <td>1000</td>\n",
       "      <td>ultra</td>\n",
       "      <td>Краснодар</td>\n",
       "    </tr>\n",
       "    <tr>\n",
       "      <th>1</th>\n",
       "      <td>1001</td>\n",
       "      <td>smart</td>\n",
       "      <td>Москва</td>\n",
       "    </tr>\n",
       "    <tr>\n",
       "      <th>2</th>\n",
       "      <td>1002</td>\n",
       "      <td>smart</td>\n",
       "      <td>Стерлитамак</td>\n",
       "    </tr>\n",
       "    <tr>\n",
       "      <th>3</th>\n",
       "      <td>1003</td>\n",
       "      <td>ultra</td>\n",
       "      <td>Москва</td>\n",
       "    </tr>\n",
       "    <tr>\n",
       "      <th>4</th>\n",
       "      <td>1004</td>\n",
       "      <td>ultra</td>\n",
       "      <td>Новокузнецк</td>\n",
       "    </tr>\n",
       "    <tr>\n",
       "      <th>...</th>\n",
       "      <td>...</td>\n",
       "      <td>...</td>\n",
       "      <td>...</td>\n",
       "    </tr>\n",
       "    <tr>\n",
       "      <th>495</th>\n",
       "      <td>1495</td>\n",
       "      <td>ultra</td>\n",
       "      <td>Иркутск</td>\n",
       "    </tr>\n",
       "    <tr>\n",
       "      <th>496</th>\n",
       "      <td>1496</td>\n",
       "      <td>smart</td>\n",
       "      <td>Вологда</td>\n",
       "    </tr>\n",
       "    <tr>\n",
       "      <th>497</th>\n",
       "      <td>1497</td>\n",
       "      <td>smart</td>\n",
       "      <td>Челябинск</td>\n",
       "    </tr>\n",
       "    <tr>\n",
       "      <th>498</th>\n",
       "      <td>1498</td>\n",
       "      <td>smart</td>\n",
       "      <td>Владикавказ</td>\n",
       "    </tr>\n",
       "    <tr>\n",
       "      <th>499</th>\n",
       "      <td>1499</td>\n",
       "      <td>smart</td>\n",
       "      <td>Пермь</td>\n",
       "    </tr>\n",
       "  </tbody>\n",
       "</table>\n",
       "<p>500 rows × 3 columns</p>\n",
       "</div>"
      ],
      "text/plain": [
       "     user_id tariff         city\n",
       "0       1000  ultra    Краснодар\n",
       "1       1001  smart       Москва\n",
       "2       1002  smart  Стерлитамак\n",
       "3       1003  ultra       Москва\n",
       "4       1004  ultra  Новокузнецк\n",
       "..       ...    ...          ...\n",
       "495     1495  ultra      Иркутск\n",
       "496     1496  smart      Вологда\n",
       "497     1497  smart    Челябинск\n",
       "498     1498  smart  Владикавказ\n",
       "499     1499  smart        Пермь\n",
       "\n",
       "[500 rows x 3 columns]"
      ]
     },
     "execution_count": 19,
     "metadata": {},
     "output_type": "execute_result"
    }
   ],
   "source": [
    "#создаем словарь, в котором сохраним только необходимые для дальнейшео анализа данные о пользователях\n",
    "tariff_dict = users[['user_id', 'tariff','city']]\n",
    "tariff_dict"
   ]
  },
  {
   "cell_type": "code",
   "execution_count": 20,
   "metadata": {},
   "outputs": [],
   "source": [
    "# создадим столбец с месяцем совершения звонка\n",
    "calls['month'] = calls['call_date'].dt.month"
   ]
  },
  {
   "cell_type": "code",
   "execution_count": 21,
   "metadata": {},
   "outputs": [
    {
     "data": {
      "text/html": [
       "<div>\n",
       "<style scoped>\n",
       "    .dataframe tbody tr th:only-of-type {\n",
       "        vertical-align: middle;\n",
       "    }\n",
       "\n",
       "    .dataframe tbody tr th {\n",
       "        vertical-align: top;\n",
       "    }\n",
       "\n",
       "    .dataframe thead th {\n",
       "        text-align: right;\n",
       "    }\n",
       "</style>\n",
       "<table border=\"1\" class=\"dataframe\">\n",
       "  <thead>\n",
       "    <tr style=\"text-align: right;\">\n",
       "      <th></th>\n",
       "      <th></th>\n",
       "      <th>minutes_sum</th>\n",
       "      <th>calls_count</th>\n",
       "    </tr>\n",
       "    <tr>\n",
       "      <th>month</th>\n",
       "      <th>user_id</th>\n",
       "      <th></th>\n",
       "      <th></th>\n",
       "    </tr>\n",
       "  </thead>\n",
       "  <tbody>\n",
       "    <tr>\n",
       "      <th rowspan=\"5\" valign=\"top\">1</th>\n",
       "      <th>1005</th>\n",
       "      <td>95</td>\n",
       "      <td>15</td>\n",
       "    </tr>\n",
       "    <tr>\n",
       "      <th>1032</th>\n",
       "      <td>380</td>\n",
       "      <td>61</td>\n",
       "    </tr>\n",
       "    <tr>\n",
       "      <th>1045</th>\n",
       "      <td>9</td>\n",
       "      <td>1</td>\n",
       "    </tr>\n",
       "    <tr>\n",
       "      <th>1055</th>\n",
       "      <td>551</td>\n",
       "      <td>64</td>\n",
       "    </tr>\n",
       "    <tr>\n",
       "      <th>1071</th>\n",
       "      <td>194</td>\n",
       "      <td>24</td>\n",
       "    </tr>\n",
       "    <tr>\n",
       "      <th>...</th>\n",
       "      <th>...</th>\n",
       "      <td>...</td>\n",
       "      <td>...</td>\n",
       "    </tr>\n",
       "    <tr>\n",
       "      <th rowspan=\"5\" valign=\"top\">12</th>\n",
       "      <th>1494</th>\n",
       "      <td>418</td>\n",
       "      <td>62</td>\n",
       "    </tr>\n",
       "    <tr>\n",
       "      <th>1495</th>\n",
       "      <td>1031</td>\n",
       "      <td>155</td>\n",
       "    </tr>\n",
       "    <tr>\n",
       "      <th>1496</th>\n",
       "      <td>518</td>\n",
       "      <td>80</td>\n",
       "    </tr>\n",
       "    <tr>\n",
       "      <th>1497</th>\n",
       "      <td>545</td>\n",
       "      <td>71</td>\n",
       "    </tr>\n",
       "    <tr>\n",
       "      <th>1499</th>\n",
       "      <td>492</td>\n",
       "      <td>69</td>\n",
       "    </tr>\n",
       "  </tbody>\n",
       "</table>\n",
       "<p>3174 rows × 2 columns</p>\n",
       "</div>"
      ],
      "text/plain": [
       "               minutes_sum  calls_count\n",
       "month user_id                          \n",
       "1     1005              95           15\n",
       "      1032             380           61\n",
       "      1045               9            1\n",
       "      1055             551           64\n",
       "      1071             194           24\n",
       "...                    ...          ...\n",
       "12    1494             418           62\n",
       "      1495            1031          155\n",
       "      1496             518           80\n",
       "      1497             545           71\n",
       "      1499             492           69\n",
       "\n",
       "[3174 rows x 2 columns]"
      ]
     },
     "execution_count": 21,
     "metadata": {},
     "output_type": "execute_result"
    }
   ],
   "source": [
    "#построим сводную таблицу, в которой рассчитаем сумму минут и количество звонков для каждого пользователя в каждый месяц\n",
    "calls_pivot = calls.pivot_table(index=('month','user_id') , values = 'duration', aggfunc=['sum', 'count']).droplevel(1, axis=1)\n",
    "calls_pivot = calls_pivot.rename(columns={'sum':'minutes_sum', 'count':'calls_count'})\n",
    "\n",
    "calls_pivot"
   ]
  },
  {
   "cell_type": "code",
   "execution_count": 22,
   "metadata": {},
   "outputs": [],
   "source": [
    "messages['month'] = messages['message_date'].dt.month"
   ]
  },
  {
   "cell_type": "code",
   "execution_count": 23,
   "metadata": {},
   "outputs": [
    {
     "data": {
      "text/html": [
       "<div>\n",
       "<style scoped>\n",
       "    .dataframe tbody tr th:only-of-type {\n",
       "        vertical-align: middle;\n",
       "    }\n",
       "\n",
       "    .dataframe tbody tr th {\n",
       "        vertical-align: top;\n",
       "    }\n",
       "\n",
       "    .dataframe thead th {\n",
       "        text-align: right;\n",
       "    }\n",
       "</style>\n",
       "<table border=\"1\" class=\"dataframe\">\n",
       "  <thead>\n",
       "    <tr style=\"text-align: right;\">\n",
       "      <th></th>\n",
       "      <th></th>\n",
       "      <th>messages_count</th>\n",
       "    </tr>\n",
       "    <tr>\n",
       "      <th>month</th>\n",
       "      <th>user_id</th>\n",
       "      <th></th>\n",
       "    </tr>\n",
       "  </thead>\n",
       "  <tbody>\n",
       "    <tr>\n",
       "      <th rowspan=\"5\" valign=\"top\">1</th>\n",
       "      <th>1005</th>\n",
       "      <td>7</td>\n",
       "    </tr>\n",
       "    <tr>\n",
       "      <th>1032</th>\n",
       "      <td>38</td>\n",
       "    </tr>\n",
       "    <tr>\n",
       "      <th>1045</th>\n",
       "      <td>5</td>\n",
       "    </tr>\n",
       "    <tr>\n",
       "      <th>1055</th>\n",
       "      <td>30</td>\n",
       "    </tr>\n",
       "    <tr>\n",
       "      <th>1071</th>\n",
       "      <td>16</td>\n",
       "    </tr>\n",
       "    <tr>\n",
       "      <th>...</th>\n",
       "      <th>...</th>\n",
       "      <td>...</td>\n",
       "    </tr>\n",
       "    <tr>\n",
       "      <th rowspan=\"5\" valign=\"top\">12</th>\n",
       "      <th>1493</th>\n",
       "      <td>78</td>\n",
       "    </tr>\n",
       "    <tr>\n",
       "      <th>1495</th>\n",
       "      <td>84</td>\n",
       "    </tr>\n",
       "    <tr>\n",
       "      <th>1496</th>\n",
       "      <td>51</td>\n",
       "    </tr>\n",
       "    <tr>\n",
       "      <th>1497</th>\n",
       "      <td>17</td>\n",
       "    </tr>\n",
       "    <tr>\n",
       "      <th>1499</th>\n",
       "      <td>66</td>\n",
       "    </tr>\n",
       "  </tbody>\n",
       "</table>\n",
       "<p>2717 rows × 1 columns</p>\n",
       "</div>"
      ],
      "text/plain": [
       "               messages_count\n",
       "month user_id                \n",
       "1     1005                  7\n",
       "      1032                 38\n",
       "      1045                  5\n",
       "      1055                 30\n",
       "      1071                 16\n",
       "...                       ...\n",
       "12    1493                 78\n",
       "      1495                 84\n",
       "      1496                 51\n",
       "      1497                 17\n",
       "      1499                 66\n",
       "\n",
       "[2717 rows x 1 columns]"
      ]
     },
     "execution_count": 23,
     "metadata": {},
     "output_type": "execute_result"
    }
   ],
   "source": [
    "# аналогично со звонками - рассчитаем сводную таблицу для сообщений\n",
    "messages_pivot = messages.pivot_table(index=('month','user_id') , values = 'id', aggfunc=['count']).droplevel(1, axis=1)\n",
    "messages_pivot = messages_pivot.rename(columns={'count':'messages_count'}) \n",
    "messages_pivot"
   ]
  },
  {
   "cell_type": "code",
   "execution_count": 24,
   "metadata": {},
   "outputs": [],
   "source": [
    "internet['month'] = internet['session_date'].dt.month"
   ]
  },
  {
   "cell_type": "code",
   "execution_count": 25,
   "metadata": {},
   "outputs": [
    {
     "data": {
      "text/html": [
       "<div>\n",
       "<style scoped>\n",
       "    .dataframe tbody tr th:only-of-type {\n",
       "        vertical-align: middle;\n",
       "    }\n",
       "\n",
       "    .dataframe tbody tr th {\n",
       "        vertical-align: top;\n",
       "    }\n",
       "\n",
       "    .dataframe thead th {\n",
       "        text-align: right;\n",
       "    }\n",
       "</style>\n",
       "<table border=\"1\" class=\"dataframe\">\n",
       "  <thead>\n",
       "    <tr style=\"text-align: right;\">\n",
       "      <th></th>\n",
       "      <th></th>\n",
       "      <th>mb_sum</th>\n",
       "    </tr>\n",
       "    <tr>\n",
       "      <th>month</th>\n",
       "      <th>user_id</th>\n",
       "      <th></th>\n",
       "    </tr>\n",
       "  </thead>\n",
       "  <tbody>\n",
       "    <tr>\n",
       "      <th rowspan=\"5\" valign=\"top\">1</th>\n",
       "      <th>1005</th>\n",
       "      <td>2727.97</td>\n",
       "    </tr>\n",
       "    <tr>\n",
       "      <th>1032</th>\n",
       "      <td>24127.69</td>\n",
       "    </tr>\n",
       "    <tr>\n",
       "      <th>1045</th>\n",
       "      <td>2346.71</td>\n",
       "    </tr>\n",
       "    <tr>\n",
       "      <th>1055</th>\n",
       "      <td>17090.88</td>\n",
       "    </tr>\n",
       "    <tr>\n",
       "      <th>1071</th>\n",
       "      <td>15604.34</td>\n",
       "    </tr>\n",
       "    <tr>\n",
       "      <th>...</th>\n",
       "      <th>...</th>\n",
       "      <td>...</td>\n",
       "    </tr>\n",
       "    <tr>\n",
       "      <th rowspan=\"5\" valign=\"top\">12</th>\n",
       "      <th>1494</th>\n",
       "      <td>17621.21</td>\n",
       "    </tr>\n",
       "    <tr>\n",
       "      <th>1495</th>\n",
       "      <td>23426.76</td>\n",
       "    </tr>\n",
       "    <tr>\n",
       "      <th>1496</th>\n",
       "      <td>20736.15</td>\n",
       "    </tr>\n",
       "    <tr>\n",
       "      <th>1497</th>\n",
       "      <td>19918.60</td>\n",
       "    </tr>\n",
       "    <tr>\n",
       "      <th>1499</th>\n",
       "      <td>13055.58</td>\n",
       "    </tr>\n",
       "  </tbody>\n",
       "</table>\n",
       "<p>3203 rows × 1 columns</p>\n",
       "</div>"
      ],
      "text/plain": [
       "                 mb_sum\n",
       "month user_id          \n",
       "1     1005      2727.97\n",
       "      1032     24127.69\n",
       "      1045      2346.71\n",
       "      1055     17090.88\n",
       "      1071     15604.34\n",
       "...                 ...\n",
       "12    1494     17621.21\n",
       "      1495     23426.76\n",
       "      1496     20736.15\n",
       "      1497     19918.60\n",
       "      1499     13055.58\n",
       "\n",
       "[3203 rows x 1 columns]"
      ]
     },
     "execution_count": 25,
     "metadata": {},
     "output_type": "execute_result"
    }
   ],
   "source": [
    "#рассчитаем сводную таблицу для потраченных мегабайт интернета\n",
    "internet_pivot = internet.pivot_table(index=('month','user_id') , values = 'mb_used', aggfunc=['sum']).droplevel(1, axis=1)\n",
    "internet_pivot = internet_pivot.rename(columns={'sum':'mb_sum'})\n",
    "internet_pivot"
   ]
  },
  {
   "cell_type": "code",
   "execution_count": 26,
   "metadata": {},
   "outputs": [],
   "source": [
    "# объеденим расчеты потраченых звонков сообщений и интернет-трафика в единую таблицу\n",
    "total_pivot = internet_pivot.merge(messages_pivot, on=['user_id','month'], how='outer')\n",
    "total_pivot = total_pivot.merge(calls_pivot, on=['user_id','month'], how='outer')\n",
    "total_pivot = total_pivot.reset_index()\n"
   ]
  },
  {
   "cell_type": "code",
   "execution_count": 27,
   "metadata": {},
   "outputs": [
    {
     "name": "stdout",
     "output_type": "stream",
     "text": [
      "<class 'pandas.core.frame.DataFrame'>\n",
      "RangeIndex: 3214 entries, 0 to 3213\n",
      "Data columns (total 6 columns):\n",
      " #   Column          Non-Null Count  Dtype  \n",
      "---  ------          --------------  -----  \n",
      " 0   user_id         3214 non-null   int64  \n",
      " 1   month           3214 non-null   int64  \n",
      " 2   mb_sum          3203 non-null   float64\n",
      " 3   messages_count  2717 non-null   float64\n",
      " 4   minutes_sum     3174 non-null   float64\n",
      " 5   calls_count     3174 non-null   float64\n",
      "dtypes: float64(4), int64(2)\n",
      "memory usage: 150.8 KB\n"
     ]
    }
   ],
   "source": [
    "total_pivot.info()"
   ]
  },
  {
   "cell_type": "code",
   "execution_count": 28,
   "metadata": {},
   "outputs": [],
   "source": [
    "# при объединении в данных появились пропуски. Данные пропуски свидетельствуют о том, \n",
    "# что абонент в определенный месяц не использовал отдельные виды услуг оператора, но при этом использовал другие.\n",
    "# корректно будет заменить пропущенные значения на 0\n",
    "total_pivot = total_pivot.fillna(0)"
   ]
  },
  {
   "cell_type": "code",
   "execution_count": 29,
   "metadata": {},
   "outputs": [
    {
     "data": {
      "text/html": [
       "<div>\n",
       "<style scoped>\n",
       "    .dataframe tbody tr th:only-of-type {\n",
       "        vertical-align: middle;\n",
       "    }\n",
       "\n",
       "    .dataframe tbody tr th {\n",
       "        vertical-align: top;\n",
       "    }\n",
       "\n",
       "    .dataframe thead th {\n",
       "        text-align: right;\n",
       "    }\n",
       "</style>\n",
       "<table border=\"1\" class=\"dataframe\">\n",
       "  <thead>\n",
       "    <tr style=\"text-align: right;\">\n",
       "      <th></th>\n",
       "      <th>user_id</th>\n",
       "      <th>month</th>\n",
       "      <th>mb_sum</th>\n",
       "      <th>messages_count</th>\n",
       "      <th>minutes_sum</th>\n",
       "      <th>calls_count</th>\n",
       "      <th>tariff</th>\n",
       "      <th>city</th>\n",
       "    </tr>\n",
       "  </thead>\n",
       "  <tbody>\n",
       "    <tr>\n",
       "      <th>0</th>\n",
       "      <td>1005</td>\n",
       "      <td>1</td>\n",
       "      <td>2727.97</td>\n",
       "      <td>7.0</td>\n",
       "      <td>95.0</td>\n",
       "      <td>15.0</td>\n",
       "      <td>smart</td>\n",
       "      <td>Набережные Челны</td>\n",
       "    </tr>\n",
       "    <tr>\n",
       "      <th>1</th>\n",
       "      <td>1005</td>\n",
       "      <td>2</td>\n",
       "      <td>7383.93</td>\n",
       "      <td>38.0</td>\n",
       "      <td>456.0</td>\n",
       "      <td>69.0</td>\n",
       "      <td>smart</td>\n",
       "      <td>Набережные Челны</td>\n",
       "    </tr>\n",
       "    <tr>\n",
       "      <th>2</th>\n",
       "      <td>1005</td>\n",
       "      <td>3</td>\n",
       "      <td>11104.25</td>\n",
       "      <td>56.0</td>\n",
       "      <td>606.0</td>\n",
       "      <td>77.0</td>\n",
       "      <td>smart</td>\n",
       "      <td>Набережные Челны</td>\n",
       "    </tr>\n",
       "    <tr>\n",
       "      <th>3</th>\n",
       "      <td>1005</td>\n",
       "      <td>4</td>\n",
       "      <td>9351.72</td>\n",
       "      <td>41.0</td>\n",
       "      <td>712.0</td>\n",
       "      <td>101.0</td>\n",
       "      <td>smart</td>\n",
       "      <td>Набережные Челны</td>\n",
       "    </tr>\n",
       "    <tr>\n",
       "      <th>4</th>\n",
       "      <td>1005</td>\n",
       "      <td>5</td>\n",
       "      <td>7865.53</td>\n",
       "      <td>42.0</td>\n",
       "      <td>595.0</td>\n",
       "      <td>73.0</td>\n",
       "      <td>smart</td>\n",
       "      <td>Набережные Челны</td>\n",
       "    </tr>\n",
       "  </tbody>\n",
       "</table>\n",
       "</div>"
      ],
      "text/plain": [
       "   user_id  month    mb_sum  messages_count  minutes_sum  calls_count tariff  \\\n",
       "0     1005      1   2727.97             7.0         95.0         15.0  smart   \n",
       "1     1005      2   7383.93            38.0        456.0         69.0  smart   \n",
       "2     1005      3  11104.25            56.0        606.0         77.0  smart   \n",
       "3     1005      4   9351.72            41.0        712.0        101.0  smart   \n",
       "4     1005      5   7865.53            42.0        595.0         73.0  smart   \n",
       "\n",
       "               city  \n",
       "0  Набережные Челны  \n",
       "1  Набережные Челны  \n",
       "2  Набережные Челны  \n",
       "3  Набережные Челны  \n",
       "4  Набережные Челны  "
      ]
     },
     "execution_count": 29,
     "metadata": {},
     "output_type": "execute_result"
    }
   ],
   "source": [
    "# добавим к каждому пользователю информацию о тарифе и городе для дальнейшего анализа\n",
    "total_pivot = total_pivot.merge(tariff_dict, on=['user_id'])\n",
    "total_pivot.head()"
   ]
  },
  {
   "cell_type": "code",
   "execution_count": 30,
   "metadata": {},
   "outputs": [],
   "source": [
    "# добавим в таблицу информацию об условиях использования каждого тарифа для дальнейшего расчета выручки\n",
    "total_pivot = total_pivot.merge(tariffs, left_on='tariff', right_on='tariff_name')"
   ]
  },
  {
   "cell_type": "markdown",
   "metadata": {},
   "source": [
    "Рассчет помесячной выручки с каждого пользователя (вычтем бесплатный лимит из суммарного количества звонков, сообщений и интернет-трафика; остаток умножим на значение из тарифного плана; прибавим абонентскую плату, соответствующую тарифному плану)."
   ]
  },
  {
   "cell_type": "code",
   "execution_count": 31,
   "metadata": {},
   "outputs": [],
   "source": [
    "def revenue(row):\n",
    "    return(\n",
    "    np.maximum(((row['minutes_sum'] - row['minutes_included'])*row['rub_per_minute']),0)+\n",
    "    np.maximum(((row['messages_count'] - row['messages_included'])*row['rub_per_message']),0)+\n",
    "    np.maximum((((row['mb_sum'] - row['mb_per_month_included']) / 1024) * row['rub_per_gb']),0)+\n",
    "    (row['rub_monthly_fee'])\n",
    "    )\n",
    "total_pivot['revenue'] = total_pivot.apply(revenue, axis=1)"
   ]
  },
  {
   "cell_type": "code",
   "execution_count": 32,
   "metadata": {},
   "outputs": [
    {
     "data": {
      "text/html": [
       "<div>\n",
       "<style scoped>\n",
       "    .dataframe tbody tr th:only-of-type {\n",
       "        vertical-align: middle;\n",
       "    }\n",
       "\n",
       "    .dataframe tbody tr th {\n",
       "        vertical-align: top;\n",
       "    }\n",
       "\n",
       "    .dataframe thead th {\n",
       "        text-align: right;\n",
       "    }\n",
       "</style>\n",
       "<table border=\"1\" class=\"dataframe\">\n",
       "  <thead>\n",
       "    <tr style=\"text-align: right;\">\n",
       "      <th></th>\n",
       "      <th>user_id</th>\n",
       "      <th>month</th>\n",
       "      <th>mb_sum</th>\n",
       "      <th>messages_count</th>\n",
       "      <th>minutes_sum</th>\n",
       "      <th>calls_count</th>\n",
       "      <th>tariff</th>\n",
       "      <th>city</th>\n",
       "      <th>messages_included</th>\n",
       "      <th>mb_per_month_included</th>\n",
       "      <th>minutes_included</th>\n",
       "      <th>rub_monthly_fee</th>\n",
       "      <th>rub_per_gb</th>\n",
       "      <th>rub_per_message</th>\n",
       "      <th>rub_per_minute</th>\n",
       "      <th>tariff_name</th>\n",
       "      <th>revenue</th>\n",
       "    </tr>\n",
       "  </thead>\n",
       "  <tbody>\n",
       "    <tr>\n",
       "      <th>0</th>\n",
       "      <td>1005</td>\n",
       "      <td>1</td>\n",
       "      <td>2727.97</td>\n",
       "      <td>7.0</td>\n",
       "      <td>95.0</td>\n",
       "      <td>15.0</td>\n",
       "      <td>smart</td>\n",
       "      <td>Набережные Челны</td>\n",
       "      <td>50</td>\n",
       "      <td>15360</td>\n",
       "      <td>500</td>\n",
       "      <td>550</td>\n",
       "      <td>200</td>\n",
       "      <td>3</td>\n",
       "      <td>3</td>\n",
       "      <td>smart</td>\n",
       "      <td>550.0</td>\n",
       "    </tr>\n",
       "    <tr>\n",
       "      <th>1</th>\n",
       "      <td>1005</td>\n",
       "      <td>2</td>\n",
       "      <td>7383.93</td>\n",
       "      <td>38.0</td>\n",
       "      <td>456.0</td>\n",
       "      <td>69.0</td>\n",
       "      <td>smart</td>\n",
       "      <td>Набережные Челны</td>\n",
       "      <td>50</td>\n",
       "      <td>15360</td>\n",
       "      <td>500</td>\n",
       "      <td>550</td>\n",
       "      <td>200</td>\n",
       "      <td>3</td>\n",
       "      <td>3</td>\n",
       "      <td>smart</td>\n",
       "      <td>550.0</td>\n",
       "    </tr>\n",
       "    <tr>\n",
       "      <th>2</th>\n",
       "      <td>1005</td>\n",
       "      <td>3</td>\n",
       "      <td>11104.25</td>\n",
       "      <td>56.0</td>\n",
       "      <td>606.0</td>\n",
       "      <td>77.0</td>\n",
       "      <td>smart</td>\n",
       "      <td>Набережные Челны</td>\n",
       "      <td>50</td>\n",
       "      <td>15360</td>\n",
       "      <td>500</td>\n",
       "      <td>550</td>\n",
       "      <td>200</td>\n",
       "      <td>3</td>\n",
       "      <td>3</td>\n",
       "      <td>smart</td>\n",
       "      <td>886.0</td>\n",
       "    </tr>\n",
       "    <tr>\n",
       "      <th>3</th>\n",
       "      <td>1005</td>\n",
       "      <td>4</td>\n",
       "      <td>9351.72</td>\n",
       "      <td>41.0</td>\n",
       "      <td>712.0</td>\n",
       "      <td>101.0</td>\n",
       "      <td>smart</td>\n",
       "      <td>Набережные Челны</td>\n",
       "      <td>50</td>\n",
       "      <td>15360</td>\n",
       "      <td>500</td>\n",
       "      <td>550</td>\n",
       "      <td>200</td>\n",
       "      <td>3</td>\n",
       "      <td>3</td>\n",
       "      <td>smart</td>\n",
       "      <td>1186.0</td>\n",
       "    </tr>\n",
       "    <tr>\n",
       "      <th>4</th>\n",
       "      <td>1005</td>\n",
       "      <td>5</td>\n",
       "      <td>7865.53</td>\n",
       "      <td>42.0</td>\n",
       "      <td>595.0</td>\n",
       "      <td>73.0</td>\n",
       "      <td>smart</td>\n",
       "      <td>Набережные Челны</td>\n",
       "      <td>50</td>\n",
       "      <td>15360</td>\n",
       "      <td>500</td>\n",
       "      <td>550</td>\n",
       "      <td>200</td>\n",
       "      <td>3</td>\n",
       "      <td>3</td>\n",
       "      <td>smart</td>\n",
       "      <td>835.0</td>\n",
       "    </tr>\n",
       "  </tbody>\n",
       "</table>\n",
       "</div>"
      ],
      "text/plain": [
       "   user_id  month    mb_sum  messages_count  minutes_sum  calls_count tariff  \\\n",
       "0     1005      1   2727.97             7.0         95.0         15.0  smart   \n",
       "1     1005      2   7383.93            38.0        456.0         69.0  smart   \n",
       "2     1005      3  11104.25            56.0        606.0         77.0  smart   \n",
       "3     1005      4   9351.72            41.0        712.0        101.0  smart   \n",
       "4     1005      5   7865.53            42.0        595.0         73.0  smart   \n",
       "\n",
       "               city  messages_included  mb_per_month_included  \\\n",
       "0  Набережные Челны                 50                  15360   \n",
       "1  Набережные Челны                 50                  15360   \n",
       "2  Набережные Челны                 50                  15360   \n",
       "3  Набережные Челны                 50                  15360   \n",
       "4  Набережные Челны                 50                  15360   \n",
       "\n",
       "   minutes_included  rub_monthly_fee  rub_per_gb  rub_per_message  \\\n",
       "0               500              550         200                3   \n",
       "1               500              550         200                3   \n",
       "2               500              550         200                3   \n",
       "3               500              550         200                3   \n",
       "4               500              550         200                3   \n",
       "\n",
       "   rub_per_minute tariff_name  revenue  \n",
       "0               3       smart    550.0  \n",
       "1               3       smart    550.0  \n",
       "2               3       smart    886.0  \n",
       "3               3       smart   1186.0  \n",
       "4               3       smart    835.0  "
      ]
     },
     "execution_count": 32,
     "metadata": {},
     "output_type": "execute_result"
    }
   ],
   "source": [
    "total_pivot.head()"
   ]
  },
  {
   "cell_type": "markdown",
   "metadata": {},
   "source": [
    "##  Анализ данных\n",
    "Определение поведения клиентов оператора, исходя из выборки. Сколько минут разговора, сколько сообщений и какой объём интернет-трафика требуется пользователям каждого тарифа в месяц"
   ]
  },
  {
   "cell_type": "code",
   "execution_count": 33,
   "metadata": {},
   "outputs": [],
   "source": [
    "#Разделим датасет по тарифам\n",
    "ultra = total_pivot.query('tariff == \"ultra\"')\n",
    "smart = total_pivot.query('tariff == \"smart\"')"
   ]
  },
  {
   "cell_type": "code",
   "execution_count": 34,
   "metadata": {},
   "outputs": [
    {
     "data": {
      "image/png": "[encoded data removed]",
      "text/plain": [
       "<Figure size 720x360 with 1 Axes>"
      ]
     },
     "metadata": {
      "needs_background": "light"
     },
     "output_type": "display_data"
    },
    {
     "data": {
      "image/png": "[encoded data removed]",
      "text/plain": [
       "<Figure size 720x360 with 1 Axes>"
      ]
     },
     "metadata": {
      "needs_background": "light"
     },
     "output_type": "display_data"
    },
    {
     "data": {
      "image/png": "[encoded data removed]",
      "text/plain": [
       "<Figure size 720x360 with 1 Axes>"
      ]
     },
     "metadata": {
      "needs_background": "light"
     },
     "output_type": "display_data"
    }
   ],
   "source": [
    "plt.figure(figsize=(10,5))\n",
    "plt.hist(ultra[['minutes_sum']],bins=30, alpha=0.5)\n",
    "plt.hist(smart[['minutes_sum']],bins=30, alpha=0.5)\n",
    "plt.xlabel('количество минут совершенных звонков')\n",
    "plt.ylabel('Частотность')\n",
    "plt.title('гистограмма распределения времени звонков по двум тарифам')\n",
    "plt.legend(['smart','ultra'])\n",
    "plt.show();\n",
    "\n",
    "plt.figure(figsize=(10,5))\n",
    "plt.hist(ultra[['messages_count']],bins=30, alpha=0.5)\n",
    "plt.hist(smart[['messages_count']],bins=30, alpha=0.5)\n",
    "plt.xlabel('количество сообщений')\n",
    "plt.ylabel('Частотность')\n",
    "plt.title('гистограмма распределения количества сообщений по двум тарифам')\n",
    "plt.legend(['smart','ultra'])\n",
    "plt.show();\n",
    "\n",
    "plt.figure(figsize=(10,5))\n",
    "plt.hist(ultra[['mb_sum']],bins=30, alpha=0.5)\n",
    "plt.hist(smart[['mb_sum']],bins=30, alpha=0.5)\n",
    "plt.xlabel('количество мегабайт интернет-трафика')\n",
    "plt.ylabel('Частотность')\n",
    "plt.title('гистограмма распределения интернет-трафика по двум тарифам')\n",
    "plt.legend(['smart','ultra'])\n",
    "plt.show();\n"
   ]
  },
  {
   "cell_type": "code",
   "execution_count": 35,
   "metadata": {},
   "outputs": [
    {
     "data": {
      "text/html": [
       "<div>\n",
       "<style scoped>\n",
       "    .dataframe tbody tr th:only-of-type {\n",
       "        vertical-align: middle;\n",
       "    }\n",
       "\n",
       "    .dataframe tbody tr th {\n",
       "        vertical-align: top;\n",
       "    }\n",
       "\n",
       "    .dataframe thead th {\n",
       "        text-align: right;\n",
       "    }\n",
       "</style>\n",
       "<table border=\"1\" class=\"dataframe\">\n",
       "  <thead>\n",
       "    <tr style=\"text-align: right;\">\n",
       "      <th></th>\n",
       "      <th>minutes_sum</th>\n",
       "      <th>messages_count</th>\n",
       "      <th>mb_sum</th>\n",
       "      <th>revenue</th>\n",
       "    </tr>\n",
       "  </thead>\n",
       "  <tbody>\n",
       "    <tr>\n",
       "      <th>count</th>\n",
       "      <td>2229.000000</td>\n",
       "      <td>2229.000000</td>\n",
       "      <td>2229.000000</td>\n",
       "      <td>2229.000000</td>\n",
       "    </tr>\n",
       "    <tr>\n",
       "      <th>mean</th>\n",
       "      <td>417.934948</td>\n",
       "      <td>33.384029</td>\n",
       "      <td>16208.386990</td>\n",
       "      <td>1230.442346</td>\n",
       "    </tr>\n",
       "    <tr>\n",
       "      <th>std</th>\n",
       "      <td>190.313730</td>\n",
       "      <td>28.227876</td>\n",
       "      <td>5870.476681</td>\n",
       "      <td>785.720816</td>\n",
       "    </tr>\n",
       "    <tr>\n",
       "      <th>min</th>\n",
       "      <td>0.000000</td>\n",
       "      <td>0.000000</td>\n",
       "      <td>0.000000</td>\n",
       "      <td>550.000000</td>\n",
       "    </tr>\n",
       "    <tr>\n",
       "      <th>25%</th>\n",
       "      <td>282.000000</td>\n",
       "      <td>10.000000</td>\n",
       "      <td>12643.010000</td>\n",
       "      <td>550.000000</td>\n",
       "    </tr>\n",
       "    <tr>\n",
       "      <th>50%</th>\n",
       "      <td>422.000000</td>\n",
       "      <td>28.000000</td>\n",
       "      <td>16506.840000</td>\n",
       "      <td>957.978516</td>\n",
       "    </tr>\n",
       "    <tr>\n",
       "      <th>75%</th>\n",
       "      <td>545.000000</td>\n",
       "      <td>51.000000</td>\n",
       "      <td>20042.930000</td>\n",
       "      <td>1665.488281</td>\n",
       "    </tr>\n",
       "    <tr>\n",
       "      <th>max</th>\n",
       "      <td>1435.000000</td>\n",
       "      <td>143.000000</td>\n",
       "      <td>38552.450000</td>\n",
       "      <td>6699.775391</td>\n",
       "    </tr>\n",
       "  </tbody>\n",
       "</table>\n",
       "</div>"
      ],
      "text/plain": [
       "       minutes_sum  messages_count        mb_sum      revenue\n",
       "count  2229.000000     2229.000000   2229.000000  2229.000000\n",
       "mean    417.934948       33.384029  16208.386990  1230.442346\n",
       "std     190.313730       28.227876   5870.476681   785.720816\n",
       "min       0.000000        0.000000      0.000000   550.000000\n",
       "25%     282.000000       10.000000  12643.010000   550.000000\n",
       "50%     422.000000       28.000000  16506.840000   957.978516\n",
       "75%     545.000000       51.000000  20042.930000  1665.488281\n",
       "max    1435.000000      143.000000  38552.450000  6699.775391"
      ]
     },
     "execution_count": 35,
     "metadata": {},
     "output_type": "execute_result"
    }
   ],
   "source": [
    "smart[['minutes_sum','messages_count','mb_sum','revenue']].describe()"
   ]
  },
  {
   "cell_type": "code",
   "execution_count": 36,
   "metadata": {},
   "outputs": [
    {
     "data": {
      "text/html": [
       "<div>\n",
       "<style scoped>\n",
       "    .dataframe tbody tr th:only-of-type {\n",
       "        vertical-align: middle;\n",
       "    }\n",
       "\n",
       "    .dataframe tbody tr th {\n",
       "        vertical-align: top;\n",
       "    }\n",
       "\n",
       "    .dataframe thead th {\n",
       "        text-align: right;\n",
       "    }\n",
       "</style>\n",
       "<table border=\"1\" class=\"dataframe\">\n",
       "  <thead>\n",
       "    <tr style=\"text-align: right;\">\n",
       "      <th></th>\n",
       "      <th>minutes_sum</th>\n",
       "      <th>messages_count</th>\n",
       "      <th>mb_sum</th>\n",
       "      <th>revenue</th>\n",
       "    </tr>\n",
       "  </thead>\n",
       "  <tbody>\n",
       "    <tr>\n",
       "      <th>count</th>\n",
       "      <td>985.000000</td>\n",
       "      <td>985.000000</td>\n",
       "      <td>985.000000</td>\n",
       "      <td>985.000000</td>\n",
       "    </tr>\n",
       "    <tr>\n",
       "      <th>mean</th>\n",
       "      <td>526.623350</td>\n",
       "      <td>49.363452</td>\n",
       "      <td>19468.805208</td>\n",
       "      <td>2059.868918</td>\n",
       "    </tr>\n",
       "    <tr>\n",
       "      <th>std</th>\n",
       "      <td>317.606098</td>\n",
       "      <td>47.804457</td>\n",
       "      <td>10087.170752</td>\n",
       "      <td>354.880790</td>\n",
       "    </tr>\n",
       "    <tr>\n",
       "      <th>min</th>\n",
       "      <td>0.000000</td>\n",
       "      <td>0.000000</td>\n",
       "      <td>0.000000</td>\n",
       "      <td>1950.000000</td>\n",
       "    </tr>\n",
       "    <tr>\n",
       "      <th>25%</th>\n",
       "      <td>284.000000</td>\n",
       "      <td>6.000000</td>\n",
       "      <td>11770.260000</td>\n",
       "      <td>1950.000000</td>\n",
       "    </tr>\n",
       "    <tr>\n",
       "      <th>50%</th>\n",
       "      <td>518.000000</td>\n",
       "      <td>38.000000</td>\n",
       "      <td>19308.010000</td>\n",
       "      <td>1950.000000</td>\n",
       "    </tr>\n",
       "    <tr>\n",
       "      <th>75%</th>\n",
       "      <td>752.000000</td>\n",
       "      <td>79.000000</td>\n",
       "      <td>26837.690000</td>\n",
       "      <td>1950.000000</td>\n",
       "    </tr>\n",
       "    <tr>\n",
       "      <th>max</th>\n",
       "      <td>1673.000000</td>\n",
       "      <td>224.000000</td>\n",
       "      <td>49745.690000</td>\n",
       "      <td>4736.966309</td>\n",
       "    </tr>\n",
       "  </tbody>\n",
       "</table>\n",
       "</div>"
      ],
      "text/plain": [
       "       minutes_sum  messages_count        mb_sum      revenue\n",
       "count   985.000000      985.000000    985.000000   985.000000\n",
       "mean    526.623350       49.363452  19468.805208  2059.868918\n",
       "std     317.606098       47.804457  10087.170752   354.880790\n",
       "min       0.000000        0.000000      0.000000  1950.000000\n",
       "25%     284.000000        6.000000  11770.260000  1950.000000\n",
       "50%     518.000000       38.000000  19308.010000  1950.000000\n",
       "75%     752.000000       79.000000  26837.690000  1950.000000\n",
       "max    1673.000000      224.000000  49745.690000  4736.966309"
      ]
     },
     "execution_count": 36,
     "metadata": {},
     "output_type": "execute_result"
    }
   ],
   "source": [
    "ultra[['minutes_sum','messages_count','mb_sum','revenue']].describe()"
   ]
  },
  {
   "cell_type": "markdown",
   "metadata": {},
   "source": [
    "Исходя из анализа данных тарифа Ультра, можно сделать следующие выводы:\n",
    "1. В среднем пользователи тарифа расходую 526 минут разговора. Медианное значение составляет 518 минут, что свидетелствует о том, что в выборке нет существенных выбросов и данные распределены равномерно. Стандартное отклонение принимает значение 294.4, что говорит о том, что значения в выборке в среднем отклоняются на это значение относительно среднего. Максимальная продолжительность звонков в месяц не превышает 1579 минут из доступных 3000 минут. Гистограмма смещена влево, что говорит о том, что подавляющее количество абонентов тратит не более 800 минут в месяц\n",
    "2. Среднее количество отправленных сообщений - 61. Медианное значение составляет 53 сообщения. Гистограмма также смещена влево и имеет несколько пиков около значений 10, 30 и 50 сообщений. Стандартное отклонение принимает значение 44.8, что свидетельствует о неравномерности использования сообщений абонентами тарифа. Максимальное количество отправленных сообщений - 224 из 1000 доступных\n",
    "3. Средний объем используемого интернета в месяц - 20 гб, стандартное отклонение находится на уровне 9 гб, гистограмма показывает несколько пиков потребления интернета на уровне 10, 20 и 30 гб, после 30 гб потребление трафика резко падает, так как 30 гб - это максимальный лимит тарифа"
   ]
  },
  {
   "cell_type": "markdown",
   "metadata": {},
   "source": [
    "Исходя из анализа тарифа Смарт можно сделать следующие выводы:\n",
    "1. Среднее количество потраченных минут разговора в месяц составляет 397.8 минут, медианное значение 404 минуты. Стандартное отклонение 177.5 минут, иными словами в среднем длительность звонков в выборке отличаются от среднего на 177.5 минут. Распределение сремится к нормальному с явным пиком у средних значений. При этом есть отдельные выбросы более 800 минут.\n",
    "2. Среднее количество отправленных сообщений - 26.8. Медианное значение составляет 34 сообщения. Стандартное отклонение - 26.8. Распределение сообщений смещено влево, абоненты в большинстве своем отправляют от 10 до 50 сообщений. Максимальное количество отправленных сообщений - 143.\n",
    "3. Распределение помесячного использования интернет-трафика стремится к нормальному, с пиком возле среднего значения - 16 гб. Стандартное отклонение находится на уровне 6 гб. Для большей части абонентов нехватает предложенных тарифом бесплантых 15 гб. Примерно половина пользователей превышают эту отметку и переплачивают. "
   ]
  },
  {
   "cell_type": "markdown",
   "metadata": {},
   "source": [
    "## Проверим гипотезы\n",
    "1. средняя выручка пользователей тарифов «Ультра» и «Смарт» различаются;\n",
    "2. средняя выручка пользователей из Москвы отличается от выручки пользователей из других регионов.\n"
   ]
  },
  {
   "cell_type": "markdown",
   "metadata": {},
   "source": [
    "Проверим первую гипотезу:\n",
    "- Н0: средняя выручка тарифов Ультра и Смарт равны\n",
    "- Н1: средняя выручка тарифов отличается"
   ]
  },
  {
   "cell_type": "code",
   "execution_count": 37,
   "metadata": {},
   "outputs": [
    {
     "name": "stdout",
     "output_type": "stream",
     "text": [
      "p-значение: 1.9863126823708096e-192\n",
      "Отвергаем нулевую гипотезу\n"
     ]
    }
   ],
   "source": [
    "list_smart = list(smart['revenue'])\n",
    "list_ultra = list(ultra['revenue'])\n",
    "\n",
    "alpha = 0.05 \n",
    "\n",
    "results = st.ttest_ind(list_smart, list_ultra) #  гипотеза о равенстве средних двух независимых совокупностей\n",
    "\n",
    "print('p-значение:', results.pvalue )\n",
    "\n",
    "if results.pvalue < alpha:\n",
    "    print(\"Отвергаем нулевую гипотезу\")\n",
    "else:\n",
    "    print(\"Не получилось отвергнуть нулевую гипотезу\")"
   ]
  },
  {
   "cell_type": "markdown",
   "metadata": {},
   "source": [
    "Гипотеза о том, что выручка пользователей двух тарифов равна - отвергается. Вероятность того, что выручка пользователей окажется равна - крайне низкая"
   ]
  },
  {
   "cell_type": "markdown",
   "metadata": {},
   "source": [
    "Проверим вторую гипотезу:\n",
    "- Н0: средняя выручка абонентов из Москвы и других городов равна\n",
    "- Н1: средняя выручка абонентов из Москвы и других городов отличается"
   ]
  },
  {
   "cell_type": "code",
   "execution_count": 38,
   "metadata": {},
   "outputs": [
    {
     "name": "stdout",
     "output_type": "stream",
     "text": [
      "p-значение: 0.4698464699962491\n",
      "Не получилось отвергнуть нулевую гипотезу\n"
     ]
    }
   ],
   "source": [
    "list_moscow = list(total_pivot.query('city == \"Москва\"')['revenue'])\n",
    "list_other = list(total_pivot.query('city != \"Москва\"')['revenue'])\n",
    "\n",
    "alpha = 0.05 \n",
    "\n",
    "results = st.ttest_ind(list_moscow, list_other)\n",
    "print('p-значение:', results.pvalue )\n",
    "\n",
    "if results.pvalue < alpha:\n",
    "    print(\"Отвергаем нулевую гипотезу\")\n",
    "else:\n",
    "    print(\"Не получилось отвергнуть нулевую гипотезу\")"
   ]
  },
  {
   "cell_type": "markdown",
   "metadata": {},
   "source": [
    "Гипотеза о том, что средняя выручка от пользователей из Москвы и абонентов из других городов равна - не отвергается."
   ]
  },
  {
   "cell_type": "markdown",
   "metadata": {},
   "source": [
    "## Общий вывод\n",
    "Для анализа данных представленны данные о пользователях тарифов Смарт и Ультра. В исходных данных выявлены ошибки - некорректный формат записи даты каждого события. В ходе предобратоки ошибки устранены.\n",
    "В результате проведенного анализа тарифов Смарт и Ультра сделаны следующие выводы:\n",
    "- пользователи тарифа Смарт редко превышают доступные бесплантые лимиты трафика. Медианная выручка выборки соответствует стоимости ежемесячной абонентской платы. Ни один из пользователей тарифа не привысил количество доступных минут звонков и количества сообщений. При этом в выборке имеются абоненты, которые превышают объем доступных мегабайт интернет трафика.\n",
    "- Пользователи тарифа Смарт чаще превышают лимит доступного трафика звонков, сообщений и интернета. Медианное значение выручки в месяц составляет более 900 рублей, хотя стоимость абоненсткой платы составляет 550 рублей.\n",
    "- Проверка выдвинутых гипотез показала следующие результаты: `Вероятнсоть того, что средняя выручка тарифов Смарт и Ультра равна - явяляется крайне низкой, следовательно была принята альтернативная гипотеза, гласящая о том, что средняя выручка абонентов двух тарифов отличается`, при этом `Гипотеза о том, что средняя выручка абонентов из Москвы и других городов равна - не была отвергнута.` \n",
    "\n",
    "\n",
    "Не смотря на то, что пользователи тарифа Ультра чаще всего не превышают бесплатные лимиты трафика, можно считать этот тариф более прибыльным за счет более высокой абонентской платы."
   ]
  }
 ],
 "metadata": {
  "ExecuteTimeLog": [
   {
    "duration": 380,
    "start_time": "2022-05-12T07:08:41.757Z"
   },
   {
    "duration": 86,
    "start_time": "2022-05-12T07:12:14.769Z"
   },
   {
    "duration": 365,
    "start_time": "2022-05-12T07:12:27.918Z"
   },
   {
    "duration": 406,
    "start_time": "2022-05-12T07:12:42.854Z"
   },
   {
    "duration": 14,
    "start_time": "2022-05-12T07:13:27.452Z"
   },
   {
    "duration": 23,
    "start_time": "2022-05-12T07:13:41.004Z"
   },
   {
    "duration": 10,
    "start_time": "2022-05-12T07:19:15.733Z"
   },
   {
    "duration": 8,
    "start_time": "2022-05-12T07:19:32.782Z"
   },
   {
    "duration": 29,
    "start_time": "2022-05-12T07:20:57.168Z"
   },
   {
    "duration": 8,
    "start_time": "2022-05-12T07:21:24.005Z"
   },
   {
    "duration": 20,
    "start_time": "2022-05-12T07:21:30.700Z"
   },
   {
    "duration": 7,
    "start_time": "2022-05-12T07:24:40.553Z"
   },
   {
    "duration": 7,
    "start_time": "2022-05-12T07:24:46.569Z"
   },
   {
    "duration": 25,
    "start_time": "2022-05-12T07:26:19.685Z"
   },
   {
    "duration": 7,
    "start_time": "2022-05-12T07:33:48.670Z"
   },
   {
    "duration": 18,
    "start_time": "2022-05-12T07:33:57.701Z"
   },
   {
    "duration": 19,
    "start_time": "2022-05-12T07:42:11.723Z"
   },
   {
    "duration": 7,
    "start_time": "2022-05-12T07:42:41.707Z"
   },
   {
    "duration": 7,
    "start_time": "2022-05-12T07:42:48.471Z"
   },
   {
    "duration": 10,
    "start_time": "2022-05-12T07:42:59.255Z"
   },
   {
    "duration": 11,
    "start_time": "2022-05-12T07:52:25.409Z"
   },
   {
    "duration": 9,
    "start_time": "2022-05-12T07:52:32.724Z"
   },
   {
    "duration": 3,
    "start_time": "2022-05-12T07:54:13.922Z"
   },
   {
    "duration": 10,
    "start_time": "2022-05-12T08:54:28.103Z"
   },
   {
    "duration": 12,
    "start_time": "2022-05-12T08:54:35.422Z"
   },
   {
    "duration": 4,
    "start_time": "2022-05-12T08:54:40.620Z"
   },
   {
    "duration": 10,
    "start_time": "2022-05-12T08:54:41.165Z"
   },
   {
    "duration": 4,
    "start_time": "2022-05-12T08:54:51.672Z"
   },
   {
    "duration": 11,
    "start_time": "2022-05-12T08:54:55.005Z"
   },
   {
    "duration": 852,
    "start_time": "2022-05-12T08:55:16.585Z"
   },
   {
    "duration": 402,
    "start_time": "2022-05-12T08:55:17.439Z"
   },
   {
    "duration": 15,
    "start_time": "2022-05-12T08:55:17.843Z"
   },
   {
    "duration": 26,
    "start_time": "2022-05-12T08:55:17.860Z"
   },
   {
    "duration": 35,
    "start_time": "2022-05-12T08:55:17.888Z"
   },
   {
    "duration": 9,
    "start_time": "2022-05-12T08:55:17.924Z"
   },
   {
    "duration": 23,
    "start_time": "2022-05-12T08:55:17.934Z"
   },
   {
    "duration": 7,
    "start_time": "2022-05-12T08:55:17.959Z"
   },
   {
    "duration": 48,
    "start_time": "2022-05-12T08:55:17.967Z"
   },
   {
    "duration": 7,
    "start_time": "2022-05-12T08:55:18.017Z"
   },
   {
    "duration": 21,
    "start_time": "2022-05-12T08:55:18.025Z"
   },
   {
    "duration": 20,
    "start_time": "2022-05-12T08:55:18.048Z"
   },
   {
    "duration": 8,
    "start_time": "2022-05-12T08:55:18.069Z"
   },
   {
    "duration": 9,
    "start_time": "2022-05-12T08:55:18.101Z"
   },
   {
    "duration": 12,
    "start_time": "2022-05-12T08:55:18.112Z"
   },
   {
    "duration": 13,
    "start_time": "2022-05-12T08:55:18.126Z"
   },
   {
    "duration": 7,
    "start_time": "2022-05-12T08:55:18.140Z"
   },
   {
    "duration": 11,
    "start_time": "2022-05-12T08:55:18.148Z"
   },
   {
    "duration": 13,
    "start_time": "2022-05-12T08:55:18.161Z"
   },
   {
    "duration": 1469,
    "start_time": "2022-05-12T08:56:13.603Z"
   },
   {
    "duration": 3338,
    "start_time": "2022-05-12T09:05:57.661Z"
   },
   {
    "duration": 3,
    "start_time": "2022-05-12T09:06:18.072Z"
   },
   {
    "duration": 5316,
    "start_time": "2022-05-12T09:06:25.686Z"
   },
   {
    "duration": 190,
    "start_time": "2022-05-12T09:06:37.372Z"
   },
   {
    "duration": 3288,
    "start_time": "2022-05-12T09:06:42.788Z"
   },
   {
    "duration": 4323,
    "start_time": "2022-05-12T09:07:02.335Z"
   },
   {
    "duration": 8,
    "start_time": "2022-05-12T09:07:17.006Z"
   },
   {
    "duration": 3140,
    "start_time": "2022-05-12T09:07:30.401Z"
   },
   {
    "duration": 806,
    "start_time": "2022-05-12T09:50:20.027Z"
   },
   {
    "duration": 413,
    "start_time": "2022-05-12T09:50:20.834Z"
   },
   {
    "duration": 14,
    "start_time": "2022-05-12T09:50:21.248Z"
   },
   {
    "duration": 26,
    "start_time": "2022-05-12T09:50:21.265Z"
   },
   {
    "duration": 33,
    "start_time": "2022-05-12T09:50:21.293Z"
   },
   {
    "duration": 8,
    "start_time": "2022-05-12T09:50:21.328Z"
   },
   {
    "duration": 22,
    "start_time": "2022-05-12T09:50:21.338Z"
   },
   {
    "duration": 6,
    "start_time": "2022-05-12T09:50:21.362Z"
   },
   {
    "duration": 45,
    "start_time": "2022-05-12T09:50:21.370Z"
   },
   {
    "duration": 6,
    "start_time": "2022-05-12T09:50:21.418Z"
   },
   {
    "duration": 22,
    "start_time": "2022-05-12T09:50:21.426Z"
   },
   {
    "duration": 22,
    "start_time": "2022-05-12T09:50:21.449Z"
   },
   {
    "duration": 28,
    "start_time": "2022-05-12T09:50:21.473Z"
   },
   {
    "duration": 12,
    "start_time": "2022-05-12T09:50:21.503Z"
   },
   {
    "duration": 11,
    "start_time": "2022-05-12T09:50:21.517Z"
   },
   {
    "duration": 13,
    "start_time": "2022-05-12T09:50:21.529Z"
   },
   {
    "duration": 6,
    "start_time": "2022-05-12T09:50:21.544Z"
   },
   {
    "duration": 11,
    "start_time": "2022-05-12T09:50:21.552Z"
   },
   {
    "duration": 3495,
    "start_time": "2022-05-12T09:50:21.564Z"
   },
   {
    "duration": 0,
    "start_time": "2022-05-12T09:50:25.061Z"
   },
   {
    "duration": 7,
    "start_time": "2022-05-12T09:50:45.443Z"
   },
   {
    "duration": 15,
    "start_time": "2022-05-12T09:50:50.809Z"
   },
   {
    "duration": 4,
    "start_time": "2022-05-12T09:52:33.717Z"
   },
   {
    "duration": 9,
    "start_time": "2022-05-12T09:52:37.384Z"
   },
   {
    "duration": 8,
    "start_time": "2022-05-12T09:56:09.600Z"
   },
   {
    "duration": 9,
    "start_time": "2022-05-12T09:56:49.324Z"
   },
   {
    "duration": 23,
    "start_time": "2022-05-12T09:56:52.604Z"
   },
   {
    "duration": 8,
    "start_time": "2022-05-12T09:57:02.701Z"
   },
   {
    "duration": 785,
    "start_time": "2022-05-12T09:59:36.685Z"
   },
   {
    "duration": 9,
    "start_time": "2022-05-12T10:00:03.555Z"
   },
   {
    "duration": 8,
    "start_time": "2022-05-12T10:00:45.238Z"
   },
   {
    "duration": 180,
    "start_time": "2022-05-12T10:02:20.580Z"
   },
   {
    "duration": 191,
    "start_time": "2022-05-12T10:02:35.232Z"
   },
   {
    "duration": 184,
    "start_time": "2022-05-12T10:02:47.683Z"
   },
   {
    "duration": 187,
    "start_time": "2022-05-12T10:02:54.021Z"
   },
   {
    "duration": 495,
    "start_time": "2022-05-12T10:03:11.940Z"
   },
   {
    "duration": 8,
    "start_time": "2022-05-12T10:07:19.244Z"
   },
   {
    "duration": 31,
    "start_time": "2022-05-12T10:07:46.330Z"
   },
   {
    "duration": 37,
    "start_time": "2022-05-12T10:07:51.682Z"
   },
   {
    "duration": 8,
    "start_time": "2022-05-12T10:09:09.366Z"
   },
   {
    "duration": 19,
    "start_time": "2022-05-12T10:09:14.580Z"
   },
   {
    "duration": 9,
    "start_time": "2022-05-12T10:10:34.782Z"
   },
   {
    "duration": 21,
    "start_time": "2022-05-12T10:12:14.683Z"
   },
   {
    "duration": 36,
    "start_time": "2022-05-12T10:12:19.364Z"
   },
   {
    "duration": 17,
    "start_time": "2022-05-12T10:13:25.418Z"
   },
   {
    "duration": 19,
    "start_time": "2022-05-12T10:13:35.853Z"
   },
   {
    "duration": 19,
    "start_time": "2022-05-12T10:13:47.228Z"
   },
   {
    "duration": 12,
    "start_time": "2022-05-12T10:13:50.879Z"
   },
   {
    "duration": 36,
    "start_time": "2022-05-12T10:15:59.541Z"
   },
   {
    "duration": 845,
    "start_time": "2022-05-12T10:16:10.160Z"
   },
   {
    "duration": 379,
    "start_time": "2022-05-12T10:16:11.007Z"
   },
   {
    "duration": 13,
    "start_time": "2022-05-12T10:16:11.387Z"
   },
   {
    "duration": 25,
    "start_time": "2022-05-12T10:16:11.402Z"
   },
   {
    "duration": 31,
    "start_time": "2022-05-12T10:16:11.428Z"
   },
   {
    "duration": 8,
    "start_time": "2022-05-12T10:16:11.461Z"
   },
   {
    "duration": 33,
    "start_time": "2022-05-12T10:16:11.471Z"
   },
   {
    "duration": 7,
    "start_time": "2022-05-12T10:16:11.506Z"
   },
   {
    "duration": 27,
    "start_time": "2022-05-12T10:16:11.514Z"
   },
   {
    "duration": 7,
    "start_time": "2022-05-12T10:16:11.543Z"
   },
   {
    "duration": 18,
    "start_time": "2022-05-12T10:16:11.551Z"
   },
   {
    "duration": 41,
    "start_time": "2022-05-12T10:16:11.570Z"
   },
   {
    "duration": 7,
    "start_time": "2022-05-12T10:16:11.612Z"
   },
   {
    "duration": 10,
    "start_time": "2022-05-12T10:16:11.621Z"
   },
   {
    "duration": 14,
    "start_time": "2022-05-12T10:16:11.633Z"
   },
   {
    "duration": 12,
    "start_time": "2022-05-12T10:16:11.649Z"
   },
   {
    "duration": 6,
    "start_time": "2022-05-12T10:16:11.662Z"
   },
   {
    "duration": 8,
    "start_time": "2022-05-12T10:16:11.670Z"
   },
   {
    "duration": 9,
    "start_time": "2022-05-12T10:16:11.700Z"
   },
   {
    "duration": 45,
    "start_time": "2022-05-12T10:16:11.710Z"
   },
   {
    "duration": 19,
    "start_time": "2022-05-12T10:16:11.756Z"
   },
   {
    "duration": 74,
    "start_time": "2022-05-12T10:16:11.777Z"
   },
   {
    "duration": 8,
    "start_time": "2022-05-12T10:16:11.852Z"
   },
   {
    "duration": 91,
    "start_time": "2022-05-12T10:16:30.948Z"
   },
   {
    "duration": 156,
    "start_time": "2022-05-12T10:19:20.612Z"
   },
   {
    "duration": 88,
    "start_time": "2022-05-12T10:19:30.897Z"
   },
   {
    "duration": 306,
    "start_time": "2022-05-12T10:19:41.265Z"
   },
   {
    "duration": 242,
    "start_time": "2022-05-12T10:19:55.589Z"
   },
   {
    "duration": 88,
    "start_time": "2022-05-12T10:51:53.480Z"
   },
   {
    "duration": 15,
    "start_time": "2022-05-12T10:52:32.460Z"
   },
   {
    "duration": 10,
    "start_time": "2022-05-12T10:53:00.180Z"
   },
   {
    "duration": 11,
    "start_time": "2022-05-12T10:53:09.464Z"
   },
   {
    "duration": 19,
    "start_time": "2022-05-12T10:53:16.130Z"
   },
   {
    "duration": 12,
    "start_time": "2022-05-12T10:53:33.662Z"
   },
   {
    "duration": 1017,
    "start_time": "2022-05-12T10:54:19.043Z"
   },
   {
    "duration": 539,
    "start_time": "2022-05-12T10:54:20.062Z"
   },
   {
    "duration": 22,
    "start_time": "2022-05-12T10:54:20.603Z"
   },
   {
    "duration": 24,
    "start_time": "2022-05-12T10:54:20.627Z"
   },
   {
    "duration": 47,
    "start_time": "2022-05-12T10:54:20.654Z"
   },
   {
    "duration": 9,
    "start_time": "2022-05-12T10:54:20.702Z"
   },
   {
    "duration": 26,
    "start_time": "2022-05-12T10:54:20.713Z"
   },
   {
    "duration": 8,
    "start_time": "2022-05-12T10:54:20.741Z"
   },
   {
    "duration": 32,
    "start_time": "2022-05-12T10:54:20.750Z"
   },
   {
    "duration": 19,
    "start_time": "2022-05-12T10:54:20.783Z"
   },
   {
    "duration": 32,
    "start_time": "2022-05-12T10:54:20.803Z"
   },
   {
    "duration": 26,
    "start_time": "2022-05-12T10:54:20.837Z"
   },
   {
    "duration": 9,
    "start_time": "2022-05-12T10:54:20.865Z"
   },
   {
    "duration": 28,
    "start_time": "2022-05-12T10:54:20.878Z"
   },
   {
    "duration": 19,
    "start_time": "2022-05-12T10:54:20.907Z"
   },
   {
    "duration": 12,
    "start_time": "2022-05-12T10:54:20.927Z"
   },
   {
    "duration": 4,
    "start_time": "2022-05-12T10:54:20.941Z"
   },
   {
    "duration": 11,
    "start_time": "2022-05-12T10:54:20.946Z"
   },
   {
    "duration": 10,
    "start_time": "2022-05-12T10:54:20.958Z"
   },
   {
    "duration": 55,
    "start_time": "2022-05-12T10:54:20.970Z"
   },
   {
    "duration": 22,
    "start_time": "2022-05-12T10:54:21.027Z"
   },
   {
    "duration": 114,
    "start_time": "2022-05-12T10:54:21.051Z"
   },
   {
    "duration": 8,
    "start_time": "2022-05-12T10:54:21.166Z"
   },
   {
    "duration": 42,
    "start_time": "2022-05-12T10:54:21.175Z"
   },
   {
    "duration": 89,
    "start_time": "2022-05-12T10:54:21.219Z"
   },
   {
    "duration": 11,
    "start_time": "2022-05-12T10:54:32.259Z"
   },
   {
    "duration": 49,
    "start_time": "2022-05-12T10:55:08.089Z"
   },
   {
    "duration": 8,
    "start_time": "2022-05-12T11:20:09.447Z"
   },
   {
    "duration": 42,
    "start_time": "2022-05-12T11:21:16.844Z"
   },
   {
    "duration": 52,
    "start_time": "2022-05-12T11:22:19.050Z"
   },
   {
    "duration": 7,
    "start_time": "2022-05-12T11:22:39.994Z"
   },
   {
    "duration": 7,
    "start_time": "2022-05-12T11:22:51.966Z"
   },
   {
    "duration": 11,
    "start_time": "2022-05-12T11:28:48.107Z"
   },
   {
    "duration": 51,
    "start_time": "2022-05-12T11:28:52.454Z"
   },
   {
    "duration": 995,
    "start_time": "2022-05-12T11:29:51.448Z"
   },
   {
    "duration": 1965,
    "start_time": "2022-05-12T11:29:52.445Z"
   },
   {
    "duration": 15,
    "start_time": "2022-05-12T11:29:54.411Z"
   },
   {
    "duration": 33,
    "start_time": "2022-05-12T11:29:54.428Z"
   },
   {
    "duration": 39,
    "start_time": "2022-05-12T11:29:54.463Z"
   },
   {
    "duration": 9,
    "start_time": "2022-05-12T11:29:54.503Z"
   },
   {
    "duration": 26,
    "start_time": "2022-05-12T11:29:54.514Z"
   },
   {
    "duration": 6,
    "start_time": "2022-05-12T11:29:54.542Z"
   },
   {
    "duration": 28,
    "start_time": "2022-05-12T11:29:54.550Z"
   },
   {
    "duration": 7,
    "start_time": "2022-05-12T11:29:54.600Z"
   },
   {
    "duration": 31,
    "start_time": "2022-05-12T11:29:54.609Z"
   },
   {
    "duration": 32,
    "start_time": "2022-05-12T11:29:54.642Z"
   },
   {
    "duration": 27,
    "start_time": "2022-05-12T11:29:54.676Z"
   },
   {
    "duration": 24,
    "start_time": "2022-05-12T11:29:54.706Z"
   },
   {
    "duration": 15,
    "start_time": "2022-05-12T11:29:54.732Z"
   },
   {
    "duration": 12,
    "start_time": "2022-05-12T11:29:54.756Z"
   },
   {
    "duration": 6,
    "start_time": "2022-05-12T11:29:54.770Z"
   },
   {
    "duration": 12,
    "start_time": "2022-05-12T11:29:54.778Z"
   },
   {
    "duration": 13,
    "start_time": "2022-05-12T11:29:54.800Z"
   },
   {
    "duration": 32,
    "start_time": "2022-05-12T11:29:54.815Z"
   },
   {
    "duration": 21,
    "start_time": "2022-05-12T11:29:54.849Z"
   },
   {
    "duration": 132,
    "start_time": "2022-05-12T11:29:54.872Z"
   },
   {
    "duration": 10,
    "start_time": "2022-05-12T11:29:55.006Z"
   },
   {
    "duration": 43,
    "start_time": "2022-05-12T11:29:55.018Z"
   },
   {
    "duration": 60,
    "start_time": "2022-05-12T11:29:55.063Z"
   },
   {
    "duration": 42,
    "start_time": "2022-05-12T11:29:55.125Z"
   },
   {
    "duration": 63,
    "start_time": "2022-05-12T11:29:55.169Z"
   },
   {
    "duration": 138,
    "start_time": "2022-05-12T11:29:55.234Z"
   },
   {
    "duration": 0,
    "start_time": "2022-05-12T11:29:55.374Z"
   },
   {
    "duration": 68,
    "start_time": "2022-05-12T11:30:07.086Z"
   },
   {
    "duration": 792,
    "start_time": "2022-05-12T11:30:44.223Z"
   },
   {
    "duration": 3260,
    "start_time": "2022-05-12T11:30:45.016Z"
   },
   {
    "duration": 16,
    "start_time": "2022-05-12T11:30:48.278Z"
   },
   {
    "duration": 29,
    "start_time": "2022-05-12T11:30:48.296Z"
   },
   {
    "duration": 37,
    "start_time": "2022-05-12T11:30:48.327Z"
   },
   {
    "duration": 10,
    "start_time": "2022-05-12T11:30:48.366Z"
   },
   {
    "duration": 39,
    "start_time": "2022-05-12T11:30:48.377Z"
   },
   {
    "duration": 6,
    "start_time": "2022-05-12T11:30:48.418Z"
   },
   {
    "duration": 30,
    "start_time": "2022-05-12T11:30:48.426Z"
   },
   {
    "duration": 7,
    "start_time": "2022-05-12T11:30:48.459Z"
   },
   {
    "duration": 37,
    "start_time": "2022-05-12T11:30:48.467Z"
   },
   {
    "duration": 19,
    "start_time": "2022-05-12T11:30:48.506Z"
   },
   {
    "duration": 8,
    "start_time": "2022-05-12T11:30:48.527Z"
   },
   {
    "duration": 13,
    "start_time": "2022-05-12T11:30:48.537Z"
   },
   {
    "duration": 14,
    "start_time": "2022-05-12T11:30:48.552Z"
   },
   {
    "duration": 36,
    "start_time": "2022-05-12T11:30:48.568Z"
   },
   {
    "duration": 8,
    "start_time": "2022-05-12T11:30:48.605Z"
   },
   {
    "duration": 12,
    "start_time": "2022-05-12T11:30:48.614Z"
   },
   {
    "duration": 11,
    "start_time": "2022-05-12T11:30:48.627Z"
   },
   {
    "duration": 31,
    "start_time": "2022-05-12T11:30:48.639Z"
   },
   {
    "duration": 38,
    "start_time": "2022-05-12T11:30:48.672Z"
   },
   {
    "duration": 105,
    "start_time": "2022-05-12T11:30:48.712Z"
   },
   {
    "duration": 8,
    "start_time": "2022-05-12T11:30:48.818Z"
   },
   {
    "duration": 39,
    "start_time": "2022-05-12T11:30:48.828Z"
   },
   {
    "duration": 68,
    "start_time": "2022-05-12T11:30:48.868Z"
   },
   {
    "duration": 43,
    "start_time": "2022-05-12T11:30:48.938Z"
   },
   {
    "duration": 59,
    "start_time": "2022-05-12T11:30:48.982Z"
   },
   {
    "duration": 16,
    "start_time": "2022-05-12T11:30:49.044Z"
   },
   {
    "duration": 7,
    "start_time": "2022-05-12T11:30:49.062Z"
   },
   {
    "duration": 43,
    "start_time": "2022-05-12T11:31:22.809Z"
   },
   {
    "duration": 47,
    "start_time": "2022-05-12T11:31:38.739Z"
   },
   {
    "duration": 16,
    "start_time": "2022-05-12T11:31:44.341Z"
   },
   {
    "duration": 18,
    "start_time": "2022-05-12T11:31:54.255Z"
   },
   {
    "duration": 18,
    "start_time": "2022-05-12T11:32:23.812Z"
   },
   {
    "duration": 34,
    "start_time": "2022-05-12T11:32:35.278Z"
   },
   {
    "duration": 34,
    "start_time": "2022-05-12T11:32:38.056Z"
   },
   {
    "duration": 35,
    "start_time": "2022-05-12T11:32:39.603Z"
   },
   {
    "duration": 26,
    "start_time": "2022-05-12T11:32:45.762Z"
   },
   {
    "duration": 845,
    "start_time": "2022-05-12T11:34:08.568Z"
   },
   {
    "duration": 423,
    "start_time": "2022-05-12T11:34:09.415Z"
   },
   {
    "duration": 14,
    "start_time": "2022-05-12T11:34:09.840Z"
   },
   {
    "duration": 28,
    "start_time": "2022-05-12T11:34:09.855Z"
   },
   {
    "duration": 32,
    "start_time": "2022-05-12T11:34:09.885Z"
   },
   {
    "duration": 8,
    "start_time": "2022-05-12T11:34:09.919Z"
   },
   {
    "duration": 23,
    "start_time": "2022-05-12T11:34:09.928Z"
   },
   {
    "duration": 6,
    "start_time": "2022-05-12T11:34:09.953Z"
   },
   {
    "duration": 51,
    "start_time": "2022-05-12T11:34:09.961Z"
   },
   {
    "duration": 7,
    "start_time": "2022-05-12T11:34:10.013Z"
   },
   {
    "duration": 25,
    "start_time": "2022-05-12T11:34:10.022Z"
   },
   {
    "duration": 24,
    "start_time": "2022-05-12T11:34:10.049Z"
   },
   {
    "duration": 9,
    "start_time": "2022-05-12T11:34:10.075Z"
   },
   {
    "duration": 21,
    "start_time": "2022-05-12T11:34:10.087Z"
   },
   {
    "duration": 14,
    "start_time": "2022-05-12T11:34:10.109Z"
   },
   {
    "duration": 13,
    "start_time": "2022-05-12T11:34:10.124Z"
   },
   {
    "duration": 6,
    "start_time": "2022-05-12T11:34:10.139Z"
   },
   {
    "duration": 9,
    "start_time": "2022-05-12T11:34:10.146Z"
   },
   {
    "duration": 9,
    "start_time": "2022-05-12T11:34:10.156Z"
   },
   {
    "duration": 50,
    "start_time": "2022-05-12T11:34:10.166Z"
   },
   {
    "duration": 21,
    "start_time": "2022-05-12T11:34:10.218Z"
   },
   {
    "duration": 101,
    "start_time": "2022-05-12T11:34:10.241Z"
   },
   {
    "duration": 6,
    "start_time": "2022-05-12T11:34:10.344Z"
   },
   {
    "duration": 34,
    "start_time": "2022-05-12T11:34:10.352Z"
   },
   {
    "duration": 50,
    "start_time": "2022-05-12T11:34:10.388Z"
   },
   {
    "duration": 43,
    "start_time": "2022-05-12T11:34:10.439Z"
   },
   {
    "duration": 52,
    "start_time": "2022-05-12T11:34:10.483Z"
   },
   {
    "duration": 27,
    "start_time": "2022-05-12T11:34:10.537Z"
   },
   {
    "duration": 6,
    "start_time": "2022-05-12T11:34:10.566Z"
   },
   {
    "duration": 25,
    "start_time": "2022-05-12T11:34:31.726Z"
   },
   {
    "duration": 830,
    "start_time": "2022-05-12T11:35:04.880Z"
   },
   {
    "duration": 393,
    "start_time": "2022-05-12T11:35:05.712Z"
   },
   {
    "duration": 13,
    "start_time": "2022-05-12T11:35:06.107Z"
   },
   {
    "duration": 26,
    "start_time": "2022-05-12T11:35:06.122Z"
   },
   {
    "duration": 34,
    "start_time": "2022-05-12T11:35:06.150Z"
   },
   {
    "duration": 20,
    "start_time": "2022-05-12T11:35:06.186Z"
   },
   {
    "duration": 22,
    "start_time": "2022-05-12T11:35:06.208Z"
   },
   {
    "duration": 6,
    "start_time": "2022-05-12T11:35:06.232Z"
   },
   {
    "duration": 28,
    "start_time": "2022-05-12T11:35:06.240Z"
   },
   {
    "duration": 6,
    "start_time": "2022-05-12T11:35:06.270Z"
   },
   {
    "duration": 37,
    "start_time": "2022-05-12T11:35:06.278Z"
   },
   {
    "duration": 19,
    "start_time": "2022-05-12T11:35:06.317Z"
   },
   {
    "duration": 7,
    "start_time": "2022-05-12T11:35:06.338Z"
   },
   {
    "duration": 16,
    "start_time": "2022-05-12T11:35:06.347Z"
   },
   {
    "duration": 13,
    "start_time": "2022-05-12T11:35:06.364Z"
   },
   {
    "duration": 30,
    "start_time": "2022-05-12T11:35:06.378Z"
   },
   {
    "duration": 7,
    "start_time": "2022-05-12T11:35:06.410Z"
   },
   {
    "duration": 13,
    "start_time": "2022-05-12T11:35:06.418Z"
   },
   {
    "duration": 8,
    "start_time": "2022-05-12T11:35:06.433Z"
   },
   {
    "duration": 32,
    "start_time": "2022-05-12T11:35:06.443Z"
   },
   {
    "duration": 33,
    "start_time": "2022-05-12T11:35:06.477Z"
   },
   {
    "duration": 109,
    "start_time": "2022-05-12T11:35:06.512Z"
   },
   {
    "duration": 7,
    "start_time": "2022-05-12T11:35:06.622Z"
   },
   {
    "duration": 36,
    "start_time": "2022-05-12T11:35:06.630Z"
   },
   {
    "duration": 65,
    "start_time": "2022-05-12T11:35:06.667Z"
   },
   {
    "duration": 44,
    "start_time": "2022-05-12T11:35:06.734Z"
   },
   {
    "duration": 53,
    "start_time": "2022-05-12T11:35:06.780Z"
   },
   {
    "duration": 30,
    "start_time": "2022-05-12T11:35:06.834Z"
   },
   {
    "duration": 6,
    "start_time": "2022-05-12T11:35:06.866Z"
   },
   {
    "duration": 1107,
    "start_time": "2022-05-12T11:52:28.545Z"
   },
   {
    "duration": 217,
    "start_time": "2022-05-12T11:52:48.032Z"
   },
   {
    "duration": 0,
    "start_time": "2022-05-12T11:53:10.975Z"
   },
   {
    "duration": 0,
    "start_time": "2022-05-12T11:53:10.976Z"
   },
   {
    "duration": 0,
    "start_time": "2022-05-12T11:53:10.977Z"
   },
   {
    "duration": 0,
    "start_time": "2022-05-12T11:53:10.978Z"
   },
   {
    "duration": 0,
    "start_time": "2022-05-12T11:53:10.979Z"
   },
   {
    "duration": 1,
    "start_time": "2022-05-12T11:53:10.979Z"
   },
   {
    "duration": 0,
    "start_time": "2022-05-12T11:53:10.980Z"
   },
   {
    "duration": 0,
    "start_time": "2022-05-12T11:53:10.981Z"
   },
   {
    "duration": 0,
    "start_time": "2022-05-12T11:53:10.982Z"
   },
   {
    "duration": 0,
    "start_time": "2022-05-12T11:53:10.983Z"
   },
   {
    "duration": 0,
    "start_time": "2022-05-12T11:53:10.984Z"
   },
   {
    "duration": 0,
    "start_time": "2022-05-12T11:53:10.984Z"
   },
   {
    "duration": 0,
    "start_time": "2022-05-12T11:53:10.985Z"
   },
   {
    "duration": 0,
    "start_time": "2022-05-12T11:53:10.986Z"
   },
   {
    "duration": 0,
    "start_time": "2022-05-12T11:53:10.987Z"
   },
   {
    "duration": 0,
    "start_time": "2022-05-12T11:53:10.988Z"
   },
   {
    "duration": 0,
    "start_time": "2022-05-12T11:53:10.989Z"
   },
   {
    "duration": 0,
    "start_time": "2022-05-12T11:53:10.990Z"
   },
   {
    "duration": 0,
    "start_time": "2022-05-12T11:53:10.991Z"
   },
   {
    "duration": 0,
    "start_time": "2022-05-12T11:53:10.992Z"
   },
   {
    "duration": 0,
    "start_time": "2022-05-12T11:53:10.992Z"
   },
   {
    "duration": 0,
    "start_time": "2022-05-12T11:53:10.993Z"
   },
   {
    "duration": 0,
    "start_time": "2022-05-12T11:53:10.994Z"
   },
   {
    "duration": 0,
    "start_time": "2022-05-12T11:53:10.995Z"
   },
   {
    "duration": 0,
    "start_time": "2022-05-12T11:53:10.996Z"
   },
   {
    "duration": 0,
    "start_time": "2022-05-12T11:53:10.997Z"
   },
   {
    "duration": 0,
    "start_time": "2022-05-12T11:53:10.998Z"
   },
   {
    "duration": 0,
    "start_time": "2022-05-12T11:53:10.999Z"
   },
   {
    "duration": 0,
    "start_time": "2022-05-12T11:53:11.000Z"
   },
   {
    "duration": 872,
    "start_time": "2022-05-12T11:53:36.149Z"
   },
   {
    "duration": 399,
    "start_time": "2022-05-12T11:53:37.023Z"
   },
   {
    "duration": 14,
    "start_time": "2022-05-12T11:53:37.424Z"
   },
   {
    "duration": 25,
    "start_time": "2022-05-12T11:53:37.439Z"
   },
   {
    "duration": 30,
    "start_time": "2022-05-12T11:53:37.466Z"
   },
   {
    "duration": 7,
    "start_time": "2022-05-12T11:53:37.497Z"
   },
   {
    "duration": 19,
    "start_time": "2022-05-12T11:53:37.506Z"
   },
   {
    "duration": 6,
    "start_time": "2022-05-12T11:53:37.527Z"
   },
   {
    "duration": 29,
    "start_time": "2022-05-12T11:53:37.534Z"
   },
   {
    "duration": 8,
    "start_time": "2022-05-12T11:53:37.565Z"
   },
   {
    "duration": 37,
    "start_time": "2022-05-12T11:53:37.574Z"
   },
   {
    "duration": 21,
    "start_time": "2022-05-12T11:53:37.613Z"
   },
   {
    "duration": 7,
    "start_time": "2022-05-12T11:53:37.635Z"
   },
   {
    "duration": 10,
    "start_time": "2022-05-12T11:53:37.644Z"
   },
   {
    "duration": 11,
    "start_time": "2022-05-12T11:53:37.655Z"
   },
   {
    "duration": 36,
    "start_time": "2022-05-12T11:53:37.667Z"
   },
   {
    "duration": 4,
    "start_time": "2022-05-12T11:53:37.705Z"
   },
   {
    "duration": 17,
    "start_time": "2022-05-12T11:53:37.710Z"
   },
   {
    "duration": 8,
    "start_time": "2022-05-12T11:53:37.729Z"
   },
   {
    "duration": 31,
    "start_time": "2022-05-12T11:53:37.738Z"
   },
   {
    "duration": 33,
    "start_time": "2022-05-12T11:53:37.771Z"
   },
   {
    "duration": 192,
    "start_time": "2022-05-12T11:53:37.805Z"
   },
   {
    "duration": 0,
    "start_time": "2022-05-12T11:53:37.999Z"
   },
   {
    "duration": 0,
    "start_time": "2022-05-12T11:53:38.000Z"
   },
   {
    "duration": 0,
    "start_time": "2022-05-12T11:53:38.001Z"
   },
   {
    "duration": 0,
    "start_time": "2022-05-12T11:53:38.001Z"
   },
   {
    "duration": 0,
    "start_time": "2022-05-12T11:53:38.002Z"
   },
   {
    "duration": 0,
    "start_time": "2022-05-12T11:53:38.003Z"
   },
   {
    "duration": 0,
    "start_time": "2022-05-12T11:53:38.004Z"
   },
   {
    "duration": 95,
    "start_time": "2022-05-12T11:54:13.466Z"
   },
   {
    "duration": 8,
    "start_time": "2022-05-12T11:54:34.869Z"
   },
   {
    "duration": 10404,
    "start_time": "2022-05-12T11:54:35.416Z"
   },
   {
    "duration": 8372,
    "start_time": "2022-05-12T11:54:45.846Z"
   },
   {
    "duration": 79,
    "start_time": "2022-05-12T11:54:54.220Z"
   },
   {
    "duration": 41,
    "start_time": "2022-05-12T11:54:54.301Z"
   },
   {
    "duration": 22,
    "start_time": "2022-05-12T11:54:54.344Z"
   },
   {
    "duration": 12,
    "start_time": "2022-05-12T11:54:54.367Z"
   },
   {
    "duration": 84,
    "start_time": "2022-05-12T11:56:04.778Z"
   },
   {
    "duration": 17,
    "start_time": "2022-05-12T11:56:27.936Z"
   },
   {
    "duration": 52,
    "start_time": "2022-05-12T11:58:11.660Z"
   },
   {
    "duration": 52,
    "start_time": "2022-05-12T11:58:18.831Z"
   },
   {
    "duration": 31,
    "start_time": "2022-05-12T11:58:53.745Z"
   },
   {
    "duration": 22,
    "start_time": "2022-05-12T11:58:56.178Z"
   },
   {
    "duration": 25,
    "start_time": "2022-05-12T11:59:01.133Z"
   },
   {
    "duration": 15,
    "start_time": "2022-05-12T11:59:02.566Z"
   },
   {
    "duration": 23,
    "start_time": "2022-05-12T13:24:28.606Z"
   },
   {
    "duration": 43,
    "start_time": "2022-05-12T13:24:54.669Z"
   },
   {
    "duration": 36,
    "start_time": "2022-05-12T13:26:17.471Z"
   },
   {
    "duration": 27,
    "start_time": "2022-05-12T13:44:07.258Z"
   },
   {
    "duration": 24,
    "start_time": "2022-05-12T13:44:48.433Z"
   },
   {
    "duration": 17,
    "start_time": "2022-05-12T13:44:57.887Z"
   },
   {
    "duration": 25,
    "start_time": "2022-05-12T13:45:22.262Z"
   },
   {
    "duration": 20,
    "start_time": "2022-05-12T13:46:58.435Z"
   },
   {
    "duration": 23,
    "start_time": "2022-05-12T13:47:06.209Z"
   },
   {
    "duration": 13,
    "start_time": "2022-05-12T13:47:32.697Z"
   },
   {
    "duration": 11,
    "start_time": "2022-05-12T13:47:40.083Z"
   },
   {
    "duration": 8,
    "start_time": "2022-05-12T13:48:07.008Z"
   },
   {
    "duration": 7,
    "start_time": "2022-05-12T13:48:11.914Z"
   },
   {
    "duration": 18,
    "start_time": "2022-05-12T13:48:14.936Z"
   },
   {
    "duration": 865,
    "start_time": "2022-05-12T13:48:31.701Z"
   },
   {
    "duration": 388,
    "start_time": "2022-05-12T13:48:32.568Z"
   },
   {
    "duration": 15,
    "start_time": "2022-05-12T13:48:32.958Z"
   },
   {
    "duration": 24,
    "start_time": "2022-05-12T13:48:32.975Z"
   },
   {
    "duration": 35,
    "start_time": "2022-05-12T13:48:33.001Z"
   },
   {
    "duration": 8,
    "start_time": "2022-05-12T13:48:33.038Z"
   },
   {
    "duration": 21,
    "start_time": "2022-05-12T13:48:33.048Z"
   },
   {
    "duration": 7,
    "start_time": "2022-05-12T13:48:33.071Z"
   },
   {
    "duration": 29,
    "start_time": "2022-05-12T13:48:33.100Z"
   },
   {
    "duration": 7,
    "start_time": "2022-05-12T13:48:33.131Z"
   },
   {
    "duration": 18,
    "start_time": "2022-05-12T13:48:33.140Z"
   },
   {
    "duration": 46,
    "start_time": "2022-05-12T13:48:33.160Z"
   },
   {
    "duration": 8,
    "start_time": "2022-05-12T13:48:33.208Z"
   },
   {
    "duration": 14,
    "start_time": "2022-05-12T13:48:33.218Z"
   },
   {
    "duration": 13,
    "start_time": "2022-05-12T13:48:33.234Z"
   },
   {
    "duration": 11,
    "start_time": "2022-05-12T13:48:33.249Z"
   },
   {
    "duration": 5,
    "start_time": "2022-05-12T13:48:33.262Z"
   },
   {
    "duration": 9,
    "start_time": "2022-05-12T13:48:33.268Z"
   },
   {
    "duration": 29,
    "start_time": "2022-05-12T13:48:33.279Z"
   },
   {
    "duration": 28,
    "start_time": "2022-05-12T13:48:33.309Z"
   },
   {
    "duration": 73,
    "start_time": "2022-05-12T13:48:33.338Z"
   },
   {
    "duration": 19,
    "start_time": "2022-05-12T13:48:33.412Z"
   },
   {
    "duration": 110,
    "start_time": "2022-05-12T13:48:33.433Z"
   },
   {
    "duration": 0,
    "start_time": "2022-05-12T13:48:33.545Z"
   },
   {
    "duration": 0,
    "start_time": "2022-05-12T13:48:33.546Z"
   },
   {
    "duration": 0,
    "start_time": "2022-05-12T13:48:33.547Z"
   },
   {
    "duration": 0,
    "start_time": "2022-05-12T13:48:33.548Z"
   },
   {
    "duration": 38,
    "start_time": "2022-05-12T13:48:48.256Z"
   },
   {
    "duration": 28,
    "start_time": "2022-05-12T13:48:49.640Z"
   },
   {
    "duration": 41,
    "start_time": "2022-05-12T13:48:50.526Z"
   },
   {
    "duration": 32,
    "start_time": "2022-05-12T13:48:56.985Z"
   },
   {
    "duration": 25,
    "start_time": "2022-05-12T13:49:05.960Z"
   },
   {
    "duration": 18,
    "start_time": "2022-05-12T13:49:09.450Z"
   },
   {
    "duration": 18,
    "start_time": "2022-05-12T13:50:01.601Z"
   },
   {
    "duration": 19,
    "start_time": "2022-05-12T13:50:08.351Z"
   },
   {
    "duration": 20,
    "start_time": "2022-05-12T13:50:37.316Z"
   },
   {
    "duration": 757,
    "start_time": "2022-05-12T13:51:10.953Z"
   },
   {
    "duration": 371,
    "start_time": "2022-05-12T13:51:11.712Z"
   },
   {
    "duration": 15,
    "start_time": "2022-05-12T13:51:12.085Z"
   },
   {
    "duration": 31,
    "start_time": "2022-05-12T13:51:12.101Z"
   },
   {
    "duration": 32,
    "start_time": "2022-05-12T13:51:12.135Z"
   },
   {
    "duration": 9,
    "start_time": "2022-05-12T13:51:12.168Z"
   },
   {
    "duration": 40,
    "start_time": "2022-05-12T13:51:12.178Z"
   },
   {
    "duration": 6,
    "start_time": "2022-05-12T13:51:12.220Z"
   },
   {
    "duration": 27,
    "start_time": "2022-05-12T13:51:12.228Z"
   },
   {
    "duration": 6,
    "start_time": "2022-05-12T13:51:12.256Z"
   },
   {
    "duration": 40,
    "start_time": "2022-05-12T13:51:12.264Z"
   },
   {
    "duration": 20,
    "start_time": "2022-05-12T13:51:12.305Z"
   },
   {
    "duration": 7,
    "start_time": "2022-05-12T13:51:12.326Z"
   },
   {
    "duration": 12,
    "start_time": "2022-05-12T13:51:12.335Z"
   },
   {
    "duration": 10,
    "start_time": "2022-05-12T13:51:12.349Z"
   },
   {
    "duration": 40,
    "start_time": "2022-05-12T13:51:12.361Z"
   },
   {
    "duration": 4,
    "start_time": "2022-05-12T13:51:12.403Z"
   },
   {
    "duration": 14,
    "start_time": "2022-05-12T13:51:12.409Z"
   },
   {
    "duration": 11,
    "start_time": "2022-05-12T13:51:12.425Z"
   },
   {
    "duration": 26,
    "start_time": "2022-05-12T13:51:12.437Z"
   },
   {
    "duration": 82,
    "start_time": "2022-05-12T13:51:12.465Z"
   },
   {
    "duration": 19,
    "start_time": "2022-05-12T13:51:12.549Z"
   },
   {
    "duration": 54,
    "start_time": "2022-05-12T13:51:12.570Z"
   },
   {
    "duration": 22,
    "start_time": "2022-05-12T13:51:12.626Z"
   },
   {
    "duration": 31,
    "start_time": "2022-05-12T13:51:12.650Z"
   },
   {
    "duration": 41,
    "start_time": "2022-05-12T13:51:12.683Z"
   },
   {
    "duration": 15,
    "start_time": "2022-05-12T13:51:12.725Z"
   },
   {
    "duration": 972,
    "start_time": "2022-05-12T13:51:56.397Z"
   },
   {
    "duration": 368,
    "start_time": "2022-05-12T13:51:57.371Z"
   },
   {
    "duration": 13,
    "start_time": "2022-05-12T13:51:57.741Z"
   },
   {
    "duration": 26,
    "start_time": "2022-05-12T13:51:57.756Z"
   },
   {
    "duration": 31,
    "start_time": "2022-05-12T13:51:57.783Z"
   },
   {
    "duration": 8,
    "start_time": "2022-05-12T13:51:57.815Z"
   },
   {
    "duration": 22,
    "start_time": "2022-05-12T13:51:57.825Z"
   },
   {
    "duration": 7,
    "start_time": "2022-05-12T13:51:57.849Z"
   },
   {
    "duration": 44,
    "start_time": "2022-05-12T13:51:57.858Z"
   },
   {
    "duration": 7,
    "start_time": "2022-05-12T13:51:57.905Z"
   },
   {
    "duration": 19,
    "start_time": "2022-05-12T13:51:57.914Z"
   },
   {
    "duration": 20,
    "start_time": "2022-05-12T13:51:57.934Z"
   },
   {
    "duration": 8,
    "start_time": "2022-05-12T13:51:57.955Z"
   },
   {
    "duration": 37,
    "start_time": "2022-05-12T13:51:57.965Z"
   },
   {
    "duration": 15,
    "start_time": "2022-05-12T13:51:58.004Z"
   },
   {
    "duration": 11,
    "start_time": "2022-05-12T13:51:58.020Z"
   },
   {
    "duration": 6,
    "start_time": "2022-05-12T13:51:58.032Z"
   },
   {
    "duration": 13,
    "start_time": "2022-05-12T13:51:58.039Z"
   },
   {
    "duration": 12,
    "start_time": "2022-05-12T13:51:58.053Z"
   },
   {
    "duration": 42,
    "start_time": "2022-05-12T13:51:58.066Z"
   },
   {
    "duration": 58,
    "start_time": "2022-05-12T13:51:58.109Z"
   },
   {
    "duration": 32,
    "start_time": "2022-05-12T13:51:58.169Z"
   },
   {
    "duration": 34,
    "start_time": "2022-05-12T13:51:58.203Z"
   },
   {
    "duration": 21,
    "start_time": "2022-05-12T13:51:58.238Z"
   },
   {
    "duration": 57,
    "start_time": "2022-05-12T13:51:58.260Z"
   },
   {
    "duration": 206,
    "start_time": "2022-05-12T13:51:58.318Z"
   },
   {
    "duration": 0,
    "start_time": "2022-05-12T13:51:58.526Z"
   },
   {
    "duration": 25,
    "start_time": "2022-05-12T13:52:01.766Z"
   },
   {
    "duration": 17,
    "start_time": "2022-05-12T13:52:05.362Z"
   },
   {
    "duration": 99,
    "start_time": "2022-05-12T13:57:44.951Z"
   },
   {
    "duration": 8,
    "start_time": "2022-05-12T13:57:52.621Z"
   },
   {
    "duration": 16,
    "start_time": "2022-05-12T13:57:58.633Z"
   },
   {
    "duration": 8,
    "start_time": "2022-05-12T14:01:16.210Z"
   },
   {
    "duration": 30,
    "start_time": "2022-05-12T14:01:21.564Z"
   },
   {
    "duration": 19,
    "start_time": "2022-05-12T14:02:47.147Z"
   },
   {
    "duration": 950,
    "start_time": "2022-05-12T14:03:54.943Z"
   },
   {
    "duration": 520,
    "start_time": "2022-05-12T14:03:55.895Z"
   },
   {
    "duration": 18,
    "start_time": "2022-05-12T14:03:56.417Z"
   },
   {
    "duration": 38,
    "start_time": "2022-05-12T14:03:56.437Z"
   },
   {
    "duration": 57,
    "start_time": "2022-05-12T14:03:56.478Z"
   },
   {
    "duration": 11,
    "start_time": "2022-05-12T14:03:56.537Z"
   },
   {
    "duration": 40,
    "start_time": "2022-05-12T14:03:56.550Z"
   },
   {
    "duration": 14,
    "start_time": "2022-05-12T14:03:56.592Z"
   },
   {
    "duration": 30,
    "start_time": "2022-05-12T14:03:56.607Z"
   },
   {
    "duration": 11,
    "start_time": "2022-05-12T14:03:56.639Z"
   },
   {
    "duration": 52,
    "start_time": "2022-05-12T14:03:56.652Z"
   },
   {
    "duration": 32,
    "start_time": "2022-05-12T14:03:56.706Z"
   },
   {
    "duration": 11,
    "start_time": "2022-05-12T14:03:56.741Z"
   },
   {
    "duration": 11,
    "start_time": "2022-05-12T14:03:56.756Z"
   },
   {
    "duration": 34,
    "start_time": "2022-05-12T14:03:56.768Z"
   },
   {
    "duration": 11,
    "start_time": "2022-05-12T14:03:56.804Z"
   },
   {
    "duration": 8,
    "start_time": "2022-05-12T14:03:56.817Z"
   },
   {
    "duration": 9,
    "start_time": "2022-05-12T14:03:56.827Z"
   },
   {
    "duration": 10,
    "start_time": "2022-05-12T14:03:56.838Z"
   },
   {
    "duration": 21,
    "start_time": "2022-05-12T14:03:56.850Z"
   },
   {
    "duration": 86,
    "start_time": "2022-05-12T14:03:56.873Z"
   },
   {
    "duration": 20,
    "start_time": "2022-05-12T14:03:56.961Z"
   },
   {
    "duration": 51,
    "start_time": "2022-05-12T14:03:56.983Z"
   },
   {
    "duration": 21,
    "start_time": "2022-05-12T14:03:57.036Z"
   },
   {
    "duration": 57,
    "start_time": "2022-05-12T14:03:57.059Z"
   },
   {
    "duration": 24,
    "start_time": "2022-05-12T14:03:57.118Z"
   },
   {
    "duration": 17,
    "start_time": "2022-05-12T14:03:57.143Z"
   },
   {
    "duration": 7,
    "start_time": "2022-05-12T14:03:57.161Z"
   },
   {
    "duration": 38,
    "start_time": "2022-05-12T14:03:57.170Z"
   },
   {
    "duration": 3434,
    "start_time": "2022-05-12T14:03:57.209Z"
   },
   {
    "duration": 58,
    "start_time": "2022-05-12T14:21:34.553Z"
   },
   {
    "duration": 55,
    "start_time": "2022-05-12T14:21:46.606Z"
   },
   {
    "duration": 4,
    "start_time": "2022-05-12T15:26:07.212Z"
   },
   {
    "duration": 66,
    "start_time": "2022-05-12T15:26:42.588Z"
   },
   {
    "duration": 1198,
    "start_time": "2022-05-16T09:50:56.070Z"
   },
   {
    "duration": 518,
    "start_time": "2022-05-16T09:50:57.270Z"
   },
   {
    "duration": 13,
    "start_time": "2022-05-16T09:50:57.789Z"
   },
   {
    "duration": 27,
    "start_time": "2022-05-16T09:50:57.804Z"
   },
   {
    "duration": 56,
    "start_time": "2022-05-16T09:50:57.833Z"
   },
   {
    "duration": 9,
    "start_time": "2022-05-16T09:50:57.891Z"
   },
   {
    "duration": 24,
    "start_time": "2022-05-16T09:50:57.902Z"
   },
   {
    "duration": 8,
    "start_time": "2022-05-16T09:50:57.929Z"
   },
   {
    "duration": 51,
    "start_time": "2022-05-16T09:50:57.939Z"
   },
   {
    "duration": 13,
    "start_time": "2022-05-16T09:50:57.993Z"
   },
   {
    "duration": 38,
    "start_time": "2022-05-16T09:50:58.011Z"
   },
   {
    "duration": 45,
    "start_time": "2022-05-16T09:50:58.051Z"
   },
   {
    "duration": 11,
    "start_time": "2022-05-16T09:50:58.099Z"
   },
   {
    "duration": 28,
    "start_time": "2022-05-16T09:50:58.112Z"
   },
   {
    "duration": 28,
    "start_time": "2022-05-16T09:50:58.142Z"
   },
   {
    "duration": 17,
    "start_time": "2022-05-16T09:50:58.172Z"
   },
   {
    "duration": 5,
    "start_time": "2022-05-16T09:50:58.191Z"
   },
   {
    "duration": 8,
    "start_time": "2022-05-16T09:50:58.198Z"
   },
   {
    "duration": 11,
    "start_time": "2022-05-16T09:50:58.208Z"
   },
   {
    "duration": 23,
    "start_time": "2022-05-16T09:50:58.221Z"
   },
   {
    "duration": 96,
    "start_time": "2022-05-16T09:50:58.246Z"
   },
   {
    "duration": 16,
    "start_time": "2022-05-16T09:50:58.343Z"
   },
   {
    "duration": 53,
    "start_time": "2022-05-16T09:50:58.361Z"
   },
   {
    "duration": 17,
    "start_time": "2022-05-16T09:50:58.416Z"
   },
   {
    "duration": 54,
    "start_time": "2022-05-16T09:50:58.434Z"
   },
   {
    "duration": 26,
    "start_time": "2022-05-16T09:50:58.490Z"
   },
   {
    "duration": 27,
    "start_time": "2022-05-16T09:50:58.518Z"
   },
   {
    "duration": 9,
    "start_time": "2022-05-16T09:50:58.549Z"
   },
   {
    "duration": 18,
    "start_time": "2022-05-16T09:50:58.587Z"
   },
   {
    "duration": 18,
    "start_time": "2022-05-16T09:50:58.606Z"
   },
   {
    "duration": 16,
    "start_time": "2022-05-16T09:50:58.626Z"
   },
   {
    "duration": 46,
    "start_time": "2022-05-16T09:50:58.644Z"
   },
   {
    "duration": 507,
    "start_time": "2022-05-16T09:50:58.692Z"
   },
   {
    "duration": 31,
    "start_time": "2022-05-16T09:50:59.201Z"
   },
   {
    "duration": 494,
    "start_time": "2022-05-16T09:50:59.234Z"
   },
   {
    "duration": 15,
    "start_time": "2022-05-16T09:50:59.730Z"
   },
   {
    "duration": 6,
    "start_time": "2022-05-16T09:50:59.747Z"
   },
   {
    "duration": 10,
    "start_time": "2022-05-16T09:50:59.755Z"
   },
   {
    "duration": 7,
    "start_time": "2022-05-16T10:07:07.818Z"
   },
   {
    "duration": 14,
    "start_time": "2022-05-16T10:15:46.934Z"
   },
   {
    "duration": 1945,
    "start_time": "2022-05-16T10:34:59.613Z"
   },
   {
    "duration": 436,
    "start_time": "2022-05-16T10:35:01.560Z"
   },
   {
    "duration": 13,
    "start_time": "2022-05-16T10:35:01.998Z"
   },
   {
    "duration": 28,
    "start_time": "2022-05-16T10:35:02.012Z"
   },
   {
    "duration": 49,
    "start_time": "2022-05-16T10:35:02.043Z"
   },
   {
    "duration": 9,
    "start_time": "2022-05-16T10:35:02.094Z"
   },
   {
    "duration": 43,
    "start_time": "2022-05-16T10:35:02.105Z"
   },
   {
    "duration": 8,
    "start_time": "2022-05-16T10:35:02.150Z"
   },
   {
    "duration": 55,
    "start_time": "2022-05-16T10:35:02.160Z"
   },
   {
    "duration": 28,
    "start_time": "2022-05-16T10:35:02.217Z"
   },
   {
    "duration": 32,
    "start_time": "2022-05-16T10:35:02.247Z"
   },
   {
    "duration": 65,
    "start_time": "2022-05-16T10:35:02.281Z"
   },
   {
    "duration": 8,
    "start_time": "2022-05-16T10:35:02.348Z"
   },
   {
    "duration": 19,
    "start_time": "2022-05-16T10:35:02.359Z"
   },
   {
    "duration": 19,
    "start_time": "2022-05-16T10:35:02.380Z"
   },
   {
    "duration": 17,
    "start_time": "2022-05-16T10:35:02.401Z"
   },
   {
    "duration": 9,
    "start_time": "2022-05-16T10:35:02.420Z"
   },
   {
    "duration": 18,
    "start_time": "2022-05-16T10:35:02.430Z"
   },
   {
    "duration": 12,
    "start_time": "2022-05-16T10:35:02.450Z"
   },
   {
    "duration": 31,
    "start_time": "2022-05-16T10:35:02.464Z"
   },
   {
    "duration": 67,
    "start_time": "2022-05-16T10:35:02.497Z"
   },
   {
    "duration": 27,
    "start_time": "2022-05-16T10:35:02.566Z"
   },
   {
    "duration": 75,
    "start_time": "2022-05-16T10:35:02.595Z"
   },
   {
    "duration": 51,
    "start_time": "2022-05-16T10:35:02.672Z"
   },
   {
    "duration": 82,
    "start_time": "2022-05-16T10:35:02.725Z"
   },
   {
    "duration": 59,
    "start_time": "2022-05-16T10:35:02.809Z"
   },
   {
    "duration": 22,
    "start_time": "2022-05-16T10:35:02.870Z"
   },
   {
    "duration": 7,
    "start_time": "2022-05-16T10:35:02.893Z"
   },
   {
    "duration": 20,
    "start_time": "2022-05-16T10:35:02.902Z"
   },
   {
    "duration": 24,
    "start_time": "2022-05-16T10:35:02.923Z"
   },
   {
    "duration": 16,
    "start_time": "2022-05-16T10:35:02.948Z"
   },
   {
    "duration": 32,
    "start_time": "2022-05-16T10:35:02.966Z"
   },
   {
    "duration": 462,
    "start_time": "2022-05-16T10:35:03.000Z"
   },
   {
    "duration": 29,
    "start_time": "2022-05-16T10:35:03.464Z"
   },
   {
    "duration": 495,
    "start_time": "2022-05-16T10:35:03.495Z"
   },
   {
    "duration": 16,
    "start_time": "2022-05-16T10:35:03.991Z"
   },
   {
    "duration": 37,
    "start_time": "2022-05-16T10:35:04.009Z"
   },
   {
    "duration": 44,
    "start_time": "2022-05-16T10:35:04.049Z"
   },
   {
    "duration": 1046,
    "start_time": "2022-05-16T14:57:37.410Z"
   },
   {
    "duration": 483,
    "start_time": "2022-05-16T14:57:38.458Z"
   },
   {
    "duration": 13,
    "start_time": "2022-05-16T14:57:38.943Z"
   },
   {
    "duration": 27,
    "start_time": "2022-05-16T14:57:38.958Z"
   },
   {
    "duration": 44,
    "start_time": "2022-05-16T14:57:38.987Z"
   },
   {
    "duration": 8,
    "start_time": "2022-05-16T14:57:39.033Z"
   },
   {
    "duration": 24,
    "start_time": "2022-05-16T14:57:39.043Z"
   },
   {
    "duration": 22,
    "start_time": "2022-05-16T14:57:39.069Z"
   },
   {
    "duration": 32,
    "start_time": "2022-05-16T14:57:39.094Z"
   },
   {
    "duration": 8,
    "start_time": "2022-05-16T14:57:39.128Z"
   },
   {
    "duration": 21,
    "start_time": "2022-05-16T14:57:39.139Z"
   },
   {
    "duration": 56,
    "start_time": "2022-05-16T14:57:39.162Z"
   },
   {
    "duration": 9,
    "start_time": "2022-05-16T14:57:39.219Z"
   },
   {
    "duration": 17,
    "start_time": "2022-05-16T14:57:39.231Z"
   },
   {
    "duration": 13,
    "start_time": "2022-05-16T14:57:39.249Z"
   },
   {
    "duration": 29,
    "start_time": "2022-05-16T14:57:39.263Z"
   },
   {
    "duration": 6,
    "start_time": "2022-05-16T14:57:39.295Z"
   },
   {
    "duration": 13,
    "start_time": "2022-05-16T14:57:39.303Z"
   },
   {
    "duration": 11,
    "start_time": "2022-05-16T14:57:39.318Z"
   },
   {
    "duration": 26,
    "start_time": "2022-05-16T14:57:39.330Z"
   },
   {
    "duration": 86,
    "start_time": "2022-05-16T14:57:39.358Z"
   },
   {
    "duration": 15,
    "start_time": "2022-05-16T14:57:39.445Z"
   },
   {
    "duration": 61,
    "start_time": "2022-05-16T14:57:39.461Z"
   },
   {
    "duration": 17,
    "start_time": "2022-05-16T14:57:39.523Z"
   },
   {
    "duration": 33,
    "start_time": "2022-05-16T14:57:39.541Z"
   },
   {
    "duration": 43,
    "start_time": "2022-05-16T14:57:39.575Z"
   },
   {
    "duration": 12,
    "start_time": "2022-05-16T14:57:39.620Z"
   },
   {
    "duration": 8,
    "start_time": "2022-05-16T14:57:39.634Z"
   },
   {
    "duration": 20,
    "start_time": "2022-05-16T14:57:39.644Z"
   },
   {
    "duration": 36,
    "start_time": "2022-05-16T14:57:39.665Z"
   },
   {
    "duration": 15,
    "start_time": "2022-05-16T14:57:39.704Z"
   },
   {
    "duration": 112,
    "start_time": "2022-05-16T14:57:39.721Z"
   },
   {
    "duration": 21,
    "start_time": "2022-05-16T14:57:39.834Z"
   },
   {
    "duration": 14,
    "start_time": "2022-05-16T14:57:39.856Z"
   },
   {
    "duration": 41,
    "start_time": "2022-05-16T14:57:39.872Z"
   },
   {
    "duration": 7,
    "start_time": "2022-05-16T14:57:39.914Z"
   },
   {
    "duration": 33,
    "start_time": "2022-05-16T14:57:39.923Z"
   },
   {
    "duration": 533,
    "start_time": "2022-05-16T14:57:39.958Z"
   },
   {
    "duration": 26,
    "start_time": "2022-05-16T14:57:40.494Z"
   },
   {
    "duration": 534,
    "start_time": "2022-05-16T14:57:40.522Z"
   },
   {
    "duration": 21,
    "start_time": "2022-05-16T14:57:41.060Z"
   },
   {
    "duration": 10,
    "start_time": "2022-05-16T14:57:41.092Z"
   },
   {
    "duration": 16,
    "start_time": "2022-05-16T14:57:41.105Z"
   },
   {
    "duration": 22,
    "start_time": "2022-05-16T15:31:58.243Z"
   },
   {
    "duration": 1699,
    "start_time": "2022-05-17T08:36:55.141Z"
   },
   {
    "duration": 734,
    "start_time": "2022-05-17T08:36:56.843Z"
   },
   {
    "duration": 20,
    "start_time": "2022-05-17T08:36:57.580Z"
   },
   {
    "duration": 70,
    "start_time": "2022-05-17T08:36:57.602Z"
   },
   {
    "duration": 97,
    "start_time": "2022-05-17T08:36:57.678Z"
   },
   {
    "duration": 19,
    "start_time": "2022-05-17T08:36:57.778Z"
   },
   {
    "duration": 78,
    "start_time": "2022-05-17T08:36:57.800Z"
   },
   {
    "duration": 15,
    "start_time": "2022-05-17T08:36:57.882Z"
   },
   {
    "duration": 68,
    "start_time": "2022-05-17T08:36:57.900Z"
   },
   {
    "duration": 15,
    "start_time": "2022-05-17T08:36:57.972Z"
   },
   {
    "duration": 38,
    "start_time": "2022-05-17T08:36:57.991Z"
   },
   {
    "duration": 78,
    "start_time": "2022-05-17T08:36:58.031Z"
   },
   {
    "duration": 11,
    "start_time": "2022-05-17T08:36:58.112Z"
   },
   {
    "duration": 49,
    "start_time": "2022-05-17T08:36:58.131Z"
   },
   {
    "duration": 26,
    "start_time": "2022-05-17T08:36:58.183Z"
   },
   {
    "duration": 22,
    "start_time": "2022-05-17T08:36:58.212Z"
   },
   {
    "duration": 11,
    "start_time": "2022-05-17T08:36:58.258Z"
   },
   {
    "duration": 33,
    "start_time": "2022-05-17T08:36:58.274Z"
   },
   {
    "duration": 19,
    "start_time": "2022-05-17T08:36:58.309Z"
   },
   {
    "duration": 59,
    "start_time": "2022-05-17T08:36:58.331Z"
   },
   {
    "duration": 153,
    "start_time": "2022-05-17T08:36:58.392Z"
   },
   {
    "duration": 30,
    "start_time": "2022-05-17T08:36:58.547Z"
   },
   {
    "duration": 62,
    "start_time": "2022-05-17T08:36:58.580Z"
   },
   {
    "duration": 47,
    "start_time": "2022-05-17T08:36:58.645Z"
   },
   {
    "duration": 70,
    "start_time": "2022-05-17T08:36:58.694Z"
   },
   {
    "duration": 41,
    "start_time": "2022-05-17T08:36:58.766Z"
   },
   {
    "duration": 16,
    "start_time": "2022-05-17T08:36:58.809Z"
   },
   {
    "duration": 26,
    "start_time": "2022-05-17T08:36:58.860Z"
   },
   {
    "duration": 39,
    "start_time": "2022-05-17T08:36:58.889Z"
   },
   {
    "duration": 12,
    "start_time": "2022-05-17T08:36:58.931Z"
   },
   {
    "duration": 34,
    "start_time": "2022-05-17T08:36:58.960Z"
   },
   {
    "duration": 304,
    "start_time": "2022-05-17T08:36:58.997Z"
   },
   {
    "duration": 62,
    "start_time": "2022-05-17T08:36:59.305Z"
   },
   {
    "duration": 21,
    "start_time": "2022-05-17T08:36:59.370Z"
   },
   {
    "duration": 44,
    "start_time": "2022-05-17T08:36:59.394Z"
   },
   {
    "duration": 14,
    "start_time": "2022-05-17T08:36:59.460Z"
   },
   {
    "duration": 92,
    "start_time": "2022-05-17T08:36:59.477Z"
   },
   {
    "duration": 1002,
    "start_time": "2022-05-17T08:36:59.572Z"
   },
   {
    "duration": 37,
    "start_time": "2022-05-17T08:37:00.577Z"
   },
   {
    "duration": 1244,
    "start_time": "2022-05-17T08:37:00.618Z"
   },
   {
    "duration": 53,
    "start_time": "2022-05-17T08:37:01.870Z"
   },
   {
    "duration": 36,
    "start_time": "2022-05-17T08:37:01.926Z"
   },
   {
    "duration": 56,
    "start_time": "2022-05-17T08:37:01.965Z"
   }
  ],
  "kernelspec": {
   "display_name": "Python 3 (ipykernel)",
   "language": "python",
   "name": "python3"
  },
  "language_info": {
   "codemirror_mode": {
    "name": "ipython",
    "version": 3
   },
   "file_extension": ".py",
   "mimetype": "text/x-python",
   "name": "python",
   "nbconvert_exporter": "python",
   "pygments_lexer": "ipython3",
   "version": "3.9.7"
  },
  "toc": {
   "base_numbering": 1,
   "nav_menu": {},
   "number_sections": true,
   "sideBar": true,
   "skip_h1_title": true,
   "title_cell": "Table of Contents",
   "title_sidebar": "Contents",
   "toc_cell": false,
   "toc_position": {},
   "toc_section_display": true,
   "toc_window_display": false
  }
 },
 "nbformat": 4,
 "nbformat_minor": 2
}
